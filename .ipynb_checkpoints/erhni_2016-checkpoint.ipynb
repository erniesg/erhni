{
 "cells": [
  {
   "cell_type": "markdown",
   "id": "1979cf99",
   "metadata": {},
   "source": [
    "# Environmentally Responsible Happy Nation Index (Years 2016-2019)"
   ]
  },
  {
   "cell_type": "markdown",
   "id": "6c1fbb99",
   "metadata": {},
   "source": [
    "In this notebook, we will tabulate the ERHNI for countries for the years 2016-2022. Our data sources are as follows:\n",
    "* Happiness: https://www.kaggle.com/datasets/unsdsn/world-happiness\n",
    "* Life expectancy: https://data.worldbank.org/indicator/SP.DYN.LE00.IN"
   ]
  },
  {
   "cell_type": "markdown",
   "id": "b7b81298",
   "metadata": {},
   "source": [
    "# Calculating NHLY"
   ]
  },
  {
   "cell_type": "markdown",
   "id": "67a0fa69",
   "metadata": {},
   "source": [
    "NHLY is caculated as (well-being - 5) * life expectancy of country in question.\n",
    "First, let's import required libraries, load our data frames and see what's inside."
   ]
  },
  {
   "cell_type": "code",
   "execution_count": 1,
   "id": "64270e8b",
   "metadata": {
    "ExecuteTime": {
     "end_time": "2022-07-25T03:00:53.831101Z",
     "start_time": "2022-07-25T03:00:53.822757Z"
    }
   },
   "outputs": [],
   "source": [
    "# \"magic commands\" to enable autoreload of your imported packages\n",
    "%load_ext autoreload\n",
    "%autoreload 2"
   ]
  },
  {
   "cell_type": "code",
   "execution_count": 2,
   "id": "1fc9b81f",
   "metadata": {
    "ExecuteTime": {
     "end_time": "2022-07-25T03:00:55.112963Z",
     "start_time": "2022-07-25T03:00:53.832418Z"
    }
   },
   "outputs": [],
   "source": [
    "import numpy as np\n",
    "import pandas as pd\n",
    "import os\n",
    "import pycountry\n",
    "import matplotlib.pyplot as plt"
   ]
  },
  {
   "cell_type": "code",
   "execution_count": 3,
   "id": "39f0a0e6",
   "metadata": {
    "ExecuteTime": {
     "end_time": "2022-07-25T03:00:55.128682Z",
     "start_time": "2022-07-25T03:00:55.114370Z"
    }
   },
   "outputs": [],
   "source": [
    "csv_path = 'data'\n",
    "happiness_2016 = pd.read_csv(os.path.join(csv_path, '2016.csv'))"
   ]
  },
  {
   "cell_type": "code",
   "execution_count": 4,
   "id": "ed075fca",
   "metadata": {
    "ExecuteTime": {
     "end_time": "2022-07-25T03:00:55.150353Z",
     "start_time": "2022-07-25T03:00:55.129709Z"
    }
   },
   "outputs": [
    {
     "data": {
      "text/html": [
       "<div>\n",
       "<style scoped>\n",
       "    .dataframe tbody tr th:only-of-type {\n",
       "        vertical-align: middle;\n",
       "    }\n",
       "\n",
       "    .dataframe tbody tr th {\n",
       "        vertical-align: top;\n",
       "    }\n",
       "\n",
       "    .dataframe thead th {\n",
       "        text-align: right;\n",
       "    }\n",
       "</style>\n",
       "<table border=\"1\" class=\"dataframe\">\n",
       "  <thead>\n",
       "    <tr style=\"text-align: right;\">\n",
       "      <th></th>\n",
       "      <th>Country</th>\n",
       "      <th>Region</th>\n",
       "      <th>Happiness Rank</th>\n",
       "      <th>Happiness Score</th>\n",
       "      <th>Lower Confidence Interval</th>\n",
       "      <th>Upper Confidence Interval</th>\n",
       "      <th>Economy (GDP per Capita)</th>\n",
       "      <th>Family</th>\n",
       "      <th>Health (Life Expectancy)</th>\n",
       "      <th>Freedom</th>\n",
       "      <th>Trust (Government Corruption)</th>\n",
       "      <th>Generosity</th>\n",
       "      <th>Dystopia Residual</th>\n",
       "    </tr>\n",
       "  </thead>\n",
       "  <tbody>\n",
       "    <tr>\n",
       "      <th>0</th>\n",
       "      <td>Denmark</td>\n",
       "      <td>Western Europe</td>\n",
       "      <td>1</td>\n",
       "      <td>7.526</td>\n",
       "      <td>7.460</td>\n",
       "      <td>7.592</td>\n",
       "      <td>1.44178</td>\n",
       "      <td>1.16374</td>\n",
       "      <td>0.79504</td>\n",
       "      <td>0.57941</td>\n",
       "      <td>0.44453</td>\n",
       "      <td>0.36171</td>\n",
       "      <td>2.73939</td>\n",
       "    </tr>\n",
       "    <tr>\n",
       "      <th>1</th>\n",
       "      <td>Switzerland</td>\n",
       "      <td>Western Europe</td>\n",
       "      <td>2</td>\n",
       "      <td>7.509</td>\n",
       "      <td>7.428</td>\n",
       "      <td>7.590</td>\n",
       "      <td>1.52733</td>\n",
       "      <td>1.14524</td>\n",
       "      <td>0.86303</td>\n",
       "      <td>0.58557</td>\n",
       "      <td>0.41203</td>\n",
       "      <td>0.28083</td>\n",
       "      <td>2.69463</td>\n",
       "    </tr>\n",
       "    <tr>\n",
       "      <th>2</th>\n",
       "      <td>Iceland</td>\n",
       "      <td>Western Europe</td>\n",
       "      <td>3</td>\n",
       "      <td>7.501</td>\n",
       "      <td>7.333</td>\n",
       "      <td>7.669</td>\n",
       "      <td>1.42666</td>\n",
       "      <td>1.18326</td>\n",
       "      <td>0.86733</td>\n",
       "      <td>0.56624</td>\n",
       "      <td>0.14975</td>\n",
       "      <td>0.47678</td>\n",
       "      <td>2.83137</td>\n",
       "    </tr>\n",
       "    <tr>\n",
       "      <th>3</th>\n",
       "      <td>Norway</td>\n",
       "      <td>Western Europe</td>\n",
       "      <td>4</td>\n",
       "      <td>7.498</td>\n",
       "      <td>7.421</td>\n",
       "      <td>7.575</td>\n",
       "      <td>1.57744</td>\n",
       "      <td>1.12690</td>\n",
       "      <td>0.79579</td>\n",
       "      <td>0.59609</td>\n",
       "      <td>0.35776</td>\n",
       "      <td>0.37895</td>\n",
       "      <td>2.66465</td>\n",
       "    </tr>\n",
       "    <tr>\n",
       "      <th>4</th>\n",
       "      <td>Finland</td>\n",
       "      <td>Western Europe</td>\n",
       "      <td>5</td>\n",
       "      <td>7.413</td>\n",
       "      <td>7.351</td>\n",
       "      <td>7.475</td>\n",
       "      <td>1.40598</td>\n",
       "      <td>1.13464</td>\n",
       "      <td>0.81091</td>\n",
       "      <td>0.57104</td>\n",
       "      <td>0.41004</td>\n",
       "      <td>0.25492</td>\n",
       "      <td>2.82596</td>\n",
       "    </tr>\n",
       "  </tbody>\n",
       "</table>\n",
       "</div>"
      ],
      "text/plain": [
       "       Country          Region  Happiness Rank  Happiness Score  \\\n",
       "0      Denmark  Western Europe               1            7.526   \n",
       "1  Switzerland  Western Europe               2            7.509   \n",
       "2      Iceland  Western Europe               3            7.501   \n",
       "3       Norway  Western Europe               4            7.498   \n",
       "4      Finland  Western Europe               5            7.413   \n",
       "\n",
       "   Lower Confidence Interval  Upper Confidence Interval  \\\n",
       "0                      7.460                      7.592   \n",
       "1                      7.428                      7.590   \n",
       "2                      7.333                      7.669   \n",
       "3                      7.421                      7.575   \n",
       "4                      7.351                      7.475   \n",
       "\n",
       "   Economy (GDP per Capita)   Family  Health (Life Expectancy)  Freedom  \\\n",
       "0                   1.44178  1.16374                   0.79504  0.57941   \n",
       "1                   1.52733  1.14524                   0.86303  0.58557   \n",
       "2                   1.42666  1.18326                   0.86733  0.56624   \n",
       "3                   1.57744  1.12690                   0.79579  0.59609   \n",
       "4                   1.40598  1.13464                   0.81091  0.57104   \n",
       "\n",
       "   Trust (Government Corruption)  Generosity  Dystopia Residual  \n",
       "0                        0.44453     0.36171            2.73939  \n",
       "1                        0.41203     0.28083            2.69463  \n",
       "2                        0.14975     0.47678            2.83137  \n",
       "3                        0.35776     0.37895            2.66465  \n",
       "4                        0.41004     0.25492            2.82596  "
      ]
     },
     "execution_count": 4,
     "metadata": {},
     "output_type": "execute_result"
    }
   ],
   "source": [
    "happiness_2016.head()"
   ]
  },
  {
   "cell_type": "code",
   "execution_count": 5,
   "id": "3d664d1d",
   "metadata": {
    "ExecuteTime": {
     "end_time": "2022-07-25T03:00:55.167126Z",
     "start_time": "2022-07-25T03:00:55.151452Z"
    }
   },
   "outputs": [],
   "source": [
    "lifeexp_2016 = pd.read_csv(os.path.join(csv_path, 'API_SP.DYN.LE00.IN_DS2_en_csv_v2_4150700.csv'), skiprows=4)"
   ]
  },
  {
   "cell_type": "code",
   "execution_count": 6,
   "id": "05641210",
   "metadata": {
    "ExecuteTime": {
     "end_time": "2022-07-25T03:00:55.189217Z",
     "start_time": "2022-07-25T03:00:55.168346Z"
    },
    "scrolled": true
   },
   "outputs": [
    {
     "data": {
      "text/html": [
       "<div>\n",
       "<style scoped>\n",
       "    .dataframe tbody tr th:only-of-type {\n",
       "        vertical-align: middle;\n",
       "    }\n",
       "\n",
       "    .dataframe tbody tr th {\n",
       "        vertical-align: top;\n",
       "    }\n",
       "\n",
       "    .dataframe thead th {\n",
       "        text-align: right;\n",
       "    }\n",
       "</style>\n",
       "<table border=\"1\" class=\"dataframe\">\n",
       "  <thead>\n",
       "    <tr style=\"text-align: right;\">\n",
       "      <th></th>\n",
       "      <th>Country Name</th>\n",
       "      <th>Country Code</th>\n",
       "      <th>Indicator Name</th>\n",
       "      <th>Indicator Code</th>\n",
       "      <th>1960</th>\n",
       "      <th>1961</th>\n",
       "      <th>1962</th>\n",
       "      <th>1963</th>\n",
       "      <th>1964</th>\n",
       "      <th>1965</th>\n",
       "      <th>...</th>\n",
       "      <th>2013</th>\n",
       "      <th>2014</th>\n",
       "      <th>2015</th>\n",
       "      <th>2016</th>\n",
       "      <th>2017</th>\n",
       "      <th>2018</th>\n",
       "      <th>2019</th>\n",
       "      <th>2020</th>\n",
       "      <th>2021</th>\n",
       "      <th>Unnamed: 66</th>\n",
       "    </tr>\n",
       "  </thead>\n",
       "  <tbody>\n",
       "    <tr>\n",
       "      <th>0</th>\n",
       "      <td>Aruba</td>\n",
       "      <td>ABW</td>\n",
       "      <td>Life expectancy at birth, total (years)</td>\n",
       "      <td>SP.DYN.LE00.IN</td>\n",
       "      <td>65.662000</td>\n",
       "      <td>66.074000</td>\n",
       "      <td>66.444000</td>\n",
       "      <td>66.787000</td>\n",
       "      <td>67.113000</td>\n",
       "      <td>67.435000</td>\n",
       "      <td>...</td>\n",
       "      <td>75.441000</td>\n",
       "      <td>75.583000</td>\n",
       "      <td>75.725000</td>\n",
       "      <td>75.868000</td>\n",
       "      <td>76.010000</td>\n",
       "      <td>76.152000</td>\n",
       "      <td>76.293000</td>\n",
       "      <td>76.434000</td>\n",
       "      <td>NaN</td>\n",
       "      <td>NaN</td>\n",
       "    </tr>\n",
       "    <tr>\n",
       "      <th>1</th>\n",
       "      <td>Africa Eastern and Southern</td>\n",
       "      <td>AFE</td>\n",
       "      <td>Life expectancy at birth, total (years)</td>\n",
       "      <td>SP.DYN.LE00.IN</td>\n",
       "      <td>42.716053</td>\n",
       "      <td>43.166935</td>\n",
       "      <td>43.603990</td>\n",
       "      <td>44.025617</td>\n",
       "      <td>44.432721</td>\n",
       "      <td>44.826919</td>\n",
       "      <td>...</td>\n",
       "      <td>60.953363</td>\n",
       "      <td>61.647367</td>\n",
       "      <td>62.259288</td>\n",
       "      <td>62.787681</td>\n",
       "      <td>63.246264</td>\n",
       "      <td>63.648988</td>\n",
       "      <td>64.005213</td>\n",
       "      <td>64.325702</td>\n",
       "      <td>NaN</td>\n",
       "      <td>NaN</td>\n",
       "    </tr>\n",
       "    <tr>\n",
       "      <th>2</th>\n",
       "      <td>Afghanistan</td>\n",
       "      <td>AFG</td>\n",
       "      <td>Life expectancy at birth, total (years)</td>\n",
       "      <td>SP.DYN.LE00.IN</td>\n",
       "      <td>32.446000</td>\n",
       "      <td>32.962000</td>\n",
       "      <td>33.471000</td>\n",
       "      <td>33.971000</td>\n",
       "      <td>34.463000</td>\n",
       "      <td>34.948000</td>\n",
       "      <td>...</td>\n",
       "      <td>62.525000</td>\n",
       "      <td>62.966000</td>\n",
       "      <td>63.377000</td>\n",
       "      <td>63.763000</td>\n",
       "      <td>64.130000</td>\n",
       "      <td>64.486000</td>\n",
       "      <td>64.833000</td>\n",
       "      <td>65.173000</td>\n",
       "      <td>NaN</td>\n",
       "      <td>NaN</td>\n",
       "    </tr>\n",
       "    <tr>\n",
       "      <th>3</th>\n",
       "      <td>Africa Western and Central</td>\n",
       "      <td>AFW</td>\n",
       "      <td>Life expectancy at birth, total (years)</td>\n",
       "      <td>SP.DYN.LE00.IN</td>\n",
       "      <td>37.205380</td>\n",
       "      <td>37.632546</td>\n",
       "      <td>38.052612</td>\n",
       "      <td>38.463746</td>\n",
       "      <td>38.867073</td>\n",
       "      <td>39.264841</td>\n",
       "      <td>...</td>\n",
       "      <td>55.618986</td>\n",
       "      <td>56.088269</td>\n",
       "      <td>56.542009</td>\n",
       "      <td>56.974761</td>\n",
       "      <td>57.382363</td>\n",
       "      <td>57.762347</td>\n",
       "      <td>58.115723</td>\n",
       "      <td>58.445953</td>\n",
       "      <td>NaN</td>\n",
       "      <td>NaN</td>\n",
       "    </tr>\n",
       "    <tr>\n",
       "      <th>4</th>\n",
       "      <td>Angola</td>\n",
       "      <td>AGO</td>\n",
       "      <td>Life expectancy at birth, total (years)</td>\n",
       "      <td>SP.DYN.LE00.IN</td>\n",
       "      <td>37.524000</td>\n",
       "      <td>37.811000</td>\n",
       "      <td>38.113000</td>\n",
       "      <td>38.430000</td>\n",
       "      <td>38.760000</td>\n",
       "      <td>39.102000</td>\n",
       "      <td>...</td>\n",
       "      <td>58.054000</td>\n",
       "      <td>58.776000</td>\n",
       "      <td>59.398000</td>\n",
       "      <td>59.925000</td>\n",
       "      <td>60.379000</td>\n",
       "      <td>60.782000</td>\n",
       "      <td>61.147000</td>\n",
       "      <td>61.487000</td>\n",
       "      <td>NaN</td>\n",
       "      <td>NaN</td>\n",
       "    </tr>\n",
       "  </tbody>\n",
       "</table>\n",
       "<p>5 rows × 67 columns</p>\n",
       "</div>"
      ],
      "text/plain": [
       "                  Country Name Country Code  \\\n",
       "0                        Aruba          ABW   \n",
       "1  Africa Eastern and Southern          AFE   \n",
       "2                  Afghanistan          AFG   \n",
       "3   Africa Western and Central          AFW   \n",
       "4                       Angola          AGO   \n",
       "\n",
       "                            Indicator Name  Indicator Code       1960  \\\n",
       "0  Life expectancy at birth, total (years)  SP.DYN.LE00.IN  65.662000   \n",
       "1  Life expectancy at birth, total (years)  SP.DYN.LE00.IN  42.716053   \n",
       "2  Life expectancy at birth, total (years)  SP.DYN.LE00.IN  32.446000   \n",
       "3  Life expectancy at birth, total (years)  SP.DYN.LE00.IN  37.205380   \n",
       "4  Life expectancy at birth, total (years)  SP.DYN.LE00.IN  37.524000   \n",
       "\n",
       "        1961       1962       1963       1964       1965  ...       2013  \\\n",
       "0  66.074000  66.444000  66.787000  67.113000  67.435000  ...  75.441000   \n",
       "1  43.166935  43.603990  44.025617  44.432721  44.826919  ...  60.953363   \n",
       "2  32.962000  33.471000  33.971000  34.463000  34.948000  ...  62.525000   \n",
       "3  37.632546  38.052612  38.463746  38.867073  39.264841  ...  55.618986   \n",
       "4  37.811000  38.113000  38.430000  38.760000  39.102000  ...  58.054000   \n",
       "\n",
       "        2014       2015       2016       2017       2018       2019  \\\n",
       "0  75.583000  75.725000  75.868000  76.010000  76.152000  76.293000   \n",
       "1  61.647367  62.259288  62.787681  63.246264  63.648988  64.005213   \n",
       "2  62.966000  63.377000  63.763000  64.130000  64.486000  64.833000   \n",
       "3  56.088269  56.542009  56.974761  57.382363  57.762347  58.115723   \n",
       "4  58.776000  59.398000  59.925000  60.379000  60.782000  61.147000   \n",
       "\n",
       "        2020  2021  Unnamed: 66  \n",
       "0  76.434000   NaN          NaN  \n",
       "1  64.325702   NaN          NaN  \n",
       "2  65.173000   NaN          NaN  \n",
       "3  58.445953   NaN          NaN  \n",
       "4  61.487000   NaN          NaN  \n",
       "\n",
       "[5 rows x 67 columns]"
      ]
     },
     "execution_count": 6,
     "metadata": {},
     "output_type": "execute_result"
    }
   ],
   "source": [
    "lifeexp_2016.head()"
   ]
  },
  {
   "cell_type": "markdown",
   "id": "b1893ab2",
   "metadata": {},
   "source": [
    "Let's fetch the country code of the countries in the happiness data set using pycountry package."
   ]
  },
  {
   "cell_type": "code",
   "execution_count": 7,
   "id": "3e96dda1",
   "metadata": {
    "ExecuteTime": {
     "end_time": "2022-07-25T03:00:55.201419Z",
     "start_time": "2022-07-25T03:00:55.190473Z"
    }
   },
   "outputs": [],
   "source": [
    "def findCountryAlpha3(country_name):\n",
    "    try:\n",
    "        return pycountry.countries.get(name=country_name).alpha_3\n",
    "    except:\n",
    "        return (\"not found\")"
   ]
  },
  {
   "cell_type": "code",
   "execution_count": 8,
   "id": "7dfdb7fb",
   "metadata": {
    "ExecuteTime": {
     "end_time": "2022-07-25T03:00:55.220467Z",
     "start_time": "2022-07-25T03:00:55.202516Z"
    }
   },
   "outputs": [],
   "source": [
    "happiness_2016['Country Code'] = happiness_2016.apply(lambda row: findCountryAlpha3(row.Country), axis = 1)"
   ]
  },
  {
   "cell_type": "code",
   "execution_count": 9,
   "id": "2cef7c46",
   "metadata": {
    "ExecuteTime": {
     "end_time": "2022-07-25T03:00:55.231253Z",
     "start_time": "2022-07-25T03:00:55.222247Z"
    }
   },
   "outputs": [],
   "source": [
    "happiness_2016[happiness_2016['Country Code'] == 'not found']\n",
    "remaining_countries = {'Czech Republic' : 'CZE',\n",
    "                      'Venezuela' : 'VEN',\n",
    "                      'Moldova' : 'MDA',\n",
    "                      'Russia' : 'RUS',\n",
    "                      'South Korea' : 'KOR',\n",
    "                      'Bolivia' : 'BOL',\n",
    "                      'North Cyprus' : 'CYP',\n",
    "                      'Kosovo' : 'XKX',\n",
    "                      'Macedonia' : 'MKD',\n",
    "                      'Vietnam' : 'VNM',\n",
    "                      'Somaliland Region' : 'SOM',\n",
    "                      'Laos' : 'LAO',\n",
    "                      'Iran' : 'IRN',\n",
    "                      'Congo (Kinshasa)' : 'COD',\n",
    "                      'Congo (Brazzaville)' : 'COG',\n",
    "                      'Tanzania' : 'TZA',\n",
    "                      'Syria' : 'SYR'}"
   ]
  },
  {
   "cell_type": "code",
   "execution_count": 10,
   "id": "bcda89fe",
   "metadata": {
    "ExecuteTime": {
     "end_time": "2022-07-25T03:00:55.248484Z",
     "start_time": "2022-07-25T03:00:55.232486Z"
    }
   },
   "outputs": [],
   "source": [
    "#happiness_2016['Country Code'] = happiness_2016['Country'].map(remaining_countries)\n",
    "for index, row in happiness_2016.iterrows():\n",
    "    if row['Country Code'] == 'not found' and remaining_countries.get(row['Country']):\n",
    "        happiness_2016.at[index, 'Country Code'] = remaining_countries.get(row['Country'])\n",
    "#        row['Country Code'] = remaining_countries.get(row['Country'])"
   ]
  },
  {
   "cell_type": "markdown",
   "id": "ef54a126",
   "metadata": {},
   "source": [
    "Now let's calculate NHLY for year 2016."
   ]
  },
  {
   "cell_type": "code",
   "execution_count": 11,
   "id": "3126a102",
   "metadata": {
    "ExecuteTime": {
     "end_time": "2022-07-25T03:00:55.269652Z",
     "start_time": "2022-07-25T03:00:55.249581Z"
    }
   },
   "outputs": [
    {
     "data": {
      "text/html": [
       "<div>\n",
       "<style scoped>\n",
       "    .dataframe tbody tr th:only-of-type {\n",
       "        vertical-align: middle;\n",
       "    }\n",
       "\n",
       "    .dataframe tbody tr th {\n",
       "        vertical-align: top;\n",
       "    }\n",
       "\n",
       "    .dataframe thead th {\n",
       "        text-align: right;\n",
       "    }\n",
       "</style>\n",
       "<table border=\"1\" class=\"dataframe\">\n",
       "  <thead>\n",
       "    <tr style=\"text-align: right;\">\n",
       "      <th></th>\n",
       "      <th>Country</th>\n",
       "      <th>Region</th>\n",
       "      <th>Happiness Rank</th>\n",
       "      <th>Happiness Score</th>\n",
       "      <th>Lower Confidence Interval</th>\n",
       "      <th>Upper Confidence Interval</th>\n",
       "      <th>Economy (GDP per Capita)</th>\n",
       "      <th>Family</th>\n",
       "      <th>Health (Life Expectancy)</th>\n",
       "      <th>Freedom</th>\n",
       "      <th>Trust (Government Corruption)</th>\n",
       "      <th>Generosity</th>\n",
       "      <th>Dystopia Residual</th>\n",
       "      <th>Country Code</th>\n",
       "    </tr>\n",
       "  </thead>\n",
       "  <tbody>\n",
       "    <tr>\n",
       "      <th>0</th>\n",
       "      <td>Denmark</td>\n",
       "      <td>Western Europe</td>\n",
       "      <td>1</td>\n",
       "      <td>7.526</td>\n",
       "      <td>7.46</td>\n",
       "      <td>7.592</td>\n",
       "      <td>1.44178</td>\n",
       "      <td>1.16374</td>\n",
       "      <td>0.79504</td>\n",
       "      <td>0.57941</td>\n",
       "      <td>0.44453</td>\n",
       "      <td>0.36171</td>\n",
       "      <td>2.73939</td>\n",
       "      <td>DNK</td>\n",
       "    </tr>\n",
       "  </tbody>\n",
       "</table>\n",
       "</div>"
      ],
      "text/plain": [
       "   Country          Region  Happiness Rank  Happiness Score  \\\n",
       "0  Denmark  Western Europe               1            7.526   \n",
       "\n",
       "   Lower Confidence Interval  Upper Confidence Interval  \\\n",
       "0                       7.46                      7.592   \n",
       "\n",
       "   Economy (GDP per Capita)   Family  Health (Life Expectancy)  Freedom  \\\n",
       "0                   1.44178  1.16374                   0.79504  0.57941   \n",
       "\n",
       "   Trust (Government Corruption)  Generosity  Dystopia Residual Country Code  \n",
       "0                        0.44453     0.36171            2.73939          DNK  "
      ]
     },
     "execution_count": 11,
     "metadata": {},
     "output_type": "execute_result"
    }
   ],
   "source": [
    "happiness_2016[happiness_2016['Country'] == 'Denmark']"
   ]
  },
  {
   "cell_type": "code",
   "execution_count": 12,
   "id": "5ccd5254",
   "metadata": {
    "ExecuteTime": {
     "end_time": "2022-07-25T03:00:55.294852Z",
     "start_time": "2022-07-25T03:00:55.270957Z"
    }
   },
   "outputs": [],
   "source": [
    "merged_2016 = happiness_2016.merge(lifeexp_2016.drop_duplicates(), on=['Country Code'], how = 'left', indicator=True)"
   ]
  },
  {
   "cell_type": "code",
   "execution_count": 13,
   "id": "5f4e4870",
   "metadata": {
    "ExecuteTime": {
     "end_time": "2022-07-25T03:00:55.313523Z",
     "start_time": "2022-07-25T03:00:55.296157Z"
    }
   },
   "outputs": [
    {
     "name": "stdout",
     "output_type": "stream",
     "text": [
      "<class 'pandas.core.frame.DataFrame'>\n",
      "Int64Index: 157 entries, 0 to 156\n",
      "Data columns (total 81 columns):\n",
      " #   Column                         Non-Null Count  Dtype   \n",
      "---  ------                         --------------  -----   \n",
      " 0   Country                        157 non-null    object  \n",
      " 1   Region                         157 non-null    object  \n",
      " 2   Happiness Rank                 157 non-null    int64   \n",
      " 3   Happiness Score                157 non-null    float64 \n",
      " 4   Lower Confidence Interval      157 non-null    float64 \n",
      " 5   Upper Confidence Interval      157 non-null    float64 \n",
      " 6   Economy (GDP per Capita)       157 non-null    float64 \n",
      " 7   Family                         157 non-null    float64 \n",
      " 8   Health (Life Expectancy)       157 non-null    float64 \n",
      " 9   Freedom                        157 non-null    float64 \n",
      " 10  Trust (Government Corruption)  157 non-null    float64 \n",
      " 11  Generosity                     157 non-null    float64 \n",
      " 12  Dystopia Residual              157 non-null    float64 \n",
      " 13  Country Code                   157 non-null    object  \n",
      " 14  Country Name                   154 non-null    object  \n",
      " 15  Indicator Name                 154 non-null    object  \n",
      " 16  Indicator Code                 154 non-null    object  \n",
      " 17  1960                           151 non-null    float64 \n",
      " 18  1961                           152 non-null    float64 \n",
      " 19  1962                           152 non-null    float64 \n",
      " 20  1963                           151 non-null    float64 \n",
      " 21  1964                           151 non-null    float64 \n",
      " 22  1965                           151 non-null    float64 \n",
      " 23  1966                           152 non-null    float64 \n",
      " 24  1967                           152 non-null    float64 \n",
      " 25  1968                           152 non-null    float64 \n",
      " 26  1969                           152 non-null    float64 \n",
      " 27  1970                           152 non-null    float64 \n",
      " 28  1971                           152 non-null    float64 \n",
      " 29  1972                           152 non-null    float64 \n",
      " 30  1973                           152 non-null    float64 \n",
      " 31  1974                           152 non-null    float64 \n",
      " 32  1975                           152 non-null    float64 \n",
      " 33  1976                           152 non-null    float64 \n",
      " 34  1977                           152 non-null    float64 \n",
      " 35  1978                           152 non-null    float64 \n",
      " 36  1979                           152 non-null    float64 \n",
      " 37  1980                           152 non-null    float64 \n",
      " 38  1981                           153 non-null    float64 \n",
      " 39  1982                           153 non-null    float64 \n",
      " 40  1983                           153 non-null    float64 \n",
      " 41  1984                           153 non-null    float64 \n",
      " 42  1985                           153 non-null    float64 \n",
      " 43  1986                           153 non-null    float64 \n",
      " 44  1987                           153 non-null    float64 \n",
      " 45  1988                           153 non-null    float64 \n",
      " 46  1989                           153 non-null    float64 \n",
      " 47  1990                           153 non-null    float64 \n",
      " 48  1991                           154 non-null    float64 \n",
      " 49  1992                           153 non-null    float64 \n",
      " 50  1993                           153 non-null    float64 \n",
      " 51  1994                           153 non-null    float64 \n",
      " 52  1995                           153 non-null    float64 \n",
      " 53  1996                           153 non-null    float64 \n",
      " 54  1997                           154 non-null    float64 \n",
      " 55  1998                           153 non-null    float64 \n",
      " 56  1999                           153 non-null    float64 \n",
      " 57  2000                           154 non-null    float64 \n",
      " 58  2001                           154 non-null    float64 \n",
      " 59  2002                           154 non-null    float64 \n",
      " 60  2003                           154 non-null    float64 \n",
      " 61  2004                           154 non-null    float64 \n",
      " 62  2005                           154 non-null    float64 \n",
      " 63  2006                           154 non-null    float64 \n",
      " 64  2007                           154 non-null    float64 \n",
      " 65  2008                           154 non-null    float64 \n",
      " 66  2009                           154 non-null    float64 \n",
      " 67  2010                           154 non-null    float64 \n",
      " 68  2011                           154 non-null    float64 \n",
      " 69  2012                           154 non-null    float64 \n",
      " 70  2013                           154 non-null    float64 \n",
      " 71  2014                           154 non-null    float64 \n",
      " 72  2015                           154 non-null    float64 \n",
      " 73  2016                           154 non-null    float64 \n",
      " 74  2017                           154 non-null    float64 \n",
      " 75  2018                           154 non-null    float64 \n",
      " 76  2019                           154 non-null    float64 \n",
      " 77  2020                           154 non-null    float64 \n",
      " 78  2021                           0 non-null      float64 \n",
      " 79  Unnamed: 66                    0 non-null      float64 \n",
      " 80  _merge                         157 non-null    category\n",
      "dtypes: category(1), float64(73), int64(1), object(6)\n",
      "memory usage: 99.6+ KB\n"
     ]
    }
   ],
   "source": [
    "merged_2016.info()"
   ]
  },
  {
   "cell_type": "code",
   "execution_count": 14,
   "id": "c00b6d90",
   "metadata": {
    "ExecuteTime": {
     "end_time": "2022-07-25T03:00:55.326460Z",
     "start_time": "2022-07-25T03:00:55.314697Z"
    }
   },
   "outputs": [
    {
     "data": {
      "text/plain": [
       "Index(['Country', 'Region', 'Happiness Rank', 'Happiness Score',\n",
       "       'Lower Confidence Interval', 'Upper Confidence Interval',\n",
       "       'Economy (GDP per Capita)', 'Family', 'Health (Life Expectancy)',\n",
       "       'Freedom', 'Trust (Government Corruption)', 'Generosity',\n",
       "       'Dystopia Residual', 'Country Code', 'Country Name', 'Indicator Name',\n",
       "       'Indicator Code', '1960', '1961', '1962', '1963', '1964', '1965',\n",
       "       '1966', '1967', '1968', '1969', '1970', '1971', '1972', '1973', '1974',\n",
       "       '1975', '1976', '1977', '1978', '1979', '1980', '1981', '1982', '1983',\n",
       "       '1984', '1985', '1986', '1987', '1988', '1989', '1990', '1991', '1992',\n",
       "       '1993', '1994', '1995', '1996', '1997', '1998', '1999', '2000', '2001',\n",
       "       '2002', '2003', '2004', '2005', '2006', '2007', '2008', '2009', '2010',\n",
       "       '2011', '2012', '2013', '2014', '2015', '2016', '2017', '2018', '2019',\n",
       "       '2020', '2021', 'Unnamed: 66', '_merge'],\n",
       "      dtype='object')"
      ]
     },
     "execution_count": 14,
     "metadata": {},
     "output_type": "execute_result"
    }
   ],
   "source": [
    "merged_2016.columns"
   ]
  },
  {
   "cell_type": "code",
   "execution_count": 92,
   "id": "295ab4e4",
   "metadata": {
    "ExecuteTime": {
     "end_time": "2022-07-25T12:21:36.655256Z",
     "start_time": "2022-07-25T12:21:36.642447Z"
    }
   },
   "outputs": [
    {
     "data": {
      "text/plain": [
       "array(['Denmark', 'Switzerland', 'Iceland', 'Norway', 'Finland', 'Canada',\n",
       "       'Netherlands', 'New Zealand', 'Australia', 'Sweden', 'Israel',\n",
       "       'Austria', 'United States', 'Costa Rica', 'Puerto Rico', 'Germany',\n",
       "       'Brazil', 'Belgium', 'Ireland', 'Luxembourg', 'Mexico',\n",
       "       'Singapore', 'United Kingdom', 'Chile', 'Panama', 'Argentina',\n",
       "       'Czech Republic', 'United Arab Emirates', 'Uruguay', 'Malta',\n",
       "       'Colombia', 'France', 'Thailand', 'Saudi Arabia', 'Taiwan',\n",
       "       'Qatar', 'Spain', 'Algeria', 'Guatemala', 'Suriname', 'Kuwait',\n",
       "       'Bahrain', 'Trinidad and Tobago', 'Venezuela', 'Slovakia',\n",
       "       'El Salvador', 'Malaysia', 'Nicaragua', 'Uzbekistan', 'Italy',\n",
       "       'Ecuador', 'Belize', 'Japan', 'Kazakhstan', 'Moldova', 'Russia',\n",
       "       'Poland', 'South Korea', 'Bolivia', 'Lithuania', 'Belarus',\n",
       "       'North Cyprus', 'Slovenia', 'Peru', 'Turkmenistan', 'Mauritius',\n",
       "       'Libya', 'Latvia', 'Cyprus', 'Paraguay', 'Romania', 'Estonia',\n",
       "       'Jamaica', 'Croatia', 'Hong Kong', 'Somalia', 'Kosovo', 'Turkey',\n",
       "       'Indonesia', 'Jordan', 'Azerbaijan', 'Philippines', 'China',\n",
       "       'Bhutan', 'Kyrgyzstan', 'Serbia', 'Bosnia and Herzegovina',\n",
       "       'Montenegro', 'Dominican Republic', 'Morocco', 'Hungary',\n",
       "       'Pakistan', 'Lebanon', 'Portugal', 'Macedonia', 'Vietnam',\n",
       "       'Somaliland Region', 'Tunisia', 'Greece', 'Tajikistan', 'Mongolia',\n",
       "       'Laos', 'Nigeria', 'Honduras', 'Iran', 'Zambia', 'Nepal',\n",
       "       'Palestinian Territories', 'Albania', 'Bangladesh', 'Sierra Leone',\n",
       "       'Iraq', 'Namibia', 'Cameroon', 'Ethiopia', 'South Africa',\n",
       "       'Sri Lanka', 'India', 'Myanmar', 'Egypt', 'Armenia', 'Kenya',\n",
       "       'Ukraine', 'Ghana', 'Congo (Kinshasa)', 'Georgia',\n",
       "       'Congo (Brazzaville)', 'Senegal', 'Bulgaria', 'Mauritania',\n",
       "       'Zimbabwe', 'Malawi', 'Sudan', 'Gabon', 'Mali', 'Haiti',\n",
       "       'Botswana', 'Comoros', 'Ivory Coast', 'Cambodia', 'Angola',\n",
       "       'Niger', 'South Sudan', 'Chad', 'Burkina Faso', 'Uganda', 'Yemen',\n",
       "       'Madagascar', 'Tanzania', 'Liberia', 'Guinea', 'Rwanda', 'Benin',\n",
       "       'Afghanistan', 'Togo', 'Syria', 'Burundi'], dtype=object)"
      ]
     },
     "execution_count": 92,
     "metadata": {},
     "output_type": "execute_result"
    }
   ],
   "source": [
    "# Taiwan, Palestinian Territories and Ivory Coast can't be matched, we should have 154 countries\n",
    "# Is Somaliland here Somalia?\n",
    "\n",
    "merged_2016['Country'].values"
   ]
  },
  {
   "cell_type": "markdown",
   "id": "9f76ecab",
   "metadata": {},
   "source": [
    "# Now we can calculate NHLY for 154 countries"
   ]
  },
  {
   "cell_type": "code",
   "execution_count": 16,
   "id": "101ed11f",
   "metadata": {
    "ExecuteTime": {
     "end_time": "2022-07-25T03:00:55.347554Z",
     "start_time": "2022-07-25T03:00:55.336402Z"
    },
    "scrolled": true
   },
   "outputs": [],
   "source": [
    "merged_2016 = merged_2016.loc[:, merged_2016.columns.intersection(['Country','Region', 'Happiness Score', 'Economy (GDP per Capita)', 'Family', 'Health (Life Expectancy)', 'Freedom', 'Trust (Government Corruption)', 'Generosity', 'Dystopia Residual', 'Country Code', '2016'])]\n",
    "merged_2016.rename(columns={\"2016\": \"2016_lifeexp\"}, inplace=True)"
   ]
  },
  {
   "cell_type": "code",
   "execution_count": 17,
   "id": "603d627d",
   "metadata": {
    "ExecuteTime": {
     "end_time": "2022-07-25T03:00:55.358695Z",
     "start_time": "2022-07-25T03:00:55.348657Z"
    }
   },
   "outputs": [],
   "source": [
    "merged_2016['NHLY'] = (merged_2016['Happiness Score'] - 5)  * 0.1 * merged_2016['2016_lifeexp']"
   ]
  },
  {
   "cell_type": "code",
   "execution_count": 18,
   "id": "d2183a8e",
   "metadata": {
    "ExecuteTime": {
     "end_time": "2022-07-25T03:00:55.369071Z",
     "start_time": "2022-07-25T03:00:55.360105Z"
    }
   },
   "outputs": [
    {
     "data": {
      "text/plain": [
       "0      20.423634\n",
       "1      20.975852\n",
       "2      20.559440\n",
       "3      20.585348\n",
       "4      19.648882\n",
       "         ...    \n",
       "152    -9.230166\n",
       "153   -10.457132\n",
       "154   -10.219334\n",
       "155   -13.577827\n",
       "156   -12.680616\n",
       "Name: NHLY, Length: 157, dtype: float64"
      ]
     },
     "execution_count": 18,
     "metadata": {},
     "output_type": "execute_result"
    }
   ],
   "source": [
    "merged_2016['NHLY']"
   ]
  },
  {
   "cell_type": "markdown",
   "id": "ee3055ec",
   "metadata": {},
   "source": [
    "## Plot a bar chart for top 10 countries"
   ]
  },
  {
   "cell_type": "code",
   "execution_count": 19,
   "id": "543f7369",
   "metadata": {
    "ExecuteTime": {
     "end_time": "2022-07-25T03:00:55.389206Z",
     "start_time": "2022-07-25T03:00:55.370179Z"
    }
   },
   "outputs": [
    {
     "data": {
      "text/html": [
       "<div>\n",
       "<style scoped>\n",
       "    .dataframe tbody tr th:only-of-type {\n",
       "        vertical-align: middle;\n",
       "    }\n",
       "\n",
       "    .dataframe tbody tr th {\n",
       "        vertical-align: top;\n",
       "    }\n",
       "\n",
       "    .dataframe thead th {\n",
       "        text-align: right;\n",
       "    }\n",
       "</style>\n",
       "<table border=\"1\" class=\"dataframe\">\n",
       "  <thead>\n",
       "    <tr style=\"text-align: right;\">\n",
       "      <th></th>\n",
       "      <th>Country</th>\n",
       "      <th>Region</th>\n",
       "      <th>Happiness Score</th>\n",
       "      <th>Economy (GDP per Capita)</th>\n",
       "      <th>Family</th>\n",
       "      <th>Health (Life Expectancy)</th>\n",
       "      <th>Freedom</th>\n",
       "      <th>Trust (Government Corruption)</th>\n",
       "      <th>Generosity</th>\n",
       "      <th>Dystopia Residual</th>\n",
       "      <th>Country Code</th>\n",
       "      <th>2016_lifeexp</th>\n",
       "      <th>NHLY</th>\n",
       "    </tr>\n",
       "  </thead>\n",
       "  <tbody>\n",
       "    <tr>\n",
       "      <th>1</th>\n",
       "      <td>Switzerland</td>\n",
       "      <td>Western Europe</td>\n",
       "      <td>7.509</td>\n",
       "      <td>1.52733</td>\n",
       "      <td>1.14524</td>\n",
       "      <td>0.86303</td>\n",
       "      <td>0.58557</td>\n",
       "      <td>0.41203</td>\n",
       "      <td>0.28083</td>\n",
       "      <td>2.69463</td>\n",
       "      <td>CHE</td>\n",
       "      <td>83.602439</td>\n",
       "      <td>20.975852</td>\n",
       "    </tr>\n",
       "    <tr>\n",
       "      <th>3</th>\n",
       "      <td>Norway</td>\n",
       "      <td>Western Europe</td>\n",
       "      <td>7.498</td>\n",
       "      <td>1.57744</td>\n",
       "      <td>1.12690</td>\n",
       "      <td>0.79579</td>\n",
       "      <td>0.59609</td>\n",
       "      <td>0.35776</td>\n",
       "      <td>0.37895</td>\n",
       "      <td>2.66465</td>\n",
       "      <td>NOR</td>\n",
       "      <td>82.407317</td>\n",
       "      <td>20.585348</td>\n",
       "    </tr>\n",
       "    <tr>\n",
       "      <th>2</th>\n",
       "      <td>Iceland</td>\n",
       "      <td>Western Europe</td>\n",
       "      <td>7.501</td>\n",
       "      <td>1.42666</td>\n",
       "      <td>1.18326</td>\n",
       "      <td>0.86733</td>\n",
       "      <td>0.56624</td>\n",
       "      <td>0.14975</td>\n",
       "      <td>0.47678</td>\n",
       "      <td>2.83137</td>\n",
       "      <td>ISL</td>\n",
       "      <td>82.204878</td>\n",
       "      <td>20.559440</td>\n",
       "    </tr>\n",
       "    <tr>\n",
       "      <th>0</th>\n",
       "      <td>Denmark</td>\n",
       "      <td>Western Europe</td>\n",
       "      <td>7.526</td>\n",
       "      <td>1.44178</td>\n",
       "      <td>1.16374</td>\n",
       "      <td>0.79504</td>\n",
       "      <td>0.57941</td>\n",
       "      <td>0.44453</td>\n",
       "      <td>0.36171</td>\n",
       "      <td>2.73939</td>\n",
       "      <td>DNK</td>\n",
       "      <td>80.853659</td>\n",
       "      <td>20.423634</td>\n",
       "    </tr>\n",
       "    <tr>\n",
       "      <th>5</th>\n",
       "      <td>Canada</td>\n",
       "      <td>North America</td>\n",
       "      <td>7.404</td>\n",
       "      <td>1.44015</td>\n",
       "      <td>1.09610</td>\n",
       "      <td>0.82760</td>\n",
       "      <td>0.57370</td>\n",
       "      <td>0.31329</td>\n",
       "      <td>0.44834</td>\n",
       "      <td>2.70485</td>\n",
       "      <td>CAN</td>\n",
       "      <td>81.900000</td>\n",
       "      <td>19.688760</td>\n",
       "    </tr>\n",
       "    <tr>\n",
       "      <th>...</th>\n",
       "      <td>...</td>\n",
       "      <td>...</td>\n",
       "      <td>...</td>\n",
       "      <td>...</td>\n",
       "      <td>...</td>\n",
       "      <td>...</td>\n",
       "      <td>...</td>\n",
       "      <td>...</td>\n",
       "      <td>...</td>\n",
       "      <td>...</td>\n",
       "      <td>...</td>\n",
       "      <td>...</td>\n",
       "      <td>...</td>\n",
       "    </tr>\n",
       "    <tr>\n",
       "      <th>156</th>\n",
       "      <td>Burundi</td>\n",
       "      <td>Sub-Saharan Africa</td>\n",
       "      <td>2.905</td>\n",
       "      <td>0.06831</td>\n",
       "      <td>0.23442</td>\n",
       "      <td>0.15747</td>\n",
       "      <td>0.04320</td>\n",
       "      <td>0.09419</td>\n",
       "      <td>0.20290</td>\n",
       "      <td>2.10404</td>\n",
       "      <td>BDI</td>\n",
       "      <td>60.528000</td>\n",
       "      <td>-12.680616</td>\n",
       "    </tr>\n",
       "    <tr>\n",
       "      <th>155</th>\n",
       "      <td>Syria</td>\n",
       "      <td>Middle East and Northern Africa</td>\n",
       "      <td>3.069</td>\n",
       "      <td>0.74719</td>\n",
       "      <td>0.14866</td>\n",
       "      <td>0.62994</td>\n",
       "      <td>0.06912</td>\n",
       "      <td>0.17233</td>\n",
       "      <td>0.48397</td>\n",
       "      <td>0.81789</td>\n",
       "      <td>SYR</td>\n",
       "      <td>70.315000</td>\n",
       "      <td>-13.577827</td>\n",
       "    </tr>\n",
       "    <tr>\n",
       "      <th>34</th>\n",
       "      <td>Taiwan</td>\n",
       "      <td>Eastern Asia</td>\n",
       "      <td>6.379</td>\n",
       "      <td>1.39729</td>\n",
       "      <td>0.92624</td>\n",
       "      <td>0.79565</td>\n",
       "      <td>0.32377</td>\n",
       "      <td>0.06630</td>\n",
       "      <td>0.25495</td>\n",
       "      <td>2.61523</td>\n",
       "      <td>not found</td>\n",
       "      <td>NaN</td>\n",
       "      <td>NaN</td>\n",
       "    </tr>\n",
       "    <tr>\n",
       "      <th>107</th>\n",
       "      <td>Palestinian Territories</td>\n",
       "      <td>Middle East and Northern Africa</td>\n",
       "      <td>4.754</td>\n",
       "      <td>0.67024</td>\n",
       "      <td>0.71629</td>\n",
       "      <td>0.56844</td>\n",
       "      <td>0.17744</td>\n",
       "      <td>0.10613</td>\n",
       "      <td>0.11154</td>\n",
       "      <td>2.40364</td>\n",
       "      <td>not found</td>\n",
       "      <td>NaN</td>\n",
       "      <td>NaN</td>\n",
       "    </tr>\n",
       "    <tr>\n",
       "      <th>138</th>\n",
       "      <td>Ivory Coast</td>\n",
       "      <td>Sub-Saharan Africa</td>\n",
       "      <td>3.916</td>\n",
       "      <td>0.55507</td>\n",
       "      <td>0.57576</td>\n",
       "      <td>0.04476</td>\n",
       "      <td>0.40663</td>\n",
       "      <td>0.15530</td>\n",
       "      <td>0.20338</td>\n",
       "      <td>1.97478</td>\n",
       "      <td>not found</td>\n",
       "      <td>NaN</td>\n",
       "      <td>NaN</td>\n",
       "    </tr>\n",
       "  </tbody>\n",
       "</table>\n",
       "<p>157 rows × 13 columns</p>\n",
       "</div>"
      ],
      "text/plain": [
       "                     Country                           Region  \\\n",
       "1                Switzerland                   Western Europe   \n",
       "3                     Norway                   Western Europe   \n",
       "2                    Iceland                   Western Europe   \n",
       "0                    Denmark                   Western Europe   \n",
       "5                     Canada                    North America   \n",
       "..                       ...                              ...   \n",
       "156                  Burundi               Sub-Saharan Africa   \n",
       "155                    Syria  Middle East and Northern Africa   \n",
       "34                    Taiwan                     Eastern Asia   \n",
       "107  Palestinian Territories  Middle East and Northern Africa   \n",
       "138              Ivory Coast               Sub-Saharan Africa   \n",
       "\n",
       "     Happiness Score  Economy (GDP per Capita)   Family  \\\n",
       "1              7.509                   1.52733  1.14524   \n",
       "3              7.498                   1.57744  1.12690   \n",
       "2              7.501                   1.42666  1.18326   \n",
       "0              7.526                   1.44178  1.16374   \n",
       "5              7.404                   1.44015  1.09610   \n",
       "..               ...                       ...      ...   \n",
       "156            2.905                   0.06831  0.23442   \n",
       "155            3.069                   0.74719  0.14866   \n",
       "34             6.379                   1.39729  0.92624   \n",
       "107            4.754                   0.67024  0.71629   \n",
       "138            3.916                   0.55507  0.57576   \n",
       "\n",
       "     Health (Life Expectancy)  Freedom  Trust (Government Corruption)  \\\n",
       "1                     0.86303  0.58557                        0.41203   \n",
       "3                     0.79579  0.59609                        0.35776   \n",
       "2                     0.86733  0.56624                        0.14975   \n",
       "0                     0.79504  0.57941                        0.44453   \n",
       "5                     0.82760  0.57370                        0.31329   \n",
       "..                        ...      ...                            ...   \n",
       "156                   0.15747  0.04320                        0.09419   \n",
       "155                   0.62994  0.06912                        0.17233   \n",
       "34                    0.79565  0.32377                        0.06630   \n",
       "107                   0.56844  0.17744                        0.10613   \n",
       "138                   0.04476  0.40663                        0.15530   \n",
       "\n",
       "     Generosity  Dystopia Residual Country Code  2016_lifeexp       NHLY  \n",
       "1       0.28083            2.69463          CHE     83.602439  20.975852  \n",
       "3       0.37895            2.66465          NOR     82.407317  20.585348  \n",
       "2       0.47678            2.83137          ISL     82.204878  20.559440  \n",
       "0       0.36171            2.73939          DNK     80.853659  20.423634  \n",
       "5       0.44834            2.70485          CAN     81.900000  19.688760  \n",
       "..          ...                ...          ...           ...        ...  \n",
       "156     0.20290            2.10404          BDI     60.528000 -12.680616  \n",
       "155     0.48397            0.81789          SYR     70.315000 -13.577827  \n",
       "34      0.25495            2.61523    not found           NaN        NaN  \n",
       "107     0.11154            2.40364    not found           NaN        NaN  \n",
       "138     0.20338            1.97478    not found           NaN        NaN  \n",
       "\n",
       "[157 rows x 13 columns]"
      ]
     },
     "execution_count": 19,
     "metadata": {},
     "output_type": "execute_result"
    }
   ],
   "source": [
    "merged_2016.sort_values(by='NHLY', ascending=False)"
   ]
  },
  {
   "cell_type": "code",
   "execution_count": 20,
   "id": "96ad3d83",
   "metadata": {
    "ExecuteTime": {
     "end_time": "2022-07-25T03:00:55.400853Z",
     "start_time": "2022-07-25T03:00:55.390406Z"
    }
   },
   "outputs": [],
   "source": [
    "top_10 = merged_2016.sort_values(by='NHLY', ascending=False).head(10)"
   ]
  },
  {
   "cell_type": "code",
   "execution_count": 21,
   "id": "6bc358f1",
   "metadata": {
    "ExecuteTime": {
     "end_time": "2022-07-25T03:00:55.418004Z",
     "start_time": "2022-07-25T03:00:55.402171Z"
    }
   },
   "outputs": [
    {
     "data": {
      "text/html": [
       "<div>\n",
       "<style scoped>\n",
       "    .dataframe tbody tr th:only-of-type {\n",
       "        vertical-align: middle;\n",
       "    }\n",
       "\n",
       "    .dataframe tbody tr th {\n",
       "        vertical-align: top;\n",
       "    }\n",
       "\n",
       "    .dataframe thead th {\n",
       "        text-align: right;\n",
       "    }\n",
       "</style>\n",
       "<table border=\"1\" class=\"dataframe\">\n",
       "  <thead>\n",
       "    <tr style=\"text-align: right;\">\n",
       "      <th></th>\n",
       "      <th>Country</th>\n",
       "      <th>Region</th>\n",
       "      <th>Happiness Score</th>\n",
       "      <th>Economy (GDP per Capita)</th>\n",
       "      <th>Family</th>\n",
       "      <th>Health (Life Expectancy)</th>\n",
       "      <th>Freedom</th>\n",
       "      <th>Trust (Government Corruption)</th>\n",
       "      <th>Generosity</th>\n",
       "      <th>Dystopia Residual</th>\n",
       "      <th>Country Code</th>\n",
       "      <th>2016_lifeexp</th>\n",
       "      <th>NHLY</th>\n",
       "    </tr>\n",
       "  </thead>\n",
       "  <tbody>\n",
       "    <tr>\n",
       "      <th>1</th>\n",
       "      <td>Switzerland</td>\n",
       "      <td>Western Europe</td>\n",
       "      <td>7.509</td>\n",
       "      <td>1.52733</td>\n",
       "      <td>1.14524</td>\n",
       "      <td>0.86303</td>\n",
       "      <td>0.58557</td>\n",
       "      <td>0.41203</td>\n",
       "      <td>0.28083</td>\n",
       "      <td>2.69463</td>\n",
       "      <td>CHE</td>\n",
       "      <td>83.602439</td>\n",
       "      <td>20.975852</td>\n",
       "    </tr>\n",
       "    <tr>\n",
       "      <th>3</th>\n",
       "      <td>Norway</td>\n",
       "      <td>Western Europe</td>\n",
       "      <td>7.498</td>\n",
       "      <td>1.57744</td>\n",
       "      <td>1.12690</td>\n",
       "      <td>0.79579</td>\n",
       "      <td>0.59609</td>\n",
       "      <td>0.35776</td>\n",
       "      <td>0.37895</td>\n",
       "      <td>2.66465</td>\n",
       "      <td>NOR</td>\n",
       "      <td>82.407317</td>\n",
       "      <td>20.585348</td>\n",
       "    </tr>\n",
       "    <tr>\n",
       "      <th>2</th>\n",
       "      <td>Iceland</td>\n",
       "      <td>Western Europe</td>\n",
       "      <td>7.501</td>\n",
       "      <td>1.42666</td>\n",
       "      <td>1.18326</td>\n",
       "      <td>0.86733</td>\n",
       "      <td>0.56624</td>\n",
       "      <td>0.14975</td>\n",
       "      <td>0.47678</td>\n",
       "      <td>2.83137</td>\n",
       "      <td>ISL</td>\n",
       "      <td>82.204878</td>\n",
       "      <td>20.559440</td>\n",
       "    </tr>\n",
       "    <tr>\n",
       "      <th>0</th>\n",
       "      <td>Denmark</td>\n",
       "      <td>Western Europe</td>\n",
       "      <td>7.526</td>\n",
       "      <td>1.44178</td>\n",
       "      <td>1.16374</td>\n",
       "      <td>0.79504</td>\n",
       "      <td>0.57941</td>\n",
       "      <td>0.44453</td>\n",
       "      <td>0.36171</td>\n",
       "      <td>2.73939</td>\n",
       "      <td>DNK</td>\n",
       "      <td>80.853659</td>\n",
       "      <td>20.423634</td>\n",
       "    </tr>\n",
       "    <tr>\n",
       "      <th>5</th>\n",
       "      <td>Canada</td>\n",
       "      <td>North America</td>\n",
       "      <td>7.404</td>\n",
       "      <td>1.44015</td>\n",
       "      <td>1.09610</td>\n",
       "      <td>0.82760</td>\n",
       "      <td>0.57370</td>\n",
       "      <td>0.31329</td>\n",
       "      <td>0.44834</td>\n",
       "      <td>2.70485</td>\n",
       "      <td>CAN</td>\n",
       "      <td>81.900000</td>\n",
       "      <td>19.688760</td>\n",
       "    </tr>\n",
       "    <tr>\n",
       "      <th>4</th>\n",
       "      <td>Finland</td>\n",
       "      <td>Western Europe</td>\n",
       "      <td>7.413</td>\n",
       "      <td>1.40598</td>\n",
       "      <td>1.13464</td>\n",
       "      <td>0.81091</td>\n",
       "      <td>0.57104</td>\n",
       "      <td>0.41004</td>\n",
       "      <td>0.25492</td>\n",
       "      <td>2.82596</td>\n",
       "      <td>FIN</td>\n",
       "      <td>81.429268</td>\n",
       "      <td>19.648882</td>\n",
       "    </tr>\n",
       "    <tr>\n",
       "      <th>6</th>\n",
       "      <td>Netherlands</td>\n",
       "      <td>Western Europe</td>\n",
       "      <td>7.339</td>\n",
       "      <td>1.46468</td>\n",
       "      <td>1.02912</td>\n",
       "      <td>0.81231</td>\n",
       "      <td>0.55211</td>\n",
       "      <td>0.29927</td>\n",
       "      <td>0.47416</td>\n",
       "      <td>2.70749</td>\n",
       "      <td>NLD</td>\n",
       "      <td>81.560976</td>\n",
       "      <td>19.077112</td>\n",
       "    </tr>\n",
       "    <tr>\n",
       "      <th>8</th>\n",
       "      <td>Australia</td>\n",
       "      <td>Australia and New Zealand</td>\n",
       "      <td>7.313</td>\n",
       "      <td>1.44443</td>\n",
       "      <td>1.10476</td>\n",
       "      <td>0.85120</td>\n",
       "      <td>0.56837</td>\n",
       "      <td>0.32331</td>\n",
       "      <td>0.47407</td>\n",
       "      <td>2.54650</td>\n",
       "      <td>AUS</td>\n",
       "      <td>82.448780</td>\n",
       "      <td>19.070403</td>\n",
       "    </tr>\n",
       "    <tr>\n",
       "      <th>7</th>\n",
       "      <td>New Zealand</td>\n",
       "      <td>Australia and New Zealand</td>\n",
       "      <td>7.334</td>\n",
       "      <td>1.36066</td>\n",
       "      <td>1.17278</td>\n",
       "      <td>0.83096</td>\n",
       "      <td>0.58147</td>\n",
       "      <td>0.41904</td>\n",
       "      <td>0.49401</td>\n",
       "      <td>2.47553</td>\n",
       "      <td>NZL</td>\n",
       "      <td>81.612439</td>\n",
       "      <td>19.048343</td>\n",
       "    </tr>\n",
       "    <tr>\n",
       "      <th>9</th>\n",
       "      <td>Sweden</td>\n",
       "      <td>Western Europe</td>\n",
       "      <td>7.291</td>\n",
       "      <td>1.45181</td>\n",
       "      <td>1.08764</td>\n",
       "      <td>0.83121</td>\n",
       "      <td>0.58218</td>\n",
       "      <td>0.40867</td>\n",
       "      <td>0.38254</td>\n",
       "      <td>2.54734</td>\n",
       "      <td>SWE</td>\n",
       "      <td>82.307317</td>\n",
       "      <td>18.856606</td>\n",
       "    </tr>\n",
       "  </tbody>\n",
       "</table>\n",
       "</div>"
      ],
      "text/plain": [
       "       Country                     Region  Happiness Score  \\\n",
       "1  Switzerland             Western Europe            7.509   \n",
       "3       Norway             Western Europe            7.498   \n",
       "2      Iceland             Western Europe            7.501   \n",
       "0      Denmark             Western Europe            7.526   \n",
       "5       Canada              North America            7.404   \n",
       "4      Finland             Western Europe            7.413   \n",
       "6  Netherlands             Western Europe            7.339   \n",
       "8    Australia  Australia and New Zealand            7.313   \n",
       "7  New Zealand  Australia and New Zealand            7.334   \n",
       "9       Sweden             Western Europe            7.291   \n",
       "\n",
       "   Economy (GDP per Capita)   Family  Health (Life Expectancy)  Freedom  \\\n",
       "1                   1.52733  1.14524                   0.86303  0.58557   \n",
       "3                   1.57744  1.12690                   0.79579  0.59609   \n",
       "2                   1.42666  1.18326                   0.86733  0.56624   \n",
       "0                   1.44178  1.16374                   0.79504  0.57941   \n",
       "5                   1.44015  1.09610                   0.82760  0.57370   \n",
       "4                   1.40598  1.13464                   0.81091  0.57104   \n",
       "6                   1.46468  1.02912                   0.81231  0.55211   \n",
       "8                   1.44443  1.10476                   0.85120  0.56837   \n",
       "7                   1.36066  1.17278                   0.83096  0.58147   \n",
       "9                   1.45181  1.08764                   0.83121  0.58218   \n",
       "\n",
       "   Trust (Government Corruption)  Generosity  Dystopia Residual Country Code  \\\n",
       "1                        0.41203     0.28083            2.69463          CHE   \n",
       "3                        0.35776     0.37895            2.66465          NOR   \n",
       "2                        0.14975     0.47678            2.83137          ISL   \n",
       "0                        0.44453     0.36171            2.73939          DNK   \n",
       "5                        0.31329     0.44834            2.70485          CAN   \n",
       "4                        0.41004     0.25492            2.82596          FIN   \n",
       "6                        0.29927     0.47416            2.70749          NLD   \n",
       "8                        0.32331     0.47407            2.54650          AUS   \n",
       "7                        0.41904     0.49401            2.47553          NZL   \n",
       "9                        0.40867     0.38254            2.54734          SWE   \n",
       "\n",
       "   2016_lifeexp       NHLY  \n",
       "1     83.602439  20.975852  \n",
       "3     82.407317  20.585348  \n",
       "2     82.204878  20.559440  \n",
       "0     80.853659  20.423634  \n",
       "5     81.900000  19.688760  \n",
       "4     81.429268  19.648882  \n",
       "6     81.560976  19.077112  \n",
       "8     82.448780  19.070403  \n",
       "7     81.612439  19.048343  \n",
       "9     82.307317  18.856606  "
      ]
     },
     "execution_count": 21,
     "metadata": {},
     "output_type": "execute_result"
    }
   ],
   "source": [
    "top_10"
   ]
  },
  {
   "cell_type": "code",
   "execution_count": 22,
   "id": "11130912",
   "metadata": {
    "ExecuteTime": {
     "end_time": "2022-07-25T03:00:55.428860Z",
     "start_time": "2022-07-25T03:00:55.418958Z"
    }
   },
   "outputs": [],
   "source": [
    "top_10.set_index('Country', inplace=True)"
   ]
  },
  {
   "cell_type": "code",
   "execution_count": 23,
   "id": "76e367c5",
   "metadata": {
    "ExecuteTime": {
     "end_time": "2022-07-25T03:00:55.558321Z",
     "start_time": "2022-07-25T03:00:55.429906Z"
    }
   },
   "outputs": [
    {
     "data": {
      "text/plain": [
       "<AxesSubplot:xlabel='Country'>"
      ]
     },
     "execution_count": 23,
     "metadata": {},
     "output_type": "execute_result"
    },
    {
     "data": {
      "image/png": "[encoded data removed]",
      "text/plain": [
       "<Figure size 720x576 with 1 Axes>"
      ]
     },
     "metadata": {
      "needs_background": "light"
     },
     "output_type": "display_data"
    }
   ],
   "source": [
    "top_10['NHLY'].plot(kind='bar',figsize=(10,8))"
   ]
  },
  {
   "cell_type": "markdown",
   "id": "443ca587",
   "metadata": {},
   "source": [
    "# Calculating PCEC in ERHNI Over the Years"
   ]
  },
  {
   "cell_type": "markdown",
   "id": "78f838d1",
   "metadata": {},
   "source": [
    "## 2008 ERHNI Equation"
   ]
  },
  {
   "cell_type": "markdown",
   "id": "063459a6",
   "metadata": {},
   "source": [
    "In the 2008 paper, starting from 400,000 premature deaths annually in China from air pollution, to convert it into a lifetime value (for comparison with HLY) on a per capita basis, multiply by life expectancy (71.6) then divide by population (1,286,975,468), giving us the below:"
   ]
  },
  {
   "cell_type": "code",
   "execution_count": 24,
   "id": "181ef8ed",
   "metadata": {
    "ExecuteTime": {
     "end_time": "2022-07-25T03:00:55.569906Z",
     "start_time": "2022-07-25T03:00:55.559477Z"
    }
   },
   "outputs": [
    {
     "name": "stdout",
     "output_type": "stream",
     "text": [
      "0.02225372644010647\n"
     ]
    }
   ],
   "source": [
    "premature_lifetime_per_cap = 400000 * 71.6 / 1286975468\n",
    "print(premature_lifetime_per_cap)"
   ]
  },
  {
   "cell_type": "markdown",
   "id": "15ea3445",
   "metadata": {},
   "source": [
    "Our goal is to calculate 𝜇 which gives us the external environmental costs imposed on ourselves and future generations. In order to get there, 3 main steps are involved:\n",
    "\n",
    "1. Starting with premature years yearly due to air pollution in China, we will try to approximate $\\lambda$ which gives us the estimated external environmental costs in terms of adjusted happy life years lost. This requires the use of 𝛼 (average number of life years lost due to premature death from air pollution in China), 𝛽 (the number of annual premature deaths due to environmental disruption in China other than air pollution as a proportion of annual premature deaths due to air pollution), 𝛾 (welfare costs of this reduction in the QoL as a proportion to the value of premature deaths) and 𝜁 (adjustment factor for value of life years lost with value of living life years).\n",
    "2. So far, this figure includes costs imposed externally from other countries and internally from China itself. Hence we need to transform this into average external environmental costs attributable to a nation in question on other nations with 𝜂 (**ratio of the figure for a representative nation to that for China of the per capita environmental costs in terms of the proportion of the average HLY of a representative person OR the ratio of the figure for a representative nation to that for China of the per capita environmental costs**) and 𝜃 (ratio of the external portion to the full portion of the index of costs).\n",
    "> **Question**: Is it right to say that 𝜂 is not the same as a country's per capita total $CO_{2}$ emission divided by the average per capita total $CO_{2}$ emission of the world as it ignores other environmental costs from other gases? Is 𝜂 the external cost ratio or how/what is the external cost ratio related to the figure components of the equation?\n",
    "\n",
    "3. Last but not least, 𝜇 by considering effect on future generations with a factor of 𝜉 (proportion of the per capita external environmental costs we impose on ourselves and the future generations).\n",
    "\n",
    "Some key assumed figures are as below:\n",
    "* 𝛼 = 4\n",
    "* 𝛽 = 0.7\n",
    "* 𝛾 = 0.8\n",
    "* 𝜁 = 1\n",
    "* 𝜂 = 0.5\n",
    "* 𝜃 = 0.5\n",
    "* 𝜉 = 5\n",
    "\n",
    "For a complete justification, refer to the 2008 paper. Our final equation is as below."
   ]
  },
  {
   "cell_type": "markdown",
   "id": "fa27f5a9",
   "metadata": {},
   "source": [
    "$$\n",
    "\\mu = \\lambda \\xi = 0.222537 * \\alpha (1+\\beta)(1+\\gamma)\\zeta\\eta\\theta\\xi\n",
    "$$"
   ]
  },
  {
   "cell_type": "code",
   "execution_count": 25,
   "id": "4e01e4f0",
   "metadata": {
    "ExecuteTime": {
     "end_time": "2022-07-25T03:00:55.580089Z",
     "start_time": "2022-07-25T03:00:55.571022Z"
    }
   },
   "outputs": [
    {
     "name": "stdout",
     "output_type": "stream",
     "text": [
      "0.34048201453362903\n"
     ]
    }
   ],
   "source": [
    "alpha = 4\n",
    "beta = 0.7\n",
    "gamma = 0.8\n",
    "zeta = 1\n",
    "eta = 0.5\n",
    "theta = 0.5\n",
    "xi = 5\n",
    "mu = premature_lifetime_per_cap * alpha * (1+beta) * (1+gamma) * zeta * eta * theta * xi\n",
    "print(mu)"
   ]
  },
  {
   "cell_type": "markdown",
   "id": "0341570b",
   "metadata": {},
   "source": [
    "Plugging in the assumed figures into the final equation, we obtain $\\approx$ 0.34 HLY. On average, a typical country imposes an external cost of about 0.34 HLY in per capita environmental costs now and into the future."
   ]
  },
  {
   "cell_type": "markdown",
   "id": "4d5a78f4",
   "metadata": {},
   "source": [
    "PCEC of a country = 0.34 * its per capita total $CO_{2}$ emission divided by the average per capita total $CO_{2}$ emission of the world"
   ]
  },
  {
   "cell_type": "markdown",
   "id": "46e7a053",
   "metadata": {},
   "source": [
    "## 2016 ERHNI Equation"
   ]
  },
  {
   "cell_type": "markdown",
   "id": "5780a2cc",
   "metadata": {},
   "source": [
    "In the 2016 paper calculating ERHNI, 3 key tweaks were made to the equation:\n",
    "1. We replaced 𝛼 (average number of life years lost due to premature death from air pollution in China) and 𝛽 (the number of annual premature deaths due to environmental disruption in China other than air pollution as a proportion of annual premature deaths due to air pollution) with a measure of $\\alpha_{i}$ $\\equiv$ healthy life years lost due to climate change.\n",
    "2. So for $\\mu_{i}$ = revised estimated per capita external environmental costs imposed on the present and future generations in terms of HLY, we also revised upwards 𝜁 $\\equiv$ 1.2 since life years lost were healthy.\n",
    "3. $\\eta$ was dropped since we are already considering the total yearly environmental costs in terms of healthy life years lost per country.\n",
    "\n",
    "> **Question**: Is it right to say that it made sense to drop 𝜂 here as we were using as our external cost ratio total greenhouse gases ($CO_{2}$,  $CH_{4}$ and  $N_{2}O$) emitted per capita divided by total world greenhouse gases emitted per capita hence full environmental costs of a country is captured already?\n",
    "\n",
    "> **Response**: But 𝜂 is different and independent of total green house gases emitted per country.\n",
    "\n",
    "The other factors stayed the same."
   ]
  },
  {
   "cell_type": "markdown",
   "id": "8a7043b4",
   "metadata": {},
   "source": [
    "$$\n",
    "\\mu_{i} = \\lambda_{i} \\xi = \\frac{life expectancy of country_{i}}{population of country_{i}} * \\alpha_{i} (1+\\gamma_{i})\\zeta_{i}\\theta\\xi\n",
    "$$"
   ]
  },
  {
   "cell_type": "markdown",
   "id": "c9ae81ee",
   "metadata": {},
   "source": [
    "## 2022 ERHNI Equation"
   ]
  },
  {
   "cell_type": "markdown",
   "id": "f0efcc1a",
   "metadata": {},
   "source": [
    "For year 2016, we switched from $\\alpha_{i}$ to $AQLI_{i}$ for 2 main reasons. First of all,  $\\alpha_{i}$ $\\equiv$ used in 2016 has data available only until year 2004 while $AQLI_{i}$ is available annually till 2019, hence the latter is more updated. In the 2016 analysis when we estimated a country's PCEC in proportion to a world baseline, the implicit assumption that a country's PCEC scales linearly to its per capita greenhouse gas emissions as a proportion of per capita world emissions is not necessarily true. An example $country_{i}$ may contribute $x$ portion of per capita greenhouse gas emissions but suffer disproportionately more environmental costs due to its geographic location or any other relevant factors. $AQLI_{i}$ is therefore more accurate on a country-level since it gives us the years of life expectancy lost due to air pollution.\n",
    "\n",
    "Henceforth, key changes to be introduced are described as below:\n",
    "\n",
    "1. Instead of taking $\\alpha_{i}$ $\\equiv$ as healthy life years lost due to climate change, we use $AQLI_{i}$ which returns the potential gains in life expectancy if $PM_{2.5}$ concentrations were reduced to meet WHO guidelines. $AQLI_{i}$ is therefore equivalent to expected life years lost due to air pollution in $country_{i}$. (Source: https://aqli.epic.uchicago.edu/)\n",
    "\n",
    "2. Given that $AQLI_{i}$ considers only particulate matter pollution, there is a need to reintroduce $\\beta$ which gives us an estimate for number of premature deaths due to environmental disruption in China other than particulate matter pollution, assumed to be 0.7 as in the 2008 paper.\n",
    "\n",
    "3. 𝜁 is brought back to 1 (from 1.2 in 2016) since $AQLI_{i}$ says nothing about the quality of the expected life years lost.\n",
    "\n",
    "Everything else stays the same to the 2016 paper: 𝛾 = 0.8, 𝜃 = 0.5, 𝜉 = 5."
   ]
  },
  {
   "cell_type": "markdown",
   "id": "558f5dad",
   "metadata": {},
   "source": [
    "$$\n",
    "\\mu_{i} = \\lambda_{i} \\xi = {AQLI_{i}} * (1+\\beta) * (1+\\gamma_{i})\\zeta_{i} \\theta\\xi\n",
    "$$"
   ]
  },
  {
   "cell_type": "markdown",
   "id": "74f1fbc3",
   "metadata": {},
   "source": [
    "# Calcualate ERHNI for Year 2016"
   ]
  },
  {
   "cell_type": "markdown",
   "id": "4700c19c",
   "metadata": {},
   "source": [
    "## Let's start by calculating external cost ratio of individual countries"
   ]
  },
  {
   "cell_type": "markdown",
   "id": "102f4329",
   "metadata": {},
   "source": [
    "The external cost ratio is given by the per capita total greenhouse gas emissions of a country divided by the average per capita greenhouse gas emissions of the world, or $\\frac{total greenhouse gas emissions of country_{i}}{population of country_{i}} * \\frac{world population}{total world greenhouse gas emissions}$"
   ]
  },
  {
   "cell_type": "code",
   "execution_count": 26,
   "id": "5c4e606c",
   "metadata": {
    "ExecuteTime": {
     "end_time": "2022-07-25T03:00:55.604122Z",
     "start_time": "2022-07-25T03:00:55.581526Z"
    }
   },
   "outputs": [],
   "source": [
    "co2_2016 = pd.read_csv(os.path.join(csv_path, 'API_EN.ATM.CO2E.KT_DS2_en_csv_v2_4151102.csv'), skiprows=4)\n",
    "ch4_2016 = pd.read_csv(os.path.join(csv_path, 'API_EN.ATM.METH.KT.CE_DS2_en_csv_v2_4157045.csv'), skiprows=4)\n",
    "n2o_2016 = pd.read_csv(os.path.join(csv_path, 'API_EN.ATM.NOXE.KT.CE_DS2_en_csv_v2_4157052.csv'), skiprows=4)\n",
    "pop_2016 = pd.read_csv(os.path.join(csv_path, 'API_SP.POP.TOTL_DS2_en_csv_v2_4251154.csv'), skiprows=4)"
   ]
  },
  {
   "cell_type": "code",
   "execution_count": 27,
   "id": "91272f86",
   "metadata": {
    "ExecuteTime": {
     "end_time": "2022-07-25T03:00:55.627536Z",
     "start_time": "2022-07-25T03:00:55.606459Z"
    },
    "scrolled": true
   },
   "outputs": [
    {
     "data": {
      "text/html": [
       "<div>\n",
       "<style scoped>\n",
       "    .dataframe tbody tr th:only-of-type {\n",
       "        vertical-align: middle;\n",
       "    }\n",
       "\n",
       "    .dataframe tbody tr th {\n",
       "        vertical-align: top;\n",
       "    }\n",
       "\n",
       "    .dataframe thead th {\n",
       "        text-align: right;\n",
       "    }\n",
       "</style>\n",
       "<table border=\"1\" class=\"dataframe\">\n",
       "  <thead>\n",
       "    <tr style=\"text-align: right;\">\n",
       "      <th></th>\n",
       "      <th>Country Name</th>\n",
       "      <th>Country Code</th>\n",
       "      <th>Indicator Name</th>\n",
       "      <th>Indicator Code</th>\n",
       "      <th>1960</th>\n",
       "      <th>1961</th>\n",
       "      <th>1962</th>\n",
       "      <th>1963</th>\n",
       "      <th>1964</th>\n",
       "      <th>1965</th>\n",
       "      <th>...</th>\n",
       "      <th>2013</th>\n",
       "      <th>2014</th>\n",
       "      <th>2015</th>\n",
       "      <th>2016</th>\n",
       "      <th>2017</th>\n",
       "      <th>2018</th>\n",
       "      <th>2019</th>\n",
       "      <th>2020</th>\n",
       "      <th>2021</th>\n",
       "      <th>Unnamed: 66</th>\n",
       "    </tr>\n",
       "  </thead>\n",
       "  <tbody>\n",
       "    <tr>\n",
       "      <th>0</th>\n",
       "      <td>Aruba</td>\n",
       "      <td>ABW</td>\n",
       "      <td>CO2 emissions (kt)</td>\n",
       "      <td>EN.ATM.CO2E.KT</td>\n",
       "      <td>NaN</td>\n",
       "      <td>NaN</td>\n",
       "      <td>NaN</td>\n",
       "      <td>NaN</td>\n",
       "      <td>NaN</td>\n",
       "      <td>NaN</td>\n",
       "      <td>...</td>\n",
       "      <td>NaN</td>\n",
       "      <td>NaN</td>\n",
       "      <td>NaN</td>\n",
       "      <td>NaN</td>\n",
       "      <td>NaN</td>\n",
       "      <td>NaN</td>\n",
       "      <td>NaN</td>\n",
       "      <td>NaN</td>\n",
       "      <td>NaN</td>\n",
       "      <td>NaN</td>\n",
       "    </tr>\n",
       "    <tr>\n",
       "      <th>1</th>\n",
       "      <td>Africa Eastern and Southern</td>\n",
       "      <td>AFE</td>\n",
       "      <td>CO2 emissions (kt)</td>\n",
       "      <td>EN.ATM.CO2E.KT</td>\n",
       "      <td>NaN</td>\n",
       "      <td>NaN</td>\n",
       "      <td>NaN</td>\n",
       "      <td>NaN</td>\n",
       "      <td>NaN</td>\n",
       "      <td>NaN</td>\n",
       "      <td>...</td>\n",
       "      <td>573190.0</td>\n",
       "      <td>594270.0</td>\n",
       "      <td>578990.0</td>\n",
       "      <td>584830.0</td>\n",
       "      <td>593740.0</td>\n",
       "      <td>592780.0</td>\n",
       "      <td>NaN</td>\n",
       "      <td>NaN</td>\n",
       "      <td>NaN</td>\n",
       "      <td>NaN</td>\n",
       "    </tr>\n",
       "    <tr>\n",
       "      <th>2</th>\n",
       "      <td>Afghanistan</td>\n",
       "      <td>AFG</td>\n",
       "      <td>CO2 emissions (kt)</td>\n",
       "      <td>EN.ATM.CO2E.KT</td>\n",
       "      <td>NaN</td>\n",
       "      <td>NaN</td>\n",
       "      <td>NaN</td>\n",
       "      <td>NaN</td>\n",
       "      <td>NaN</td>\n",
       "      <td>NaN</td>\n",
       "      <td>...</td>\n",
       "      <td>8510.0</td>\n",
       "      <td>7810.0</td>\n",
       "      <td>7990.0</td>\n",
       "      <td>7390.0</td>\n",
       "      <td>7380.0</td>\n",
       "      <td>7440.0</td>\n",
       "      <td>NaN</td>\n",
       "      <td>NaN</td>\n",
       "      <td>NaN</td>\n",
       "      <td>NaN</td>\n",
       "    </tr>\n",
       "    <tr>\n",
       "      <th>3</th>\n",
       "      <td>Africa Western and Central</td>\n",
       "      <td>AFW</td>\n",
       "      <td>CO2 emissions (kt)</td>\n",
       "      <td>EN.ATM.CO2E.KT</td>\n",
       "      <td>NaN</td>\n",
       "      <td>NaN</td>\n",
       "      <td>NaN</td>\n",
       "      <td>NaN</td>\n",
       "      <td>NaN</td>\n",
       "      <td>NaN</td>\n",
       "      <td>...</td>\n",
       "      <td>191990.0</td>\n",
       "      <td>198440.0</td>\n",
       "      <td>193060.0</td>\n",
       "      <td>195120.0</td>\n",
       "      <td>201900.0</td>\n",
       "      <td>224380.0</td>\n",
       "      <td>NaN</td>\n",
       "      <td>NaN</td>\n",
       "      <td>NaN</td>\n",
       "      <td>NaN</td>\n",
       "    </tr>\n",
       "    <tr>\n",
       "      <th>4</th>\n",
       "      <td>Angola</td>\n",
       "      <td>AGO</td>\n",
       "      <td>CO2 emissions (kt)</td>\n",
       "      <td>EN.ATM.CO2E.KT</td>\n",
       "      <td>NaN</td>\n",
       "      <td>NaN</td>\n",
       "      <td>NaN</td>\n",
       "      <td>NaN</td>\n",
       "      <td>NaN</td>\n",
       "      <td>NaN</td>\n",
       "      <td>...</td>\n",
       "      <td>32820.0</td>\n",
       "      <td>34630.0</td>\n",
       "      <td>35160.0</td>\n",
       "      <td>35410.0</td>\n",
       "      <td>30840.0</td>\n",
       "      <td>27340.0</td>\n",
       "      <td>NaN</td>\n",
       "      <td>NaN</td>\n",
       "      <td>NaN</td>\n",
       "      <td>NaN</td>\n",
       "    </tr>\n",
       "  </tbody>\n",
       "</table>\n",
       "<p>5 rows × 67 columns</p>\n",
       "</div>"
      ],
      "text/plain": [
       "                  Country Name Country Code      Indicator Name  \\\n",
       "0                        Aruba          ABW  CO2 emissions (kt)   \n",
       "1  Africa Eastern and Southern          AFE  CO2 emissions (kt)   \n",
       "2                  Afghanistan          AFG  CO2 emissions (kt)   \n",
       "3   Africa Western and Central          AFW  CO2 emissions (kt)   \n",
       "4                       Angola          AGO  CO2 emissions (kt)   \n",
       "\n",
       "   Indicator Code  1960  1961  1962  1963  1964  1965  ...      2013  \\\n",
       "0  EN.ATM.CO2E.KT   NaN   NaN   NaN   NaN   NaN   NaN  ...       NaN   \n",
       "1  EN.ATM.CO2E.KT   NaN   NaN   NaN   NaN   NaN   NaN  ...  573190.0   \n",
       "2  EN.ATM.CO2E.KT   NaN   NaN   NaN   NaN   NaN   NaN  ...    8510.0   \n",
       "3  EN.ATM.CO2E.KT   NaN   NaN   NaN   NaN   NaN   NaN  ...  191990.0   \n",
       "4  EN.ATM.CO2E.KT   NaN   NaN   NaN   NaN   NaN   NaN  ...   32820.0   \n",
       "\n",
       "       2014      2015      2016      2017      2018  2019  2020  2021  \\\n",
       "0       NaN       NaN       NaN       NaN       NaN   NaN   NaN   NaN   \n",
       "1  594270.0  578990.0  584830.0  593740.0  592780.0   NaN   NaN   NaN   \n",
       "2    7810.0    7990.0    7390.0    7380.0    7440.0   NaN   NaN   NaN   \n",
       "3  198440.0  193060.0  195120.0  201900.0  224380.0   NaN   NaN   NaN   \n",
       "4   34630.0   35160.0   35410.0   30840.0   27340.0   NaN   NaN   NaN   \n",
       "\n",
       "   Unnamed: 66  \n",
       "0          NaN  \n",
       "1          NaN  \n",
       "2          NaN  \n",
       "3          NaN  \n",
       "4          NaN  \n",
       "\n",
       "[5 rows x 67 columns]"
      ]
     },
     "execution_count": 27,
     "metadata": {},
     "output_type": "execute_result"
    }
   ],
   "source": [
    "co2_2016.head()"
   ]
  },
  {
   "cell_type": "code",
   "execution_count": 28,
   "id": "b6a4de72",
   "metadata": {
    "ExecuteTime": {
     "end_time": "2022-07-25T03:00:55.651126Z",
     "start_time": "2022-07-25T03:00:55.628537Z"
    }
   },
   "outputs": [
    {
     "data": {
      "text/html": [
       "<div>\n",
       "<style scoped>\n",
       "    .dataframe tbody tr th:only-of-type {\n",
       "        vertical-align: middle;\n",
       "    }\n",
       "\n",
       "    .dataframe tbody tr th {\n",
       "        vertical-align: top;\n",
       "    }\n",
       "\n",
       "    .dataframe thead th {\n",
       "        text-align: right;\n",
       "    }\n",
       "</style>\n",
       "<table border=\"1\" class=\"dataframe\">\n",
       "  <thead>\n",
       "    <tr style=\"text-align: right;\">\n",
       "      <th></th>\n",
       "      <th>Country Name</th>\n",
       "      <th>Country Code</th>\n",
       "      <th>Indicator Name</th>\n",
       "      <th>Indicator Code</th>\n",
       "      <th>1960</th>\n",
       "      <th>1961</th>\n",
       "      <th>1962</th>\n",
       "      <th>1963</th>\n",
       "      <th>1964</th>\n",
       "      <th>1965</th>\n",
       "      <th>...</th>\n",
       "      <th>2013</th>\n",
       "      <th>2014</th>\n",
       "      <th>2015</th>\n",
       "      <th>2016</th>\n",
       "      <th>2017</th>\n",
       "      <th>2018</th>\n",
       "      <th>2019</th>\n",
       "      <th>2020</th>\n",
       "      <th>2021</th>\n",
       "      <th>Unnamed: 66</th>\n",
       "    </tr>\n",
       "  </thead>\n",
       "  <tbody>\n",
       "    <tr>\n",
       "      <th>0</th>\n",
       "      <td>Aruba</td>\n",
       "      <td>ABW</td>\n",
       "      <td>Population, total</td>\n",
       "      <td>SP.POP.TOTL</td>\n",
       "      <td>54208.0</td>\n",
       "      <td>55434.0</td>\n",
       "      <td>56234.0</td>\n",
       "      <td>56699.0</td>\n",
       "      <td>57029.0</td>\n",
       "      <td>57357.0</td>\n",
       "      <td>...</td>\n",
       "      <td>103165.0</td>\n",
       "      <td>103776.0</td>\n",
       "      <td>104339.0</td>\n",
       "      <td>104865.0</td>\n",
       "      <td>105361.0</td>\n",
       "      <td>105846.0</td>\n",
       "      <td>106310.0</td>\n",
       "      <td>106766.0</td>\n",
       "      <td>107195.0</td>\n",
       "      <td>NaN</td>\n",
       "    </tr>\n",
       "    <tr>\n",
       "      <th>1</th>\n",
       "      <td>Africa Eastern and Southern</td>\n",
       "      <td>AFE</td>\n",
       "      <td>Population, total</td>\n",
       "      <td>SP.POP.TOTL</td>\n",
       "      <td>130836765.0</td>\n",
       "      <td>134159786.0</td>\n",
       "      <td>137614644.0</td>\n",
       "      <td>141202036.0</td>\n",
       "      <td>144920186.0</td>\n",
       "      <td>148769974.0</td>\n",
       "      <td>...</td>\n",
       "      <td>562601578.0</td>\n",
       "      <td>578075373.0</td>\n",
       "      <td>593871847.0</td>\n",
       "      <td>609978946.0</td>\n",
       "      <td>626392880.0</td>\n",
       "      <td>643090131.0</td>\n",
       "      <td>660046272.0</td>\n",
       "      <td>677243299.0</td>\n",
       "      <td>694665117.0</td>\n",
       "      <td>NaN</td>\n",
       "    </tr>\n",
       "    <tr>\n",
       "      <th>2</th>\n",
       "      <td>Afghanistan</td>\n",
       "      <td>AFG</td>\n",
       "      <td>Population, total</td>\n",
       "      <td>SP.POP.TOTL</td>\n",
       "      <td>8996967.0</td>\n",
       "      <td>9169406.0</td>\n",
       "      <td>9351442.0</td>\n",
       "      <td>9543200.0</td>\n",
       "      <td>9744772.0</td>\n",
       "      <td>9956318.0</td>\n",
       "      <td>...</td>\n",
       "      <td>32269592.0</td>\n",
       "      <td>33370804.0</td>\n",
       "      <td>34413603.0</td>\n",
       "      <td>35383028.0</td>\n",
       "      <td>36296111.0</td>\n",
       "      <td>37171922.0</td>\n",
       "      <td>38041757.0</td>\n",
       "      <td>38928341.0</td>\n",
       "      <td>39835428.0</td>\n",
       "      <td>NaN</td>\n",
       "    </tr>\n",
       "    <tr>\n",
       "      <th>3</th>\n",
       "      <td>Africa Western and Central</td>\n",
       "      <td>AFW</td>\n",
       "      <td>Population, total</td>\n",
       "      <td>SP.POP.TOTL</td>\n",
       "      <td>96396419.0</td>\n",
       "      <td>98407221.0</td>\n",
       "      <td>100506960.0</td>\n",
       "      <td>102691339.0</td>\n",
       "      <td>104953470.0</td>\n",
       "      <td>107289875.0</td>\n",
       "      <td>...</td>\n",
       "      <td>380437896.0</td>\n",
       "      <td>390882979.0</td>\n",
       "      <td>401586651.0</td>\n",
       "      <td>412551299.0</td>\n",
       "      <td>423769930.0</td>\n",
       "      <td>435229381.0</td>\n",
       "      <td>446911598.0</td>\n",
       "      <td>458803476.0</td>\n",
       "      <td>470898870.0</td>\n",
       "      <td>NaN</td>\n",
       "    </tr>\n",
       "    <tr>\n",
       "      <th>4</th>\n",
       "      <td>Angola</td>\n",
       "      <td>AGO</td>\n",
       "      <td>Population, total</td>\n",
       "      <td>SP.POP.TOTL</td>\n",
       "      <td>5454938.0</td>\n",
       "      <td>5531451.0</td>\n",
       "      <td>5608499.0</td>\n",
       "      <td>5679409.0</td>\n",
       "      <td>5734995.0</td>\n",
       "      <td>5770573.0</td>\n",
       "      <td>...</td>\n",
       "      <td>26015786.0</td>\n",
       "      <td>26941773.0</td>\n",
       "      <td>27884380.0</td>\n",
       "      <td>28842482.0</td>\n",
       "      <td>29816769.0</td>\n",
       "      <td>30809787.0</td>\n",
       "      <td>31825299.0</td>\n",
       "      <td>32866268.0</td>\n",
       "      <td>33933611.0</td>\n",
       "      <td>NaN</td>\n",
       "    </tr>\n",
       "  </tbody>\n",
       "</table>\n",
       "<p>5 rows × 67 columns</p>\n",
       "</div>"
      ],
      "text/plain": [
       "                  Country Name Country Code     Indicator Name Indicator Code  \\\n",
       "0                        Aruba          ABW  Population, total    SP.POP.TOTL   \n",
       "1  Africa Eastern and Southern          AFE  Population, total    SP.POP.TOTL   \n",
       "2                  Afghanistan          AFG  Population, total    SP.POP.TOTL   \n",
       "3   Africa Western and Central          AFW  Population, total    SP.POP.TOTL   \n",
       "4                       Angola          AGO  Population, total    SP.POP.TOTL   \n",
       "\n",
       "          1960         1961         1962         1963         1964  \\\n",
       "0      54208.0      55434.0      56234.0      56699.0      57029.0   \n",
       "1  130836765.0  134159786.0  137614644.0  141202036.0  144920186.0   \n",
       "2    8996967.0    9169406.0    9351442.0    9543200.0    9744772.0   \n",
       "3   96396419.0   98407221.0  100506960.0  102691339.0  104953470.0   \n",
       "4    5454938.0    5531451.0    5608499.0    5679409.0    5734995.0   \n",
       "\n",
       "          1965  ...         2013         2014         2015         2016  \\\n",
       "0      57357.0  ...     103165.0     103776.0     104339.0     104865.0   \n",
       "1  148769974.0  ...  562601578.0  578075373.0  593871847.0  609978946.0   \n",
       "2    9956318.0  ...   32269592.0   33370804.0   34413603.0   35383028.0   \n",
       "3  107289875.0  ...  380437896.0  390882979.0  401586651.0  412551299.0   \n",
       "4    5770573.0  ...   26015786.0   26941773.0   27884380.0   28842482.0   \n",
       "\n",
       "          2017         2018         2019         2020         2021  \\\n",
       "0     105361.0     105846.0     106310.0     106766.0     107195.0   \n",
       "1  626392880.0  643090131.0  660046272.0  677243299.0  694665117.0   \n",
       "2   36296111.0   37171922.0   38041757.0   38928341.0   39835428.0   \n",
       "3  423769930.0  435229381.0  446911598.0  458803476.0  470898870.0   \n",
       "4   29816769.0   30809787.0   31825299.0   32866268.0   33933611.0   \n",
       "\n",
       "   Unnamed: 66  \n",
       "0          NaN  \n",
       "1          NaN  \n",
       "2          NaN  \n",
       "3          NaN  \n",
       "4          NaN  \n",
       "\n",
       "[5 rows x 67 columns]"
      ]
     },
     "execution_count": 28,
     "metadata": {},
     "output_type": "execute_result"
    }
   ],
   "source": [
    "pop_2016.head()"
   ]
  },
  {
   "cell_type": "markdown",
   "id": "0edbd89f",
   "metadata": {},
   "source": [
    "Define constants for Greenhouse Warming Potential and global values for $CO_{2}$, $CH_{4}$ and $N_{2}O$ emissions"
   ]
  },
  {
   "cell_type": "code",
   "execution_count": 29,
   "id": "60fa096e",
   "metadata": {
    "ExecuteTime": {
     "end_time": "2022-07-25T03:00:55.662934Z",
     "start_time": "2022-07-25T03:00:55.652171Z"
    }
   },
   "outputs": [],
   "source": [
    "CH4_GWP = 21\n",
    "N2O_GWP = 310\n",
    "WLD_CO2 = co2_2016[co2_2016['Country Name'] == 'World']['2016']\n",
    "WLD_CH4 = ch4_2016[ch4_2016['Country Name'] == 'World']['2016']\n",
    "WLD_N2O = n2o_2016[n2o_2016['Country Name'] == 'World']['2016']\n",
    "WLD_POP = pop_2016[pop_2016['Country Name'] == 'World']['2016']"
   ]
  },
  {
   "cell_type": "code",
   "execution_count": 30,
   "id": "5b5b1cd8",
   "metadata": {
    "ExecuteTime": {
     "end_time": "2022-07-25T03:00:55.678023Z",
     "start_time": "2022-07-25T03:00:55.664262Z"
    }
   },
   "outputs": [],
   "source": [
    "merged_2016 = pd.merge(merged_2016,co2_2016[['Country Code', '2016']],on='Country Code', how='left')\n",
    "merged_2016.rename(columns={\"2016\": \"2016_co2\"}, inplace=True)"
   ]
  },
  {
   "cell_type": "code",
   "execution_count": 31,
   "id": "4c27184f",
   "metadata": {
    "ExecuteTime": {
     "end_time": "2022-07-25T03:00:55.692053Z",
     "start_time": "2022-07-25T03:00:55.679266Z"
    }
   },
   "outputs": [],
   "source": [
    "merged_2016 = pd.merge(merged_2016,ch4_2016[['Country Code', '2016']],on='Country Code', how='left')\n",
    "merged_2016.rename(columns={\"2016\": \"2016_ch4\"}, inplace=True)"
   ]
  },
  {
   "cell_type": "code",
   "execution_count": 32,
   "id": "6a3dbcb3",
   "metadata": {
    "ExecuteTime": {
     "end_time": "2022-07-25T03:00:55.703774Z",
     "start_time": "2022-07-25T03:00:55.693334Z"
    }
   },
   "outputs": [],
   "source": [
    "merged_2016 = pd.merge(merged_2016,n2o_2016[['Country Code', '2016']],on='Country Code', how='left')\n",
    "merged_2016.rename(columns={\"2016\": \"2016_n2o\"}, inplace=True)"
   ]
  },
  {
   "cell_type": "code",
   "execution_count": 33,
   "id": "16b43a8b",
   "metadata": {
    "ExecuteTime": {
     "end_time": "2022-07-25T03:00:55.716979Z",
     "start_time": "2022-07-25T03:00:55.704893Z"
    }
   },
   "outputs": [],
   "source": [
    "merged_2016 = pd.merge(merged_2016,pop_2016[['Country Code', '2016']],on='Country Code', how='left')\n",
    "merged_2016.rename(columns={\"2016\": \"2016_pop\"}, inplace=True)"
   ]
  },
  {
   "cell_type": "code",
   "execution_count": 34,
   "id": "1fde599a",
   "metadata": {
    "ExecuteTime": {
     "end_time": "2022-07-25T03:00:55.736229Z",
     "start_time": "2022-07-25T03:00:55.718330Z"
    },
    "scrolled": true
   },
   "outputs": [
    {
     "data": {
      "text/html": [
       "<div>\n",
       "<style scoped>\n",
       "    .dataframe tbody tr th:only-of-type {\n",
       "        vertical-align: middle;\n",
       "    }\n",
       "\n",
       "    .dataframe tbody tr th {\n",
       "        vertical-align: top;\n",
       "    }\n",
       "\n",
       "    .dataframe thead th {\n",
       "        text-align: right;\n",
       "    }\n",
       "</style>\n",
       "<table border=\"1\" class=\"dataframe\">\n",
       "  <thead>\n",
       "    <tr style=\"text-align: right;\">\n",
       "      <th></th>\n",
       "      <th>Country</th>\n",
       "      <th>Region</th>\n",
       "      <th>Happiness Score</th>\n",
       "      <th>Economy (GDP per Capita)</th>\n",
       "      <th>Family</th>\n",
       "      <th>Health (Life Expectancy)</th>\n",
       "      <th>Freedom</th>\n",
       "      <th>Trust (Government Corruption)</th>\n",
       "      <th>Generosity</th>\n",
       "      <th>Dystopia Residual</th>\n",
       "      <th>Country Code</th>\n",
       "      <th>2016_lifeexp</th>\n",
       "      <th>NHLY</th>\n",
       "      <th>2016_co2</th>\n",
       "      <th>2016_ch4</th>\n",
       "      <th>2016_n2o</th>\n",
       "      <th>2016_pop</th>\n",
       "    </tr>\n",
       "  </thead>\n",
       "  <tbody>\n",
       "    <tr>\n",
       "      <th>0</th>\n",
       "      <td>Denmark</td>\n",
       "      <td>Western Europe</td>\n",
       "      <td>7.526</td>\n",
       "      <td>1.44178</td>\n",
       "      <td>1.16374</td>\n",
       "      <td>0.79504</td>\n",
       "      <td>0.57941</td>\n",
       "      <td>0.44453</td>\n",
       "      <td>0.36171</td>\n",
       "      <td>2.73939</td>\n",
       "      <td>DNK</td>\n",
       "      <td>80.853659</td>\n",
       "      <td>20.423634</td>\n",
       "      <td>35380.0</td>\n",
       "      <td>7170.0</td>\n",
       "      <td>5080.0</td>\n",
       "      <td>5728010.0</td>\n",
       "    </tr>\n",
       "    <tr>\n",
       "      <th>1</th>\n",
       "      <td>Switzerland</td>\n",
       "      <td>Western Europe</td>\n",
       "      <td>7.509</td>\n",
       "      <td>1.52733</td>\n",
       "      <td>1.14524</td>\n",
       "      <td>0.86303</td>\n",
       "      <td>0.58557</td>\n",
       "      <td>0.41203</td>\n",
       "      <td>0.28083</td>\n",
       "      <td>2.69463</td>\n",
       "      <td>CHE</td>\n",
       "      <td>83.602439</td>\n",
       "      <td>20.975852</td>\n",
       "      <td>39610.0</td>\n",
       "      <td>4860.0</td>\n",
       "      <td>2190.0</td>\n",
       "      <td>8373338.0</td>\n",
       "    </tr>\n",
       "    <tr>\n",
       "      <th>2</th>\n",
       "      <td>Iceland</td>\n",
       "      <td>Western Europe</td>\n",
       "      <td>7.501</td>\n",
       "      <td>1.42666</td>\n",
       "      <td>1.18326</td>\n",
       "      <td>0.86733</td>\n",
       "      <td>0.56624</td>\n",
       "      <td>0.14975</td>\n",
       "      <td>0.47678</td>\n",
       "      <td>2.83137</td>\n",
       "      <td>ISL</td>\n",
       "      <td>82.204878</td>\n",
       "      <td>20.559440</td>\n",
       "      <td>2070.0</td>\n",
       "      <td>550.0</td>\n",
       "      <td>400.0</td>\n",
       "      <td>335439.0</td>\n",
       "    </tr>\n",
       "    <tr>\n",
       "      <th>3</th>\n",
       "      <td>Norway</td>\n",
       "      <td>Western Europe</td>\n",
       "      <td>7.498</td>\n",
       "      <td>1.57744</td>\n",
       "      <td>1.12690</td>\n",
       "      <td>0.79579</td>\n",
       "      <td>0.59609</td>\n",
       "      <td>0.35776</td>\n",
       "      <td>0.37895</td>\n",
       "      <td>2.66465</td>\n",
       "      <td>NOR</td>\n",
       "      <td>82.407317</td>\n",
       "      <td>20.585348</td>\n",
       "      <td>37950.0</td>\n",
       "      <td>4990.0</td>\n",
       "      <td>3220.0</td>\n",
       "      <td>5234519.0</td>\n",
       "    </tr>\n",
       "    <tr>\n",
       "      <th>4</th>\n",
       "      <td>Finland</td>\n",
       "      <td>Western Europe</td>\n",
       "      <td>7.413</td>\n",
       "      <td>1.40598</td>\n",
       "      <td>1.13464</td>\n",
       "      <td>0.81091</td>\n",
       "      <td>0.57104</td>\n",
       "      <td>0.41004</td>\n",
       "      <td>0.25492</td>\n",
       "      <td>2.82596</td>\n",
       "      <td>FIN</td>\n",
       "      <td>81.429268</td>\n",
       "      <td>19.648882</td>\n",
       "      <td>45710.0</td>\n",
       "      <td>4470.0</td>\n",
       "      <td>4650.0</td>\n",
       "      <td>5495303.0</td>\n",
       "    </tr>\n",
       "  </tbody>\n",
       "</table>\n",
       "</div>"
      ],
      "text/plain": [
       "       Country          Region  Happiness Score  Economy (GDP per Capita)  \\\n",
       "0      Denmark  Western Europe            7.526                   1.44178   \n",
       "1  Switzerland  Western Europe            7.509                   1.52733   \n",
       "2      Iceland  Western Europe            7.501                   1.42666   \n",
       "3       Norway  Western Europe            7.498                   1.57744   \n",
       "4      Finland  Western Europe            7.413                   1.40598   \n",
       "\n",
       "    Family  Health (Life Expectancy)  Freedom  Trust (Government Corruption)  \\\n",
       "0  1.16374                   0.79504  0.57941                        0.44453   \n",
       "1  1.14524                   0.86303  0.58557                        0.41203   \n",
       "2  1.18326                   0.86733  0.56624                        0.14975   \n",
       "3  1.12690                   0.79579  0.59609                        0.35776   \n",
       "4  1.13464                   0.81091  0.57104                        0.41004   \n",
       "\n",
       "   Generosity  Dystopia Residual Country Code  2016_lifeexp       NHLY  \\\n",
       "0     0.36171            2.73939          DNK     80.853659  20.423634   \n",
       "1     0.28083            2.69463          CHE     83.602439  20.975852   \n",
       "2     0.47678            2.83137          ISL     82.204878  20.559440   \n",
       "3     0.37895            2.66465          NOR     82.407317  20.585348   \n",
       "4     0.25492            2.82596          FIN     81.429268  19.648882   \n",
       "\n",
       "   2016_co2  2016_ch4  2016_n2o   2016_pop  \n",
       "0   35380.0    7170.0    5080.0  5728010.0  \n",
       "1   39610.0    4860.0    2190.0  8373338.0  \n",
       "2    2070.0     550.0     400.0   335439.0  \n",
       "3   37950.0    4990.0    3220.0  5234519.0  \n",
       "4   45710.0    4470.0    4650.0  5495303.0  "
      ]
     },
     "execution_count": 34,
     "metadata": {},
     "output_type": "execute_result"
    }
   ],
   "source": [
    "merged_2016.head()"
   ]
  },
  {
   "cell_type": "code",
   "execution_count": 35,
   "id": "af386f4f",
   "metadata": {
    "ExecuteTime": {
     "end_time": "2022-07-25T03:00:55.755145Z",
     "start_time": "2022-07-25T03:00:55.737318Z"
    }
   },
   "outputs": [
    {
     "data": {
      "text/html": [
       "<div>\n",
       "<style scoped>\n",
       "    .dataframe tbody tr th:only-of-type {\n",
       "        vertical-align: middle;\n",
       "    }\n",
       "\n",
       "    .dataframe tbody tr th {\n",
       "        vertical-align: top;\n",
       "    }\n",
       "\n",
       "    .dataframe thead th {\n",
       "        text-align: right;\n",
       "    }\n",
       "</style>\n",
       "<table border=\"1\" class=\"dataframe\">\n",
       "  <thead>\n",
       "    <tr style=\"text-align: right;\">\n",
       "      <th></th>\n",
       "      <th>Country Name</th>\n",
       "      <th>Country Code</th>\n",
       "      <th>Indicator Name</th>\n",
       "      <th>Indicator Code</th>\n",
       "      <th>1960</th>\n",
       "      <th>1961</th>\n",
       "      <th>1962</th>\n",
       "      <th>1963</th>\n",
       "      <th>1964</th>\n",
       "      <th>1965</th>\n",
       "      <th>...</th>\n",
       "      <th>2013</th>\n",
       "      <th>2014</th>\n",
       "      <th>2015</th>\n",
       "      <th>2016</th>\n",
       "      <th>2017</th>\n",
       "      <th>2018</th>\n",
       "      <th>2019</th>\n",
       "      <th>2020</th>\n",
       "      <th>2021</th>\n",
       "      <th>Unnamed: 66</th>\n",
       "    </tr>\n",
       "  </thead>\n",
       "  <tbody>\n",
       "    <tr>\n",
       "      <th>58</th>\n",
       "      <td>Denmark</td>\n",
       "      <td>DNK</td>\n",
       "      <td>CO2 emissions (kt)</td>\n",
       "      <td>EN.ATM.CO2E.KT</td>\n",
       "      <td>NaN</td>\n",
       "      <td>NaN</td>\n",
       "      <td>NaN</td>\n",
       "      <td>NaN</td>\n",
       "      <td>NaN</td>\n",
       "      <td>NaN</td>\n",
       "      <td>...</td>\n",
       "      <td>39980.0</td>\n",
       "      <td>35760.0</td>\n",
       "      <td>33600.0</td>\n",
       "      <td>35380.0</td>\n",
       "      <td>33330.0</td>\n",
       "      <td>33380.0</td>\n",
       "      <td>NaN</td>\n",
       "      <td>NaN</td>\n",
       "      <td>NaN</td>\n",
       "      <td>NaN</td>\n",
       "    </tr>\n",
       "  </tbody>\n",
       "</table>\n",
       "<p>1 rows × 67 columns</p>\n",
       "</div>"
      ],
      "text/plain": [
       "   Country Name Country Code      Indicator Name  Indicator Code  1960  1961  \\\n",
       "58      Denmark          DNK  CO2 emissions (kt)  EN.ATM.CO2E.KT   NaN   NaN   \n",
       "\n",
       "    1962  1963  1964  1965  ...     2013     2014     2015     2016     2017  \\\n",
       "58   NaN   NaN   NaN   NaN  ...  39980.0  35760.0  33600.0  35380.0  33330.0   \n",
       "\n",
       "       2018  2019  2020  2021  Unnamed: 66  \n",
       "58  33380.0   NaN   NaN   NaN          NaN  \n",
       "\n",
       "[1 rows x 67 columns]"
      ]
     },
     "execution_count": 35,
     "metadata": {},
     "output_type": "execute_result"
    }
   ],
   "source": [
    "co2_2016[co2_2016['Country Code'] == 'DNK']"
   ]
  },
  {
   "cell_type": "code",
   "execution_count": 36,
   "id": "a79b01c1",
   "metadata": {
    "ExecuteTime": {
     "end_time": "2022-07-25T03:00:55.766933Z",
     "start_time": "2022-07-25T03:00:55.756310Z"
    }
   },
   "outputs": [
    {
     "name": "stdout",
     "output_type": "stream",
     "text": [
      "<class 'float'>\n"
     ]
    }
   ],
   "source": [
    "total_greenhouse_gases_country = merged_2016['2016_co2'] + merged_2016['2016_ch4'] * CH4_GWP + merged_2016['2016_n2o'] * N2O_GWP\n",
    "total_greenhouse_gases_world = WLD_CO2 + WLD_CH4 * CH4_GWP + WLD_N2O * N2O_GWP\n",
    "total_greenhouse_gases_world = float(total_greenhouse_gases_world)\n",
    "print(type(total_greenhouse_gases_world))"
   ]
  },
  {
   "cell_type": "code",
   "execution_count": 37,
   "id": "3bcd9079",
   "metadata": {
    "ExecuteTime": {
     "end_time": "2022-07-25T03:00:55.779505Z",
     "start_time": "2022-07-25T03:00:55.768115Z"
    }
   },
   "outputs": [],
   "source": [
    "merged_2016['2016_extcostratio'] = (total_greenhouse_gases_country / merged_2016['2016_pop']) / (total_greenhouse_gases_world / WLD_POP)"
   ]
  },
  {
   "cell_type": "code",
   "execution_count": 38,
   "id": "6e96dd80",
   "metadata": {
    "ExecuteTime": {
     "end_time": "2022-07-25T03:00:55.804844Z",
     "start_time": "2022-07-25T03:00:55.780639Z"
    }
   },
   "outputs": [
    {
     "data": {
      "text/html": [
       "<div>\n",
       "<style scoped>\n",
       "    .dataframe tbody tr th:only-of-type {\n",
       "        vertical-align: middle;\n",
       "    }\n",
       "\n",
       "    .dataframe tbody tr th {\n",
       "        vertical-align: top;\n",
       "    }\n",
       "\n",
       "    .dataframe thead th {\n",
       "        text-align: right;\n",
       "    }\n",
       "</style>\n",
       "<table border=\"1\" class=\"dataframe\">\n",
       "  <thead>\n",
       "    <tr style=\"text-align: right;\">\n",
       "      <th></th>\n",
       "      <th>Country</th>\n",
       "      <th>Region</th>\n",
       "      <th>Happiness Score</th>\n",
       "      <th>Economy (GDP per Capita)</th>\n",
       "      <th>Family</th>\n",
       "      <th>Health (Life Expectancy)</th>\n",
       "      <th>Freedom</th>\n",
       "      <th>Trust (Government Corruption)</th>\n",
       "      <th>Generosity</th>\n",
       "      <th>Dystopia Residual</th>\n",
       "      <th>Country Code</th>\n",
       "      <th>2016_lifeexp</th>\n",
       "      <th>NHLY</th>\n",
       "      <th>2016_co2</th>\n",
       "      <th>2016_ch4</th>\n",
       "      <th>2016_n2o</th>\n",
       "      <th>2016_pop</th>\n",
       "      <th>2016_extcostratio</th>\n",
       "    </tr>\n",
       "  </thead>\n",
       "  <tbody>\n",
       "    <tr>\n",
       "      <th>0</th>\n",
       "      <td>Denmark</td>\n",
       "      <td>Western Europe</td>\n",
       "      <td>7.526</td>\n",
       "      <td>1.44178</td>\n",
       "      <td>1.16374</td>\n",
       "      <td>0.79504</td>\n",
       "      <td>0.57941</td>\n",
       "      <td>0.44453</td>\n",
       "      <td>0.36171</td>\n",
       "      <td>2.73939</td>\n",
       "      <td>DNK</td>\n",
       "      <td>80.853659</td>\n",
       "      <td>20.423634</td>\n",
       "      <td>35380.0</td>\n",
       "      <td>7170.0</td>\n",
       "      <td>5080.0</td>\n",
       "      <td>5728010.0</td>\n",
       "      <td>NaN</td>\n",
       "    </tr>\n",
       "    <tr>\n",
       "      <th>1</th>\n",
       "      <td>Switzerland</td>\n",
       "      <td>Western Europe</td>\n",
       "      <td>7.509</td>\n",
       "      <td>1.52733</td>\n",
       "      <td>1.14524</td>\n",
       "      <td>0.86303</td>\n",
       "      <td>0.58557</td>\n",
       "      <td>0.41203</td>\n",
       "      <td>0.28083</td>\n",
       "      <td>2.69463</td>\n",
       "      <td>CHE</td>\n",
       "      <td>83.602439</td>\n",
       "      <td>20.975852</td>\n",
       "      <td>39610.0</td>\n",
       "      <td>4860.0</td>\n",
       "      <td>2190.0</td>\n",
       "      <td>8373338.0</td>\n",
       "      <td>NaN</td>\n",
       "    </tr>\n",
       "    <tr>\n",
       "      <th>2</th>\n",
       "      <td>Iceland</td>\n",
       "      <td>Western Europe</td>\n",
       "      <td>7.501</td>\n",
       "      <td>1.42666</td>\n",
       "      <td>1.18326</td>\n",
       "      <td>0.86733</td>\n",
       "      <td>0.56624</td>\n",
       "      <td>0.14975</td>\n",
       "      <td>0.47678</td>\n",
       "      <td>2.83137</td>\n",
       "      <td>ISL</td>\n",
       "      <td>82.204878</td>\n",
       "      <td>20.559440</td>\n",
       "      <td>2070.0</td>\n",
       "      <td>550.0</td>\n",
       "      <td>400.0</td>\n",
       "      <td>335439.0</td>\n",
       "      <td>NaN</td>\n",
       "    </tr>\n",
       "    <tr>\n",
       "      <th>3</th>\n",
       "      <td>Norway</td>\n",
       "      <td>Western Europe</td>\n",
       "      <td>7.498</td>\n",
       "      <td>1.57744</td>\n",
       "      <td>1.12690</td>\n",
       "      <td>0.79579</td>\n",
       "      <td>0.59609</td>\n",
       "      <td>0.35776</td>\n",
       "      <td>0.37895</td>\n",
       "      <td>2.66465</td>\n",
       "      <td>NOR</td>\n",
       "      <td>82.407317</td>\n",
       "      <td>20.585348</td>\n",
       "      <td>37950.0</td>\n",
       "      <td>4990.0</td>\n",
       "      <td>3220.0</td>\n",
       "      <td>5234519.0</td>\n",
       "      <td>NaN</td>\n",
       "    </tr>\n",
       "    <tr>\n",
       "      <th>4</th>\n",
       "      <td>Finland</td>\n",
       "      <td>Western Europe</td>\n",
       "      <td>7.413</td>\n",
       "      <td>1.40598</td>\n",
       "      <td>1.13464</td>\n",
       "      <td>0.81091</td>\n",
       "      <td>0.57104</td>\n",
       "      <td>0.41004</td>\n",
       "      <td>0.25492</td>\n",
       "      <td>2.82596</td>\n",
       "      <td>FIN</td>\n",
       "      <td>81.429268</td>\n",
       "      <td>19.648882</td>\n",
       "      <td>45710.0</td>\n",
       "      <td>4470.0</td>\n",
       "      <td>4650.0</td>\n",
       "      <td>5495303.0</td>\n",
       "      <td>NaN</td>\n",
       "    </tr>\n",
       "    <tr>\n",
       "      <th>...</th>\n",
       "      <td>...</td>\n",
       "      <td>...</td>\n",
       "      <td>...</td>\n",
       "      <td>...</td>\n",
       "      <td>...</td>\n",
       "      <td>...</td>\n",
       "      <td>...</td>\n",
       "      <td>...</td>\n",
       "      <td>...</td>\n",
       "      <td>...</td>\n",
       "      <td>...</td>\n",
       "      <td>...</td>\n",
       "      <td>...</td>\n",
       "      <td>...</td>\n",
       "      <td>...</td>\n",
       "      <td>...</td>\n",
       "      <td>...</td>\n",
       "      <td>...</td>\n",
       "    </tr>\n",
       "    <tr>\n",
       "      <th>152</th>\n",
       "      <td>Benin</td>\n",
       "      <td>Sub-Saharan Africa</td>\n",
       "      <td>3.484</td>\n",
       "      <td>0.39499</td>\n",
       "      <td>0.10419</td>\n",
       "      <td>0.21028</td>\n",
       "      <td>0.39747</td>\n",
       "      <td>0.06681</td>\n",
       "      <td>0.20180</td>\n",
       "      <td>2.10812</td>\n",
       "      <td>BEN</td>\n",
       "      <td>60.885000</td>\n",
       "      <td>-9.230166</td>\n",
       "      <td>7230.0</td>\n",
       "      <td>5380.0</td>\n",
       "      <td>2670.0</td>\n",
       "      <td>10872072.0</td>\n",
       "      <td>NaN</td>\n",
       "    </tr>\n",
       "    <tr>\n",
       "      <th>153</th>\n",
       "      <td>Afghanistan</td>\n",
       "      <td>Southern Asia</td>\n",
       "      <td>3.360</td>\n",
       "      <td>0.38227</td>\n",
       "      <td>0.11037</td>\n",
       "      <td>0.17344</td>\n",
       "      <td>0.16430</td>\n",
       "      <td>0.07112</td>\n",
       "      <td>0.31268</td>\n",
       "      <td>2.14558</td>\n",
       "      <td>AFG</td>\n",
       "      <td>63.763000</td>\n",
       "      <td>-10.457132</td>\n",
       "      <td>7390.0</td>\n",
       "      <td>78150.0</td>\n",
       "      <td>9120.0</td>\n",
       "      <td>35383028.0</td>\n",
       "      <td>NaN</td>\n",
       "    </tr>\n",
       "    <tr>\n",
       "      <th>154</th>\n",
       "      <td>Togo</td>\n",
       "      <td>Sub-Saharan Africa</td>\n",
       "      <td>3.303</td>\n",
       "      <td>0.28123</td>\n",
       "      <td>0.00000</td>\n",
       "      <td>0.24811</td>\n",
       "      <td>0.34678</td>\n",
       "      <td>0.11587</td>\n",
       "      <td>0.17517</td>\n",
       "      <td>2.13540</td>\n",
       "      <td>TGO</td>\n",
       "      <td>60.220000</td>\n",
       "      <td>-10.219334</td>\n",
       "      <td>2300.0</td>\n",
       "      <td>3370.0</td>\n",
       "      <td>1860.0</td>\n",
       "      <td>7509952.0</td>\n",
       "      <td>NaN</td>\n",
       "    </tr>\n",
       "    <tr>\n",
       "      <th>155</th>\n",
       "      <td>Syria</td>\n",
       "      <td>Middle East and Northern Africa</td>\n",
       "      <td>3.069</td>\n",
       "      <td>0.74719</td>\n",
       "      <td>0.14866</td>\n",
       "      <td>0.62994</td>\n",
       "      <td>0.06912</td>\n",
       "      <td>0.17233</td>\n",
       "      <td>0.48397</td>\n",
       "      <td>0.81789</td>\n",
       "      <td>SYR</td>\n",
       "      <td>70.315000</td>\n",
       "      <td>-13.577827</td>\n",
       "      <td>26460.0</td>\n",
       "      <td>12900.0</td>\n",
       "      <td>3370.0</td>\n",
       "      <td>17465567.0</td>\n",
       "      <td>NaN</td>\n",
       "    </tr>\n",
       "    <tr>\n",
       "      <th>156</th>\n",
       "      <td>Burundi</td>\n",
       "      <td>Sub-Saharan Africa</td>\n",
       "      <td>2.905</td>\n",
       "      <td>0.06831</td>\n",
       "      <td>0.23442</td>\n",
       "      <td>0.15747</td>\n",
       "      <td>0.04320</td>\n",
       "      <td>0.09419</td>\n",
       "      <td>0.20290</td>\n",
       "      <td>2.10404</td>\n",
       "      <td>BDI</td>\n",
       "      <td>60.528000</td>\n",
       "      <td>-12.680616</td>\n",
       "      <td>460.0</td>\n",
       "      <td>1860.0</td>\n",
       "      <td>2090.0</td>\n",
       "      <td>10488002.0</td>\n",
       "      <td>NaN</td>\n",
       "    </tr>\n",
       "  </tbody>\n",
       "</table>\n",
       "<p>157 rows × 18 columns</p>\n",
       "</div>"
      ],
      "text/plain": [
       "         Country                           Region  Happiness Score  \\\n",
       "0        Denmark                   Western Europe            7.526   \n",
       "1    Switzerland                   Western Europe            7.509   \n",
       "2        Iceland                   Western Europe            7.501   \n",
       "3         Norway                   Western Europe            7.498   \n",
       "4        Finland                   Western Europe            7.413   \n",
       "..           ...                              ...              ...   \n",
       "152        Benin               Sub-Saharan Africa            3.484   \n",
       "153  Afghanistan                    Southern Asia            3.360   \n",
       "154         Togo               Sub-Saharan Africa            3.303   \n",
       "155        Syria  Middle East and Northern Africa            3.069   \n",
       "156      Burundi               Sub-Saharan Africa            2.905   \n",
       "\n",
       "     Economy (GDP per Capita)   Family  Health (Life Expectancy)  Freedom  \\\n",
       "0                     1.44178  1.16374                   0.79504  0.57941   \n",
       "1                     1.52733  1.14524                   0.86303  0.58557   \n",
       "2                     1.42666  1.18326                   0.86733  0.56624   \n",
       "3                     1.57744  1.12690                   0.79579  0.59609   \n",
       "4                     1.40598  1.13464                   0.81091  0.57104   \n",
       "..                        ...      ...                       ...      ...   \n",
       "152                   0.39499  0.10419                   0.21028  0.39747   \n",
       "153                   0.38227  0.11037                   0.17344  0.16430   \n",
       "154                   0.28123  0.00000                   0.24811  0.34678   \n",
       "155                   0.74719  0.14866                   0.62994  0.06912   \n",
       "156                   0.06831  0.23442                   0.15747  0.04320   \n",
       "\n",
       "     Trust (Government Corruption)  Generosity  Dystopia Residual  \\\n",
       "0                          0.44453     0.36171            2.73939   \n",
       "1                          0.41203     0.28083            2.69463   \n",
       "2                          0.14975     0.47678            2.83137   \n",
       "3                          0.35776     0.37895            2.66465   \n",
       "4                          0.41004     0.25492            2.82596   \n",
       "..                             ...         ...                ...   \n",
       "152                        0.06681     0.20180            2.10812   \n",
       "153                        0.07112     0.31268            2.14558   \n",
       "154                        0.11587     0.17517            2.13540   \n",
       "155                        0.17233     0.48397            0.81789   \n",
       "156                        0.09419     0.20290            2.10404   \n",
       "\n",
       "    Country Code  2016_lifeexp       NHLY  2016_co2  2016_ch4  2016_n2o  \\\n",
       "0            DNK     80.853659  20.423634   35380.0    7170.0    5080.0   \n",
       "1            CHE     83.602439  20.975852   39610.0    4860.0    2190.0   \n",
       "2            ISL     82.204878  20.559440    2070.0     550.0     400.0   \n",
       "3            NOR     82.407317  20.585348   37950.0    4990.0    3220.0   \n",
       "4            FIN     81.429268  19.648882   45710.0    4470.0    4650.0   \n",
       "..           ...           ...        ...       ...       ...       ...   \n",
       "152          BEN     60.885000  -9.230166    7230.0    5380.0    2670.0   \n",
       "153          AFG     63.763000 -10.457132    7390.0   78150.0    9120.0   \n",
       "154          TGO     60.220000 -10.219334    2300.0    3370.0    1860.0   \n",
       "155          SYR     70.315000 -13.577827   26460.0   12900.0    3370.0   \n",
       "156          BDI     60.528000 -12.680616     460.0    1860.0    2090.0   \n",
       "\n",
       "       2016_pop  2016_extcostratio  \n",
       "0     5728010.0                NaN  \n",
       "1     8373338.0                NaN  \n",
       "2      335439.0                NaN  \n",
       "3     5234519.0                NaN  \n",
       "4     5495303.0                NaN  \n",
       "..          ...                ...  \n",
       "152  10872072.0                NaN  \n",
       "153  35383028.0                NaN  \n",
       "154   7509952.0                NaN  \n",
       "155  17465567.0                NaN  \n",
       "156  10488002.0                NaN  \n",
       "\n",
       "[157 rows x 18 columns]"
      ]
     },
     "execution_count": 38,
     "metadata": {},
     "output_type": "execute_result"
    }
   ],
   "source": [
    "merged_2016"
   ]
  },
  {
   "cell_type": "code",
   "execution_count": 39,
   "id": "500c4b27",
   "metadata": {
    "ExecuteTime": {
     "end_time": "2022-07-25T03:00:55.814664Z",
     "start_time": "2022-07-25T03:00:55.806101Z"
    }
   },
   "outputs": [],
   "source": [
    "merged_2016['2016_extcostratio'] = total_greenhouse_gases_country / merged_2016['2016_pop'] / (int(total_greenhouse_gases_world) / int(WLD_POP))"
   ]
  },
  {
   "cell_type": "code",
   "execution_count": 40,
   "id": "c5755a33",
   "metadata": {
    "ExecuteTime": {
     "end_time": "2022-07-25T03:00:55.836732Z",
     "start_time": "2022-07-25T03:00:55.815934Z"
    },
    "scrolled": true
   },
   "outputs": [
    {
     "data": {
      "text/html": [
       "<div>\n",
       "<style scoped>\n",
       "    .dataframe tbody tr th:only-of-type {\n",
       "        vertical-align: middle;\n",
       "    }\n",
       "\n",
       "    .dataframe tbody tr th {\n",
       "        vertical-align: top;\n",
       "    }\n",
       "\n",
       "    .dataframe thead th {\n",
       "        text-align: right;\n",
       "    }\n",
       "</style>\n",
       "<table border=\"1\" class=\"dataframe\">\n",
       "  <thead>\n",
       "    <tr style=\"text-align: right;\">\n",
       "      <th></th>\n",
       "      <th>Country</th>\n",
       "      <th>Region</th>\n",
       "      <th>Happiness Score</th>\n",
       "      <th>Economy (GDP per Capita)</th>\n",
       "      <th>Family</th>\n",
       "      <th>Health (Life Expectancy)</th>\n",
       "      <th>Freedom</th>\n",
       "      <th>Trust (Government Corruption)</th>\n",
       "      <th>Generosity</th>\n",
       "      <th>Dystopia Residual</th>\n",
       "      <th>Country Code</th>\n",
       "      <th>2016_lifeexp</th>\n",
       "      <th>NHLY</th>\n",
       "      <th>2016_co2</th>\n",
       "      <th>2016_ch4</th>\n",
       "      <th>2016_n2o</th>\n",
       "      <th>2016_pop</th>\n",
       "      <th>2016_extcostratio</th>\n",
       "    </tr>\n",
       "  </thead>\n",
       "  <tbody>\n",
       "    <tr>\n",
       "      <th>0</th>\n",
       "      <td>Denmark</td>\n",
       "      <td>Western Europe</td>\n",
       "      <td>7.526</td>\n",
       "      <td>1.44178</td>\n",
       "      <td>1.16374</td>\n",
       "      <td>0.79504</td>\n",
       "      <td>0.57941</td>\n",
       "      <td>0.44453</td>\n",
       "      <td>0.36171</td>\n",
       "      <td>2.73939</td>\n",
       "      <td>DNK</td>\n",
       "      <td>80.853659</td>\n",
       "      <td>20.423634</td>\n",
       "      <td>35380.0</td>\n",
       "      <td>7170.0</td>\n",
       "      <td>5080.0</td>\n",
       "      <td>5728010.0</td>\n",
       "      <td>2.054713</td>\n",
       "    </tr>\n",
       "    <tr>\n",
       "      <th>1</th>\n",
       "      <td>Switzerland</td>\n",
       "      <td>Western Europe</td>\n",
       "      <td>7.509</td>\n",
       "      <td>1.52733</td>\n",
       "      <td>1.14524</td>\n",
       "      <td>0.86303</td>\n",
       "      <td>0.58557</td>\n",
       "      <td>0.41203</td>\n",
       "      <td>0.28083</td>\n",
       "      <td>2.69463</td>\n",
       "      <td>CHE</td>\n",
       "      <td>83.602439</td>\n",
       "      <td>20.975852</td>\n",
       "      <td>39610.0</td>\n",
       "      <td>4860.0</td>\n",
       "      <td>2190.0</td>\n",
       "      <td>8373338.0</td>\n",
       "      <td>0.655050</td>\n",
       "    </tr>\n",
       "    <tr>\n",
       "      <th>2</th>\n",
       "      <td>Iceland</td>\n",
       "      <td>Western Europe</td>\n",
       "      <td>7.501</td>\n",
       "      <td>1.42666</td>\n",
       "      <td>1.18326</td>\n",
       "      <td>0.86733</td>\n",
       "      <td>0.56624</td>\n",
       "      <td>0.14975</td>\n",
       "      <td>0.47678</td>\n",
       "      <td>2.83137</td>\n",
       "      <td>ISL</td>\n",
       "      <td>82.204878</td>\n",
       "      <td>20.559440</td>\n",
       "      <td>2070.0</td>\n",
       "      <td>550.0</td>\n",
       "      <td>400.0</td>\n",
       "      <td>335439.0</td>\n",
       "      <td>2.742365</td>\n",
       "    </tr>\n",
       "    <tr>\n",
       "      <th>3</th>\n",
       "      <td>Norway</td>\n",
       "      <td>Western Europe</td>\n",
       "      <td>7.498</td>\n",
       "      <td>1.57744</td>\n",
       "      <td>1.12690</td>\n",
       "      <td>0.79579</td>\n",
       "      <td>0.59609</td>\n",
       "      <td>0.35776</td>\n",
       "      <td>0.37895</td>\n",
       "      <td>2.66465</td>\n",
       "      <td>NOR</td>\n",
       "      <td>82.407317</td>\n",
       "      <td>20.585348</td>\n",
       "      <td>37950.0</td>\n",
       "      <td>4990.0</td>\n",
       "      <td>3220.0</td>\n",
       "      <td>5234519.0</td>\n",
       "      <td>1.456945</td>\n",
       "    </tr>\n",
       "    <tr>\n",
       "      <th>4</th>\n",
       "      <td>Finland</td>\n",
       "      <td>Western Europe</td>\n",
       "      <td>7.413</td>\n",
       "      <td>1.40598</td>\n",
       "      <td>1.13464</td>\n",
       "      <td>0.81091</td>\n",
       "      <td>0.57104</td>\n",
       "      <td>0.41004</td>\n",
       "      <td>0.25492</td>\n",
       "      <td>2.82596</td>\n",
       "      <td>FIN</td>\n",
       "      <td>81.429268</td>\n",
       "      <td>19.648882</td>\n",
       "      <td>45710.0</td>\n",
       "      <td>4470.0</td>\n",
       "      <td>4650.0</td>\n",
       "      <td>5495303.0</td>\n",
       "      <td>1.923178</td>\n",
       "    </tr>\n",
       "    <tr>\n",
       "      <th>...</th>\n",
       "      <td>...</td>\n",
       "      <td>...</td>\n",
       "      <td>...</td>\n",
       "      <td>...</td>\n",
       "      <td>...</td>\n",
       "      <td>...</td>\n",
       "      <td>...</td>\n",
       "      <td>...</td>\n",
       "      <td>...</td>\n",
       "      <td>...</td>\n",
       "      <td>...</td>\n",
       "      <td>...</td>\n",
       "      <td>...</td>\n",
       "      <td>...</td>\n",
       "      <td>...</td>\n",
       "      <td>...</td>\n",
       "      <td>...</td>\n",
       "      <td>...</td>\n",
       "    </tr>\n",
       "    <tr>\n",
       "      <th>152</th>\n",
       "      <td>Benin</td>\n",
       "      <td>Sub-Saharan Africa</td>\n",
       "      <td>3.484</td>\n",
       "      <td>0.39499</td>\n",
       "      <td>0.10419</td>\n",
       "      <td>0.21028</td>\n",
       "      <td>0.39747</td>\n",
       "      <td>0.06681</td>\n",
       "      <td>0.20180</td>\n",
       "      <td>2.10812</td>\n",
       "      <td>BEN</td>\n",
       "      <td>60.885000</td>\n",
       "      <td>-9.230166</td>\n",
       "      <td>7230.0</td>\n",
       "      <td>5380.0</td>\n",
       "      <td>2670.0</td>\n",
       "      <td>10872072.0</td>\n",
       "      <td>0.582790</td>\n",
       "    </tr>\n",
       "    <tr>\n",
       "      <th>153</th>\n",
       "      <td>Afghanistan</td>\n",
       "      <td>Southern Asia</td>\n",
       "      <td>3.360</td>\n",
       "      <td>0.38227</td>\n",
       "      <td>0.11037</td>\n",
       "      <td>0.17344</td>\n",
       "      <td>0.16430</td>\n",
       "      <td>0.07112</td>\n",
       "      <td>0.31268</td>\n",
       "      <td>2.14558</td>\n",
       "      <td>AFG</td>\n",
       "      <td>63.763000</td>\n",
       "      <td>-10.457132</td>\n",
       "      <td>7390.0</td>\n",
       "      <td>78150.0</td>\n",
       "      <td>9120.0</td>\n",
       "      <td>35383028.0</td>\n",
       "      <td>0.845526</td>\n",
       "    </tr>\n",
       "    <tr>\n",
       "      <th>154</th>\n",
       "      <td>Togo</td>\n",
       "      <td>Sub-Saharan Africa</td>\n",
       "      <td>3.303</td>\n",
       "      <td>0.28123</td>\n",
       "      <td>0.00000</td>\n",
       "      <td>0.24811</td>\n",
       "      <td>0.34678</td>\n",
       "      <td>0.11587</td>\n",
       "      <td>0.17517</td>\n",
       "      <td>2.13540</td>\n",
       "      <td>TGO</td>\n",
       "      <td>60.220000</td>\n",
       "      <td>-10.219334</td>\n",
       "      <td>2300.0</td>\n",
       "      <td>3370.0</td>\n",
       "      <td>1860.0</td>\n",
       "      <td>7509952.0</td>\n",
       "      <td>0.578246</td>\n",
       "    </tr>\n",
       "    <tr>\n",
       "      <th>155</th>\n",
       "      <td>Syria</td>\n",
       "      <td>Middle East and Northern Africa</td>\n",
       "      <td>3.069</td>\n",
       "      <td>0.74719</td>\n",
       "      <td>0.14866</td>\n",
       "      <td>0.62994</td>\n",
       "      <td>0.06912</td>\n",
       "      <td>0.17233</td>\n",
       "      <td>0.48397</td>\n",
       "      <td>0.81789</td>\n",
       "      <td>SYR</td>\n",
       "      <td>70.315000</td>\n",
       "      <td>-13.577827</td>\n",
       "      <td>26460.0</td>\n",
       "      <td>12900.0</td>\n",
       "      <td>3370.0</td>\n",
       "      <td>17465567.0</td>\n",
       "      <td>0.513625</td>\n",
       "    </tr>\n",
       "    <tr>\n",
       "      <th>156</th>\n",
       "      <td>Burundi</td>\n",
       "      <td>Sub-Saharan Africa</td>\n",
       "      <td>2.905</td>\n",
       "      <td>0.06831</td>\n",
       "      <td>0.23442</td>\n",
       "      <td>0.15747</td>\n",
       "      <td>0.04320</td>\n",
       "      <td>0.09419</td>\n",
       "      <td>0.20290</td>\n",
       "      <td>2.10404</td>\n",
       "      <td>BDI</td>\n",
       "      <td>60.528000</td>\n",
       "      <td>-12.680616</td>\n",
       "      <td>460.0</td>\n",
       "      <td>1860.0</td>\n",
       "      <td>2090.0</td>\n",
       "      <td>10488002.0</td>\n",
       "      <td>0.438113</td>\n",
       "    </tr>\n",
       "  </tbody>\n",
       "</table>\n",
       "<p>157 rows × 18 columns</p>\n",
       "</div>"
      ],
      "text/plain": [
       "         Country                           Region  Happiness Score  \\\n",
       "0        Denmark                   Western Europe            7.526   \n",
       "1    Switzerland                   Western Europe            7.509   \n",
       "2        Iceland                   Western Europe            7.501   \n",
       "3         Norway                   Western Europe            7.498   \n",
       "4        Finland                   Western Europe            7.413   \n",
       "..           ...                              ...              ...   \n",
       "152        Benin               Sub-Saharan Africa            3.484   \n",
       "153  Afghanistan                    Southern Asia            3.360   \n",
       "154         Togo               Sub-Saharan Africa            3.303   \n",
       "155        Syria  Middle East and Northern Africa            3.069   \n",
       "156      Burundi               Sub-Saharan Africa            2.905   \n",
       "\n",
       "     Economy (GDP per Capita)   Family  Health (Life Expectancy)  Freedom  \\\n",
       "0                     1.44178  1.16374                   0.79504  0.57941   \n",
       "1                     1.52733  1.14524                   0.86303  0.58557   \n",
       "2                     1.42666  1.18326                   0.86733  0.56624   \n",
       "3                     1.57744  1.12690                   0.79579  0.59609   \n",
       "4                     1.40598  1.13464                   0.81091  0.57104   \n",
       "..                        ...      ...                       ...      ...   \n",
       "152                   0.39499  0.10419                   0.21028  0.39747   \n",
       "153                   0.38227  0.11037                   0.17344  0.16430   \n",
       "154                   0.28123  0.00000                   0.24811  0.34678   \n",
       "155                   0.74719  0.14866                   0.62994  0.06912   \n",
       "156                   0.06831  0.23442                   0.15747  0.04320   \n",
       "\n",
       "     Trust (Government Corruption)  Generosity  Dystopia Residual  \\\n",
       "0                          0.44453     0.36171            2.73939   \n",
       "1                          0.41203     0.28083            2.69463   \n",
       "2                          0.14975     0.47678            2.83137   \n",
       "3                          0.35776     0.37895            2.66465   \n",
       "4                          0.41004     0.25492            2.82596   \n",
       "..                             ...         ...                ...   \n",
       "152                        0.06681     0.20180            2.10812   \n",
       "153                        0.07112     0.31268            2.14558   \n",
       "154                        0.11587     0.17517            2.13540   \n",
       "155                        0.17233     0.48397            0.81789   \n",
       "156                        0.09419     0.20290            2.10404   \n",
       "\n",
       "    Country Code  2016_lifeexp       NHLY  2016_co2  2016_ch4  2016_n2o  \\\n",
       "0            DNK     80.853659  20.423634   35380.0    7170.0    5080.0   \n",
       "1            CHE     83.602439  20.975852   39610.0    4860.0    2190.0   \n",
       "2            ISL     82.204878  20.559440    2070.0     550.0     400.0   \n",
       "3            NOR     82.407317  20.585348   37950.0    4990.0    3220.0   \n",
       "4            FIN     81.429268  19.648882   45710.0    4470.0    4650.0   \n",
       "..           ...           ...        ...       ...       ...       ...   \n",
       "152          BEN     60.885000  -9.230166    7230.0    5380.0    2670.0   \n",
       "153          AFG     63.763000 -10.457132    7390.0   78150.0    9120.0   \n",
       "154          TGO     60.220000 -10.219334    2300.0    3370.0    1860.0   \n",
       "155          SYR     70.315000 -13.577827   26460.0   12900.0    3370.0   \n",
       "156          BDI     60.528000 -12.680616     460.0    1860.0    2090.0   \n",
       "\n",
       "       2016_pop  2016_extcostratio  \n",
       "0     5728010.0           2.054713  \n",
       "1     8373338.0           0.655050  \n",
       "2      335439.0           2.742365  \n",
       "3     5234519.0           1.456945  \n",
       "4     5495303.0           1.923178  \n",
       "..          ...                ...  \n",
       "152  10872072.0           0.582790  \n",
       "153  35383028.0           0.845526  \n",
       "154   7509952.0           0.578246  \n",
       "155  17465567.0           0.513625  \n",
       "156  10488002.0           0.438113  \n",
       "\n",
       "[157 rows x 18 columns]"
      ]
     },
     "execution_count": 40,
     "metadata": {},
     "output_type": "execute_result"
    }
   ],
   "source": [
    "merged_2016"
   ]
  },
  {
   "cell_type": "markdown",
   "id": "1a847140",
   "metadata": {},
   "source": [
    "## Now, let's calculate the PCEC of countries in question"
   ]
  },
  {
   "cell_type": "code",
   "execution_count": 41,
   "id": "6fde9449",
   "metadata": {
    "ExecuteTime": {
     "end_time": "2022-07-25T03:00:55.853451Z",
     "start_time": "2022-07-25T03:00:55.837952Z"
    }
   },
   "outputs": [],
   "source": [
    "aqli = pd.read_csv(os.path.join(csv_path, 'aqli_global_data.csv'))"
   ]
  },
  {
   "cell_type": "code",
   "execution_count": 42,
   "id": "692c1ba2",
   "metadata": {
    "ExecuteTime": {
     "end_time": "2022-07-25T03:00:55.868369Z",
     "start_time": "2022-07-25T03:00:55.854763Z"
    }
   },
   "outputs": [
    {
     "data": {
      "text/plain": [
       "26.25"
      ]
     },
     "execution_count": 42,
     "metadata": {},
     "output_type": "execute_result"
    }
   ],
   "source": [
    "(aqli['llpp_who_2016'].value_counts()[0])/len(aqli)*100"
   ]
  },
  {
   "cell_type": "code",
   "execution_count": 43,
   "id": "5c34189f",
   "metadata": {
    "ExecuteTime": {
     "end_time": "2022-07-25T03:00:55.882542Z",
     "start_time": "2022-07-25T03:00:55.869543Z"
    }
   },
   "outputs": [
    {
     "data": {
      "text/plain": [
       "(240, 68)"
      ]
     },
     "execution_count": 43,
     "metadata": {},
     "output_type": "execute_result"
    }
   ],
   "source": [
    "aqli.shape"
   ]
  },
  {
   "cell_type": "code",
   "execution_count": 44,
   "id": "aa034516",
   "metadata": {
    "ExecuteTime": {
     "end_time": "2022-07-25T03:00:55.893669Z",
     "start_time": "2022-07-25T03:00:55.883757Z"
    }
   },
   "outputs": [],
   "source": [
    "aqli.rename(columns={'iso_alpha3': 'Country Code'}, inplace=True)"
   ]
  },
  {
   "cell_type": "code",
   "execution_count": 45,
   "id": "85adeff4",
   "metadata": {
    "ExecuteTime": {
     "end_time": "2022-07-25T03:00:55.914296Z",
     "start_time": "2022-07-25T03:00:55.894828Z"
    }
   },
   "outputs": [
    {
     "data": {
      "text/html": [
       "<div>\n",
       "<style scoped>\n",
       "    .dataframe tbody tr th:only-of-type {\n",
       "        vertical-align: middle;\n",
       "    }\n",
       "\n",
       "    .dataframe tbody tr th {\n",
       "        vertical-align: top;\n",
       "    }\n",
       "\n",
       "    .dataframe thead th {\n",
       "        text-align: right;\n",
       "    }\n",
       "</style>\n",
       "<table border=\"1\" class=\"dataframe\">\n",
       "  <thead>\n",
       "    <tr style=\"text-align: right;\">\n",
       "      <th></th>\n",
       "      <th>country</th>\n",
       "      <th>Country Code</th>\n",
       "      <th>whostandard</th>\n",
       "      <th>natstandard</th>\n",
       "      <th>population</th>\n",
       "      <th>pm_1998</th>\n",
       "      <th>pm_1999</th>\n",
       "      <th>pm_2000</th>\n",
       "      <th>pm_2001</th>\n",
       "      <th>pm_2002</th>\n",
       "      <th>...</th>\n",
       "      <th>llpp_nat_2009</th>\n",
       "      <th>llpp_nat_2010</th>\n",
       "      <th>llpp_nat_2011</th>\n",
       "      <th>llpp_nat_2012</th>\n",
       "      <th>llpp_nat_2013</th>\n",
       "      <th>llpp_nat_2014</th>\n",
       "      <th>llpp_nat_2015</th>\n",
       "      <th>llpp_nat_2016</th>\n",
       "      <th>llpp_nat_2017</th>\n",
       "      <th>llpp_nat_2018</th>\n",
       "    </tr>\n",
       "  </thead>\n",
       "  <tbody>\n",
       "    <tr>\n",
       "      <th>0</th>\n",
       "      <td>Aruba</td>\n",
       "      <td>ABW</td>\n",
       "      <td>5</td>\n",
       "      <td>0</td>\n",
       "      <td>118013</td>\n",
       "      <td>2.50</td>\n",
       "      <td>3.61</td>\n",
       "      <td>2.40</td>\n",
       "      <td>2.480000</td>\n",
       "      <td>2.22</td>\n",
       "      <td>...</td>\n",
       "      <td>NaN</td>\n",
       "      <td>NaN</td>\n",
       "      <td>NaN</td>\n",
       "      <td>NaN</td>\n",
       "      <td>NaN</td>\n",
       "      <td>NaN</td>\n",
       "      <td>NaN</td>\n",
       "      <td>NaN</td>\n",
       "      <td>NaN</td>\n",
       "      <td>NaN</td>\n",
       "    </tr>\n",
       "    <tr>\n",
       "      <th>1</th>\n",
       "      <td>Afghanistan</td>\n",
       "      <td>AFG</td>\n",
       "      <td>5</td>\n",
       "      <td>10</td>\n",
       "      <td>30278457</td>\n",
       "      <td>10.56</td>\n",
       "      <td>10.34</td>\n",
       "      <td>11.60</td>\n",
       "      <td>13.720000</td>\n",
       "      <td>13.31</td>\n",
       "      <td>...</td>\n",
       "      <td>0.47</td>\n",
       "      <td>0.47</td>\n",
       "      <td>0.79</td>\n",
       "      <td>0.6</td>\n",
       "      <td>0.46</td>\n",
       "      <td>0.51</td>\n",
       "      <td>0.56</td>\n",
       "      <td>0.57</td>\n",
       "      <td>0.48</td>\n",
       "      <td>0.37</td>\n",
       "    </tr>\n",
       "    <tr>\n",
       "      <th>2</th>\n",
       "      <td>Angola</td>\n",
       "      <td>AGO</td>\n",
       "      <td>5</td>\n",
       "      <td>0</td>\n",
       "      <td>31245992</td>\n",
       "      <td>18.09</td>\n",
       "      <td>15.73</td>\n",
       "      <td>17.26</td>\n",
       "      <td>21.620001</td>\n",
       "      <td>19.40</td>\n",
       "      <td>...</td>\n",
       "      <td>NaN</td>\n",
       "      <td>NaN</td>\n",
       "      <td>NaN</td>\n",
       "      <td>NaN</td>\n",
       "      <td>NaN</td>\n",
       "      <td>NaN</td>\n",
       "      <td>NaN</td>\n",
       "      <td>NaN</td>\n",
       "      <td>NaN</td>\n",
       "      <td>NaN</td>\n",
       "    </tr>\n",
       "    <tr>\n",
       "      <th>3</th>\n",
       "      <td>Anguilla</td>\n",
       "      <td>AIA</td>\n",
       "      <td>5</td>\n",
       "      <td>0</td>\n",
       "      <td>17756</td>\n",
       "      <td>2.07</td>\n",
       "      <td>2.67</td>\n",
       "      <td>2.27</td>\n",
       "      <td>2.480000</td>\n",
       "      <td>1.78</td>\n",
       "      <td>...</td>\n",
       "      <td>NaN</td>\n",
       "      <td>NaN</td>\n",
       "      <td>NaN</td>\n",
       "      <td>NaN</td>\n",
       "      <td>NaN</td>\n",
       "      <td>NaN</td>\n",
       "      <td>NaN</td>\n",
       "      <td>NaN</td>\n",
       "      <td>NaN</td>\n",
       "      <td>NaN</td>\n",
       "    </tr>\n",
       "    <tr>\n",
       "      <th>4</th>\n",
       "      <td>Åland</td>\n",
       "      <td>ALA</td>\n",
       "      <td>5</td>\n",
       "      <td>0</td>\n",
       "      <td>29715</td>\n",
       "      <td>6.39</td>\n",
       "      <td>6.74</td>\n",
       "      <td>5.49</td>\n",
       "      <td>5.020000</td>\n",
       "      <td>5.50</td>\n",
       "      <td>...</td>\n",
       "      <td>NaN</td>\n",
       "      <td>NaN</td>\n",
       "      <td>NaN</td>\n",
       "      <td>NaN</td>\n",
       "      <td>NaN</td>\n",
       "      <td>NaN</td>\n",
       "      <td>NaN</td>\n",
       "      <td>NaN</td>\n",
       "      <td>NaN</td>\n",
       "      <td>NaN</td>\n",
       "    </tr>\n",
       "  </tbody>\n",
       "</table>\n",
       "<p>5 rows × 68 columns</p>\n",
       "</div>"
      ],
      "text/plain": [
       "       country Country Code  whostandard  natstandard  population  pm_1998  \\\n",
       "0        Aruba          ABW            5            0      118013     2.50   \n",
       "1  Afghanistan          AFG            5           10    30278457    10.56   \n",
       "2       Angola          AGO            5            0    31245992    18.09   \n",
       "3     Anguilla          AIA            5            0       17756     2.07   \n",
       "4        Åland          ALA            5            0       29715     6.39   \n",
       "\n",
       "   pm_1999  pm_2000    pm_2001  pm_2002  ...  llpp_nat_2009  llpp_nat_2010  \\\n",
       "0     3.61     2.40   2.480000     2.22  ...            NaN            NaN   \n",
       "1    10.34    11.60  13.720000    13.31  ...           0.47           0.47   \n",
       "2    15.73    17.26  21.620001    19.40  ...            NaN            NaN   \n",
       "3     2.67     2.27   2.480000     1.78  ...            NaN            NaN   \n",
       "4     6.74     5.49   5.020000     5.50  ...            NaN            NaN   \n",
       "\n",
       "   llpp_nat_2011  llpp_nat_2012  llpp_nat_2013  llpp_nat_2014  llpp_nat_2015  \\\n",
       "0            NaN            NaN            NaN            NaN            NaN   \n",
       "1           0.79            0.6           0.46           0.51           0.56   \n",
       "2            NaN            NaN            NaN            NaN            NaN   \n",
       "3            NaN            NaN            NaN            NaN            NaN   \n",
       "4            NaN            NaN            NaN            NaN            NaN   \n",
       "\n",
       "   llpp_nat_2016  llpp_nat_2017  llpp_nat_2018  \n",
       "0            NaN            NaN            NaN  \n",
       "1           0.57           0.48           0.37  \n",
       "2            NaN            NaN            NaN  \n",
       "3            NaN            NaN            NaN  \n",
       "4            NaN            NaN            NaN  \n",
       "\n",
       "[5 rows x 68 columns]"
      ]
     },
     "execution_count": 45,
     "metadata": {},
     "output_type": "execute_result"
    }
   ],
   "source": [
    "aqli.head()"
   ]
  },
  {
   "cell_type": "code",
   "execution_count": 46,
   "id": "eee74a26",
   "metadata": {
    "ExecuteTime": {
     "end_time": "2022-07-25T03:00:55.927260Z",
     "start_time": "2022-07-25T03:00:55.915636Z"
    }
   },
   "outputs": [],
   "source": [
    "merged_2016 = pd.merge(merged_2016, aqli[['Country Code', 'llpp_who_2016']],on='Country Code', how='left')\n",
    "merged_2016.rename(columns={\"llpp_who_2016\": \"2016_llpp_who\"}, inplace=True)"
   ]
  },
  {
   "cell_type": "code",
   "execution_count": 47,
   "id": "b066ff1d",
   "metadata": {
    "ExecuteTime": {
     "end_time": "2022-07-25T03:00:55.950770Z",
     "start_time": "2022-07-25T03:00:55.928554Z"
    }
   },
   "outputs": [
    {
     "data": {
      "text/html": [
       "<div>\n",
       "<style scoped>\n",
       "    .dataframe tbody tr th:only-of-type {\n",
       "        vertical-align: middle;\n",
       "    }\n",
       "\n",
       "    .dataframe tbody tr th {\n",
       "        vertical-align: top;\n",
       "    }\n",
       "\n",
       "    .dataframe thead th {\n",
       "        text-align: right;\n",
       "    }\n",
       "</style>\n",
       "<table border=\"1\" class=\"dataframe\">\n",
       "  <thead>\n",
       "    <tr style=\"text-align: right;\">\n",
       "      <th></th>\n",
       "      <th>Country</th>\n",
       "      <th>Region</th>\n",
       "      <th>Happiness Score</th>\n",
       "      <th>Economy (GDP per Capita)</th>\n",
       "      <th>Family</th>\n",
       "      <th>Health (Life Expectancy)</th>\n",
       "      <th>Freedom</th>\n",
       "      <th>Trust (Government Corruption)</th>\n",
       "      <th>Generosity</th>\n",
       "      <th>Dystopia Residual</th>\n",
       "      <th>Country Code</th>\n",
       "      <th>2016_lifeexp</th>\n",
       "      <th>NHLY</th>\n",
       "      <th>2016_co2</th>\n",
       "      <th>2016_ch4</th>\n",
       "      <th>2016_n2o</th>\n",
       "      <th>2016_pop</th>\n",
       "      <th>2016_extcostratio</th>\n",
       "      <th>2016_llpp_who</th>\n",
       "    </tr>\n",
       "  </thead>\n",
       "  <tbody>\n",
       "    <tr>\n",
       "      <th>0</th>\n",
       "      <td>Denmark</td>\n",
       "      <td>Western Europe</td>\n",
       "      <td>7.526</td>\n",
       "      <td>1.44178</td>\n",
       "      <td>1.16374</td>\n",
       "      <td>0.79504</td>\n",
       "      <td>0.57941</td>\n",
       "      <td>0.44453</td>\n",
       "      <td>0.36171</td>\n",
       "      <td>2.73939</td>\n",
       "      <td>DNK</td>\n",
       "      <td>80.853659</td>\n",
       "      <td>20.423634</td>\n",
       "      <td>35380.0</td>\n",
       "      <td>7170.0</td>\n",
       "      <td>5080.0</td>\n",
       "      <td>5728010.0</td>\n",
       "      <td>2.054713</td>\n",
       "      <td>0.23</td>\n",
       "    </tr>\n",
       "    <tr>\n",
       "      <th>1</th>\n",
       "      <td>Switzerland</td>\n",
       "      <td>Western Europe</td>\n",
       "      <td>7.509</td>\n",
       "      <td>1.52733</td>\n",
       "      <td>1.14524</td>\n",
       "      <td>0.86303</td>\n",
       "      <td>0.58557</td>\n",
       "      <td>0.41203</td>\n",
       "      <td>0.28083</td>\n",
       "      <td>2.69463</td>\n",
       "      <td>CHE</td>\n",
       "      <td>83.602439</td>\n",
       "      <td>20.975852</td>\n",
       "      <td>39610.0</td>\n",
       "      <td>4860.0</td>\n",
       "      <td>2190.0</td>\n",
       "      <td>8373338.0</td>\n",
       "      <td>0.655050</td>\n",
       "      <td>0.45</td>\n",
       "    </tr>\n",
       "    <tr>\n",
       "      <th>2</th>\n",
       "      <td>Iceland</td>\n",
       "      <td>Western Europe</td>\n",
       "      <td>7.501</td>\n",
       "      <td>1.42666</td>\n",
       "      <td>1.18326</td>\n",
       "      <td>0.86733</td>\n",
       "      <td>0.56624</td>\n",
       "      <td>0.14975</td>\n",
       "      <td>0.47678</td>\n",
       "      <td>2.83137</td>\n",
       "      <td>ISL</td>\n",
       "      <td>82.204878</td>\n",
       "      <td>20.559440</td>\n",
       "      <td>2070.0</td>\n",
       "      <td>550.0</td>\n",
       "      <td>400.0</td>\n",
       "      <td>335439.0</td>\n",
       "      <td>2.742365</td>\n",
       "      <td>0.00</td>\n",
       "    </tr>\n",
       "    <tr>\n",
       "      <th>3</th>\n",
       "      <td>Norway</td>\n",
       "      <td>Western Europe</td>\n",
       "      <td>7.498</td>\n",
       "      <td>1.57744</td>\n",
       "      <td>1.12690</td>\n",
       "      <td>0.79579</td>\n",
       "      <td>0.59609</td>\n",
       "      <td>0.35776</td>\n",
       "      <td>0.37895</td>\n",
       "      <td>2.66465</td>\n",
       "      <td>NOR</td>\n",
       "      <td>82.407317</td>\n",
       "      <td>20.585348</td>\n",
       "      <td>37950.0</td>\n",
       "      <td>4990.0</td>\n",
       "      <td>3220.0</td>\n",
       "      <td>5234519.0</td>\n",
       "      <td>1.456945</td>\n",
       "      <td>0.04</td>\n",
       "    </tr>\n",
       "    <tr>\n",
       "      <th>4</th>\n",
       "      <td>Finland</td>\n",
       "      <td>Western Europe</td>\n",
       "      <td>7.413</td>\n",
       "      <td>1.40598</td>\n",
       "      <td>1.13464</td>\n",
       "      <td>0.81091</td>\n",
       "      <td>0.57104</td>\n",
       "      <td>0.41004</td>\n",
       "      <td>0.25492</td>\n",
       "      <td>2.82596</td>\n",
       "      <td>FIN</td>\n",
       "      <td>81.429268</td>\n",
       "      <td>19.648882</td>\n",
       "      <td>45710.0</td>\n",
       "      <td>4470.0</td>\n",
       "      <td>4650.0</td>\n",
       "      <td>5495303.0</td>\n",
       "      <td>1.923178</td>\n",
       "      <td>0.01</td>\n",
       "    </tr>\n",
       "    <tr>\n",
       "      <th>...</th>\n",
       "      <td>...</td>\n",
       "      <td>...</td>\n",
       "      <td>...</td>\n",
       "      <td>...</td>\n",
       "      <td>...</td>\n",
       "      <td>...</td>\n",
       "      <td>...</td>\n",
       "      <td>...</td>\n",
       "      <td>...</td>\n",
       "      <td>...</td>\n",
       "      <td>...</td>\n",
       "      <td>...</td>\n",
       "      <td>...</td>\n",
       "      <td>...</td>\n",
       "      <td>...</td>\n",
       "      <td>...</td>\n",
       "      <td>...</td>\n",
       "      <td>...</td>\n",
       "      <td>...</td>\n",
       "    </tr>\n",
       "    <tr>\n",
       "      <th>152</th>\n",
       "      <td>Benin</td>\n",
       "      <td>Sub-Saharan Africa</td>\n",
       "      <td>3.484</td>\n",
       "      <td>0.39499</td>\n",
       "      <td>0.10419</td>\n",
       "      <td>0.21028</td>\n",
       "      <td>0.39747</td>\n",
       "      <td>0.06681</td>\n",
       "      <td>0.20180</td>\n",
       "      <td>2.10812</td>\n",
       "      <td>BEN</td>\n",
       "      <td>60.885000</td>\n",
       "      <td>-9.230166</td>\n",
       "      <td>7230.0</td>\n",
       "      <td>5380.0</td>\n",
       "      <td>2670.0</td>\n",
       "      <td>10872072.0</td>\n",
       "      <td>0.582790</td>\n",
       "      <td>1.18</td>\n",
       "    </tr>\n",
       "    <tr>\n",
       "      <th>153</th>\n",
       "      <td>Afghanistan</td>\n",
       "      <td>Southern Asia</td>\n",
       "      <td>3.360</td>\n",
       "      <td>0.38227</td>\n",
       "      <td>0.11037</td>\n",
       "      <td>0.17344</td>\n",
       "      <td>0.16430</td>\n",
       "      <td>0.07112</td>\n",
       "      <td>0.31268</td>\n",
       "      <td>2.14558</td>\n",
       "      <td>AFG</td>\n",
       "      <td>63.763000</td>\n",
       "      <td>-10.457132</td>\n",
       "      <td>7390.0</td>\n",
       "      <td>78150.0</td>\n",
       "      <td>9120.0</td>\n",
       "      <td>35383028.0</td>\n",
       "      <td>0.845526</td>\n",
       "      <td>1.06</td>\n",
       "    </tr>\n",
       "    <tr>\n",
       "      <th>154</th>\n",
       "      <td>Togo</td>\n",
       "      <td>Sub-Saharan Africa</td>\n",
       "      <td>3.303</td>\n",
       "      <td>0.28123</td>\n",
       "      <td>0.00000</td>\n",
       "      <td>0.24811</td>\n",
       "      <td>0.34678</td>\n",
       "      <td>0.11587</td>\n",
       "      <td>0.17517</td>\n",
       "      <td>2.13540</td>\n",
       "      <td>TGO</td>\n",
       "      <td>60.220000</td>\n",
       "      <td>-10.219334</td>\n",
       "      <td>2300.0</td>\n",
       "      <td>3370.0</td>\n",
       "      <td>1860.0</td>\n",
       "      <td>7509952.0</td>\n",
       "      <td>0.578246</td>\n",
       "      <td>1.02</td>\n",
       "    </tr>\n",
       "    <tr>\n",
       "      <th>155</th>\n",
       "      <td>Syria</td>\n",
       "      <td>Middle East and Northern Africa</td>\n",
       "      <td>3.069</td>\n",
       "      <td>0.74719</td>\n",
       "      <td>0.14866</td>\n",
       "      <td>0.62994</td>\n",
       "      <td>0.06912</td>\n",
       "      <td>0.17233</td>\n",
       "      <td>0.48397</td>\n",
       "      <td>0.81789</td>\n",
       "      <td>SYR</td>\n",
       "      <td>70.315000</td>\n",
       "      <td>-13.577827</td>\n",
       "      <td>26460.0</td>\n",
       "      <td>12900.0</td>\n",
       "      <td>3370.0</td>\n",
       "      <td>17465567.0</td>\n",
       "      <td>0.513625</td>\n",
       "      <td>1.33</td>\n",
       "    </tr>\n",
       "    <tr>\n",
       "      <th>156</th>\n",
       "      <td>Burundi</td>\n",
       "      <td>Sub-Saharan Africa</td>\n",
       "      <td>2.905</td>\n",
       "      <td>0.06831</td>\n",
       "      <td>0.23442</td>\n",
       "      <td>0.15747</td>\n",
       "      <td>0.04320</td>\n",
       "      <td>0.09419</td>\n",
       "      <td>0.20290</td>\n",
       "      <td>2.10404</td>\n",
       "      <td>BDI</td>\n",
       "      <td>60.528000</td>\n",
       "      <td>-12.680616</td>\n",
       "      <td>460.0</td>\n",
       "      <td>1860.0</td>\n",
       "      <td>2090.0</td>\n",
       "      <td>10488002.0</td>\n",
       "      <td>0.438113</td>\n",
       "      <td>2.78</td>\n",
       "    </tr>\n",
       "  </tbody>\n",
       "</table>\n",
       "<p>157 rows × 19 columns</p>\n",
       "</div>"
      ],
      "text/plain": [
       "         Country                           Region  Happiness Score  \\\n",
       "0        Denmark                   Western Europe            7.526   \n",
       "1    Switzerland                   Western Europe            7.509   \n",
       "2        Iceland                   Western Europe            7.501   \n",
       "3         Norway                   Western Europe            7.498   \n",
       "4        Finland                   Western Europe            7.413   \n",
       "..           ...                              ...              ...   \n",
       "152        Benin               Sub-Saharan Africa            3.484   \n",
       "153  Afghanistan                    Southern Asia            3.360   \n",
       "154         Togo               Sub-Saharan Africa            3.303   \n",
       "155        Syria  Middle East and Northern Africa            3.069   \n",
       "156      Burundi               Sub-Saharan Africa            2.905   \n",
       "\n",
       "     Economy (GDP per Capita)   Family  Health (Life Expectancy)  Freedom  \\\n",
       "0                     1.44178  1.16374                   0.79504  0.57941   \n",
       "1                     1.52733  1.14524                   0.86303  0.58557   \n",
       "2                     1.42666  1.18326                   0.86733  0.56624   \n",
       "3                     1.57744  1.12690                   0.79579  0.59609   \n",
       "4                     1.40598  1.13464                   0.81091  0.57104   \n",
       "..                        ...      ...                       ...      ...   \n",
       "152                   0.39499  0.10419                   0.21028  0.39747   \n",
       "153                   0.38227  0.11037                   0.17344  0.16430   \n",
       "154                   0.28123  0.00000                   0.24811  0.34678   \n",
       "155                   0.74719  0.14866                   0.62994  0.06912   \n",
       "156                   0.06831  0.23442                   0.15747  0.04320   \n",
       "\n",
       "     Trust (Government Corruption)  Generosity  Dystopia Residual  \\\n",
       "0                          0.44453     0.36171            2.73939   \n",
       "1                          0.41203     0.28083            2.69463   \n",
       "2                          0.14975     0.47678            2.83137   \n",
       "3                          0.35776     0.37895            2.66465   \n",
       "4                          0.41004     0.25492            2.82596   \n",
       "..                             ...         ...                ...   \n",
       "152                        0.06681     0.20180            2.10812   \n",
       "153                        0.07112     0.31268            2.14558   \n",
       "154                        0.11587     0.17517            2.13540   \n",
       "155                        0.17233     0.48397            0.81789   \n",
       "156                        0.09419     0.20290            2.10404   \n",
       "\n",
       "    Country Code  2016_lifeexp       NHLY  2016_co2  2016_ch4  2016_n2o  \\\n",
       "0            DNK     80.853659  20.423634   35380.0    7170.0    5080.0   \n",
       "1            CHE     83.602439  20.975852   39610.0    4860.0    2190.0   \n",
       "2            ISL     82.204878  20.559440    2070.0     550.0     400.0   \n",
       "3            NOR     82.407317  20.585348   37950.0    4990.0    3220.0   \n",
       "4            FIN     81.429268  19.648882   45710.0    4470.0    4650.0   \n",
       "..           ...           ...        ...       ...       ...       ...   \n",
       "152          BEN     60.885000  -9.230166    7230.0    5380.0    2670.0   \n",
       "153          AFG     63.763000 -10.457132    7390.0   78150.0    9120.0   \n",
       "154          TGO     60.220000 -10.219334    2300.0    3370.0    1860.0   \n",
       "155          SYR     70.315000 -13.577827   26460.0   12900.0    3370.0   \n",
       "156          BDI     60.528000 -12.680616     460.0    1860.0    2090.0   \n",
       "\n",
       "       2016_pop  2016_extcostratio  2016_llpp_who  \n",
       "0     5728010.0           2.054713           0.23  \n",
       "1     8373338.0           0.655050           0.45  \n",
       "2      335439.0           2.742365           0.00  \n",
       "3     5234519.0           1.456945           0.04  \n",
       "4     5495303.0           1.923178           0.01  \n",
       "..          ...                ...            ...  \n",
       "152  10872072.0           0.582790           1.18  \n",
       "153  35383028.0           0.845526           1.06  \n",
       "154   7509952.0           0.578246           1.02  \n",
       "155  17465567.0           0.513625           1.33  \n",
       "156  10488002.0           0.438113           2.78  \n",
       "\n",
       "[157 rows x 19 columns]"
      ]
     },
     "execution_count": 47,
     "metadata": {},
     "output_type": "execute_result"
    }
   ],
   "source": [
    "merged_2016"
   ]
  },
  {
   "cell_type": "markdown",
   "id": "76640abe",
   "metadata": {},
   "source": [
    "# Recall our revised equation and parameter values\n",
    "$$\n",
    "\\mu_{i} = \\lambda_{i} \\xi = {AQLI_{i}} * (1+\\beta) * (1+\\gamma_{i})\\zeta_{i} \\theta\\xi\n",
    "$$"
   ]
  },
  {
   "cell_type": "markdown",
   "id": "28086bea",
   "metadata": {},
   "source": [
    "Key parameter values as below:\n",
    "\n",
    "* 𝛾 = 0.8, 𝜃 = 0.5, 𝜉 = 5, $\\beta$ = 0.7, 𝜁 = 1"
   ]
  },
  {
   "cell_type": "code",
   "execution_count": 48,
   "id": "6e5832af",
   "metadata": {
    "ExecuteTime": {
     "end_time": "2022-07-25T03:00:55.960527Z",
     "start_time": "2022-07-25T03:00:55.952047Z"
    }
   },
   "outputs": [],
   "source": [
    "merged_2016['PCEC'] = merged_2016['2016_llpp_who'] * (1+0.7) * (1+0.8) * 1 * 0.5 * 5"
   ]
  },
  {
   "cell_type": "code",
   "execution_count": 49,
   "id": "0137c0fd",
   "metadata": {
    "ExecuteTime": {
     "end_time": "2022-07-25T03:00:55.972745Z",
     "start_time": "2022-07-25T03:00:55.961899Z"
    }
   },
   "outputs": [
    {
     "data": {
      "text/plain": [
       "0       1.759500\n",
       "1       3.442500\n",
       "2       0.000000\n",
       "3       0.306000\n",
       "4       0.076500\n",
       "         ...    \n",
       "152     9.026999\n",
       "153     8.108999\n",
       "154     7.803000\n",
       "155    10.174500\n",
       "156    21.267000\n",
       "Name: PCEC, Length: 157, dtype: float64"
      ]
     },
     "execution_count": 49,
     "metadata": {},
     "output_type": "execute_result"
    }
   ],
   "source": [
    "pd.to_numeric(merged_2016['PCEC'])"
   ]
  },
  {
   "cell_type": "code",
   "execution_count": 50,
   "id": "9849fd00",
   "metadata": {
    "ExecuteTime": {
     "end_time": "2022-07-25T03:00:55.984567Z",
     "start_time": "2022-07-25T03:00:55.973835Z"
    }
   },
   "outputs": [],
   "source": [
    "merged_2016['ERHNI'] = merged_2016['NHLY'] - merged_2016['PCEC'] * merged_2016['2016_extcostratio']"
   ]
  },
  {
   "cell_type": "code",
   "execution_count": 51,
   "id": "690f14b9",
   "metadata": {
    "ExecuteTime": {
     "end_time": "2022-07-25T03:00:56.012042Z",
     "start_time": "2022-07-25T03:00:55.985723Z"
    },
    "scrolled": true
   },
   "outputs": [
    {
     "data": {
      "text/html": [
       "<div>\n",
       "<style scoped>\n",
       "    .dataframe tbody tr th:only-of-type {\n",
       "        vertical-align: middle;\n",
       "    }\n",
       "\n",
       "    .dataframe tbody tr th {\n",
       "        vertical-align: top;\n",
       "    }\n",
       "\n",
       "    .dataframe thead th {\n",
       "        text-align: right;\n",
       "    }\n",
       "</style>\n",
       "<table border=\"1\" class=\"dataframe\">\n",
       "  <thead>\n",
       "    <tr style=\"text-align: right;\">\n",
       "      <th></th>\n",
       "      <th>Country</th>\n",
       "      <th>Region</th>\n",
       "      <th>Happiness Score</th>\n",
       "      <th>Economy (GDP per Capita)</th>\n",
       "      <th>Family</th>\n",
       "      <th>Health (Life Expectancy)</th>\n",
       "      <th>Freedom</th>\n",
       "      <th>Trust (Government Corruption)</th>\n",
       "      <th>Generosity</th>\n",
       "      <th>Dystopia Residual</th>\n",
       "      <th>...</th>\n",
       "      <th>2016_lifeexp</th>\n",
       "      <th>NHLY</th>\n",
       "      <th>2016_co2</th>\n",
       "      <th>2016_ch4</th>\n",
       "      <th>2016_n2o</th>\n",
       "      <th>2016_pop</th>\n",
       "      <th>2016_extcostratio</th>\n",
       "      <th>2016_llpp_who</th>\n",
       "      <th>PCEC</th>\n",
       "      <th>ERHNI</th>\n",
       "    </tr>\n",
       "  </thead>\n",
       "  <tbody>\n",
       "    <tr>\n",
       "      <th>0</th>\n",
       "      <td>Denmark</td>\n",
       "      <td>Western Europe</td>\n",
       "      <td>7.526</td>\n",
       "      <td>1.44178</td>\n",
       "      <td>1.16374</td>\n",
       "      <td>0.79504</td>\n",
       "      <td>0.57941</td>\n",
       "      <td>0.44453</td>\n",
       "      <td>0.36171</td>\n",
       "      <td>2.73939</td>\n",
       "      <td>...</td>\n",
       "      <td>80.853659</td>\n",
       "      <td>20.423634</td>\n",
       "      <td>35380.0</td>\n",
       "      <td>7170.0</td>\n",
       "      <td>5080.0</td>\n",
       "      <td>5728010.0</td>\n",
       "      <td>2.054713</td>\n",
       "      <td>0.23</td>\n",
       "      <td>1.759500</td>\n",
       "      <td>16.808367</td>\n",
       "    </tr>\n",
       "    <tr>\n",
       "      <th>1</th>\n",
       "      <td>Switzerland</td>\n",
       "      <td>Western Europe</td>\n",
       "      <td>7.509</td>\n",
       "      <td>1.52733</td>\n",
       "      <td>1.14524</td>\n",
       "      <td>0.86303</td>\n",
       "      <td>0.58557</td>\n",
       "      <td>0.41203</td>\n",
       "      <td>0.28083</td>\n",
       "      <td>2.69463</td>\n",
       "      <td>...</td>\n",
       "      <td>83.602439</td>\n",
       "      <td>20.975852</td>\n",
       "      <td>39610.0</td>\n",
       "      <td>4860.0</td>\n",
       "      <td>2190.0</td>\n",
       "      <td>8373338.0</td>\n",
       "      <td>0.655050</td>\n",
       "      <td>0.45</td>\n",
       "      <td>3.442500</td>\n",
       "      <td>18.720843</td>\n",
       "    </tr>\n",
       "    <tr>\n",
       "      <th>2</th>\n",
       "      <td>Iceland</td>\n",
       "      <td>Western Europe</td>\n",
       "      <td>7.501</td>\n",
       "      <td>1.42666</td>\n",
       "      <td>1.18326</td>\n",
       "      <td>0.86733</td>\n",
       "      <td>0.56624</td>\n",
       "      <td>0.14975</td>\n",
       "      <td>0.47678</td>\n",
       "      <td>2.83137</td>\n",
       "      <td>...</td>\n",
       "      <td>82.204878</td>\n",
       "      <td>20.559440</td>\n",
       "      <td>2070.0</td>\n",
       "      <td>550.0</td>\n",
       "      <td>400.0</td>\n",
       "      <td>335439.0</td>\n",
       "      <td>2.742365</td>\n",
       "      <td>0.00</td>\n",
       "      <td>0.000000</td>\n",
       "      <td>20.559440</td>\n",
       "    </tr>\n",
       "    <tr>\n",
       "      <th>3</th>\n",
       "      <td>Norway</td>\n",
       "      <td>Western Europe</td>\n",
       "      <td>7.498</td>\n",
       "      <td>1.57744</td>\n",
       "      <td>1.12690</td>\n",
       "      <td>0.79579</td>\n",
       "      <td>0.59609</td>\n",
       "      <td>0.35776</td>\n",
       "      <td>0.37895</td>\n",
       "      <td>2.66465</td>\n",
       "      <td>...</td>\n",
       "      <td>82.407317</td>\n",
       "      <td>20.585348</td>\n",
       "      <td>37950.0</td>\n",
       "      <td>4990.0</td>\n",
       "      <td>3220.0</td>\n",
       "      <td>5234519.0</td>\n",
       "      <td>1.456945</td>\n",
       "      <td>0.04</td>\n",
       "      <td>0.306000</td>\n",
       "      <td>20.139523</td>\n",
       "    </tr>\n",
       "    <tr>\n",
       "      <th>4</th>\n",
       "      <td>Finland</td>\n",
       "      <td>Western Europe</td>\n",
       "      <td>7.413</td>\n",
       "      <td>1.40598</td>\n",
       "      <td>1.13464</td>\n",
       "      <td>0.81091</td>\n",
       "      <td>0.57104</td>\n",
       "      <td>0.41004</td>\n",
       "      <td>0.25492</td>\n",
       "      <td>2.82596</td>\n",
       "      <td>...</td>\n",
       "      <td>81.429268</td>\n",
       "      <td>19.648882</td>\n",
       "      <td>45710.0</td>\n",
       "      <td>4470.0</td>\n",
       "      <td>4650.0</td>\n",
       "      <td>5495303.0</td>\n",
       "      <td>1.923178</td>\n",
       "      <td>0.01</td>\n",
       "      <td>0.076500</td>\n",
       "      <td>19.501759</td>\n",
       "    </tr>\n",
       "    <tr>\n",
       "      <th>...</th>\n",
       "      <td>...</td>\n",
       "      <td>...</td>\n",
       "      <td>...</td>\n",
       "      <td>...</td>\n",
       "      <td>...</td>\n",
       "      <td>...</td>\n",
       "      <td>...</td>\n",
       "      <td>...</td>\n",
       "      <td>...</td>\n",
       "      <td>...</td>\n",
       "      <td>...</td>\n",
       "      <td>...</td>\n",
       "      <td>...</td>\n",
       "      <td>...</td>\n",
       "      <td>...</td>\n",
       "      <td>...</td>\n",
       "      <td>...</td>\n",
       "      <td>...</td>\n",
       "      <td>...</td>\n",
       "      <td>...</td>\n",
       "      <td>...</td>\n",
       "    </tr>\n",
       "    <tr>\n",
       "      <th>152</th>\n",
       "      <td>Benin</td>\n",
       "      <td>Sub-Saharan Africa</td>\n",
       "      <td>3.484</td>\n",
       "      <td>0.39499</td>\n",
       "      <td>0.10419</td>\n",
       "      <td>0.21028</td>\n",
       "      <td>0.39747</td>\n",
       "      <td>0.06681</td>\n",
       "      <td>0.20180</td>\n",
       "      <td>2.10812</td>\n",
       "      <td>...</td>\n",
       "      <td>60.885000</td>\n",
       "      <td>-9.230166</td>\n",
       "      <td>7230.0</td>\n",
       "      <td>5380.0</td>\n",
       "      <td>2670.0</td>\n",
       "      <td>10872072.0</td>\n",
       "      <td>0.582790</td>\n",
       "      <td>1.18</td>\n",
       "      <td>9.026999</td>\n",
       "      <td>-14.491010</td>\n",
       "    </tr>\n",
       "    <tr>\n",
       "      <th>153</th>\n",
       "      <td>Afghanistan</td>\n",
       "      <td>Southern Asia</td>\n",
       "      <td>3.360</td>\n",
       "      <td>0.38227</td>\n",
       "      <td>0.11037</td>\n",
       "      <td>0.17344</td>\n",
       "      <td>0.16430</td>\n",
       "      <td>0.07112</td>\n",
       "      <td>0.31268</td>\n",
       "      <td>2.14558</td>\n",
       "      <td>...</td>\n",
       "      <td>63.763000</td>\n",
       "      <td>-10.457132</td>\n",
       "      <td>7390.0</td>\n",
       "      <td>78150.0</td>\n",
       "      <td>9120.0</td>\n",
       "      <td>35383028.0</td>\n",
       "      <td>0.845526</td>\n",
       "      <td>1.06</td>\n",
       "      <td>8.108999</td>\n",
       "      <td>-17.313504</td>\n",
       "    </tr>\n",
       "    <tr>\n",
       "      <th>154</th>\n",
       "      <td>Togo</td>\n",
       "      <td>Sub-Saharan Africa</td>\n",
       "      <td>3.303</td>\n",
       "      <td>0.28123</td>\n",
       "      <td>0.00000</td>\n",
       "      <td>0.24811</td>\n",
       "      <td>0.34678</td>\n",
       "      <td>0.11587</td>\n",
       "      <td>0.17517</td>\n",
       "      <td>2.13540</td>\n",
       "      <td>...</td>\n",
       "      <td>60.220000</td>\n",
       "      <td>-10.219334</td>\n",
       "      <td>2300.0</td>\n",
       "      <td>3370.0</td>\n",
       "      <td>1860.0</td>\n",
       "      <td>7509952.0</td>\n",
       "      <td>0.578246</td>\n",
       "      <td>1.02</td>\n",
       "      <td>7.803000</td>\n",
       "      <td>-14.731390</td>\n",
       "    </tr>\n",
       "    <tr>\n",
       "      <th>155</th>\n",
       "      <td>Syria</td>\n",
       "      <td>Middle East and Northern Africa</td>\n",
       "      <td>3.069</td>\n",
       "      <td>0.74719</td>\n",
       "      <td>0.14866</td>\n",
       "      <td>0.62994</td>\n",
       "      <td>0.06912</td>\n",
       "      <td>0.17233</td>\n",
       "      <td>0.48397</td>\n",
       "      <td>0.81789</td>\n",
       "      <td>...</td>\n",
       "      <td>70.315000</td>\n",
       "      <td>-13.577827</td>\n",
       "      <td>26460.0</td>\n",
       "      <td>12900.0</td>\n",
       "      <td>3370.0</td>\n",
       "      <td>17465567.0</td>\n",
       "      <td>0.513625</td>\n",
       "      <td>1.33</td>\n",
       "      <td>10.174500</td>\n",
       "      <td>-18.803708</td>\n",
       "    </tr>\n",
       "    <tr>\n",
       "      <th>156</th>\n",
       "      <td>Burundi</td>\n",
       "      <td>Sub-Saharan Africa</td>\n",
       "      <td>2.905</td>\n",
       "      <td>0.06831</td>\n",
       "      <td>0.23442</td>\n",
       "      <td>0.15747</td>\n",
       "      <td>0.04320</td>\n",
       "      <td>0.09419</td>\n",
       "      <td>0.20290</td>\n",
       "      <td>2.10404</td>\n",
       "      <td>...</td>\n",
       "      <td>60.528000</td>\n",
       "      <td>-12.680616</td>\n",
       "      <td>460.0</td>\n",
       "      <td>1860.0</td>\n",
       "      <td>2090.0</td>\n",
       "      <td>10488002.0</td>\n",
       "      <td>0.438113</td>\n",
       "      <td>2.78</td>\n",
       "      <td>21.267000</td>\n",
       "      <td>-21.997976</td>\n",
       "    </tr>\n",
       "  </tbody>\n",
       "</table>\n",
       "<p>157 rows × 21 columns</p>\n",
       "</div>"
      ],
      "text/plain": [
       "         Country                           Region  Happiness Score  \\\n",
       "0        Denmark                   Western Europe            7.526   \n",
       "1    Switzerland                   Western Europe            7.509   \n",
       "2        Iceland                   Western Europe            7.501   \n",
       "3         Norway                   Western Europe            7.498   \n",
       "4        Finland                   Western Europe            7.413   \n",
       "..           ...                              ...              ...   \n",
       "152        Benin               Sub-Saharan Africa            3.484   \n",
       "153  Afghanistan                    Southern Asia            3.360   \n",
       "154         Togo               Sub-Saharan Africa            3.303   \n",
       "155        Syria  Middle East and Northern Africa            3.069   \n",
       "156      Burundi               Sub-Saharan Africa            2.905   \n",
       "\n",
       "     Economy (GDP per Capita)   Family  Health (Life Expectancy)  Freedom  \\\n",
       "0                     1.44178  1.16374                   0.79504  0.57941   \n",
       "1                     1.52733  1.14524                   0.86303  0.58557   \n",
       "2                     1.42666  1.18326                   0.86733  0.56624   \n",
       "3                     1.57744  1.12690                   0.79579  0.59609   \n",
       "4                     1.40598  1.13464                   0.81091  0.57104   \n",
       "..                        ...      ...                       ...      ...   \n",
       "152                   0.39499  0.10419                   0.21028  0.39747   \n",
       "153                   0.38227  0.11037                   0.17344  0.16430   \n",
       "154                   0.28123  0.00000                   0.24811  0.34678   \n",
       "155                   0.74719  0.14866                   0.62994  0.06912   \n",
       "156                   0.06831  0.23442                   0.15747  0.04320   \n",
       "\n",
       "     Trust (Government Corruption)  Generosity  Dystopia Residual  ...  \\\n",
       "0                          0.44453     0.36171            2.73939  ...   \n",
       "1                          0.41203     0.28083            2.69463  ...   \n",
       "2                          0.14975     0.47678            2.83137  ...   \n",
       "3                          0.35776     0.37895            2.66465  ...   \n",
       "4                          0.41004     0.25492            2.82596  ...   \n",
       "..                             ...         ...                ...  ...   \n",
       "152                        0.06681     0.20180            2.10812  ...   \n",
       "153                        0.07112     0.31268            2.14558  ...   \n",
       "154                        0.11587     0.17517            2.13540  ...   \n",
       "155                        0.17233     0.48397            0.81789  ...   \n",
       "156                        0.09419     0.20290            2.10404  ...   \n",
       "\n",
       "    2016_lifeexp       NHLY  2016_co2  2016_ch4  2016_n2o    2016_pop  \\\n",
       "0      80.853659  20.423634   35380.0    7170.0    5080.0   5728010.0   \n",
       "1      83.602439  20.975852   39610.0    4860.0    2190.0   8373338.0   \n",
       "2      82.204878  20.559440    2070.0     550.0     400.0    335439.0   \n",
       "3      82.407317  20.585348   37950.0    4990.0    3220.0   5234519.0   \n",
       "4      81.429268  19.648882   45710.0    4470.0    4650.0   5495303.0   \n",
       "..           ...        ...       ...       ...       ...         ...   \n",
       "152    60.885000  -9.230166    7230.0    5380.0    2670.0  10872072.0   \n",
       "153    63.763000 -10.457132    7390.0   78150.0    9120.0  35383028.0   \n",
       "154    60.220000 -10.219334    2300.0    3370.0    1860.0   7509952.0   \n",
       "155    70.315000 -13.577827   26460.0   12900.0    3370.0  17465567.0   \n",
       "156    60.528000 -12.680616     460.0    1860.0    2090.0  10488002.0   \n",
       "\n",
       "     2016_extcostratio  2016_llpp_who       PCEC      ERHNI  \n",
       "0             2.054713           0.23   1.759500  16.808367  \n",
       "1             0.655050           0.45   3.442500  18.720843  \n",
       "2             2.742365           0.00   0.000000  20.559440  \n",
       "3             1.456945           0.04   0.306000  20.139523  \n",
       "4             1.923178           0.01   0.076500  19.501759  \n",
       "..                 ...            ...        ...        ...  \n",
       "152           0.582790           1.18   9.026999 -14.491010  \n",
       "153           0.845526           1.06   8.108999 -17.313504  \n",
       "154           0.578246           1.02   7.803000 -14.731390  \n",
       "155           0.513625           1.33  10.174500 -18.803708  \n",
       "156           0.438113           2.78  21.267000 -21.997976  \n",
       "\n",
       "[157 rows x 21 columns]"
      ]
     },
     "execution_count": 51,
     "metadata": {},
     "output_type": "execute_result"
    }
   ],
   "source": [
    "merged_2016"
   ]
  },
  {
   "cell_type": "code",
   "execution_count": 52,
   "id": "e45042fe",
   "metadata": {
    "ExecuteTime": {
     "end_time": "2022-07-25T03:00:56.025283Z",
     "start_time": "2022-07-25T03:00:56.013260Z"
    }
   },
   "outputs": [],
   "source": [
    "ERHNI_top_10 = merged_2016.sort_values(by='ERHNI', ascending=False).head(10)"
   ]
  },
  {
   "cell_type": "code",
   "execution_count": 53,
   "id": "58ccf92c",
   "metadata": {
    "ExecuteTime": {
     "end_time": "2022-07-25T03:00:56.037494Z",
     "start_time": "2022-07-25T03:00:56.026723Z"
    }
   },
   "outputs": [],
   "source": [
    "ERHNI_top_10.set_index('Country', inplace=True)"
   ]
  },
  {
   "cell_type": "code",
   "execution_count": 54,
   "id": "db69d299",
   "metadata": {
    "ExecuteTime": {
     "end_time": "2022-07-25T03:00:56.148309Z",
     "start_time": "2022-07-25T03:00:56.038778Z"
    }
   },
   "outputs": [
    {
     "data": {
      "text/plain": [
       "<AxesSubplot:xlabel='Country'>"
      ]
     },
     "execution_count": 54,
     "metadata": {},
     "output_type": "execute_result"
    },
    {
     "data": {
      "image/png": "[encoded data removed]",
      "text/plain": [
       "<Figure size 720x576 with 1 Axes>"
      ]
     },
     "metadata": {
      "needs_background": "light"
     },
     "output_type": "display_data"
    }
   ],
   "source": [
    "ERHNI_top_10['ERHNI'].plot(kind='bar',figsize=(10,8))"
   ]
  },
  {
   "cell_type": "code",
   "execution_count": 230,
   "id": "affa74b2",
   "metadata": {
    "ExecuteTime": {
     "end_time": "2022-07-25T15:50:51.690568Z",
     "start_time": "2022-07-25T15:50:51.659836Z"
    }
   },
   "outputs": [
    {
     "data": {
      "text/html": [
       "<div>\n",
       "<style scoped>\n",
       "    .dataframe tbody tr th:only-of-type {\n",
       "        vertical-align: middle;\n",
       "    }\n",
       "\n",
       "    .dataframe tbody tr th {\n",
       "        vertical-align: top;\n",
       "    }\n",
       "\n",
       "    .dataframe thead th {\n",
       "        text-align: right;\n",
       "    }\n",
       "</style>\n",
       "<table border=\"1\" class=\"dataframe\">\n",
       "  <thead>\n",
       "    <tr style=\"text-align: right;\">\n",
       "      <th></th>\n",
       "      <th>Region</th>\n",
       "      <th>Happiness Score</th>\n",
       "      <th>Economy (GDP per Capita)</th>\n",
       "      <th>Family</th>\n",
       "      <th>Health (Life Expectancy)</th>\n",
       "      <th>Freedom</th>\n",
       "      <th>Trust (Government Corruption)</th>\n",
       "      <th>Generosity</th>\n",
       "      <th>Dystopia Residual</th>\n",
       "      <th>Country Code</th>\n",
       "      <th>2016_lifeexp</th>\n",
       "      <th>NHLY</th>\n",
       "      <th>2016_co2</th>\n",
       "      <th>2016_ch4</th>\n",
       "      <th>2016_n2o</th>\n",
       "      <th>2016_pop</th>\n",
       "      <th>2016_extcostratio</th>\n",
       "      <th>2016_llpp_who</th>\n",
       "      <th>PCEC</th>\n",
       "      <th>ERHNI</th>\n",
       "    </tr>\n",
       "    <tr>\n",
       "      <th>Country</th>\n",
       "      <th></th>\n",
       "      <th></th>\n",
       "      <th></th>\n",
       "      <th></th>\n",
       "      <th></th>\n",
       "      <th></th>\n",
       "      <th></th>\n",
       "      <th></th>\n",
       "      <th></th>\n",
       "      <th></th>\n",
       "      <th></th>\n",
       "      <th></th>\n",
       "      <th></th>\n",
       "      <th></th>\n",
       "      <th></th>\n",
       "      <th></th>\n",
       "      <th></th>\n",
       "      <th></th>\n",
       "      <th></th>\n",
       "      <th></th>\n",
       "    </tr>\n",
       "  </thead>\n",
       "  <tbody>\n",
       "    <tr>\n",
       "      <th>Iceland</th>\n",
       "      <td>Western Europe</td>\n",
       "      <td>7.501</td>\n",
       "      <td>1.42666</td>\n",
       "      <td>1.18326</td>\n",
       "      <td>0.86733</td>\n",
       "      <td>0.56624</td>\n",
       "      <td>0.14975</td>\n",
       "      <td>0.47678</td>\n",
       "      <td>2.83137</td>\n",
       "      <td>ISL</td>\n",
       "      <td>82.204878</td>\n",
       "      <td>20.559440</td>\n",
       "      <td>2070.0</td>\n",
       "      <td>550.0</td>\n",
       "      <td>400.0</td>\n",
       "      <td>335439.0</td>\n",
       "      <td>2.742365</td>\n",
       "      <td>0.00</td>\n",
       "      <td>0.0000</td>\n",
       "      <td>20.559440</td>\n",
       "    </tr>\n",
       "    <tr>\n",
       "      <th>Norway</th>\n",
       "      <td>Western Europe</td>\n",
       "      <td>7.498</td>\n",
       "      <td>1.57744</td>\n",
       "      <td>1.12690</td>\n",
       "      <td>0.79579</td>\n",
       "      <td>0.59609</td>\n",
       "      <td>0.35776</td>\n",
       "      <td>0.37895</td>\n",
       "      <td>2.66465</td>\n",
       "      <td>NOR</td>\n",
       "      <td>82.407317</td>\n",
       "      <td>20.585348</td>\n",
       "      <td>37950.0</td>\n",
       "      <td>4990.0</td>\n",
       "      <td>3220.0</td>\n",
       "      <td>5234519.0</td>\n",
       "      <td>1.456945</td>\n",
       "      <td>0.04</td>\n",
       "      <td>0.3060</td>\n",
       "      <td>20.139523</td>\n",
       "    </tr>\n",
       "    <tr>\n",
       "      <th>Finland</th>\n",
       "      <td>Western Europe</td>\n",
       "      <td>7.413</td>\n",
       "      <td>1.40598</td>\n",
       "      <td>1.13464</td>\n",
       "      <td>0.81091</td>\n",
       "      <td>0.57104</td>\n",
       "      <td>0.41004</td>\n",
       "      <td>0.25492</td>\n",
       "      <td>2.82596</td>\n",
       "      <td>FIN</td>\n",
       "      <td>81.429268</td>\n",
       "      <td>19.648882</td>\n",
       "      <td>45710.0</td>\n",
       "      <td>4470.0</td>\n",
       "      <td>4650.0</td>\n",
       "      <td>5495303.0</td>\n",
       "      <td>1.923178</td>\n",
       "      <td>0.01</td>\n",
       "      <td>0.0765</td>\n",
       "      <td>19.501759</td>\n",
       "    </tr>\n",
       "    <tr>\n",
       "      <th>Australia</th>\n",
       "      <td>Australia and New Zealand</td>\n",
       "      <td>7.313</td>\n",
       "      <td>1.44443</td>\n",
       "      <td>1.10476</td>\n",
       "      <td>0.85120</td>\n",
       "      <td>0.56837</td>\n",
       "      <td>0.32331</td>\n",
       "      <td>0.47407</td>\n",
       "      <td>2.54650</td>\n",
       "      <td>AUS</td>\n",
       "      <td>82.448780</td>\n",
       "      <td>19.070403</td>\n",
       "      <td>383960.0</td>\n",
       "      <td>118280.0</td>\n",
       "      <td>57390.0</td>\n",
       "      <td>24190907.0</td>\n",
       "      <td>5.708328</td>\n",
       "      <td>0.00</td>\n",
       "      <td>0.0000</td>\n",
       "      <td>19.070403</td>\n",
       "    </tr>\n",
       "    <tr>\n",
       "      <th>New Zealand</th>\n",
       "      <td>Australia and New Zealand</td>\n",
       "      <td>7.334</td>\n",
       "      <td>1.36066</td>\n",
       "      <td>1.17278</td>\n",
       "      <td>0.83096</td>\n",
       "      <td>0.58147</td>\n",
       "      <td>0.41904</td>\n",
       "      <td>0.49401</td>\n",
       "      <td>2.47553</td>\n",
       "      <td>NZL</td>\n",
       "      <td>81.612439</td>\n",
       "      <td>19.048343</td>\n",
       "      <td>31180.0</td>\n",
       "      <td>32810.0</td>\n",
       "      <td>14970.0</td>\n",
       "      <td>4714100.0</td>\n",
       "      <td>7.601431</td>\n",
       "      <td>0.00</td>\n",
       "      <td>0.0000</td>\n",
       "      <td>19.048343</td>\n",
       "    </tr>\n",
       "    <tr>\n",
       "      <th>Switzerland</th>\n",
       "      <td>Western Europe</td>\n",
       "      <td>7.509</td>\n",
       "      <td>1.52733</td>\n",
       "      <td>1.14524</td>\n",
       "      <td>0.86303</td>\n",
       "      <td>0.58557</td>\n",
       "      <td>0.41203</td>\n",
       "      <td>0.28083</td>\n",
       "      <td>2.69463</td>\n",
       "      <td>CHE</td>\n",
       "      <td>83.602439</td>\n",
       "      <td>20.975852</td>\n",
       "      <td>39610.0</td>\n",
       "      <td>4860.0</td>\n",
       "      <td>2190.0</td>\n",
       "      <td>8373338.0</td>\n",
       "      <td>0.655050</td>\n",
       "      <td>0.45</td>\n",
       "      <td>3.4425</td>\n",
       "      <td>18.720843</td>\n",
       "    </tr>\n",
       "    <tr>\n",
       "      <th>Sweden</th>\n",
       "      <td>Western Europe</td>\n",
       "      <td>7.291</td>\n",
       "      <td>1.45181</td>\n",
       "      <td>1.08764</td>\n",
       "      <td>0.83121</td>\n",
       "      <td>0.58218</td>\n",
       "      <td>0.40867</td>\n",
       "      <td>0.38254</td>\n",
       "      <td>2.54734</td>\n",
       "      <td>SWE</td>\n",
       "      <td>82.307317</td>\n",
       "      <td>18.856606</td>\n",
       "      <td>38790.0</td>\n",
       "      <td>4770.0</td>\n",
       "      <td>4960.0</td>\n",
       "      <td>9923085.0</td>\n",
       "      <td>1.129353</td>\n",
       "      <td>0.04</td>\n",
       "      <td>0.3060</td>\n",
       "      <td>18.511024</td>\n",
       "    </tr>\n",
       "    <tr>\n",
       "      <th>Canada</th>\n",
       "      <td>North America</td>\n",
       "      <td>7.404</td>\n",
       "      <td>1.44015</td>\n",
       "      <td>1.09610</td>\n",
       "      <td>0.82760</td>\n",
       "      <td>0.57370</td>\n",
       "      <td>0.31329</td>\n",
       "      <td>0.44834</td>\n",
       "      <td>2.70485</td>\n",
       "      <td>CAN</td>\n",
       "      <td>81.900000</td>\n",
       "      <td>19.688760</td>\n",
       "      <td>550480.0</td>\n",
       "      <td>90490.0</td>\n",
       "      <td>40990.0</td>\n",
       "      <td>36109487.0</td>\n",
       "      <td>2.805875</td>\n",
       "      <td>0.10</td>\n",
       "      <td>0.7650</td>\n",
       "      <td>17.542265</td>\n",
       "    </tr>\n",
       "    <tr>\n",
       "      <th>Denmark</th>\n",
       "      <td>Western Europe</td>\n",
       "      <td>7.526</td>\n",
       "      <td>1.44178</td>\n",
       "      <td>1.16374</td>\n",
       "      <td>0.79504</td>\n",
       "      <td>0.57941</td>\n",
       "      <td>0.44453</td>\n",
       "      <td>0.36171</td>\n",
       "      <td>2.73939</td>\n",
       "      <td>DNK</td>\n",
       "      <td>80.853659</td>\n",
       "      <td>20.423634</td>\n",
       "      <td>35380.0</td>\n",
       "      <td>7170.0</td>\n",
       "      <td>5080.0</td>\n",
       "      <td>5728010.0</td>\n",
       "      <td>2.054713</td>\n",
       "      <td>0.23</td>\n",
       "      <td>1.7595</td>\n",
       "      <td>16.808367</td>\n",
       "    </tr>\n",
       "    <tr>\n",
       "      <th>Israel</th>\n",
       "      <td>Middle East and Northern Africa</td>\n",
       "      <td>7.267</td>\n",
       "      <td>1.33766</td>\n",
       "      <td>0.99537</td>\n",
       "      <td>0.84917</td>\n",
       "      <td>0.36432</td>\n",
       "      <td>0.08728</td>\n",
       "      <td>0.32288</td>\n",
       "      <td>3.31029</td>\n",
       "      <td>ISR</td>\n",
       "      <td>82.407317</td>\n",
       "      <td>18.681739</td>\n",
       "      <td>65260.0</td>\n",
       "      <td>11730.0</td>\n",
       "      <td>2260.0</td>\n",
       "      <td>8546000.0</td>\n",
       "      <td>0.791692</td>\n",
       "      <td>0.55</td>\n",
       "      <td>4.2075</td>\n",
       "      <td>15.350694</td>\n",
       "    </tr>\n",
       "  </tbody>\n",
       "</table>\n",
       "</div>"
      ],
      "text/plain": [
       "                                      Region  Happiness Score  \\\n",
       "Country                                                         \n",
       "Iceland                       Western Europe            7.501   \n",
       "Norway                        Western Europe            7.498   \n",
       "Finland                       Western Europe            7.413   \n",
       "Australia          Australia and New Zealand            7.313   \n",
       "New Zealand        Australia and New Zealand            7.334   \n",
       "Switzerland                   Western Europe            7.509   \n",
       "Sweden                        Western Europe            7.291   \n",
       "Canada                         North America            7.404   \n",
       "Denmark                       Western Europe            7.526   \n",
       "Israel       Middle East and Northern Africa            7.267   \n",
       "\n",
       "             Economy (GDP per Capita)   Family  Health (Life Expectancy)  \\\n",
       "Country                                                                    \n",
       "Iceland                       1.42666  1.18326                   0.86733   \n",
       "Norway                        1.57744  1.12690                   0.79579   \n",
       "Finland                       1.40598  1.13464                   0.81091   \n",
       "Australia                     1.44443  1.10476                   0.85120   \n",
       "New Zealand                   1.36066  1.17278                   0.83096   \n",
       "Switzerland                   1.52733  1.14524                   0.86303   \n",
       "Sweden                        1.45181  1.08764                   0.83121   \n",
       "Canada                        1.44015  1.09610                   0.82760   \n",
       "Denmark                       1.44178  1.16374                   0.79504   \n",
       "Israel                        1.33766  0.99537                   0.84917   \n",
       "\n",
       "             Freedom  Trust (Government Corruption)  Generosity  \\\n",
       "Country                                                           \n",
       "Iceland      0.56624                        0.14975     0.47678   \n",
       "Norway       0.59609                        0.35776     0.37895   \n",
       "Finland      0.57104                        0.41004     0.25492   \n",
       "Australia    0.56837                        0.32331     0.47407   \n",
       "New Zealand  0.58147                        0.41904     0.49401   \n",
       "Switzerland  0.58557                        0.41203     0.28083   \n",
       "Sweden       0.58218                        0.40867     0.38254   \n",
       "Canada       0.57370                        0.31329     0.44834   \n",
       "Denmark      0.57941                        0.44453     0.36171   \n",
       "Israel       0.36432                        0.08728     0.32288   \n",
       "\n",
       "             Dystopia Residual Country Code  2016_lifeexp       NHLY  \\\n",
       "Country                                                                \n",
       "Iceland                2.83137          ISL     82.204878  20.559440   \n",
       "Norway                 2.66465          NOR     82.407317  20.585348   \n",
       "Finland                2.82596          FIN     81.429268  19.648882   \n",
       "Australia              2.54650          AUS     82.448780  19.070403   \n",
       "New Zealand            2.47553          NZL     81.612439  19.048343   \n",
       "Switzerland            2.69463          CHE     83.602439  20.975852   \n",
       "Sweden                 2.54734          SWE     82.307317  18.856606   \n",
       "Canada                 2.70485          CAN     81.900000  19.688760   \n",
       "Denmark                2.73939          DNK     80.853659  20.423634   \n",
       "Israel                 3.31029          ISR     82.407317  18.681739   \n",
       "\n",
       "             2016_co2  2016_ch4  2016_n2o    2016_pop  2016_extcostratio  \\\n",
       "Country                                                                    \n",
       "Iceland        2070.0     550.0     400.0    335439.0           2.742365   \n",
       "Norway        37950.0    4990.0    3220.0   5234519.0           1.456945   \n",
       "Finland       45710.0    4470.0    4650.0   5495303.0           1.923178   \n",
       "Australia    383960.0  118280.0   57390.0  24190907.0           5.708328   \n",
       "New Zealand   31180.0   32810.0   14970.0   4714100.0           7.601431   \n",
       "Switzerland   39610.0    4860.0    2190.0   8373338.0           0.655050   \n",
       "Sweden        38790.0    4770.0    4960.0   9923085.0           1.129353   \n",
       "Canada       550480.0   90490.0   40990.0  36109487.0           2.805875   \n",
       "Denmark       35380.0    7170.0    5080.0   5728010.0           2.054713   \n",
       "Israel        65260.0   11730.0    2260.0   8546000.0           0.791692   \n",
       "\n",
       "             2016_llpp_who    PCEC      ERHNI  \n",
       "Country                                        \n",
       "Iceland               0.00  0.0000  20.559440  \n",
       "Norway                0.04  0.3060  20.139523  \n",
       "Finland               0.01  0.0765  19.501759  \n",
       "Australia             0.00  0.0000  19.070403  \n",
       "New Zealand           0.00  0.0000  19.048343  \n",
       "Switzerland           0.45  3.4425  18.720843  \n",
       "Sweden                0.04  0.3060  18.511024  \n",
       "Canada                0.10  0.7650  17.542265  \n",
       "Denmark               0.23  1.7595  16.808367  \n",
       "Israel                0.55  4.2075  15.350694  "
      ]
     },
     "execution_count": 230,
     "metadata": {},
     "output_type": "execute_result"
    }
   ],
   "source": [
    "ERHNI_top_10"
   ]
  },
  {
   "cell_type": "code",
   "execution_count": 55,
   "id": "ef4dac1f",
   "metadata": {
    "ExecuteTime": {
     "end_time": "2022-07-25T03:01:42.815413Z",
     "start_time": "2022-07-25T03:01:42.797074Z"
    }
   },
   "outputs": [],
   "source": [
    "merged_2016.to_csv('2016.csv')"
   ]
  },
  {
   "cell_type": "markdown",
   "id": "b2a10ead",
   "metadata": {},
   "source": [
    "# Now let's calculate ERHNI for any subsequent years"
   ]
  },
  {
   "cell_type": "code",
   "execution_count": 157,
   "id": "a7ea4865",
   "metadata": {
    "ExecuteTime": {
     "end_time": "2022-07-25T14:16:20.174972Z",
     "start_time": "2022-07-25T14:16:20.161039Z"
    }
   },
   "outputs": [],
   "source": [
    "happiness_2017 = pd.read_csv(os.path.join(csv_path, '2017.csv'))\n",
    "happiness_2017.rename(columns={'Happiness.Score': 'Happiness Score',\n",
    "                               'Economy..GDP.per.Capita.': 'Economy (GDP per Capita)',\n",
    "                              'Health..Life.Expectancy.': 'Health (Life Expectancy)',\n",
    "                              'Trust..Government.Corruption.': 'Trust (Government Corruption)',\n",
    "                              'Dystopia.Residual': 'Dystopia Residual'},\n",
    "                      inplace=True)\n",
    "happiness_2017.to_csv('data/2017.csv')"
   ]
  },
  {
   "cell_type": "code",
   "execution_count": 162,
   "id": "dd4b3b51",
   "metadata": {
    "ExecuteTime": {
     "end_time": "2022-07-25T14:24:54.176815Z",
     "start_time": "2022-07-25T14:24:54.161591Z"
    }
   },
   "outputs": [],
   "source": [
    "happiness_2018 = pd.read_csv(os.path.join(csv_path, '2018.csv'))\n",
    "happiness_2018.rename(columns={'Score': 'Happiness Score',\n",
    "                               'GDP per capita': 'Economy (GDP per Capita)',\n",
    "                              'Healthy life expectancy': 'Health (Life Expectancy)',\n",
    "                               'Freedom to make life choices': 'Freedom',\n",
    "                               'Social support': 'Family',\n",
    "                              'Perceptions of corruption': 'Trust (Government Corruption)',\n",
    "                              'Dystopia.Residual': 'Dystopia Residual',\n",
    "                              'Country or region': 'Country'},\n",
    "                      inplace=True)\n",
    "happiness_2018.to_csv('data/2018.csv')"
   ]
  },
  {
   "cell_type": "code",
   "execution_count": 158,
   "id": "ee5a6164",
   "metadata": {
    "ExecuteTime": {
     "end_time": "2022-07-25T14:16:32.205662Z",
     "start_time": "2022-07-25T14:16:32.185396Z"
    }
   },
   "outputs": [],
   "source": [
    "# Declare global variables\n",
    "csv_path = 'data'\n",
    "remaining_countries = {'Czech Republic' : 'CZE',\n",
    "                      'Venezuela' : 'VEN',\n",
    "                      'Moldova' : 'MDA',\n",
    "                      'Russia' : 'RUS',\n",
    "                      'South Korea' : 'KOR',\n",
    "                      'Bolivia' : 'BOL',\n",
    "                      'North Cyprus' : 'CYP',\n",
    "                      'Macedonia' : 'MKD',\n",
    "                      'Vietnam' : 'VNM',\n",
    "                      'Laos' : 'LAO',\n",
    "                      'Iran' : 'IRN',\n",
    "                      'Congo (Kinshasa)' : 'COD',\n",
    "                      'Congo (Brazzaville)' : 'COG',\n",
    "                      'Tanzania' : 'TZA',\n",
    "                      'Syria' : 'SYR'}\n",
    "\n",
    "# Write a function taking year as an argument\n",
    "def erhni(year):\n",
    "    \n",
    "    # first fetch happiness data for the year\n",
    "    happiness = pd.read_csv(os.path.join(csv_path, year + '.csv'))\n",
    "    happiness.head()\n",
    "    \n",
    "    # next fetch life expectancy\n",
    "    lifeexp = pd.read_csv(os.path.join(csv_path, 'API_SP.DYN.LE00.IN_DS2_en_csv_v2_4150700.csv'), skiprows=4)\n",
    "    \n",
    "    # retrieve alpha3 code of countries\n",
    "    def findCountryAlpha3(country_name):\n",
    "        try:\n",
    "            return pycountry.countries.get(name=country_name).alpha_3\n",
    "        except:\n",
    "            return (\"not found\")\n",
    "    \n",
    "    happiness['Country Code'] = happiness.apply(lambda row: findCountryAlpha3(row.Country), axis = 1)\n",
    "    \n",
    "    happiness[happiness['Country Code'] == 'not found']\n",
    "    \n",
    "    for index, row in happiness.iterrows():\n",
    "        if row['Country Code'] == 'not found' and remaining_countries.get(row['Country']):\n",
    "            happiness.at[index, 'Country Code'] = remaining_countries.get(row['Country'])\n",
    "                    \n",
    "    # call a test result\n",
    "    happiness[happiness['Country'] == 'Denmark']\n",
    "    \n",
    "    # left merge on alpha3 code\n",
    "    merged = happiness.merge(lifeexp.drop_duplicates(), on=['Country Code'], how = 'left', indicator=True)\n",
    "    \n",
    "    # now we can calculate NHLY for the respective year of interest\n",
    "    merged = merged.loc[:, merged.columns.intersection(['Country','Region', 'Happiness Score', 'Economy (GDP per Capita)', 'Family', 'Health (Life Expectancy)', 'Freedom', 'Trust (Government Corruption)', 'Generosity', 'Dystopia Residual', 'Country Code', year])]\n",
    "    merged.rename(columns={year: year + '_lifeexp'}, inplace=True)\n",
    "    merged['NHLY'] = (merged['Happiness Score'] - 5)  * 0.1 * merged[year + '_lifeexp']\n",
    "    \n",
    "    # add in GHG\n",
    "    co2 = pd.read_csv(os.path.join(csv_path, 'API_EN.ATM.CO2E.KT_DS2_en_csv_v2_4151102.csv'), skiprows=4)\n",
    "    ch4 = pd.read_csv(os.path.join(csv_path, 'API_EN.ATM.METH.KT.CE_DS2_en_csv_v2_4157045.csv'), skiprows=4)\n",
    "    n2o = pd.read_csv(os.path.join(csv_path, 'API_EN.ATM.NOXE.KT.CE_DS2_en_csv_v2_4157052.csv'), skiprows=4)\n",
    "    pop = pd.read_csv(os.path.join(csv_path, 'API_SP.POP.TOTL_DS2_en_csv_v2_4251154.csv'), skiprows=4)\n",
    "    \n",
    "    CH4_GWP = 21\n",
    "    N2O_GWP = 310\n",
    "    WLD_CO2 = co2[co2['Country Name'] == 'World'][year]\n",
    "    WLD_CH4 = ch4[ch4['Country Name'] == 'World'][year]\n",
    "    WLD_N2O = n2o[n2o['Country Name'] == 'World'][year]\n",
    "    WLD_POP = pop[pop['Country Name'] == 'World'][year]\n",
    "    \n",
    "    merged = pd.merge(merged,co2[['Country Code', year]],on='Country Code', how='left')\n",
    "    merged.rename(columns={year: year + '_co2'}, inplace=True)\n",
    "    \n",
    "    merged = pd.merge(merged,ch4[['Country Code', year]],on='Country Code', how='left')\n",
    "    merged.rename(columns={year: year + '_ch4'}, inplace=True)\n",
    "    \n",
    "    merged = pd.merge(merged,n2o[['Country Code', year]],on='Country Code', how='left')\n",
    "    merged.rename(columns={year: year + '_n2o'}, inplace=True)\n",
    "    \n",
    "    merged = pd.merge(merged,pop[['Country Code', year]],on='Country Code', how='left')\n",
    "    merged.rename(columns={year: year + '_pop'}, inplace=True)\n",
    "    \n",
    "    total_greenhouse_gases_country = merged[year + '_co2'] + merged[year + '_ch4'] * CH4_GWP + merged[year + '_n2o'] * N2O_GWP\n",
    "    total_greenhouse_gases_world = WLD_CO2 + WLD_CH4 * CH4_GWP + WLD_N2O * N2O_GWP\n",
    "    total_greenhouse_gases_world = float(total_greenhouse_gases_world)\n",
    "    print(type(total_greenhouse_gases_world))\n",
    "        \n",
    "    merged[year + '_extcostratio'] = total_greenhouse_gases_country / merged[year + '_pop'] / (int(total_greenhouse_gases_world) / int(WLD_POP))\n",
    "    \n",
    "    # add in AQLI data to calculate PCEC    \n",
    "    aqli = pd.read_csv(os.path.join(csv_path, 'aqli_global_data.csv'))\n",
    "    \n",
    "    aqli.rename(columns={'iso_alpha3': 'Country Code'}, inplace=True)\n",
    "    \n",
    "    merged = pd.merge(merged, aqli[['Country Code', 'llpp_who_' + year]],on='Country Code', how='left')\n",
    "    merged.rename(columns={'llpp_who_' + year: year + '_llpp_who'}, inplace=True)\n",
    "    \n",
    "    # now we can calculate ERHNI based on our equation\n",
    "    \n",
    "    merged['PCEC'] = merged[year + '_llpp_who'] * (1+0.7) * (1+0.8) * 1 * 0.5 * 5\n",
    "    \n",
    "    merged['ERHNI'] = merged['NHLY'] - merged['PCEC'] * merged[year + '_extcostratio']\n",
    "    \n",
    "    merged.dropna(subset=['ERHNI'], inplace=True)\n",
    "    \n",
    "    merged.reset_index(drop=True, inplace=True)\n",
    "    \n",
    "    merged.to_csv('data/processed/' + year + '.csv')\n",
    "    return happiness, lifeexp, merged"
   ]
  },
  {
   "cell_type": "code",
   "execution_count": 163,
   "id": "d02c9842",
   "metadata": {
    "ExecuteTime": {
     "end_time": "2022-07-25T14:24:57.934258Z",
     "start_time": "2022-07-25T14:24:57.852981Z"
    }
   },
   "outputs": [
    {
     "name": "stdout",
     "output_type": "stream",
     "text": [
      "<class 'float'>\n"
     ]
    },
    {
     "data": {
      "text/plain": [
       "(     Unnamed: 0  Unnamed: 0.1  Overall rank                   Country  \\\n",
       " 0             0             0             1                   Finland   \n",
       " 1             1             1             2                    Norway   \n",
       " 2             2             2             3                   Denmark   \n",
       " 3             3             3             4                   Iceland   \n",
       " 4             4             4             5               Switzerland   \n",
       " ..          ...           ...           ...                       ...   \n",
       " 151         151           151           152                     Yemen   \n",
       " 152         152           152           153                  Tanzania   \n",
       " 153         153           153           154               South Sudan   \n",
       " 154         154           154           155  Central African Republic   \n",
       " 155         155           155           156                   Burundi   \n",
       " \n",
       "      Happiness Score  Economy (GDP per Capita)  Family  \\\n",
       " 0              7.632                     1.305   1.592   \n",
       " 1              7.594                     1.456   1.582   \n",
       " 2              7.555                     1.351   1.590   \n",
       " 3              7.495                     1.343   1.644   \n",
       " 4              7.487                     1.420   1.549   \n",
       " ..               ...                       ...     ...   \n",
       " 151            3.355                     0.442   1.073   \n",
       " 152            3.303                     0.455   0.991   \n",
       " 153            3.254                     0.337   0.608   \n",
       " 154            3.083                     0.024   0.000   \n",
       " 155            2.905                     0.091   0.627   \n",
       " \n",
       "      Health (Life Expectancy)  Freedom  Generosity  \\\n",
       " 0                       0.874    0.681       0.202   \n",
       " 1                       0.861    0.686       0.286   \n",
       " 2                       0.868    0.683       0.284   \n",
       " 3                       0.914    0.677       0.353   \n",
       " 4                       0.927    0.660       0.256   \n",
       " ..                        ...      ...         ...   \n",
       " 151                     0.343    0.244       0.083   \n",
       " 152                     0.381    0.481       0.270   \n",
       " 153                     0.177    0.112       0.224   \n",
       " 154                     0.010    0.305       0.218   \n",
       " 155                     0.145    0.065       0.149   \n",
       " \n",
       "      Trust (Government Corruption) Country Code  \n",
       " 0                            0.393          FIN  \n",
       " 1                            0.340          NOR  \n",
       " 2                            0.408          DNK  \n",
       " 3                            0.138          ISL  \n",
       " 4                            0.357          CHE  \n",
       " ..                             ...          ...  \n",
       " 151                          0.064          YEM  \n",
       " 152                          0.097          TZA  \n",
       " 153                          0.106          SSD  \n",
       " 154                          0.038          CAF  \n",
       " 155                          0.076          BDI  \n",
       " \n",
       " [156 rows x 12 columns],\n",
       "                     Country Name Country Code  \\\n",
       " 0                          Aruba          ABW   \n",
       " 1    Africa Eastern and Southern          AFE   \n",
       " 2                    Afghanistan          AFG   \n",
       " 3     Africa Western and Central          AFW   \n",
       " 4                         Angola          AGO   \n",
       " ..                           ...          ...   \n",
       " 261                       Kosovo          XKX   \n",
       " 262                  Yemen, Rep.          YEM   \n",
       " 263                 South Africa          ZAF   \n",
       " 264                       Zambia          ZMB   \n",
       " 265                     Zimbabwe          ZWE   \n",
       " \n",
       "                               Indicator Name  Indicator Code       1960  \\\n",
       " 0    Life expectancy at birth, total (years)  SP.DYN.LE00.IN  65.662000   \n",
       " 1    Life expectancy at birth, total (years)  SP.DYN.LE00.IN  42.716053   \n",
       " 2    Life expectancy at birth, total (years)  SP.DYN.LE00.IN  32.446000   \n",
       " 3    Life expectancy at birth, total (years)  SP.DYN.LE00.IN  37.205380   \n",
       " 4    Life expectancy at birth, total (years)  SP.DYN.LE00.IN  37.524000   \n",
       " ..                                       ...             ...        ...   \n",
       " 261  Life expectancy at birth, total (years)  SP.DYN.LE00.IN        NaN   \n",
       " 262  Life expectancy at birth, total (years)  SP.DYN.LE00.IN  29.919000   \n",
       " 263  Life expectancy at birth, total (years)  SP.DYN.LE00.IN  48.406000   \n",
       " 264  Life expectancy at birth, total (years)  SP.DYN.LE00.IN  46.687000   \n",
       " 265  Life expectancy at birth, total (years)  SP.DYN.LE00.IN  53.019000   \n",
       " \n",
       "           1961       1962       1963       1964       1965  ...       2013  \\\n",
       " 0    66.074000  66.444000  66.787000  67.113000  67.435000  ...  75.441000   \n",
       " 1    43.166935  43.603990  44.025617  44.432721  44.826919  ...  60.953363   \n",
       " 2    32.962000  33.471000  33.971000  34.463000  34.948000  ...  62.525000   \n",
       " 3    37.632546  38.052612  38.463746  38.867073  39.264841  ...  55.618986   \n",
       " 4    37.811000  38.113000  38.430000  38.760000  39.102000  ...  58.054000   \n",
       " ..         ...        ...        ...        ...        ...  ...        ...   \n",
       " 261        NaN        NaN        NaN        NaN        NaN  ...  70.797561   \n",
       " 262  30.163000  30.500000  30.943000  31.501000  32.175000  ...  66.016000   \n",
       " 263  48.777000  49.142000  49.509000  49.888000  50.284000  ...  61.099000   \n",
       " 264  47.084000  47.446000  47.772000  48.068000  48.351000  ...  59.746000   \n",
       " 265  53.483000  53.946000  54.403000  54.849000  55.274000  ...  56.897000   \n",
       " \n",
       "           2014       2015       2016       2017       2018       2019  \\\n",
       " 0    75.583000  75.725000  75.868000  76.010000  76.152000  76.293000   \n",
       " 1    61.647367  62.259288  62.787681  63.246264  63.648988  64.005213   \n",
       " 2    62.966000  63.377000  63.763000  64.130000  64.486000  64.833000   \n",
       " 3    56.088269  56.542009  56.974761  57.382363  57.762347  58.115723   \n",
       " 4    58.776000  59.398000  59.925000  60.379000  60.782000  61.147000   \n",
       " ..         ...        ...        ...        ...        ...        ...   \n",
       " 261  71.097561  71.346341  71.846341  72.295122  72.695122  73.092683   \n",
       " 262  66.066000  66.085000  66.087000  66.086000  66.096000  66.125000   \n",
       " 263  61.968000  62.649000  63.153000  63.538000  63.857000  64.131000   \n",
       " 264  60.831000  61.737000  62.464000  63.043000  63.510000  63.886000   \n",
       " 265  58.410000  59.534000  60.294000  60.812000  61.195000  61.490000   \n",
       " \n",
       "           2020  2021  Unnamed: 66  \n",
       " 0    76.434000   NaN          NaN  \n",
       " 1    64.325702   NaN          NaN  \n",
       " 2    65.173000   NaN          NaN  \n",
       " 3    58.445953   NaN          NaN  \n",
       " 4    61.487000   NaN          NaN  \n",
       " ..         ...   ...          ...  \n",
       " 261  71.087805   NaN          NaN  \n",
       " 262  66.181000   NaN          NaN  \n",
       " 263  64.379000   NaN          NaN  \n",
       " 264  64.194000   NaN          NaN  \n",
       " 265  61.738000   NaN          NaN  \n",
       " \n",
       " [266 rows x 67 columns],\n",
       "                       Country  Happiness Score  Economy (GDP per Capita)  \\\n",
       " 0                     Finland            7.632                     1.305   \n",
       " 1                      Norway            7.594                     1.456   \n",
       " 2                     Denmark            7.555                     1.351   \n",
       " 3                     Iceland            7.495                     1.343   \n",
       " 4                 Switzerland            7.487                     1.420   \n",
       " ..                        ...              ...                       ...   \n",
       " 141                    Rwanda            3.408                     0.332   \n",
       " 142                  Tanzania            3.303                     0.455   \n",
       " 143               South Sudan            3.254                     0.337   \n",
       " 144  Central African Republic            3.083                     0.024   \n",
       " 145                   Burundi            2.905                     0.091   \n",
       " \n",
       "      Family  Health (Life Expectancy)  Freedom  Generosity  \\\n",
       " 0     1.592                     0.874    0.681       0.202   \n",
       " 1     1.582                     0.861    0.686       0.286   \n",
       " 2     1.590                     0.868    0.683       0.284   \n",
       " 3     1.644                     0.914    0.677       0.353   \n",
       " 4     1.549                     0.927    0.660       0.256   \n",
       " ..      ...                       ...      ...         ...   \n",
       " 141   0.896                     0.400    0.636       0.200   \n",
       " 142   0.991                     0.381    0.481       0.270   \n",
       " 143   0.608                     0.177    0.112       0.224   \n",
       " 144   0.000                     0.010    0.305       0.218   \n",
       " 145   0.627                     0.145    0.065       0.149   \n",
       " \n",
       "      Trust (Government Corruption) Country Code  2018_lifeexp       NHLY  \\\n",
       " 0                            0.393          FIN     81.734146  21.512427   \n",
       " 1                            0.340          NOR     82.758537  21.467564   \n",
       " 2                            0.408          DNK     80.953659  20.683660   \n",
       " 3                            0.138          ISL     82.860976  20.673813   \n",
       " 4                            0.357          CHE     83.753659  20.829535   \n",
       " ..                             ...          ...           ...        ...   \n",
       " 141                          0.444          RWA     68.700000 -10.937040   \n",
       " 142                          0.097          TZA     65.015000 -11.033046   \n",
       " 143                          0.106          SSD     57.604000 -10.057658   \n",
       " 144                          0.038          CAF     52.805000 -10.122718   \n",
       " 145                          0.076          BDI     61.247000 -12.831247   \n",
       " \n",
       "      2018_co2  2018_ch4  2018_n2o    2018_pop  2018_extcostratio  \\\n",
       " 0     44360.0    4240.0    4670.0   5515525.0           1.927250   \n",
       " 1     37350.0    4850.0    3190.0   5311916.0           1.427783   \n",
       " 2     33380.0    7140.0    4740.0   5793636.0           1.917846   \n",
       " 3      2200.0     530.0     400.0    352721.0           2.617579   \n",
       " 4     37480.0    4790.0    2140.0   8514329.0           0.632853   \n",
       " ..        ...       ...       ...         ...                ...   \n",
       " 141    1080.0    2910.0    1960.0  12301969.0           0.366041   \n",
       " 142   11580.0   62650.0   30340.0  56313444.0           1.281326   \n",
       " 143    1380.0   34170.0   23010.0  10975924.0           4.809585   \n",
       " 144     330.0   23200.0   32110.0   4666375.0          15.043688   \n",
       " 145     590.0    2140.0    2360.0  11175379.0           0.467517   \n",
       " \n",
       "      2018_llpp_who       PCEC       ERHNI  \n",
       " 0             0.03   0.229500   21.070123  \n",
       " 1             0.07   0.535500   20.702987  \n",
       " 2             0.36   2.754000   15.401912  \n",
       " 3             0.00   0.000000   20.673813  \n",
       " 4             0.43   3.289500   18.747766  \n",
       " ..             ...        ...         ...  \n",
       " 141           2.42  18.513001  -17.713557  \n",
       " 142           1.06   8.108999  -21.423319  \n",
       " 143           0.89   6.808500  -42.803720  \n",
       " 144           2.19  16.753501 -262.157164  \n",
       " 145           2.29  17.518500  -21.021437  \n",
       " \n",
       " [146 rows x 19 columns])"
      ]
     },
     "execution_count": 163,
     "metadata": {},
     "output_type": "execute_result"
    }
   ],
   "source": [
    "erhni('2018')"
   ]
  },
  {
   "cell_type": "code",
   "execution_count": 122,
   "id": "68016575",
   "metadata": {
    "ExecuteTime": {
     "end_time": "2022-07-25T13:54:57.558783Z",
     "start_time": "2022-07-25T13:54:57.531507Z"
    }
   },
   "outputs": [
    {
     "data": {
      "text/html": [
       "<div>\n",
       "<style scoped>\n",
       "    .dataframe tbody tr th:only-of-type {\n",
       "        vertical-align: middle;\n",
       "    }\n",
       "\n",
       "    .dataframe tbody tr th {\n",
       "        vertical-align: top;\n",
       "    }\n",
       "\n",
       "    .dataframe thead th {\n",
       "        text-align: right;\n",
       "    }\n",
       "</style>\n",
       "<table border=\"1\" class=\"dataframe\">\n",
       "  <thead>\n",
       "    <tr style=\"text-align: right;\">\n",
       "      <th></th>\n",
       "      <th>Unnamed: 0</th>\n",
       "      <th>Country</th>\n",
       "      <th>Region</th>\n",
       "      <th>Happiness Score</th>\n",
       "      <th>Economy (GDP per Capita)</th>\n",
       "      <th>Family</th>\n",
       "      <th>Health (Life Expectancy)</th>\n",
       "      <th>Freedom</th>\n",
       "      <th>Trust (Government Corruption)</th>\n",
       "      <th>Generosity</th>\n",
       "      <th>...</th>\n",
       "      <th>2016_lifeexp</th>\n",
       "      <th>NHLY</th>\n",
       "      <th>2016_co2</th>\n",
       "      <th>2016_ch4</th>\n",
       "      <th>2016_n2o</th>\n",
       "      <th>2016_pop</th>\n",
       "      <th>2016_extcostratio</th>\n",
       "      <th>2016_llpp_who</th>\n",
       "      <th>PCEC</th>\n",
       "      <th>ERHNI</th>\n",
       "    </tr>\n",
       "  </thead>\n",
       "  <tbody>\n",
       "    <tr>\n",
       "      <th>0</th>\n",
       "      <td>0</td>\n",
       "      <td>Denmark</td>\n",
       "      <td>Western Europe</td>\n",
       "      <td>7.526</td>\n",
       "      <td>1.44178</td>\n",
       "      <td>1.16374</td>\n",
       "      <td>0.79504</td>\n",
       "      <td>0.57941</td>\n",
       "      <td>0.44453</td>\n",
       "      <td>0.36171</td>\n",
       "      <td>...</td>\n",
       "      <td>80.853659</td>\n",
       "      <td>20.423634</td>\n",
       "      <td>35380.0</td>\n",
       "      <td>7170.0</td>\n",
       "      <td>5080.0</td>\n",
       "      <td>5728010.0</td>\n",
       "      <td>2.054713</td>\n",
       "      <td>0.23</td>\n",
       "      <td>1.759500</td>\n",
       "      <td>16.808367</td>\n",
       "    </tr>\n",
       "    <tr>\n",
       "      <th>1</th>\n",
       "      <td>1</td>\n",
       "      <td>Switzerland</td>\n",
       "      <td>Western Europe</td>\n",
       "      <td>7.509</td>\n",
       "      <td>1.52733</td>\n",
       "      <td>1.14524</td>\n",
       "      <td>0.86303</td>\n",
       "      <td>0.58557</td>\n",
       "      <td>0.41203</td>\n",
       "      <td>0.28083</td>\n",
       "      <td>...</td>\n",
       "      <td>83.602439</td>\n",
       "      <td>20.975852</td>\n",
       "      <td>39610.0</td>\n",
       "      <td>4860.0</td>\n",
       "      <td>2190.0</td>\n",
       "      <td>8373338.0</td>\n",
       "      <td>0.655050</td>\n",
       "      <td>0.45</td>\n",
       "      <td>3.442500</td>\n",
       "      <td>18.720843</td>\n",
       "    </tr>\n",
       "    <tr>\n",
       "      <th>2</th>\n",
       "      <td>2</td>\n",
       "      <td>Iceland</td>\n",
       "      <td>Western Europe</td>\n",
       "      <td>7.501</td>\n",
       "      <td>1.42666</td>\n",
       "      <td>1.18326</td>\n",
       "      <td>0.86733</td>\n",
       "      <td>0.56624</td>\n",
       "      <td>0.14975</td>\n",
       "      <td>0.47678</td>\n",
       "      <td>...</td>\n",
       "      <td>82.204878</td>\n",
       "      <td>20.559440</td>\n",
       "      <td>2070.0</td>\n",
       "      <td>550.0</td>\n",
       "      <td>400.0</td>\n",
       "      <td>335439.0</td>\n",
       "      <td>2.742365</td>\n",
       "      <td>0.00</td>\n",
       "      <td>0.000000</td>\n",
       "      <td>20.559440</td>\n",
       "    </tr>\n",
       "    <tr>\n",
       "      <th>3</th>\n",
       "      <td>3</td>\n",
       "      <td>Norway</td>\n",
       "      <td>Western Europe</td>\n",
       "      <td>7.498</td>\n",
       "      <td>1.57744</td>\n",
       "      <td>1.12690</td>\n",
       "      <td>0.79579</td>\n",
       "      <td>0.59609</td>\n",
       "      <td>0.35776</td>\n",
       "      <td>0.37895</td>\n",
       "      <td>...</td>\n",
       "      <td>82.407317</td>\n",
       "      <td>20.585348</td>\n",
       "      <td>37950.0</td>\n",
       "      <td>4990.0</td>\n",
       "      <td>3220.0</td>\n",
       "      <td>5234519.0</td>\n",
       "      <td>1.456945</td>\n",
       "      <td>0.04</td>\n",
       "      <td>0.306000</td>\n",
       "      <td>20.139523</td>\n",
       "    </tr>\n",
       "    <tr>\n",
       "      <th>4</th>\n",
       "      <td>4</td>\n",
       "      <td>Finland</td>\n",
       "      <td>Western Europe</td>\n",
       "      <td>7.413</td>\n",
       "      <td>1.40598</td>\n",
       "      <td>1.13464</td>\n",
       "      <td>0.81091</td>\n",
       "      <td>0.57104</td>\n",
       "      <td>0.41004</td>\n",
       "      <td>0.25492</td>\n",
       "      <td>...</td>\n",
       "      <td>81.429268</td>\n",
       "      <td>19.648882</td>\n",
       "      <td>45710.0</td>\n",
       "      <td>4470.0</td>\n",
       "      <td>4650.0</td>\n",
       "      <td>5495303.0</td>\n",
       "      <td>1.923178</td>\n",
       "      <td>0.01</td>\n",
       "      <td>0.076500</td>\n",
       "      <td>19.501759</td>\n",
       "    </tr>\n",
       "    <tr>\n",
       "      <th>...</th>\n",
       "      <td>...</td>\n",
       "      <td>...</td>\n",
       "      <td>...</td>\n",
       "      <td>...</td>\n",
       "      <td>...</td>\n",
       "      <td>...</td>\n",
       "      <td>...</td>\n",
       "      <td>...</td>\n",
       "      <td>...</td>\n",
       "      <td>...</td>\n",
       "      <td>...</td>\n",
       "      <td>...</td>\n",
       "      <td>...</td>\n",
       "      <td>...</td>\n",
       "      <td>...</td>\n",
       "      <td>...</td>\n",
       "      <td>...</td>\n",
       "      <td>...</td>\n",
       "      <td>...</td>\n",
       "      <td>...</td>\n",
       "      <td>...</td>\n",
       "    </tr>\n",
       "    <tr>\n",
       "      <th>152</th>\n",
       "      <td>152</td>\n",
       "      <td>Benin</td>\n",
       "      <td>Sub-Saharan Africa</td>\n",
       "      <td>3.484</td>\n",
       "      <td>0.39499</td>\n",
       "      <td>0.10419</td>\n",
       "      <td>0.21028</td>\n",
       "      <td>0.39747</td>\n",
       "      <td>0.06681</td>\n",
       "      <td>0.20180</td>\n",
       "      <td>...</td>\n",
       "      <td>60.885000</td>\n",
       "      <td>-9.230166</td>\n",
       "      <td>7230.0</td>\n",
       "      <td>5380.0</td>\n",
       "      <td>2670.0</td>\n",
       "      <td>10872072.0</td>\n",
       "      <td>0.582790</td>\n",
       "      <td>1.18</td>\n",
       "      <td>9.026999</td>\n",
       "      <td>-14.491010</td>\n",
       "    </tr>\n",
       "    <tr>\n",
       "      <th>153</th>\n",
       "      <td>153</td>\n",
       "      <td>Afghanistan</td>\n",
       "      <td>Southern Asia</td>\n",
       "      <td>3.360</td>\n",
       "      <td>0.38227</td>\n",
       "      <td>0.11037</td>\n",
       "      <td>0.17344</td>\n",
       "      <td>0.16430</td>\n",
       "      <td>0.07112</td>\n",
       "      <td>0.31268</td>\n",
       "      <td>...</td>\n",
       "      <td>63.763000</td>\n",
       "      <td>-10.457132</td>\n",
       "      <td>7390.0</td>\n",
       "      <td>78150.0</td>\n",
       "      <td>9120.0</td>\n",
       "      <td>35383028.0</td>\n",
       "      <td>0.845526</td>\n",
       "      <td>1.06</td>\n",
       "      <td>8.108999</td>\n",
       "      <td>-17.313504</td>\n",
       "    </tr>\n",
       "    <tr>\n",
       "      <th>154</th>\n",
       "      <td>154</td>\n",
       "      <td>Togo</td>\n",
       "      <td>Sub-Saharan Africa</td>\n",
       "      <td>3.303</td>\n",
       "      <td>0.28123</td>\n",
       "      <td>0.00000</td>\n",
       "      <td>0.24811</td>\n",
       "      <td>0.34678</td>\n",
       "      <td>0.11587</td>\n",
       "      <td>0.17517</td>\n",
       "      <td>...</td>\n",
       "      <td>60.220000</td>\n",
       "      <td>-10.219334</td>\n",
       "      <td>2300.0</td>\n",
       "      <td>3370.0</td>\n",
       "      <td>1860.0</td>\n",
       "      <td>7509952.0</td>\n",
       "      <td>0.578246</td>\n",
       "      <td>1.02</td>\n",
       "      <td>7.803000</td>\n",
       "      <td>-14.731390</td>\n",
       "    </tr>\n",
       "    <tr>\n",
       "      <th>155</th>\n",
       "      <td>155</td>\n",
       "      <td>Syria</td>\n",
       "      <td>Middle East and Northern Africa</td>\n",
       "      <td>3.069</td>\n",
       "      <td>0.74719</td>\n",
       "      <td>0.14866</td>\n",
       "      <td>0.62994</td>\n",
       "      <td>0.06912</td>\n",
       "      <td>0.17233</td>\n",
       "      <td>0.48397</td>\n",
       "      <td>...</td>\n",
       "      <td>70.315000</td>\n",
       "      <td>-13.577827</td>\n",
       "      <td>26460.0</td>\n",
       "      <td>12900.0</td>\n",
       "      <td>3370.0</td>\n",
       "      <td>17465567.0</td>\n",
       "      <td>0.513625</td>\n",
       "      <td>1.33</td>\n",
       "      <td>10.174500</td>\n",
       "      <td>-18.803708</td>\n",
       "    </tr>\n",
       "    <tr>\n",
       "      <th>156</th>\n",
       "      <td>156</td>\n",
       "      <td>Burundi</td>\n",
       "      <td>Sub-Saharan Africa</td>\n",
       "      <td>2.905</td>\n",
       "      <td>0.06831</td>\n",
       "      <td>0.23442</td>\n",
       "      <td>0.15747</td>\n",
       "      <td>0.04320</td>\n",
       "      <td>0.09419</td>\n",
       "      <td>0.20290</td>\n",
       "      <td>...</td>\n",
       "      <td>60.528000</td>\n",
       "      <td>-12.680616</td>\n",
       "      <td>460.0</td>\n",
       "      <td>1860.0</td>\n",
       "      <td>2090.0</td>\n",
       "      <td>10488002.0</td>\n",
       "      <td>0.438113</td>\n",
       "      <td>2.78</td>\n",
       "      <td>21.267000</td>\n",
       "      <td>-21.997976</td>\n",
       "    </tr>\n",
       "  </tbody>\n",
       "</table>\n",
       "<p>147 rows × 22 columns</p>\n",
       "</div>"
      ],
      "text/plain": [
       "     Unnamed: 0      Country                           Region  \\\n",
       "0             0      Denmark                   Western Europe   \n",
       "1             1  Switzerland                   Western Europe   \n",
       "2             2      Iceland                   Western Europe   \n",
       "3             3       Norway                   Western Europe   \n",
       "4             4      Finland                   Western Europe   \n",
       "..          ...          ...                              ...   \n",
       "152         152        Benin               Sub-Saharan Africa   \n",
       "153         153  Afghanistan                    Southern Asia   \n",
       "154         154         Togo               Sub-Saharan Africa   \n",
       "155         155        Syria  Middle East and Northern Africa   \n",
       "156         156      Burundi               Sub-Saharan Africa   \n",
       "\n",
       "     Happiness Score  Economy (GDP per Capita)   Family  \\\n",
       "0              7.526                   1.44178  1.16374   \n",
       "1              7.509                   1.52733  1.14524   \n",
       "2              7.501                   1.42666  1.18326   \n",
       "3              7.498                   1.57744  1.12690   \n",
       "4              7.413                   1.40598  1.13464   \n",
       "..               ...                       ...      ...   \n",
       "152            3.484                   0.39499  0.10419   \n",
       "153            3.360                   0.38227  0.11037   \n",
       "154            3.303                   0.28123  0.00000   \n",
       "155            3.069                   0.74719  0.14866   \n",
       "156            2.905                   0.06831  0.23442   \n",
       "\n",
       "     Health (Life Expectancy)  Freedom  Trust (Government Corruption)  \\\n",
       "0                     0.79504  0.57941                        0.44453   \n",
       "1                     0.86303  0.58557                        0.41203   \n",
       "2                     0.86733  0.56624                        0.14975   \n",
       "3                     0.79579  0.59609                        0.35776   \n",
       "4                     0.81091  0.57104                        0.41004   \n",
       "..                        ...      ...                            ...   \n",
       "152                   0.21028  0.39747                        0.06681   \n",
       "153                   0.17344  0.16430                        0.07112   \n",
       "154                   0.24811  0.34678                        0.11587   \n",
       "155                   0.62994  0.06912                        0.17233   \n",
       "156                   0.15747  0.04320                        0.09419   \n",
       "\n",
       "     Generosity  ...  2016_lifeexp       NHLY  2016_co2  2016_ch4  2016_n2o  \\\n",
       "0       0.36171  ...     80.853659  20.423634   35380.0    7170.0    5080.0   \n",
       "1       0.28083  ...     83.602439  20.975852   39610.0    4860.0    2190.0   \n",
       "2       0.47678  ...     82.204878  20.559440    2070.0     550.0     400.0   \n",
       "3       0.37895  ...     82.407317  20.585348   37950.0    4990.0    3220.0   \n",
       "4       0.25492  ...     81.429268  19.648882   45710.0    4470.0    4650.0   \n",
       "..          ...  ...           ...        ...       ...       ...       ...   \n",
       "152     0.20180  ...     60.885000  -9.230166    7230.0    5380.0    2670.0   \n",
       "153     0.31268  ...     63.763000 -10.457132    7390.0   78150.0    9120.0   \n",
       "154     0.17517  ...     60.220000 -10.219334    2300.0    3370.0    1860.0   \n",
       "155     0.48397  ...     70.315000 -13.577827   26460.0   12900.0    3370.0   \n",
       "156     0.20290  ...     60.528000 -12.680616     460.0    1860.0    2090.0   \n",
       "\n",
       "       2016_pop  2016_extcostratio  2016_llpp_who       PCEC      ERHNI  \n",
       "0     5728010.0           2.054713           0.23   1.759500  16.808367  \n",
       "1     8373338.0           0.655050           0.45   3.442500  18.720843  \n",
       "2      335439.0           2.742365           0.00   0.000000  20.559440  \n",
       "3     5234519.0           1.456945           0.04   0.306000  20.139523  \n",
       "4     5495303.0           1.923178           0.01   0.076500  19.501759  \n",
       "..          ...                ...            ...        ...        ...  \n",
       "152  10872072.0           0.582790           1.18   9.026999 -14.491010  \n",
       "153  35383028.0           0.845526           1.06   8.108999 -17.313504  \n",
       "154   7509952.0           0.578246           1.02   7.803000 -14.731390  \n",
       "155  17465567.0           0.513625           1.33  10.174500 -18.803708  \n",
       "156  10488002.0           0.438113           2.78  21.267000 -21.997976  \n",
       "\n",
       "[147 rows x 22 columns]"
      ]
     },
     "execution_count": 122,
     "metadata": {},
     "output_type": "execute_result"
    }
   ],
   "source": [
    "# test = pd.read_csv('data/processed/2016.csv')\n",
    "# test['ERHNI'].isna().sum()\n",
    "# test.dropna(subset=['ERHNI'], inplace=True)"
   ]
  },
  {
   "cell_type": "code",
   "execution_count": 139,
   "id": "2254a04f",
   "metadata": {
    "ExecuteTime": {
     "end_time": "2022-07-25T14:06:07.954859Z",
     "start_time": "2022-07-25T14:06:07.944051Z"
    }
   },
   "outputs": [],
   "source": [
    "keys = {'2016' : ['Country','Region', 'Happiness Score', 'Economy (GDP per Capita)', 'Family', 'Health (Life Expectancy)', 'Freedom', 'Trust (Government Corruption)', 'Generosity', 'Dystopia Residual', 'Country Code', '2016']}\n",
    "\n",
    "\n",
    "def test(year):\n",
    "    if 'year' in keys:\n",
    "        print(keys[x])\n",
    "        return keys[x]"
   ]
  },
  {
   "cell_type": "code",
   "execution_count": 143,
   "id": "2edafc96",
   "metadata": {
    "ExecuteTime": {
     "end_time": "2022-07-25T14:07:03.373744Z",
     "start_time": "2022-07-25T14:07:03.360303Z"
    }
   },
   "outputs": [
    {
     "data": {
      "text/plain": [
       "dict_items([('2016', ['Country', 'Region', 'Happiness Score', 'Economy (GDP per Capita)', 'Family', 'Health (Life Expectancy)', 'Freedom', 'Trust (Government Corruption)', 'Generosity', 'Dystopia Residual', 'Country Code', '2016'])])"
      ]
     },
     "execution_count": 143,
     "metadata": {},
     "output_type": "execute_result"
    }
   ],
   "source": [
    "keys.items()"
   ]
  },
  {
   "cell_type": "code",
   "execution_count": 176,
   "id": "8f965959",
   "metadata": {
    "ExecuteTime": {
     "end_time": "2022-07-25T14:35:58.730193Z",
     "start_time": "2022-07-25T14:35:58.713605Z"
    }
   },
   "outputs": [
    {
     "data": {
      "text/plain": [
       "Index(['Unnamed: 0', 'Country', 'Region', 'Happiness Score',\n",
       "       'Economy (GDP per Capita)', 'Family', 'Health (Life Expectancy)',\n",
       "       'Freedom', 'Trust (Government Corruption)', 'Generosity',\n",
       "       'Dystopia Residual', 'Country Code', '2016_lifeexp', 'NHLY', '2016_co2',\n",
       "       '2016_ch4', '2016_n2o', '2016_pop', '2016_extcostratio',\n",
       "       '2016_llpp_who', 'PCEC', 'ERHNI'],\n",
       "      dtype='object')"
      ]
     },
     "execution_count": 176,
     "metadata": {},
     "output_type": "execute_result"
    }
   ],
   "source": [
    "test_2016 = pd.read_csv('data/processed/2016.csv')\n",
    "test_2017 = pd.read_csv('data/processed/2017.csv')\n",
    "test_2018 = pd.read_csv('data/processed/2018.csv')\n",
    "\n",
    "test_2016.columns"
   ]
  },
  {
   "cell_type": "code",
   "execution_count": 172,
   "id": "59aad09c",
   "metadata": {
    "ExecuteTime": {
     "end_time": "2022-07-25T14:30:57.185898Z",
     "start_time": "2022-07-25T14:30:57.174821Z"
    }
   },
   "outputs": [
    {
     "data": {
      "text/plain": [
       "36    Trinidad and Tobago\n",
       "58           North Cyprus\n",
       "Name: Country, dtype: object"
      ]
     },
     "execution_count": 172,
     "metadata": {},
     "output_type": "execute_result"
    }
   ],
   "source": [
    "import numpy as np\n",
    "\n",
    "test_2017['Country'][test_2017['Country'].isin(test_2018['Country']) == False]\n",
    "\n",
    "# 36    Trinidad and Tobago and 58           North Cyprus are missing for year 2018"
   ]
  },
  {
   "cell_type": "markdown",
   "id": "74fde821",
   "metadata": {
    "ExecuteTime": {
     "end_time": "2022-07-25T14:34:18.987887Z",
     "start_time": "2022-07-25T14:34:18.977264Z"
    }
   },
   "source": [
    "# Let's regress ERHNI for year 2016 against variables of interest"
   ]
  },
  {
   "cell_type": "code",
   "execution_count": 198,
   "id": "87db86dc",
   "metadata": {
    "ExecuteTime": {
     "end_time": "2022-07-25T14:54:32.271089Z",
     "start_time": "2022-07-25T14:54:32.246801Z"
    }
   },
   "outputs": [
    {
     "data": {
      "text/html": [
       "<table class=\"simpletable\">\n",
       "<caption>OLS Regression Results</caption>\n",
       "<tr>\n",
       "  <th>Dep. Variable:</th>          <td>ERHNI</td>      <th>  R-squared:         </th> <td>   0.129</td>\n",
       "</tr>\n",
       "<tr>\n",
       "  <th>Model:</th>                   <td>OLS</td>       <th>  Adj. R-squared:    </th> <td>   0.104</td>\n",
       "</tr>\n",
       "<tr>\n",
       "  <th>Method:</th>             <td>Least Squares</td>  <th>  F-statistic:       </th> <td>   5.252</td>\n",
       "</tr>\n",
       "<tr>\n",
       "  <th>Date:</th>             <td>Mon, 25 Jul 2022</td> <th>  Prob (F-statistic):</th> <td>0.000565</td>\n",
       "</tr>\n",
       "<tr>\n",
       "  <th>Time:</th>                 <td>22:54:32</td>     <th>  Log-Likelihood:    </th> <td> -663.71</td>\n",
       "</tr>\n",
       "<tr>\n",
       "  <th>No. Observations:</th>      <td>   147</td>      <th>  AIC:               </th> <td>   1337.</td>\n",
       "</tr>\n",
       "<tr>\n",
       "  <th>Df Residuals:</th>          <td>   142</td>      <th>  BIC:               </th> <td>   1352.</td>\n",
       "</tr>\n",
       "<tr>\n",
       "  <th>Df Model:</th>              <td>     4</td>      <th>                     </th>     <td> </td>   \n",
       "</tr>\n",
       "<tr>\n",
       "  <th>Covariance Type:</th>      <td>nonrobust</td>    <th>                     </th>     <td> </td>   \n",
       "</tr>\n",
       "</table>\n",
       "<table class=\"simpletable\">\n",
       "<tr>\n",
       "              <td></td>                <th>coef</th>     <th>std err</th>      <th>t</th>      <th>P>|t|</th>  <th>[0.025</th>    <th>0.975]</th>  \n",
       "</tr>\n",
       "<tr>\n",
       "  <th>const</th>                    <td>  -30.8160</td> <td>    6.776</td> <td>   -4.547</td> <td> 0.000</td> <td>  -44.212</td> <td>  -17.420</td>\n",
       "</tr>\n",
       "<tr>\n",
       "  <th>Economy (GDP per Capita)</th> <td>   16.4970</td> <td>    6.255</td> <td>    2.638</td> <td> 0.009</td> <td>    4.133</td> <td>   28.861</td>\n",
       "</tr>\n",
       "<tr>\n",
       "  <th>Family</th>                   <td>    1.0116</td> <td>    9.814</td> <td>    0.103</td> <td> 0.918</td> <td>  -18.389</td> <td>   20.412</td>\n",
       "</tr>\n",
       "<tr>\n",
       "  <th>Freedom</th>                  <td>   19.8071</td> <td>   15.448</td> <td>    1.282</td> <td> 0.202</td> <td>  -10.732</td> <td>   50.346</td>\n",
       "</tr>\n",
       "<tr>\n",
       "  <th>Generosity</th>               <td>    0.2206</td> <td>   15.122</td> <td>    0.015</td> <td> 0.988</td> <td>  -29.673</td> <td>   30.114</td>\n",
       "</tr>\n",
       "</table>\n",
       "<table class=\"simpletable\">\n",
       "<tr>\n",
       "  <th>Omnibus:</th>       <td>250.439</td> <th>  Durbin-Watson:     </th> <td>   1.913</td> \n",
       "</tr>\n",
       "<tr>\n",
       "  <th>Prob(Omnibus):</th> <td> 0.000</td>  <th>  Jarque-Bera (JB):  </th> <td>32799.478</td>\n",
       "</tr>\n",
       "<tr>\n",
       "  <th>Skew:</th>          <td>-7.657</td>  <th>  Prob(JB):          </th> <td>    0.00</td> \n",
       "</tr>\n",
       "<tr>\n",
       "  <th>Kurtosis:</th>      <td>74.558</td>  <th>  Cond. No.          </th> <td>    16.5</td> \n",
       "</tr>\n",
       "</table><br/><br/>Notes:<br/>[1] Standard Errors assume that the covariance matrix of the errors is correctly specified."
      ],
      "text/plain": [
       "<class 'statsmodels.iolib.summary.Summary'>\n",
       "\"\"\"\n",
       "                            OLS Regression Results                            \n",
       "==============================================================================\n",
       "Dep. Variable:                  ERHNI   R-squared:                       0.129\n",
       "Model:                            OLS   Adj. R-squared:                  0.104\n",
       "Method:                 Least Squares   F-statistic:                     5.252\n",
       "Date:                Mon, 25 Jul 2022   Prob (F-statistic):           0.000565\n",
       "Time:                        22:54:32   Log-Likelihood:                -663.71\n",
       "No. Observations:                 147   AIC:                             1337.\n",
       "Df Residuals:                     142   BIC:                             1352.\n",
       "Df Model:                           4                                         \n",
       "Covariance Type:            nonrobust                                         \n",
       "============================================================================================\n",
       "                               coef    std err          t      P>|t|      [0.025      0.975]\n",
       "--------------------------------------------------------------------------------------------\n",
       "const                      -30.8160      6.776     -4.547      0.000     -44.212     -17.420\n",
       "Economy (GDP per Capita)    16.4970      6.255      2.638      0.009       4.133      28.861\n",
       "Family                       1.0116      9.814      0.103      0.918     -18.389      20.412\n",
       "Freedom                     19.8071     15.448      1.282      0.202     -10.732      50.346\n",
       "Generosity                   0.2206     15.122      0.015      0.988     -29.673      30.114\n",
       "==============================================================================\n",
       "Omnibus:                      250.439   Durbin-Watson:                   1.913\n",
       "Prob(Omnibus):                  0.000   Jarque-Bera (JB):            32799.478\n",
       "Skew:                          -7.657   Prob(JB):                         0.00\n",
       "Kurtosis:                      74.558   Cond. No.                         16.5\n",
       "==============================================================================\n",
       "\n",
       "Notes:\n",
       "[1] Standard Errors assume that the covariance matrix of the errors is correctly specified.\n",
       "\"\"\""
      ]
     },
     "execution_count": 198,
     "metadata": {},
     "output_type": "execute_result"
    }
   ],
   "source": [
    "y = test_2016['ERHNI']\n",
    "X = test_2016[['Economy (GDP per Capita)', 'Family', 'Freedom', 'Generosity']]\n",
    "\n",
    "from statsmodels.api import OLS\n",
    "import statsmodels.api as sm\n",
    "X = sm.add_constant(X)\n",
    "model = OLS(y,X)\n",
    "results = model.fit()\n",
    "results.summary()\n",
    "#results.params"
   ]
  },
  {
   "cell_type": "code",
   "execution_count": 200,
   "id": "2baa636b",
   "metadata": {
    "ExecuteTime": {
     "end_time": "2022-07-25T14:55:05.287399Z",
     "start_time": "2022-07-25T14:55:05.261600Z"
    }
   },
   "outputs": [
    {
     "data": {
      "text/html": [
       "<table class=\"simpletable\">\n",
       "<caption>OLS Regression Results</caption>\n",
       "<tr>\n",
       "  <th>Dep. Variable:</th>          <td>ERHNI</td>      <th>  R-squared:         </th> <td>   0.129</td>\n",
       "</tr>\n",
       "<tr>\n",
       "  <th>Model:</th>                   <td>OLS</td>       <th>  Adj. R-squared:    </th> <td>   0.104</td>\n",
       "</tr>\n",
       "<tr>\n",
       "  <th>Method:</th>             <td>Least Squares</td>  <th>  F-statistic:       </th> <td>   5.252</td>\n",
       "</tr>\n",
       "<tr>\n",
       "  <th>Date:</th>             <td>Mon, 25 Jul 2022</td> <th>  Prob (F-statistic):</th> <td>0.000565</td>\n",
       "</tr>\n",
       "<tr>\n",
       "  <th>Time:</th>                 <td>22:55:05</td>     <th>  Log-Likelihood:    </th> <td> -663.71</td>\n",
       "</tr>\n",
       "<tr>\n",
       "  <th>No. Observations:</th>      <td>   147</td>      <th>  AIC:               </th> <td>   1337.</td>\n",
       "</tr>\n",
       "<tr>\n",
       "  <th>Df Residuals:</th>          <td>   142</td>      <th>  BIC:               </th> <td>   1352.</td>\n",
       "</tr>\n",
       "<tr>\n",
       "  <th>Df Model:</th>              <td>     4</td>      <th>                     </th>     <td> </td>   \n",
       "</tr>\n",
       "<tr>\n",
       "  <th>Covariance Type:</th>      <td>nonrobust</td>    <th>                     </th>     <td> </td>   \n",
       "</tr>\n",
       "</table>\n",
       "<table class=\"simpletable\">\n",
       "<tr>\n",
       "              <td></td>                <th>coef</th>     <th>std err</th>      <th>t</th>      <th>P>|t|</th>  <th>[0.025</th>    <th>0.975]</th>  \n",
       "</tr>\n",
       "<tr>\n",
       "  <th>const</th>                    <td>  -30.8160</td> <td>    6.776</td> <td>   -4.547</td> <td> 0.000</td> <td>  -44.212</td> <td>  -17.420</td>\n",
       "</tr>\n",
       "<tr>\n",
       "  <th>Economy (GDP per Capita)</th> <td>   16.4970</td> <td>    6.255</td> <td>    2.638</td> <td> 0.009</td> <td>    4.133</td> <td>   28.861</td>\n",
       "</tr>\n",
       "<tr>\n",
       "  <th>Family</th>                   <td>    1.0116</td> <td>    9.814</td> <td>    0.103</td> <td> 0.918</td> <td>  -18.389</td> <td>   20.412</td>\n",
       "</tr>\n",
       "<tr>\n",
       "  <th>Freedom</th>                  <td>   19.8071</td> <td>   15.448</td> <td>    1.282</td> <td> 0.202</td> <td>  -10.732</td> <td>   50.346</td>\n",
       "</tr>\n",
       "<tr>\n",
       "  <th>Generosity</th>               <td>    0.2206</td> <td>   15.122</td> <td>    0.015</td> <td> 0.988</td> <td>  -29.673</td> <td>   30.114</td>\n",
       "</tr>\n",
       "</table>\n",
       "<table class=\"simpletable\">\n",
       "<tr>\n",
       "  <th>Omnibus:</th>       <td>250.439</td> <th>  Durbin-Watson:     </th> <td>   1.913</td> \n",
       "</tr>\n",
       "<tr>\n",
       "  <th>Prob(Omnibus):</th> <td> 0.000</td>  <th>  Jarque-Bera (JB):  </th> <td>32799.478</td>\n",
       "</tr>\n",
       "<tr>\n",
       "  <th>Skew:</th>          <td>-7.657</td>  <th>  Prob(JB):          </th> <td>    0.00</td> \n",
       "</tr>\n",
       "<tr>\n",
       "  <th>Kurtosis:</th>      <td>74.558</td>  <th>  Cond. No.          </th> <td>    16.5</td> \n",
       "</tr>\n",
       "</table><br/><br/>Notes:<br/>[1] Standard Errors assume that the covariance matrix of the errors is correctly specified."
      ],
      "text/plain": [
       "<class 'statsmodels.iolib.summary.Summary'>\n",
       "\"\"\"\n",
       "                            OLS Regression Results                            \n",
       "==============================================================================\n",
       "Dep. Variable:                  ERHNI   R-squared:                       0.129\n",
       "Model:                            OLS   Adj. R-squared:                  0.104\n",
       "Method:                 Least Squares   F-statistic:                     5.252\n",
       "Date:                Mon, 25 Jul 2022   Prob (F-statistic):           0.000565\n",
       "Time:                        22:55:05   Log-Likelihood:                -663.71\n",
       "No. Observations:                 147   AIC:                             1337.\n",
       "Df Residuals:                     142   BIC:                             1352.\n",
       "Df Model:                           4                                         \n",
       "Covariance Type:            nonrobust                                         \n",
       "============================================================================================\n",
       "                               coef    std err          t      P>|t|      [0.025      0.975]\n",
       "--------------------------------------------------------------------------------------------\n",
       "const                      -30.8160      6.776     -4.547      0.000     -44.212     -17.420\n",
       "Economy (GDP per Capita)    16.4970      6.255      2.638      0.009       4.133      28.861\n",
       "Family                       1.0116      9.814      0.103      0.918     -18.389      20.412\n",
       "Freedom                     19.8071     15.448      1.282      0.202     -10.732      50.346\n",
       "Generosity                   0.2206     15.122      0.015      0.988     -29.673      30.114\n",
       "==============================================================================\n",
       "Omnibus:                      250.439   Durbin-Watson:                   1.913\n",
       "Prob(Omnibus):                  0.000   Jarque-Bera (JB):            32799.478\n",
       "Skew:                          -7.657   Prob(JB):                         0.00\n",
       "Kurtosis:                      74.558   Cond. No.                         16.5\n",
       "==============================================================================\n",
       "\n",
       "Notes:\n",
       "[1] Standard Errors assume that the covariance matrix of the errors is correctly specified.\n",
       "\"\"\""
      ]
     },
     "execution_count": 200,
     "metadata": {},
     "output_type": "execute_result"
    }
   ],
   "source": [
    "y_2017 = test_2017['ERHNI']\n",
    "X_2017 = test_2017[['Economy (GDP per Capita)', 'Family', 'Freedom', 'Generosity']]\n",
    "\n",
    "X_2017 = sm.add_constant(X_2017)\n",
    "model_2017 = OLS(y_2017,X_2017)\n",
    "results_2017 = model.fit()\n",
    "results_2017.summary()"
   ]
  },
  {
   "cell_type": "code",
   "execution_count": 199,
   "id": "915fcb7c",
   "metadata": {
    "ExecuteTime": {
     "end_time": "2022-07-25T14:55:03.158213Z",
     "start_time": "2022-07-25T14:55:03.133761Z"
    }
   },
   "outputs": [
    {
     "data": {
      "text/html": [
       "<table class=\"simpletable\">\n",
       "<caption>OLS Regression Results</caption>\n",
       "<tr>\n",
       "  <th>Dep. Variable:</th>          <td>ERHNI</td>      <th>  R-squared:         </th> <td>   0.129</td>\n",
       "</tr>\n",
       "<tr>\n",
       "  <th>Model:</th>                   <td>OLS</td>       <th>  Adj. R-squared:    </th> <td>   0.104</td>\n",
       "</tr>\n",
       "<tr>\n",
       "  <th>Method:</th>             <td>Least Squares</td>  <th>  F-statistic:       </th> <td>   5.252</td>\n",
       "</tr>\n",
       "<tr>\n",
       "  <th>Date:</th>             <td>Mon, 25 Jul 2022</td> <th>  Prob (F-statistic):</th> <td>0.000565</td>\n",
       "</tr>\n",
       "<tr>\n",
       "  <th>Time:</th>                 <td>22:55:03</td>     <th>  Log-Likelihood:    </th> <td> -663.71</td>\n",
       "</tr>\n",
       "<tr>\n",
       "  <th>No. Observations:</th>      <td>   147</td>      <th>  AIC:               </th> <td>   1337.</td>\n",
       "</tr>\n",
       "<tr>\n",
       "  <th>Df Residuals:</th>          <td>   142</td>      <th>  BIC:               </th> <td>   1352.</td>\n",
       "</tr>\n",
       "<tr>\n",
       "  <th>Df Model:</th>              <td>     4</td>      <th>                     </th>     <td> </td>   \n",
       "</tr>\n",
       "<tr>\n",
       "  <th>Covariance Type:</th>      <td>nonrobust</td>    <th>                     </th>     <td> </td>   \n",
       "</tr>\n",
       "</table>\n",
       "<table class=\"simpletable\">\n",
       "<tr>\n",
       "              <td></td>                <th>coef</th>     <th>std err</th>      <th>t</th>      <th>P>|t|</th>  <th>[0.025</th>    <th>0.975]</th>  \n",
       "</tr>\n",
       "<tr>\n",
       "  <th>const</th>                    <td>  -30.8160</td> <td>    6.776</td> <td>   -4.547</td> <td> 0.000</td> <td>  -44.212</td> <td>  -17.420</td>\n",
       "</tr>\n",
       "<tr>\n",
       "  <th>Economy (GDP per Capita)</th> <td>   16.4970</td> <td>    6.255</td> <td>    2.638</td> <td> 0.009</td> <td>    4.133</td> <td>   28.861</td>\n",
       "</tr>\n",
       "<tr>\n",
       "  <th>Family</th>                   <td>    1.0116</td> <td>    9.814</td> <td>    0.103</td> <td> 0.918</td> <td>  -18.389</td> <td>   20.412</td>\n",
       "</tr>\n",
       "<tr>\n",
       "  <th>Freedom</th>                  <td>   19.8071</td> <td>   15.448</td> <td>    1.282</td> <td> 0.202</td> <td>  -10.732</td> <td>   50.346</td>\n",
       "</tr>\n",
       "<tr>\n",
       "  <th>Generosity</th>               <td>    0.2206</td> <td>   15.122</td> <td>    0.015</td> <td> 0.988</td> <td>  -29.673</td> <td>   30.114</td>\n",
       "</tr>\n",
       "</table>\n",
       "<table class=\"simpletable\">\n",
       "<tr>\n",
       "  <th>Omnibus:</th>       <td>250.439</td> <th>  Durbin-Watson:     </th> <td>   1.913</td> \n",
       "</tr>\n",
       "<tr>\n",
       "  <th>Prob(Omnibus):</th> <td> 0.000</td>  <th>  Jarque-Bera (JB):  </th> <td>32799.478</td>\n",
       "</tr>\n",
       "<tr>\n",
       "  <th>Skew:</th>          <td>-7.657</td>  <th>  Prob(JB):          </th> <td>    0.00</td> \n",
       "</tr>\n",
       "<tr>\n",
       "  <th>Kurtosis:</th>      <td>74.558</td>  <th>  Cond. No.          </th> <td>    16.5</td> \n",
       "</tr>\n",
       "</table><br/><br/>Notes:<br/>[1] Standard Errors assume that the covariance matrix of the errors is correctly specified."
      ],
      "text/plain": [
       "<class 'statsmodels.iolib.summary.Summary'>\n",
       "\"\"\"\n",
       "                            OLS Regression Results                            \n",
       "==============================================================================\n",
       "Dep. Variable:                  ERHNI   R-squared:                       0.129\n",
       "Model:                            OLS   Adj. R-squared:                  0.104\n",
       "Method:                 Least Squares   F-statistic:                     5.252\n",
       "Date:                Mon, 25 Jul 2022   Prob (F-statistic):           0.000565\n",
       "Time:                        22:55:03   Log-Likelihood:                -663.71\n",
       "No. Observations:                 147   AIC:                             1337.\n",
       "Df Residuals:                     142   BIC:                             1352.\n",
       "Df Model:                           4                                         \n",
       "Covariance Type:            nonrobust                                         \n",
       "============================================================================================\n",
       "                               coef    std err          t      P>|t|      [0.025      0.975]\n",
       "--------------------------------------------------------------------------------------------\n",
       "const                      -30.8160      6.776     -4.547      0.000     -44.212     -17.420\n",
       "Economy (GDP per Capita)    16.4970      6.255      2.638      0.009       4.133      28.861\n",
       "Family                       1.0116      9.814      0.103      0.918     -18.389      20.412\n",
       "Freedom                     19.8071     15.448      1.282      0.202     -10.732      50.346\n",
       "Generosity                   0.2206     15.122      0.015      0.988     -29.673      30.114\n",
       "==============================================================================\n",
       "Omnibus:                      250.439   Durbin-Watson:                   1.913\n",
       "Prob(Omnibus):                  0.000   Jarque-Bera (JB):            32799.478\n",
       "Skew:                          -7.657   Prob(JB):                         0.00\n",
       "Kurtosis:                      74.558   Cond. No.                         16.5\n",
       "==============================================================================\n",
       "\n",
       "Notes:\n",
       "[1] Standard Errors assume that the covariance matrix of the errors is correctly specified.\n",
       "\"\"\""
      ]
     },
     "execution_count": 199,
     "metadata": {},
     "output_type": "execute_result"
    }
   ],
   "source": [
    "y_2018 = test_2018['ERHNI']\n",
    "X_2018 = test_2018[['Economy (GDP per Capita)', 'Family', 'Freedom', 'Generosity']]\n",
    "\n",
    "X_2018 = sm.add_constant(X_2018)\n",
    "model_2018 = OLS(y_2018,X_2018)\n",
    "results_2018 = model.fit()\n",
    "results_2018.summary()"
   ]
  },
  {
   "cell_type": "markdown",
   "id": "b92869fe",
   "metadata": {
    "ExecuteTime": {
     "end_time": "2022-07-25T15:15:54.081761Z",
     "start_time": "2022-07-25T15:15:54.069232Z"
    }
   },
   "source": [
    "# Let's try to do a multi-year analysis by merging dataframes for the 3 years together"
   ]
  },
  {
   "cell_type": "code",
   "execution_count": 221,
   "id": "1edd14fc",
   "metadata": {
    "ExecuteTime": {
     "end_time": "2022-07-25T15:36:48.466416Z",
     "start_time": "2022-07-25T15:36:48.440068Z"
    }
   },
   "outputs": [
    {
     "data": {
      "text/html": [
       "<table class=\"simpletable\">\n",
       "<caption>OLS Regression Results</caption>\n",
       "<tr>\n",
       "  <th>Dep. Variable:</th>          <td>ERHNI</td>      <th>  R-squared:         </th> <td>   0.158</td>\n",
       "</tr>\n",
       "<tr>\n",
       "  <th>Model:</th>                   <td>OLS</td>       <th>  Adj. R-squared:    </th> <td>   0.150</td>\n",
       "</tr>\n",
       "<tr>\n",
       "  <th>Method:</th>             <td>Least Squares</td>  <th>  F-statistic:       </th> <td>   20.38</td>\n",
       "</tr>\n",
       "<tr>\n",
       "  <th>Date:</th>             <td>Mon, 25 Jul 2022</td> <th>  Prob (F-statistic):</th> <td>2.12e-15</td>\n",
       "</tr>\n",
       "<tr>\n",
       "  <th>Time:</th>                 <td>23:36:48</td>     <th>  Log-Likelihood:    </th> <td> -2043.7</td>\n",
       "</tr>\n",
       "<tr>\n",
       "  <th>No. Observations:</th>      <td>   440</td>      <th>  AIC:               </th> <td>   4097.</td>\n",
       "</tr>\n",
       "<tr>\n",
       "  <th>Df Residuals:</th>          <td>   435</td>      <th>  BIC:               </th> <td>   4118.</td>\n",
       "</tr>\n",
       "<tr>\n",
       "  <th>Df Model:</th>              <td>     4</td>      <th>                     </th>     <td> </td>   \n",
       "</tr>\n",
       "<tr>\n",
       "  <th>Covariance Type:</th>      <td>nonrobust</td>    <th>                     </th>     <td> </td>   \n",
       "</tr>\n",
       "</table>\n",
       "<table class=\"simpletable\">\n",
       "<tr>\n",
       "              <td></td>                <th>coef</th>     <th>std err</th>      <th>t</th>      <th>P>|t|</th>  <th>[0.025</th>    <th>0.975]</th>  \n",
       "</tr>\n",
       "<tr>\n",
       "  <th>const</th>                    <td>  -42.9400</td> <td>    4.668</td> <td>   -9.198</td> <td> 0.000</td> <td>  -52.115</td> <td>  -33.765</td>\n",
       "</tr>\n",
       "<tr>\n",
       "  <th>Economy (GDP per Capita)</th> <td>   18.0670</td> <td>    3.535</td> <td>    5.111</td> <td> 0.000</td> <td>   11.120</td> <td>   25.014</td>\n",
       "</tr>\n",
       "<tr>\n",
       "  <th>Family</th>                   <td>   10.4822</td> <td>    4.471</td> <td>    2.344</td> <td> 0.020</td> <td>    1.695</td> <td>   19.270</td>\n",
       "</tr>\n",
       "<tr>\n",
       "  <th>Freedom</th>                  <td>   11.4746</td> <td>    9.069</td> <td>    1.265</td> <td> 0.206</td> <td>   -6.349</td> <td>   29.298</td>\n",
       "</tr>\n",
       "<tr>\n",
       "  <th>Generosity</th>               <td>    9.8898</td> <td>    9.906</td> <td>    0.998</td> <td> 0.319</td> <td>   -9.579</td> <td>   29.359</td>\n",
       "</tr>\n",
       "</table>\n",
       "<table class=\"simpletable\">\n",
       "<tr>\n",
       "  <th>Omnibus:</th>       <td>580.830</td> <th>  Durbin-Watson:     </th> <td>   1.991</td> \n",
       "</tr>\n",
       "<tr>\n",
       "  <th>Prob(Omnibus):</th> <td> 0.000</td>  <th>  Jarque-Bera (JB):  </th> <td>52734.510</td>\n",
       "</tr>\n",
       "<tr>\n",
       "  <th>Skew:</th>          <td>-6.674</td>  <th>  Prob(JB):          </th> <td>    0.00</td> \n",
       "</tr>\n",
       "<tr>\n",
       "  <th>Kurtosis:</th>      <td>54.945</td>  <th>  Cond. No.          </th> <td>    16.8</td> \n",
       "</tr>\n",
       "</table><br/><br/>Notes:<br/>[1] Standard Errors assume that the covariance matrix of the errors is correctly specified."
      ],
      "text/plain": [
       "<class 'statsmodels.iolib.summary.Summary'>\n",
       "\"\"\"\n",
       "                            OLS Regression Results                            \n",
       "==============================================================================\n",
       "Dep. Variable:                  ERHNI   R-squared:                       0.158\n",
       "Model:                            OLS   Adj. R-squared:                  0.150\n",
       "Method:                 Least Squares   F-statistic:                     20.38\n",
       "Date:                Mon, 25 Jul 2022   Prob (F-statistic):           2.12e-15\n",
       "Time:                        23:36:48   Log-Likelihood:                -2043.7\n",
       "No. Observations:                 440   AIC:                             4097.\n",
       "Df Residuals:                     435   BIC:                             4118.\n",
       "Df Model:                           4                                         \n",
       "Covariance Type:            nonrobust                                         \n",
       "============================================================================================\n",
       "                               coef    std err          t      P>|t|      [0.025      0.975]\n",
       "--------------------------------------------------------------------------------------------\n",
       "const                      -42.9400      4.668     -9.198      0.000     -52.115     -33.765\n",
       "Economy (GDP per Capita)    18.0670      3.535      5.111      0.000      11.120      25.014\n",
       "Family                      10.4822      4.471      2.344      0.020       1.695      19.270\n",
       "Freedom                     11.4746      9.069      1.265      0.206      -6.349      29.298\n",
       "Generosity                   9.8898      9.906      0.998      0.319      -9.579      29.359\n",
       "==============================================================================\n",
       "Omnibus:                      580.830   Durbin-Watson:                   1.991\n",
       "Prob(Omnibus):                  0.000   Jarque-Bera (JB):            52734.510\n",
       "Skew:                          -6.674   Prob(JB):                         0.00\n",
       "Kurtosis:                      54.945   Cond. No.                         16.8\n",
       "==============================================================================\n",
       "\n",
       "Notes:\n",
       "[1] Standard Errors assume that the covariance matrix of the errors is correctly specified.\n",
       "\"\"\""
      ]
     },
     "execution_count": 221,
     "metadata": {},
     "output_type": "execute_result"
    }
   ],
   "source": [
    "merged_y = pd.read_csv('data/processed/merged_y.csv')\n",
    "y = merged_y['ERHNI']\n",
    "X = merged_y[['Economy (GDP per Capita)', 'Family', 'Freedom', 'Generosity']]\n",
    "\n",
    "from statsmodels.api import OLS\n",
    "import statsmodels.api as sm\n",
    "X = sm.add_constant(X)\n",
    "model = OLS(y,X)\n",
    "results = model.fit()\n",
    "results.summary()"
   ]
  },
  {
   "cell_type": "code",
   "execution_count": 214,
   "id": "ad8988aa",
   "metadata": {
    "ExecuteTime": {
     "end_time": "2022-07-25T15:19:31.200925Z",
     "start_time": "2022-07-25T15:19:31.188089Z"
    }
   },
   "outputs": [],
   "source": [
    "test_2016['Year'] = '2016'"
   ]
  },
  {
   "cell_type": "code",
   "execution_count": 216,
   "id": "2a62a635",
   "metadata": {
    "ExecuteTime": {
     "end_time": "2022-07-25T15:20:00.213954Z",
     "start_time": "2022-07-25T15:20:00.200432Z"
    }
   },
   "outputs": [],
   "source": [
    "test_2017['Year'] = '2017'\n",
    "test_2018['Year'] = '2018'"
   ]
  },
  {
   "cell_type": "code",
   "execution_count": 218,
   "id": "b651dd1a",
   "metadata": {
    "ExecuteTime": {
     "end_time": "2022-07-25T15:22:40.940138Z",
     "start_time": "2022-07-25T15:22:40.922822Z"
    }
   },
   "outputs": [],
   "source": [
    "merged_y = pd.concat([test_2016, test_2017, test_2018], axis = 1)"
   ]
  },
  {
   "cell_type": "code",
   "execution_count": 220,
   "id": "f09a2afd",
   "metadata": {
    "ExecuteTime": {
     "end_time": "2022-07-25T15:23:10.547959Z",
     "start_time": "2022-07-25T15:23:10.527726Z"
    }
   },
   "outputs": [],
   "source": [
    "merged_y.to_csv('merged_y.csv')"
   ]
  },
  {
   "cell_type": "code",
   "execution_count": 223,
   "id": "52e6a2eb",
   "metadata": {
    "ExecuteTime": {
     "end_time": "2022-07-25T15:48:07.057154Z",
     "start_time": "2022-07-25T15:48:07.036694Z"
    }
   },
   "outputs": [
    {
     "data": {
      "application/vnd.plotly.v1+json": {
       "config": {
        "plotlyServerURL": "https://plot.ly"
       },
       "data": [
        {
         "mode": "lines+markers+text",
         "text": [
          "start",
          "end"
         ],
         "textposition": [
          "middle left",
          "middle right"
         ],
         "type": "scatter",
         "x": [
          0,
          1
         ],
         "y": [
          10,
          6
         ]
        }
       ],
       "layout": {
        "shapes": [
         {
          "type": "line",
          "x0": 0,
          "x1": 0,
          "xref": "x",
          "y0": 0,
          "y1": 1,
          "yref": "paper"
         },
         {
          "type": "line",
          "x0": 1,
          "x1": 1,
          "xref": "x",
          "y0": 0,
          "y1": 1,
          "yref": "paper"
         }
        ],
        "template": {
         "data": {
          "bar": [
           {
            "error_x": {
             "color": "#2a3f5f"
            },
            "error_y": {
             "color": "#2a3f5f"
            },
            "marker": {
             "line": {
              "color": "#E5ECF6",
              "width": 0.5
             },
             "pattern": {
              "fillmode": "overlay",
              "size": 10,
              "solidity": 0.2
             }
            },
            "type": "bar"
           }
          ],
          "barpolar": [
           {
            "marker": {
             "line": {
              "color": "#E5ECF6",
              "width": 0.5
             },
             "pattern": {
              "fillmode": "overlay",
              "size": 10,
              "solidity": 0.2
             }
            },
            "type": "barpolar"
           }
          ],
          "carpet": [
           {
            "aaxis": {
             "endlinecolor": "#2a3f5f",
             "gridcolor": "white",
             "linecolor": "white",
             "minorgridcolor": "white",
             "startlinecolor": "#2a3f5f"
            },
            "baxis": {
             "endlinecolor": "#2a3f5f",
             "gridcolor": "white",
             "linecolor": "white",
             "minorgridcolor": "white",
             "startlinecolor": "#2a3f5f"
            },
            "type": "carpet"
           }
          ],
          "choropleth": [
           {
            "colorbar": {
             "outlinewidth": 0,
             "ticks": ""
            },
            "type": "choropleth"
           }
          ],
          "contour": [
           {
            "colorbar": {
             "outlinewidth": 0,
             "ticks": ""
            },
            "colorscale": [
             [
              0,
              "#0d0887"
             ],
             [
              0.1111111111111111,
              "#46039f"
             ],
             [
              0.2222222222222222,
              "#7201a8"
             ],
             [
              0.3333333333333333,
              "#9c179e"
             ],
             [
              0.4444444444444444,
              "#bd3786"
             ],
             [
              0.5555555555555556,
              "#d8576b"
             ],
             [
              0.6666666666666666,
              "#ed7953"
             ],
             [
              0.7777777777777778,
              "#fb9f3a"
             ],
             [
              0.8888888888888888,
              "#fdca26"
             ],
             [
              1,
              "#f0f921"
             ]
            ],
            "type": "contour"
           }
          ],
          "contourcarpet": [
           {
            "colorbar": {
             "outlinewidth": 0,
             "ticks": ""
            },
            "type": "contourcarpet"
           }
          ],
          "heatmap": [
           {
            "colorbar": {
             "outlinewidth": 0,
             "ticks": ""
            },
            "colorscale": [
             [
              0,
              "#0d0887"
             ],
             [
              0.1111111111111111,
              "#46039f"
             ],
             [
              0.2222222222222222,
              "#7201a8"
             ],
             [
              0.3333333333333333,
              "#9c179e"
             ],
             [
              0.4444444444444444,
              "#bd3786"
             ],
             [
              0.5555555555555556,
              "#d8576b"
             ],
             [
              0.6666666666666666,
              "#ed7953"
             ],
             [
              0.7777777777777778,
              "#fb9f3a"
             ],
             [
              0.8888888888888888,
              "#fdca26"
             ],
             [
              1,
              "#f0f921"
             ]
            ],
            "type": "heatmap"
           }
          ],
          "heatmapgl": [
           {
            "colorbar": {
             "outlinewidth": 0,
             "ticks": ""
            },
            "colorscale": [
             [
              0,
              "#0d0887"
             ],
             [
              0.1111111111111111,
              "#46039f"
             ],
             [
              0.2222222222222222,
              "#7201a8"
             ],
             [
              0.3333333333333333,
              "#9c179e"
             ],
             [
              0.4444444444444444,
              "#bd3786"
             ],
             [
              0.5555555555555556,
              "#d8576b"
             ],
             [
              0.6666666666666666,
              "#ed7953"
             ],
             [
              0.7777777777777778,
              "#fb9f3a"
             ],
             [
              0.8888888888888888,
              "#fdca26"
             ],
             [
              1,
              "#f0f921"
             ]
            ],
            "type": "heatmapgl"
           }
          ],
          "histogram": [
           {
            "marker": {
             "pattern": {
              "fillmode": "overlay",
              "size": 10,
              "solidity": 0.2
             }
            },
            "type": "histogram"
           }
          ],
          "histogram2d": [
           {
            "colorbar": {
             "outlinewidth": 0,
             "ticks": ""
            },
            "colorscale": [
             [
              0,
              "#0d0887"
             ],
             [
              0.1111111111111111,
              "#46039f"
             ],
             [
              0.2222222222222222,
              "#7201a8"
             ],
             [
              0.3333333333333333,
              "#9c179e"
             ],
             [
              0.4444444444444444,
              "#bd3786"
             ],
             [
              0.5555555555555556,
              "#d8576b"
             ],
             [
              0.6666666666666666,
              "#ed7953"
             ],
             [
              0.7777777777777778,
              "#fb9f3a"
             ],
             [
              0.8888888888888888,
              "#fdca26"
             ],
             [
              1,
              "#f0f921"
             ]
            ],
            "type": "histogram2d"
           }
          ],
          "histogram2dcontour": [
           {
            "colorbar": {
             "outlinewidth": 0,
             "ticks": ""
            },
            "colorscale": [
             [
              0,
              "#0d0887"
             ],
             [
              0.1111111111111111,
              "#46039f"
             ],
             [
              0.2222222222222222,
              "#7201a8"
             ],
             [
              0.3333333333333333,
              "#9c179e"
             ],
             [
              0.4444444444444444,
              "#bd3786"
             ],
             [
              0.5555555555555556,
              "#d8576b"
             ],
             [
              0.6666666666666666,
              "#ed7953"
             ],
             [
              0.7777777777777778,
              "#fb9f3a"
             ],
             [
              0.8888888888888888,
              "#fdca26"
             ],
             [
              1,
              "#f0f921"
             ]
            ],
            "type": "histogram2dcontour"
           }
          ],
          "mesh3d": [
           {
            "colorbar": {
             "outlinewidth": 0,
             "ticks": ""
            },
            "type": "mesh3d"
           }
          ],
          "parcoords": [
           {
            "line": {
             "colorbar": {
              "outlinewidth": 0,
              "ticks": ""
             }
            },
            "type": "parcoords"
           }
          ],
          "pie": [
           {
            "automargin": true,
            "type": "pie"
           }
          ],
          "scatter": [
           {
            "marker": {
             "colorbar": {
              "outlinewidth": 0,
              "ticks": ""
             }
            },
            "type": "scatter"
           }
          ],
          "scatter3d": [
           {
            "line": {
             "colorbar": {
              "outlinewidth": 0,
              "ticks": ""
             }
            },
            "marker": {
             "colorbar": {
              "outlinewidth": 0,
              "ticks": ""
             }
            },
            "type": "scatter3d"
           }
          ],
          "scattercarpet": [
           {
            "marker": {
             "colorbar": {
              "outlinewidth": 0,
              "ticks": ""
             }
            },
            "type": "scattercarpet"
           }
          ],
          "scattergeo": [
           {
            "marker": {
             "colorbar": {
              "outlinewidth": 0,
              "ticks": ""
             }
            },
            "type": "scattergeo"
           }
          ],
          "scattergl": [
           {
            "marker": {
             "colorbar": {
              "outlinewidth": 0,
              "ticks": ""
             }
            },
            "type": "scattergl"
           }
          ],
          "scattermapbox": [
           {
            "marker": {
             "colorbar": {
              "outlinewidth": 0,
              "ticks": ""
             }
            },
            "type": "scattermapbox"
           }
          ],
          "scatterpolar": [
           {
            "marker": {
             "colorbar": {
              "outlinewidth": 0,
              "ticks": ""
             }
            },
            "type": "scatterpolar"
           }
          ],
          "scatterpolargl": [
           {
            "marker": {
             "colorbar": {
              "outlinewidth": 0,
              "ticks": ""
             }
            },
            "type": "scatterpolargl"
           }
          ],
          "scatterternary": [
           {
            "marker": {
             "colorbar": {
              "outlinewidth": 0,
              "ticks": ""
             }
            },
            "type": "scatterternary"
           }
          ],
          "surface": [
           {
            "colorbar": {
             "outlinewidth": 0,
             "ticks": ""
            },
            "colorscale": [
             [
              0,
              "#0d0887"
             ],
             [
              0.1111111111111111,
              "#46039f"
             ],
             [
              0.2222222222222222,
              "#7201a8"
             ],
             [
              0.3333333333333333,
              "#9c179e"
             ],
             [
              0.4444444444444444,
              "#bd3786"
             ],
             [
              0.5555555555555556,
              "#d8576b"
             ],
             [
              0.6666666666666666,
              "#ed7953"
             ],
             [
              0.7777777777777778,
              "#fb9f3a"
             ],
             [
              0.8888888888888888,
              "#fdca26"
             ],
             [
              1,
              "#f0f921"
             ]
            ],
            "type": "surface"
           }
          ],
          "table": [
           {
            "cells": {
             "fill": {
              "color": "#EBF0F8"
             },
             "line": {
              "color": "white"
             }
            },
            "header": {
             "fill": {
              "color": "#C8D4E3"
             },
             "line": {
              "color": "white"
             }
            },
            "type": "table"
           }
          ]
         },
         "layout": {
          "annotationdefaults": {
           "arrowcolor": "#2a3f5f",
           "arrowhead": 0,
           "arrowwidth": 1
          },
          "autotypenumbers": "strict",
          "coloraxis": {
           "colorbar": {
            "outlinewidth": 0,
            "ticks": ""
           }
          },
          "colorscale": {
           "diverging": [
            [
             0,
             "#8e0152"
            ],
            [
             0.1,
             "#c51b7d"
            ],
            [
             0.2,
             "#de77ae"
            ],
            [
             0.3,
             "#f1b6da"
            ],
            [
             0.4,
             "#fde0ef"
            ],
            [
             0.5,
             "#f7f7f7"
            ],
            [
             0.6,
             "#e6f5d0"
            ],
            [
             0.7,
             "#b8e186"
            ],
            [
             0.8,
             "#7fbc41"
            ],
            [
             0.9,
             "#4d9221"
            ],
            [
             1,
             "#276419"
            ]
           ],
           "sequential": [
            [
             0,
             "#0d0887"
            ],
            [
             0.1111111111111111,
             "#46039f"
            ],
            [
             0.2222222222222222,
             "#7201a8"
            ],
            [
             0.3333333333333333,
             "#9c179e"
            ],
            [
             0.4444444444444444,
             "#bd3786"
            ],
            [
             0.5555555555555556,
             "#d8576b"
            ],
            [
             0.6666666666666666,
             "#ed7953"
            ],
            [
             0.7777777777777778,
             "#fb9f3a"
            ],
            [
             0.8888888888888888,
             "#fdca26"
            ],
            [
             1,
             "#f0f921"
            ]
           ],
           "sequentialminus": [
            [
             0,
             "#0d0887"
            ],
            [
             0.1111111111111111,
             "#46039f"
            ],
            [
             0.2222222222222222,
             "#7201a8"
            ],
            [
             0.3333333333333333,
             "#9c179e"
            ],
            [
             0.4444444444444444,
             "#bd3786"
            ],
            [
             0.5555555555555556,
             "#d8576b"
            ],
            [
             0.6666666666666666,
             "#ed7953"
            ],
            [
             0.7777777777777778,
             "#fb9f3a"
            ],
            [
             0.8888888888888888,
             "#fdca26"
            ],
            [
             1,
             "#f0f921"
            ]
           ]
          },
          "colorway": [
           "#636efa",
           "#EF553B",
           "#00cc96",
           "#ab63fa",
           "#FFA15A",
           "#19d3f3",
           "#FF6692",
           "#B6E880",
           "#FF97FF",
           "#FECB52"
          ],
          "font": {
           "color": "#2a3f5f"
          },
          "geo": {
           "bgcolor": "white",
           "lakecolor": "white",
           "landcolor": "#E5ECF6",
           "showlakes": true,
           "showland": true,
           "subunitcolor": "white"
          },
          "hoverlabel": {
           "align": "left"
          },
          "hovermode": "closest",
          "mapbox": {
           "style": "light"
          },
          "paper_bgcolor": "white",
          "plot_bgcolor": "#E5ECF6",
          "polar": {
           "angularaxis": {
            "gridcolor": "white",
            "linecolor": "white",
            "ticks": ""
           },
           "bgcolor": "#E5ECF6",
           "radialaxis": {
            "gridcolor": "white",
            "linecolor": "white",
            "ticks": ""
           }
          },
          "scene": {
           "xaxis": {
            "backgroundcolor": "#E5ECF6",
            "gridcolor": "white",
            "gridwidth": 2,
            "linecolor": "white",
            "showbackground": true,
            "ticks": "",
            "zerolinecolor": "white"
           },
           "yaxis": {
            "backgroundcolor": "#E5ECF6",
            "gridcolor": "white",
            "gridwidth": 2,
            "linecolor": "white",
            "showbackground": true,
            "ticks": "",
            "zerolinecolor": "white"
           },
           "zaxis": {
            "backgroundcolor": "#E5ECF6",
            "gridcolor": "white",
            "gridwidth": 2,
            "linecolor": "white",
            "showbackground": true,
            "ticks": "",
            "zerolinecolor": "white"
           }
          },
          "shapedefaults": {
           "line": {
            "color": "#2a3f5f"
           }
          },
          "ternary": {
           "aaxis": {
            "gridcolor": "white",
            "linecolor": "white",
            "ticks": ""
           },
           "baxis": {
            "gridcolor": "white",
            "linecolor": "white",
            "ticks": ""
           },
           "bgcolor": "#E5ECF6",
           "caxis": {
            "gridcolor": "white",
            "linecolor": "white",
            "ticks": ""
           }
          },
          "title": {
           "x": 0.05
          },
          "xaxis": {
           "automargin": true,
           "gridcolor": "white",
           "linecolor": "white",
           "ticks": "",
           "title": {
            "standoff": 15
           },
           "zerolinecolor": "white",
           "zerolinewidth": 2
          },
          "yaxis": {
           "automargin": true,
           "gridcolor": "white",
           "linecolor": "white",
           "ticks": "",
           "title": {
            "standoff": 15
           },
           "zerolinecolor": "white",
           "zerolinewidth": 2
          }
         }
        }
       }
      },
      "text/html": [
       "<div>                            <div id=\"fbae3913-1f2b-4daf-b90a-1cc5c00a2239\" class=\"plotly-graph-div\" style=\"height:525px; width:100%;\"></div>            <script type=\"text/javascript\">                require([\"plotly\"], function(Plotly) {                    window.PLOTLYENV=window.PLOTLYENV || {};                                    if (document.getElementById(\"fbae3913-1f2b-4daf-b90a-1cc5c00a2239\")) {                    Plotly.newPlot(                        \"fbae3913-1f2b-4daf-b90a-1cc5c00a2239\",                        [{\"mode\":\"lines+markers+text\",\"text\":[\"start\",\"end\"],\"textposition\":[\"middle left\",\"middle right\"],\"x\":[0,1],\"y\":[10,6],\"type\":\"scatter\"}],                        {\"template\":{\"data\":{\"bar\":[{\"error_x\":{\"color\":\"#2a3f5f\"},\"error_y\":{\"color\":\"#2a3f5f\"},\"marker\":{\"line\":{\"color\":\"#E5ECF6\",\"width\":0.5},\"pattern\":{\"fillmode\":\"overlay\",\"size\":10,\"solidity\":0.2}},\"type\":\"bar\"}],\"barpolar\":[{\"marker\":{\"line\":{\"color\":\"#E5ECF6\",\"width\":0.5},\"pattern\":{\"fillmode\":\"overlay\",\"size\":10,\"solidity\":0.2}},\"type\":\"barpolar\"}],\"carpet\":[{\"aaxis\":{\"endlinecolor\":\"#2a3f5f\",\"gridcolor\":\"white\",\"linecolor\":\"white\",\"minorgridcolor\":\"white\",\"startlinecolor\":\"#2a3f5f\"},\"baxis\":{\"endlinecolor\":\"#2a3f5f\",\"gridcolor\":\"white\",\"linecolor\":\"white\",\"minorgridcolor\":\"white\",\"startlinecolor\":\"#2a3f5f\"},\"type\":\"carpet\"}],\"choropleth\":[{\"colorbar\":{\"outlinewidth\":0,\"ticks\":\"\"},\"type\":\"choropleth\"}],\"contour\":[{\"colorbar\":{\"outlinewidth\":0,\"ticks\":\"\"},\"colorscale\":[[0.0,\"#0d0887\"],[0.1111111111111111,\"#46039f\"],[0.2222222222222222,\"#7201a8\"],[0.3333333333333333,\"#9c179e\"],[0.4444444444444444,\"#bd3786\"],[0.5555555555555556,\"#d8576b\"],[0.6666666666666666,\"#ed7953\"],[0.7777777777777778,\"#fb9f3a\"],[0.8888888888888888,\"#fdca26\"],[1.0,\"#f0f921\"]],\"type\":\"contour\"}],\"contourcarpet\":[{\"colorbar\":{\"outlinewidth\":0,\"ticks\":\"\"},\"type\":\"contourcarpet\"}],\"heatmap\":[{\"colorbar\":{\"outlinewidth\":0,\"ticks\":\"\"},\"colorscale\":[[0.0,\"#0d0887\"],[0.1111111111111111,\"#46039f\"],[0.2222222222222222,\"#7201a8\"],[0.3333333333333333,\"#9c179e\"],[0.4444444444444444,\"#bd3786\"],[0.5555555555555556,\"#d8576b\"],[0.6666666666666666,\"#ed7953\"],[0.7777777777777778,\"#fb9f3a\"],[0.8888888888888888,\"#fdca26\"],[1.0,\"#f0f921\"]],\"type\":\"heatmap\"}],\"heatmapgl\":[{\"colorbar\":{\"outlinewidth\":0,\"ticks\":\"\"},\"colorscale\":[[0.0,\"#0d0887\"],[0.1111111111111111,\"#46039f\"],[0.2222222222222222,\"#7201a8\"],[0.3333333333333333,\"#9c179e\"],[0.4444444444444444,\"#bd3786\"],[0.5555555555555556,\"#d8576b\"],[0.6666666666666666,\"#ed7953\"],[0.7777777777777778,\"#fb9f3a\"],[0.8888888888888888,\"#fdca26\"],[1.0,\"#f0f921\"]],\"type\":\"heatmapgl\"}],\"histogram\":[{\"marker\":{\"pattern\":{\"fillmode\":\"overlay\",\"size\":10,\"solidity\":0.2}},\"type\":\"histogram\"}],\"histogram2d\":[{\"colorbar\":{\"outlinewidth\":0,\"ticks\":\"\"},\"colorscale\":[[0.0,\"#0d0887\"],[0.1111111111111111,\"#46039f\"],[0.2222222222222222,\"#7201a8\"],[0.3333333333333333,\"#9c179e\"],[0.4444444444444444,\"#bd3786\"],[0.5555555555555556,\"#d8576b\"],[0.6666666666666666,\"#ed7953\"],[0.7777777777777778,\"#fb9f3a\"],[0.8888888888888888,\"#fdca26\"],[1.0,\"#f0f921\"]],\"type\":\"histogram2d\"}],\"histogram2dcontour\":[{\"colorbar\":{\"outlinewidth\":0,\"ticks\":\"\"},\"colorscale\":[[0.0,\"#0d0887\"],[0.1111111111111111,\"#46039f\"],[0.2222222222222222,\"#7201a8\"],[0.3333333333333333,\"#9c179e\"],[0.4444444444444444,\"#bd3786\"],[0.5555555555555556,\"#d8576b\"],[0.6666666666666666,\"#ed7953\"],[0.7777777777777778,\"#fb9f3a\"],[0.8888888888888888,\"#fdca26\"],[1.0,\"#f0f921\"]],\"type\":\"histogram2dcontour\"}],\"mesh3d\":[{\"colorbar\":{\"outlinewidth\":0,\"ticks\":\"\"},\"type\":\"mesh3d\"}],\"parcoords\":[{\"line\":{\"colorbar\":{\"outlinewidth\":0,\"ticks\":\"\"}},\"type\":\"parcoords\"}],\"pie\":[{\"automargin\":true,\"type\":\"pie\"}],\"scatter\":[{\"marker\":{\"colorbar\":{\"outlinewidth\":0,\"ticks\":\"\"}},\"type\":\"scatter\"}],\"scatter3d\":[{\"line\":{\"colorbar\":{\"outlinewidth\":0,\"ticks\":\"\"}},\"marker\":{\"colorbar\":{\"outlinewidth\":0,\"ticks\":\"\"}},\"type\":\"scatter3d\"}],\"scattercarpet\":[{\"marker\":{\"colorbar\":{\"outlinewidth\":0,\"ticks\":\"\"}},\"type\":\"scattercarpet\"}],\"scattergeo\":[{\"marker\":{\"colorbar\":{\"outlinewidth\":0,\"ticks\":\"\"}},\"type\":\"scattergeo\"}],\"scattergl\":[{\"marker\":{\"colorbar\":{\"outlinewidth\":0,\"ticks\":\"\"}},\"type\":\"scattergl\"}],\"scattermapbox\":[{\"marker\":{\"colorbar\":{\"outlinewidth\":0,\"ticks\":\"\"}},\"type\":\"scattermapbox\"}],\"scatterpolar\":[{\"marker\":{\"colorbar\":{\"outlinewidth\":0,\"ticks\":\"\"}},\"type\":\"scatterpolar\"}],\"scatterpolargl\":[{\"marker\":{\"colorbar\":{\"outlinewidth\":0,\"ticks\":\"\"}},\"type\":\"scatterpolargl\"}],\"scatterternary\":[{\"marker\":{\"colorbar\":{\"outlinewidth\":0,\"ticks\":\"\"}},\"type\":\"scatterternary\"}],\"surface\":[{\"colorbar\":{\"outlinewidth\":0,\"ticks\":\"\"},\"colorscale\":[[0.0,\"#0d0887\"],[0.1111111111111111,\"#46039f\"],[0.2222222222222222,\"#7201a8\"],[0.3333333333333333,\"#9c179e\"],[0.4444444444444444,\"#bd3786\"],[0.5555555555555556,\"#d8576b\"],[0.6666666666666666,\"#ed7953\"],[0.7777777777777778,\"#fb9f3a\"],[0.8888888888888888,\"#fdca26\"],[1.0,\"#f0f921\"]],\"type\":\"surface\"}],\"table\":[{\"cells\":{\"fill\":{\"color\":\"#EBF0F8\"},\"line\":{\"color\":\"white\"}},\"header\":{\"fill\":{\"color\":\"#C8D4E3\"},\"line\":{\"color\":\"white\"}},\"type\":\"table\"}]},\"layout\":{\"annotationdefaults\":{\"arrowcolor\":\"#2a3f5f\",\"arrowhead\":0,\"arrowwidth\":1},\"autotypenumbers\":\"strict\",\"coloraxis\":{\"colorbar\":{\"outlinewidth\":0,\"ticks\":\"\"}},\"colorscale\":{\"diverging\":[[0,\"#8e0152\"],[0.1,\"#c51b7d\"],[0.2,\"#de77ae\"],[0.3,\"#f1b6da\"],[0.4,\"#fde0ef\"],[0.5,\"#f7f7f7\"],[0.6,\"#e6f5d0\"],[0.7,\"#b8e186\"],[0.8,\"#7fbc41\"],[0.9,\"#4d9221\"],[1,\"#276419\"]],\"sequential\":[[0.0,\"#0d0887\"],[0.1111111111111111,\"#46039f\"],[0.2222222222222222,\"#7201a8\"],[0.3333333333333333,\"#9c179e\"],[0.4444444444444444,\"#bd3786\"],[0.5555555555555556,\"#d8576b\"],[0.6666666666666666,\"#ed7953\"],[0.7777777777777778,\"#fb9f3a\"],[0.8888888888888888,\"#fdca26\"],[1.0,\"#f0f921\"]],\"sequentialminus\":[[0.0,\"#0d0887\"],[0.1111111111111111,\"#46039f\"],[0.2222222222222222,\"#7201a8\"],[0.3333333333333333,\"#9c179e\"],[0.4444444444444444,\"#bd3786\"],[0.5555555555555556,\"#d8576b\"],[0.6666666666666666,\"#ed7953\"],[0.7777777777777778,\"#fb9f3a\"],[0.8888888888888888,\"#fdca26\"],[1.0,\"#f0f921\"]]},\"colorway\":[\"#636efa\",\"#EF553B\",\"#00cc96\",\"#ab63fa\",\"#FFA15A\",\"#19d3f3\",\"#FF6692\",\"#B6E880\",\"#FF97FF\",\"#FECB52\"],\"font\":{\"color\":\"#2a3f5f\"},\"geo\":{\"bgcolor\":\"white\",\"lakecolor\":\"white\",\"landcolor\":\"#E5ECF6\",\"showlakes\":true,\"showland\":true,\"subunitcolor\":\"white\"},\"hoverlabel\":{\"align\":\"left\"},\"hovermode\":\"closest\",\"mapbox\":{\"style\":\"light\"},\"paper_bgcolor\":\"white\",\"plot_bgcolor\":\"#E5ECF6\",\"polar\":{\"angularaxis\":{\"gridcolor\":\"white\",\"linecolor\":\"white\",\"ticks\":\"\"},\"bgcolor\":\"#E5ECF6\",\"radialaxis\":{\"gridcolor\":\"white\",\"linecolor\":\"white\",\"ticks\":\"\"}},\"scene\":{\"xaxis\":{\"backgroundcolor\":\"#E5ECF6\",\"gridcolor\":\"white\",\"gridwidth\":2,\"linecolor\":\"white\",\"showbackground\":true,\"ticks\":\"\",\"zerolinecolor\":\"white\"},\"yaxis\":{\"backgroundcolor\":\"#E5ECF6\",\"gridcolor\":\"white\",\"gridwidth\":2,\"linecolor\":\"white\",\"showbackground\":true,\"ticks\":\"\",\"zerolinecolor\":\"white\"},\"zaxis\":{\"backgroundcolor\":\"#E5ECF6\",\"gridcolor\":\"white\",\"gridwidth\":2,\"linecolor\":\"white\",\"showbackground\":true,\"ticks\":\"\",\"zerolinecolor\":\"white\"}},\"shapedefaults\":{\"line\":{\"color\":\"#2a3f5f\"}},\"ternary\":{\"aaxis\":{\"gridcolor\":\"white\",\"linecolor\":\"white\",\"ticks\":\"\"},\"baxis\":{\"gridcolor\":\"white\",\"linecolor\":\"white\",\"ticks\":\"\"},\"bgcolor\":\"#E5ECF6\",\"caxis\":{\"gridcolor\":\"white\",\"linecolor\":\"white\",\"ticks\":\"\"}},\"title\":{\"x\":0.05},\"xaxis\":{\"automargin\":true,\"gridcolor\":\"white\",\"linecolor\":\"white\",\"ticks\":\"\",\"title\":{\"standoff\":15},\"zerolinecolor\":\"white\",\"zerolinewidth\":2},\"yaxis\":{\"automargin\":true,\"gridcolor\":\"white\",\"linecolor\":\"white\",\"ticks\":\"\",\"title\":{\"standoff\":15},\"zerolinecolor\":\"white\",\"zerolinewidth\":2}}},\"shapes\":[{\"type\":\"line\",\"x0\":0,\"x1\":0,\"xref\":\"x\",\"y0\":0,\"y1\":1,\"yref\":\"paper\"},{\"type\":\"line\",\"x0\":1,\"x1\":1,\"xref\":\"x\",\"y0\":0,\"y1\":1,\"yref\":\"paper\"}]},                        {\"responsive\": true}                    ).then(function(){\n",
       "                            \n",
       "var gd = document.getElementById('fbae3913-1f2b-4daf-b90a-1cc5c00a2239');\n",
       "var x = new MutationObserver(function (mutations, observer) {{\n",
       "        var display = window.getComputedStyle(gd).display;\n",
       "        if (!display || display === 'none') {{\n",
       "            console.log([gd, 'removed!']);\n",
       "            Plotly.purge(gd);\n",
       "            observer.disconnect();\n",
       "        }}\n",
       "}});\n",
       "\n",
       "// Listen for the removal of the full notebook cells\n",
       "var notebookContainer = gd.closest('#notebook-container');\n",
       "if (notebookContainer) {{\n",
       "    x.observe(notebookContainer, {childList: true});\n",
       "}}\n",
       "\n",
       "// Listen for the clearing of the current output cell\n",
       "var outputEl = gd.closest('.output');\n",
       "if (outputEl) {{\n",
       "    x.observe(outputEl, {childList: true});\n",
       "}}\n",
       "\n",
       "                        })                };                });            </script>        </div>"
      ]
     },
     "metadata": {},
     "output_type": "display_data"
    }
   ],
   "source": [
    "import plotly.graph_objects as go\n",
    "fig = go.Figure(go.Scatter(x=[0, 1], y=[10, 6], mode='lines+markers+text', \n",
    "                           text=['start', 'end'], textposition=['middle left', 'middle right']))\n",
    "fig.add_shape(type='line', x0=0, x1=0, y0=0, y1=1, xref='x', yref='paper')\n",
    "fig.add_shape(type='line', x0=1, x1=1, y0=0, y1=1, xref='x', yref='paper')\n",
    "fig.show()"
   ]
  },
  {
   "cell_type": "code",
   "execution_count": 237,
   "id": "0a69dddf",
   "metadata": {
    "ExecuteTime": {
     "end_time": "2022-07-25T15:58:26.325826Z",
     "start_time": "2022-07-25T15:58:26.307792Z"
    }
   },
   "outputs": [],
   "source": [
    "countries_lst = ['Iceland', 'Norway', 'Finland', 'Australia', 'New Zealand', 'Switzerland', 'Sweden', 'Canada', 'Denmark', 'Israel']"
   ]
  },
  {
   "cell_type": "code",
   "execution_count": 266,
   "id": "78522df2",
   "metadata": {
    "ExecuteTime": {
     "end_time": "2022-07-25T16:26:20.283701Z",
     "start_time": "2022-07-25T16:26:20.211046Z"
    }
   },
   "outputs": [
    {
     "data": {
      "application/vnd.plotly.v1+json": {
       "config": {
        "plotlyServerURL": "https://plot.ly"
       },
       "data": [
        {
         "hovertemplate": "Country=%{text}<br>Year=%{x}<br>ERHNI=%{y}<extra></extra>",
         "legendgroup": "Denmark",
         "line": {
          "color": "#636efa",
          "dash": "solid"
         },
         "marker": {
          "symbol": "circle"
         },
         "mode": "lines+markers+text",
         "name": "Denmark",
         "orientation": "v",
         "showlegend": true,
         "text": [
          "Denmark",
          "Denmark",
          "Denmark"
         ],
         "textposition": "bottom center",
         "type": "scatter",
         "x": [
          2016,
          2017,
          2018
         ],
         "xaxis": "x",
         "y": [
          16.8083667,
          17.19610214,
          15.40191158
         ],
         "yaxis": "y"
        },
        {
         "hovertemplate": "Country=%{text}<br>Year=%{x}<br>ERHNI=%{y}<extra></extra>",
         "legendgroup": "Switzerland",
         "line": {
          "color": "#EF553B",
          "dash": "solid"
         },
         "marker": {
          "symbol": "circle"
         },
         "mode": "lines+markers+text",
         "name": "Switzerland",
         "orientation": "v",
         "showlegend": true,
         "text": [
          "Switzerland",
          "Switzerland",
          "Switzerland"
         ],
         "textposition": "bottom center",
         "type": "scatter",
         "x": [
          2016,
          2017,
          2018
         ],
         "xaxis": "x",
         "y": [
          18.72084346,
          18.67567463,
          18.74776648
         ],
         "yaxis": "y"
        },
        {
         "hovertemplate": "Country=%{text}<br>Year=%{x}<br>ERHNI=%{y}<extra></extra>",
         "legendgroup": "Iceland",
         "line": {
          "color": "#00cc96",
          "dash": "solid"
         },
         "marker": {
          "symbol": "circle"
         },
         "mode": "lines+markers+text",
         "name": "Iceland",
         "orientation": "v",
         "showlegend": true,
         "text": [
          "Iceland",
          "Iceland",
          "Iceland"
         ],
         "textposition": "bottom center",
         "type": "scatter",
         "x": [
          2016,
          2017,
          2018
         ],
         "xaxis": "x",
         "y": [
          20.55944,
          20.69830984,
          20.67381341
         ],
         "yaxis": "y"
        },
        {
         "hovertemplate": "Country=%{text}<br>Year=%{x}<br>ERHNI=%{y}<extra></extra>",
         "legendgroup": "Norway",
         "line": {
          "color": "#ab63fa",
          "dash": "solid"
         },
         "marker": {
          "symbol": "circle"
         },
         "mode": "lines+markers+text",
         "name": "Norway",
         "orientation": "v",
         "showlegend": true,
         "text": [
          "Norway",
          "Norway",
          "Norway"
         ],
         "textposition": "bottom center",
         "type": "scatter",
         "x": [
          2016,
          2017,
          2018
         ],
         "xaxis": "x",
         "y": [
          20.13952255,
          20.73902406,
          20.70298684
         ],
         "yaxis": "y"
        },
        {
         "hovertemplate": "Country=%{text}<br>Year=%{x}<br>ERHNI=%{y}<extra></extra>",
         "legendgroup": "Finland",
         "line": {
          "color": "#FFA15A",
          "dash": "solid"
         },
         "marker": {
          "symbol": "circle"
         },
         "mode": "lines+markers+text",
         "name": "Finland",
         "orientation": "v",
         "showlegend": true,
         "text": [
          "Finland",
          "Finland",
          "Finland"
         ],
         "textposition": "bottom center",
         "type": "scatter",
         "x": [
          2016,
          2017,
          2018
         ],
         "xaxis": "x",
         "y": [
          19.50175934,
          20.15486742,
          21.07012336
         ],
         "yaxis": "y"
        },
        {
         "hovertemplate": "Country=%{text}<br>Year=%{x}<br>ERHNI=%{y}<extra></extra>",
         "legendgroup": "Canada",
         "line": {
          "color": "#19d3f3",
          "dash": "solid"
         },
         "marker": {
          "symbol": "circle"
         },
         "mode": "lines+markers+text",
         "name": "Canada",
         "orientation": "v",
         "showlegend": true,
         "text": [
          "Canada",
          "Canada",
          "Canada"
         ],
         "textposition": "bottom center",
         "type": "scatter",
         "x": [
          2016,
          2017,
          2018
         ],
         "xaxis": "x",
         "y": [
          17.54226543,
          15.76381337,
          16.00922508
         ],
         "yaxis": "y"
        },
        {
         "hovertemplate": "Country=%{text}<br>Year=%{x}<br>ERHNI=%{y}<extra></extra>",
         "legendgroup": "New Zealand",
         "line": {
          "color": "#FF6692",
          "dash": "solid"
         },
         "marker": {
          "symbol": "circle"
         },
         "mode": "lines+markers+text",
         "name": "New Zealand",
         "orientation": "v",
         "showlegend": true,
         "text": [
          "New Zealand",
          "New Zealand",
          "New Zealand"
         ],
         "textposition": "bottom center",
         "type": "scatter",
         "x": [
          2016,
          2017,
          2018
         ],
         "xaxis": "x",
         "y": [
          19.04834327,
          18.89578642,
          19.0239239
         ],
         "yaxis": "y"
        },
        {
         "hovertemplate": "Country=%{text}<br>Year=%{x}<br>ERHNI=%{y}<extra></extra>",
         "legendgroup": "Australia",
         "line": {
          "color": "#B6E880",
          "dash": "solid"
         },
         "marker": {
          "symbol": "circle"
         },
         "mode": "lines+markers+text",
         "name": "Australia",
         "orientation": "v",
         "showlegend": true,
         "text": [
          "Australia",
          "Australia",
          "Australia"
         ],
         "textposition": "bottom center",
         "type": "scatter",
         "x": [
          2016,
          2017,
          2018
         ],
         "xaxis": "x",
         "y": [
          19.07040293,
          18.84299934,
          18.80052293
         ],
         "yaxis": "y"
        },
        {
         "hovertemplate": "Country=%{text}<br>Year=%{x}<br>ERHNI=%{y}<extra></extra>",
         "legendgroup": "Sweden",
         "line": {
          "color": "#FF97FF",
          "dash": "solid"
         },
         "marker": {
          "symbol": "circle"
         },
         "mode": "lines+markers+text",
         "name": "Sweden",
         "orientation": "v",
         "showlegend": true,
         "text": [
          "Sweden",
          "Sweden",
          "Sweden"
         ],
         "textposition": "bottom center",
         "type": "scatter",
         "x": [
          2016,
          2017,
          2018
         ],
         "xaxis": "x",
         "y": [
          18.5110244,
          18.47449752,
          18.51763224
         ],
         "yaxis": "y"
        },
        {
         "hovertemplate": "Country=%{text}<br>Year=%{x}<br>ERHNI=%{y}<extra></extra>",
         "legendgroup": "Israel",
         "line": {
          "color": "#FECB52",
          "dash": "solid"
         },
         "marker": {
          "symbol": "circle"
         },
         "mode": "lines+markers+text",
         "name": "Israel",
         "orientation": "v",
         "showlegend": true,
         "text": [
          "Israel",
          "Israel",
          "Israel"
         ],
         "textposition": "bottom center",
         "type": "scatter",
         "x": [
          2016,
          2017,
          2018
         ],
         "xaxis": "x",
         "y": [
          15.35069366,
          14.03634485,
          10.95859263
         ],
         "yaxis": "y"
        }
       ],
       "layout": {
        "legend": {
         "title": {
          "text": "Country"
         },
         "tracegroupgap": 0
        },
        "margin": {
         "t": 60
        },
        "template": {
         "data": {
          "bar": [
           {
            "error_x": {
             "color": "#2a3f5f"
            },
            "error_y": {
             "color": "#2a3f5f"
            },
            "marker": {
             "line": {
              "color": "#E5ECF6",
              "width": 0.5
             },
             "pattern": {
              "fillmode": "overlay",
              "size": 10,
              "solidity": 0.2
             }
            },
            "type": "bar"
           }
          ],
          "barpolar": [
           {
            "marker": {
             "line": {
              "color": "#E5ECF6",
              "width": 0.5
             },
             "pattern": {
              "fillmode": "overlay",
              "size": 10,
              "solidity": 0.2
             }
            },
            "type": "barpolar"
           }
          ],
          "carpet": [
           {
            "aaxis": {
             "endlinecolor": "#2a3f5f",
             "gridcolor": "white",
             "linecolor": "white",
             "minorgridcolor": "white",
             "startlinecolor": "#2a3f5f"
            },
            "baxis": {
             "endlinecolor": "#2a3f5f",
             "gridcolor": "white",
             "linecolor": "white",
             "minorgridcolor": "white",
             "startlinecolor": "#2a3f5f"
            },
            "type": "carpet"
           }
          ],
          "choropleth": [
           {
            "colorbar": {
             "outlinewidth": 0,
             "ticks": ""
            },
            "type": "choropleth"
           }
          ],
          "contour": [
           {
            "colorbar": {
             "outlinewidth": 0,
             "ticks": ""
            },
            "colorscale": [
             [
              0,
              "#0d0887"
             ],
             [
              0.1111111111111111,
              "#46039f"
             ],
             [
              0.2222222222222222,
              "#7201a8"
             ],
             [
              0.3333333333333333,
              "#9c179e"
             ],
             [
              0.4444444444444444,
              "#bd3786"
             ],
             [
              0.5555555555555556,
              "#d8576b"
             ],
             [
              0.6666666666666666,
              "#ed7953"
             ],
             [
              0.7777777777777778,
              "#fb9f3a"
             ],
             [
              0.8888888888888888,
              "#fdca26"
             ],
             [
              1,
              "#f0f921"
             ]
            ],
            "type": "contour"
           }
          ],
          "contourcarpet": [
           {
            "colorbar": {
             "outlinewidth": 0,
             "ticks": ""
            },
            "type": "contourcarpet"
           }
          ],
          "heatmap": [
           {
            "colorbar": {
             "outlinewidth": 0,
             "ticks": ""
            },
            "colorscale": [
             [
              0,
              "#0d0887"
             ],
             [
              0.1111111111111111,
              "#46039f"
             ],
             [
              0.2222222222222222,
              "#7201a8"
             ],
             [
              0.3333333333333333,
              "#9c179e"
             ],
             [
              0.4444444444444444,
              "#bd3786"
             ],
             [
              0.5555555555555556,
              "#d8576b"
             ],
             [
              0.6666666666666666,
              "#ed7953"
             ],
             [
              0.7777777777777778,
              "#fb9f3a"
             ],
             [
              0.8888888888888888,
              "#fdca26"
             ],
             [
              1,
              "#f0f921"
             ]
            ],
            "type": "heatmap"
           }
          ],
          "heatmapgl": [
           {
            "colorbar": {
             "outlinewidth": 0,
             "ticks": ""
            },
            "colorscale": [
             [
              0,
              "#0d0887"
             ],
             [
              0.1111111111111111,
              "#46039f"
             ],
             [
              0.2222222222222222,
              "#7201a8"
             ],
             [
              0.3333333333333333,
              "#9c179e"
             ],
             [
              0.4444444444444444,
              "#bd3786"
             ],
             [
              0.5555555555555556,
              "#d8576b"
             ],
             [
              0.6666666666666666,
              "#ed7953"
             ],
             [
              0.7777777777777778,
              "#fb9f3a"
             ],
             [
              0.8888888888888888,
              "#fdca26"
             ],
             [
              1,
              "#f0f921"
             ]
            ],
            "type": "heatmapgl"
           }
          ],
          "histogram": [
           {
            "marker": {
             "pattern": {
              "fillmode": "overlay",
              "size": 10,
              "solidity": 0.2
             }
            },
            "type": "histogram"
           }
          ],
          "histogram2d": [
           {
            "colorbar": {
             "outlinewidth": 0,
             "ticks": ""
            },
            "colorscale": [
             [
              0,
              "#0d0887"
             ],
             [
              0.1111111111111111,
              "#46039f"
             ],
             [
              0.2222222222222222,
              "#7201a8"
             ],
             [
              0.3333333333333333,
              "#9c179e"
             ],
             [
              0.4444444444444444,
              "#bd3786"
             ],
             [
              0.5555555555555556,
              "#d8576b"
             ],
             [
              0.6666666666666666,
              "#ed7953"
             ],
             [
              0.7777777777777778,
              "#fb9f3a"
             ],
             [
              0.8888888888888888,
              "#fdca26"
             ],
             [
              1,
              "#f0f921"
             ]
            ],
            "type": "histogram2d"
           }
          ],
          "histogram2dcontour": [
           {
            "colorbar": {
             "outlinewidth": 0,
             "ticks": ""
            },
            "colorscale": [
             [
              0,
              "#0d0887"
             ],
             [
              0.1111111111111111,
              "#46039f"
             ],
             [
              0.2222222222222222,
              "#7201a8"
             ],
             [
              0.3333333333333333,
              "#9c179e"
             ],
             [
              0.4444444444444444,
              "#bd3786"
             ],
             [
              0.5555555555555556,
              "#d8576b"
             ],
             [
              0.6666666666666666,
              "#ed7953"
             ],
             [
              0.7777777777777778,
              "#fb9f3a"
             ],
             [
              0.8888888888888888,
              "#fdca26"
             ],
             [
              1,
              "#f0f921"
             ]
            ],
            "type": "histogram2dcontour"
           }
          ],
          "mesh3d": [
           {
            "colorbar": {
             "outlinewidth": 0,
             "ticks": ""
            },
            "type": "mesh3d"
           }
          ],
          "parcoords": [
           {
            "line": {
             "colorbar": {
              "outlinewidth": 0,
              "ticks": ""
             }
            },
            "type": "parcoords"
           }
          ],
          "pie": [
           {
            "automargin": true,
            "type": "pie"
           }
          ],
          "scatter": [
           {
            "marker": {
             "colorbar": {
              "outlinewidth": 0,
              "ticks": ""
             }
            },
            "type": "scatter"
           }
          ],
          "scatter3d": [
           {
            "line": {
             "colorbar": {
              "outlinewidth": 0,
              "ticks": ""
             }
            },
            "marker": {
             "colorbar": {
              "outlinewidth": 0,
              "ticks": ""
             }
            },
            "type": "scatter3d"
           }
          ],
          "scattercarpet": [
           {
            "marker": {
             "colorbar": {
              "outlinewidth": 0,
              "ticks": ""
             }
            },
            "type": "scattercarpet"
           }
          ],
          "scattergeo": [
           {
            "marker": {
             "colorbar": {
              "outlinewidth": 0,
              "ticks": ""
             }
            },
            "type": "scattergeo"
           }
          ],
          "scattergl": [
           {
            "marker": {
             "colorbar": {
              "outlinewidth": 0,
              "ticks": ""
             }
            },
            "type": "scattergl"
           }
          ],
          "scattermapbox": [
           {
            "marker": {
             "colorbar": {
              "outlinewidth": 0,
              "ticks": ""
             }
            },
            "type": "scattermapbox"
           }
          ],
          "scatterpolar": [
           {
            "marker": {
             "colorbar": {
              "outlinewidth": 0,
              "ticks": ""
             }
            },
            "type": "scatterpolar"
           }
          ],
          "scatterpolargl": [
           {
            "marker": {
             "colorbar": {
              "outlinewidth": 0,
              "ticks": ""
             }
            },
            "type": "scatterpolargl"
           }
          ],
          "scatterternary": [
           {
            "marker": {
             "colorbar": {
              "outlinewidth": 0,
              "ticks": ""
             }
            },
            "type": "scatterternary"
           }
          ],
          "surface": [
           {
            "colorbar": {
             "outlinewidth": 0,
             "ticks": ""
            },
            "colorscale": [
             [
              0,
              "#0d0887"
             ],
             [
              0.1111111111111111,
              "#46039f"
             ],
             [
              0.2222222222222222,
              "#7201a8"
             ],
             [
              0.3333333333333333,
              "#9c179e"
             ],
             [
              0.4444444444444444,
              "#bd3786"
             ],
             [
              0.5555555555555556,
              "#d8576b"
             ],
             [
              0.6666666666666666,
              "#ed7953"
             ],
             [
              0.7777777777777778,
              "#fb9f3a"
             ],
             [
              0.8888888888888888,
              "#fdca26"
             ],
             [
              1,
              "#f0f921"
             ]
            ],
            "type": "surface"
           }
          ],
          "table": [
           {
            "cells": {
             "fill": {
              "color": "#EBF0F8"
             },
             "line": {
              "color": "white"
             }
            },
            "header": {
             "fill": {
              "color": "#C8D4E3"
             },
             "line": {
              "color": "white"
             }
            },
            "type": "table"
           }
          ]
         },
         "layout": {
          "annotationdefaults": {
           "arrowcolor": "#2a3f5f",
           "arrowhead": 0,
           "arrowwidth": 1
          },
          "autotypenumbers": "strict",
          "coloraxis": {
           "colorbar": {
            "outlinewidth": 0,
            "ticks": ""
           }
          },
          "colorscale": {
           "diverging": [
            [
             0,
             "#8e0152"
            ],
            [
             0.1,
             "#c51b7d"
            ],
            [
             0.2,
             "#de77ae"
            ],
            [
             0.3,
             "#f1b6da"
            ],
            [
             0.4,
             "#fde0ef"
            ],
            [
             0.5,
             "#f7f7f7"
            ],
            [
             0.6,
             "#e6f5d0"
            ],
            [
             0.7,
             "#b8e186"
            ],
            [
             0.8,
             "#7fbc41"
            ],
            [
             0.9,
             "#4d9221"
            ],
            [
             1,
             "#276419"
            ]
           ],
           "sequential": [
            [
             0,
             "#0d0887"
            ],
            [
             0.1111111111111111,
             "#46039f"
            ],
            [
             0.2222222222222222,
             "#7201a8"
            ],
            [
             0.3333333333333333,
             "#9c179e"
            ],
            [
             0.4444444444444444,
             "#bd3786"
            ],
            [
             0.5555555555555556,
             "#d8576b"
            ],
            [
             0.6666666666666666,
             "#ed7953"
            ],
            [
             0.7777777777777778,
             "#fb9f3a"
            ],
            [
             0.8888888888888888,
             "#fdca26"
            ],
            [
             1,
             "#f0f921"
            ]
           ],
           "sequentialminus": [
            [
             0,
             "#0d0887"
            ],
            [
             0.1111111111111111,
             "#46039f"
            ],
            [
             0.2222222222222222,
             "#7201a8"
            ],
            [
             0.3333333333333333,
             "#9c179e"
            ],
            [
             0.4444444444444444,
             "#bd3786"
            ],
            [
             0.5555555555555556,
             "#d8576b"
            ],
            [
             0.6666666666666666,
             "#ed7953"
            ],
            [
             0.7777777777777778,
             "#fb9f3a"
            ],
            [
             0.8888888888888888,
             "#fdca26"
            ],
            [
             1,
             "#f0f921"
            ]
           ]
          },
          "colorway": [
           "#636efa",
           "#EF553B",
           "#00cc96",
           "#ab63fa",
           "#FFA15A",
           "#19d3f3",
           "#FF6692",
           "#B6E880",
           "#FF97FF",
           "#FECB52"
          ],
          "font": {
           "color": "#2a3f5f"
          },
          "geo": {
           "bgcolor": "white",
           "lakecolor": "white",
           "landcolor": "#E5ECF6",
           "showlakes": true,
           "showland": true,
           "subunitcolor": "white"
          },
          "hoverlabel": {
           "align": "left"
          },
          "hovermode": "closest",
          "mapbox": {
           "style": "light"
          },
          "paper_bgcolor": "white",
          "plot_bgcolor": "#E5ECF6",
          "polar": {
           "angularaxis": {
            "gridcolor": "white",
            "linecolor": "white",
            "ticks": ""
           },
           "bgcolor": "#E5ECF6",
           "radialaxis": {
            "gridcolor": "white",
            "linecolor": "white",
            "ticks": ""
           }
          },
          "scene": {
           "xaxis": {
            "backgroundcolor": "#E5ECF6",
            "gridcolor": "white",
            "gridwidth": 2,
            "linecolor": "white",
            "showbackground": true,
            "ticks": "",
            "zerolinecolor": "white"
           },
           "yaxis": {
            "backgroundcolor": "#E5ECF6",
            "gridcolor": "white",
            "gridwidth": 2,
            "linecolor": "white",
            "showbackground": true,
            "ticks": "",
            "zerolinecolor": "white"
           },
           "zaxis": {
            "backgroundcolor": "#E5ECF6",
            "gridcolor": "white",
            "gridwidth": 2,
            "linecolor": "white",
            "showbackground": true,
            "ticks": "",
            "zerolinecolor": "white"
           }
          },
          "shapedefaults": {
           "line": {
            "color": "#2a3f5f"
           }
          },
          "ternary": {
           "aaxis": {
            "gridcolor": "white",
            "linecolor": "white",
            "ticks": ""
           },
           "baxis": {
            "gridcolor": "white",
            "linecolor": "white",
            "ticks": ""
           },
           "bgcolor": "#E5ECF6",
           "caxis": {
            "gridcolor": "white",
            "linecolor": "white",
            "ticks": ""
           }
          },
          "title": {
           "x": 0.05
          },
          "xaxis": {
           "automargin": true,
           "gridcolor": "white",
           "linecolor": "white",
           "ticks": "",
           "title": {
            "standoff": 15
           },
           "zerolinecolor": "white",
           "zerolinewidth": 2
          },
          "yaxis": {
           "automargin": true,
           "gridcolor": "white",
           "linecolor": "white",
           "ticks": "",
           "title": {
            "standoff": 15
           },
           "zerolinecolor": "white",
           "zerolinewidth": 2
          }
         }
        },
        "xaxis": {
         "anchor": "y",
         "domain": [
          0,
          1
         ],
         "nticks": 3,
         "title": {
          "text": "Year"
         }
        },
        "yaxis": {
         "anchor": "x",
         "domain": [
          0,
          1
         ],
         "title": {
          "text": "ERHNI"
         }
        }
       }
      },
      "text/html": [
       "<div>                            <div id=\"887f78d2-9f48-4315-b871-a52f3099693c\" class=\"plotly-graph-div\" style=\"height:525px; width:100%;\"></div>            <script type=\"text/javascript\">                require([\"plotly\"], function(Plotly) {                    window.PLOTLYENV=window.PLOTLYENV || {};                                    if (document.getElementById(\"887f78d2-9f48-4315-b871-a52f3099693c\")) {                    Plotly.newPlot(                        \"887f78d2-9f48-4315-b871-a52f3099693c\",                        [{\"hovertemplate\":\"Country=%{text}<br>Year=%{x}<br>ERHNI=%{y}<extra></extra>\",\"legendgroup\":\"Denmark\",\"line\":{\"color\":\"#636efa\",\"dash\":\"solid\"},\"marker\":{\"symbol\":\"circle\"},\"mode\":\"lines+markers+text\",\"name\":\"Denmark\",\"orientation\":\"v\",\"showlegend\":true,\"text\":[\"Denmark\",\"Denmark\",\"Denmark\"],\"x\":[2016,2017,2018],\"xaxis\":\"x\",\"y\":[16.8083667,17.19610214,15.40191158],\"yaxis\":\"y\",\"type\":\"scatter\",\"textposition\":\"bottom center\"},{\"hovertemplate\":\"Country=%{text}<br>Year=%{x}<br>ERHNI=%{y}<extra></extra>\",\"legendgroup\":\"Switzerland\",\"line\":{\"color\":\"#EF553B\",\"dash\":\"solid\"},\"marker\":{\"symbol\":\"circle\"},\"mode\":\"lines+markers+text\",\"name\":\"Switzerland\",\"orientation\":\"v\",\"showlegend\":true,\"text\":[\"Switzerland\",\"Switzerland\",\"Switzerland\"],\"x\":[2016,2017,2018],\"xaxis\":\"x\",\"y\":[18.72084346,18.67567463,18.74776648],\"yaxis\":\"y\",\"type\":\"scatter\",\"textposition\":\"bottom center\"},{\"hovertemplate\":\"Country=%{text}<br>Year=%{x}<br>ERHNI=%{y}<extra></extra>\",\"legendgroup\":\"Iceland\",\"line\":{\"color\":\"#00cc96\",\"dash\":\"solid\"},\"marker\":{\"symbol\":\"circle\"},\"mode\":\"lines+markers+text\",\"name\":\"Iceland\",\"orientation\":\"v\",\"showlegend\":true,\"text\":[\"Iceland\",\"Iceland\",\"Iceland\"],\"x\":[2016,2017,2018],\"xaxis\":\"x\",\"y\":[20.55944,20.69830984,20.67381341],\"yaxis\":\"y\",\"type\":\"scatter\",\"textposition\":\"bottom center\"},{\"hovertemplate\":\"Country=%{text}<br>Year=%{x}<br>ERHNI=%{y}<extra></extra>\",\"legendgroup\":\"Norway\",\"line\":{\"color\":\"#ab63fa\",\"dash\":\"solid\"},\"marker\":{\"symbol\":\"circle\"},\"mode\":\"lines+markers+text\",\"name\":\"Norway\",\"orientation\":\"v\",\"showlegend\":true,\"text\":[\"Norway\",\"Norway\",\"Norway\"],\"x\":[2016,2017,2018],\"xaxis\":\"x\",\"y\":[20.13952255,20.73902406,20.70298684],\"yaxis\":\"y\",\"type\":\"scatter\",\"textposition\":\"bottom center\"},{\"hovertemplate\":\"Country=%{text}<br>Year=%{x}<br>ERHNI=%{y}<extra></extra>\",\"legendgroup\":\"Finland\",\"line\":{\"color\":\"#FFA15A\",\"dash\":\"solid\"},\"marker\":{\"symbol\":\"circle\"},\"mode\":\"lines+markers+text\",\"name\":\"Finland\",\"orientation\":\"v\",\"showlegend\":true,\"text\":[\"Finland\",\"Finland\",\"Finland\"],\"x\":[2016,2017,2018],\"xaxis\":\"x\",\"y\":[19.50175934,20.15486742,21.07012336],\"yaxis\":\"y\",\"type\":\"scatter\",\"textposition\":\"bottom center\"},{\"hovertemplate\":\"Country=%{text}<br>Year=%{x}<br>ERHNI=%{y}<extra></extra>\",\"legendgroup\":\"Canada\",\"line\":{\"color\":\"#19d3f3\",\"dash\":\"solid\"},\"marker\":{\"symbol\":\"circle\"},\"mode\":\"lines+markers+text\",\"name\":\"Canada\",\"orientation\":\"v\",\"showlegend\":true,\"text\":[\"Canada\",\"Canada\",\"Canada\"],\"x\":[2016,2017,2018],\"xaxis\":\"x\",\"y\":[17.54226543,15.76381337,16.00922508],\"yaxis\":\"y\",\"type\":\"scatter\",\"textposition\":\"bottom center\"},{\"hovertemplate\":\"Country=%{text}<br>Year=%{x}<br>ERHNI=%{y}<extra></extra>\",\"legendgroup\":\"New Zealand\",\"line\":{\"color\":\"#FF6692\",\"dash\":\"solid\"},\"marker\":{\"symbol\":\"circle\"},\"mode\":\"lines+markers+text\",\"name\":\"New Zealand\",\"orientation\":\"v\",\"showlegend\":true,\"text\":[\"New Zealand\",\"New Zealand\",\"New Zealand\"],\"x\":[2016,2017,2018],\"xaxis\":\"x\",\"y\":[19.04834327,18.89578642,19.0239239],\"yaxis\":\"y\",\"type\":\"scatter\",\"textposition\":\"bottom center\"},{\"hovertemplate\":\"Country=%{text}<br>Year=%{x}<br>ERHNI=%{y}<extra></extra>\",\"legendgroup\":\"Australia\",\"line\":{\"color\":\"#B6E880\",\"dash\":\"solid\"},\"marker\":{\"symbol\":\"circle\"},\"mode\":\"lines+markers+text\",\"name\":\"Australia\",\"orientation\":\"v\",\"showlegend\":true,\"text\":[\"Australia\",\"Australia\",\"Australia\"],\"x\":[2016,2017,2018],\"xaxis\":\"x\",\"y\":[19.07040293,18.84299934,18.80052293],\"yaxis\":\"y\",\"type\":\"scatter\",\"textposition\":\"bottom center\"},{\"hovertemplate\":\"Country=%{text}<br>Year=%{x}<br>ERHNI=%{y}<extra></extra>\",\"legendgroup\":\"Sweden\",\"line\":{\"color\":\"#FF97FF\",\"dash\":\"solid\"},\"marker\":{\"symbol\":\"circle\"},\"mode\":\"lines+markers+text\",\"name\":\"Sweden\",\"orientation\":\"v\",\"showlegend\":true,\"text\":[\"Sweden\",\"Sweden\",\"Sweden\"],\"x\":[2016,2017,2018],\"xaxis\":\"x\",\"y\":[18.5110244,18.47449752,18.51763224],\"yaxis\":\"y\",\"type\":\"scatter\",\"textposition\":\"bottom center\"},{\"hovertemplate\":\"Country=%{text}<br>Year=%{x}<br>ERHNI=%{y}<extra></extra>\",\"legendgroup\":\"Israel\",\"line\":{\"color\":\"#FECB52\",\"dash\":\"solid\"},\"marker\":{\"symbol\":\"circle\"},\"mode\":\"lines+markers+text\",\"name\":\"Israel\",\"orientation\":\"v\",\"showlegend\":true,\"text\":[\"Israel\",\"Israel\",\"Israel\"],\"x\":[2016,2017,2018],\"xaxis\":\"x\",\"y\":[15.35069366,14.03634485,10.95859263],\"yaxis\":\"y\",\"type\":\"scatter\",\"textposition\":\"bottom center\"}],                        {\"template\":{\"data\":{\"bar\":[{\"error_x\":{\"color\":\"#2a3f5f\"},\"error_y\":{\"color\":\"#2a3f5f\"},\"marker\":{\"line\":{\"color\":\"#E5ECF6\",\"width\":0.5},\"pattern\":{\"fillmode\":\"overlay\",\"size\":10,\"solidity\":0.2}},\"type\":\"bar\"}],\"barpolar\":[{\"marker\":{\"line\":{\"color\":\"#E5ECF6\",\"width\":0.5},\"pattern\":{\"fillmode\":\"overlay\",\"size\":10,\"solidity\":0.2}},\"type\":\"barpolar\"}],\"carpet\":[{\"aaxis\":{\"endlinecolor\":\"#2a3f5f\",\"gridcolor\":\"white\",\"linecolor\":\"white\",\"minorgridcolor\":\"white\",\"startlinecolor\":\"#2a3f5f\"},\"baxis\":{\"endlinecolor\":\"#2a3f5f\",\"gridcolor\":\"white\",\"linecolor\":\"white\",\"minorgridcolor\":\"white\",\"startlinecolor\":\"#2a3f5f\"},\"type\":\"carpet\"}],\"choropleth\":[{\"colorbar\":{\"outlinewidth\":0,\"ticks\":\"\"},\"type\":\"choropleth\"}],\"contour\":[{\"colorbar\":{\"outlinewidth\":0,\"ticks\":\"\"},\"colorscale\":[[0.0,\"#0d0887\"],[0.1111111111111111,\"#46039f\"],[0.2222222222222222,\"#7201a8\"],[0.3333333333333333,\"#9c179e\"],[0.4444444444444444,\"#bd3786\"],[0.5555555555555556,\"#d8576b\"],[0.6666666666666666,\"#ed7953\"],[0.7777777777777778,\"#fb9f3a\"],[0.8888888888888888,\"#fdca26\"],[1.0,\"#f0f921\"]],\"type\":\"contour\"}],\"contourcarpet\":[{\"colorbar\":{\"outlinewidth\":0,\"ticks\":\"\"},\"type\":\"contourcarpet\"}],\"heatmap\":[{\"colorbar\":{\"outlinewidth\":0,\"ticks\":\"\"},\"colorscale\":[[0.0,\"#0d0887\"],[0.1111111111111111,\"#46039f\"],[0.2222222222222222,\"#7201a8\"],[0.3333333333333333,\"#9c179e\"],[0.4444444444444444,\"#bd3786\"],[0.5555555555555556,\"#d8576b\"],[0.6666666666666666,\"#ed7953\"],[0.7777777777777778,\"#fb9f3a\"],[0.8888888888888888,\"#fdca26\"],[1.0,\"#f0f921\"]],\"type\":\"heatmap\"}],\"heatmapgl\":[{\"colorbar\":{\"outlinewidth\":0,\"ticks\":\"\"},\"colorscale\":[[0.0,\"#0d0887\"],[0.1111111111111111,\"#46039f\"],[0.2222222222222222,\"#7201a8\"],[0.3333333333333333,\"#9c179e\"],[0.4444444444444444,\"#bd3786\"],[0.5555555555555556,\"#d8576b\"],[0.6666666666666666,\"#ed7953\"],[0.7777777777777778,\"#fb9f3a\"],[0.8888888888888888,\"#fdca26\"],[1.0,\"#f0f921\"]],\"type\":\"heatmapgl\"}],\"histogram\":[{\"marker\":{\"pattern\":{\"fillmode\":\"overlay\",\"size\":10,\"solidity\":0.2}},\"type\":\"histogram\"}],\"histogram2d\":[{\"colorbar\":{\"outlinewidth\":0,\"ticks\":\"\"},\"colorscale\":[[0.0,\"#0d0887\"],[0.1111111111111111,\"#46039f\"],[0.2222222222222222,\"#7201a8\"],[0.3333333333333333,\"#9c179e\"],[0.4444444444444444,\"#bd3786\"],[0.5555555555555556,\"#d8576b\"],[0.6666666666666666,\"#ed7953\"],[0.7777777777777778,\"#fb9f3a\"],[0.8888888888888888,\"#fdca26\"],[1.0,\"#f0f921\"]],\"type\":\"histogram2d\"}],\"histogram2dcontour\":[{\"colorbar\":{\"outlinewidth\":0,\"ticks\":\"\"},\"colorscale\":[[0.0,\"#0d0887\"],[0.1111111111111111,\"#46039f\"],[0.2222222222222222,\"#7201a8\"],[0.3333333333333333,\"#9c179e\"],[0.4444444444444444,\"#bd3786\"],[0.5555555555555556,\"#d8576b\"],[0.6666666666666666,\"#ed7953\"],[0.7777777777777778,\"#fb9f3a\"],[0.8888888888888888,\"#fdca26\"],[1.0,\"#f0f921\"]],\"type\":\"histogram2dcontour\"}],\"mesh3d\":[{\"colorbar\":{\"outlinewidth\":0,\"ticks\":\"\"},\"type\":\"mesh3d\"}],\"parcoords\":[{\"line\":{\"colorbar\":{\"outlinewidth\":0,\"ticks\":\"\"}},\"type\":\"parcoords\"}],\"pie\":[{\"automargin\":true,\"type\":\"pie\"}],\"scatter\":[{\"marker\":{\"colorbar\":{\"outlinewidth\":0,\"ticks\":\"\"}},\"type\":\"scatter\"}],\"scatter3d\":[{\"line\":{\"colorbar\":{\"outlinewidth\":0,\"ticks\":\"\"}},\"marker\":{\"colorbar\":{\"outlinewidth\":0,\"ticks\":\"\"}},\"type\":\"scatter3d\"}],\"scattercarpet\":[{\"marker\":{\"colorbar\":{\"outlinewidth\":0,\"ticks\":\"\"}},\"type\":\"scattercarpet\"}],\"scattergeo\":[{\"marker\":{\"colorbar\":{\"outlinewidth\":0,\"ticks\":\"\"}},\"type\":\"scattergeo\"}],\"scattergl\":[{\"marker\":{\"colorbar\":{\"outlinewidth\":0,\"ticks\":\"\"}},\"type\":\"scattergl\"}],\"scattermapbox\":[{\"marker\":{\"colorbar\":{\"outlinewidth\":0,\"ticks\":\"\"}},\"type\":\"scattermapbox\"}],\"scatterpolar\":[{\"marker\":{\"colorbar\":{\"outlinewidth\":0,\"ticks\":\"\"}},\"type\":\"scatterpolar\"}],\"scatterpolargl\":[{\"marker\":{\"colorbar\":{\"outlinewidth\":0,\"ticks\":\"\"}},\"type\":\"scatterpolargl\"}],\"scatterternary\":[{\"marker\":{\"colorbar\":{\"outlinewidth\":0,\"ticks\":\"\"}},\"type\":\"scatterternary\"}],\"surface\":[{\"colorbar\":{\"outlinewidth\":0,\"ticks\":\"\"},\"colorscale\":[[0.0,\"#0d0887\"],[0.1111111111111111,\"#46039f\"],[0.2222222222222222,\"#7201a8\"],[0.3333333333333333,\"#9c179e\"],[0.4444444444444444,\"#bd3786\"],[0.5555555555555556,\"#d8576b\"],[0.6666666666666666,\"#ed7953\"],[0.7777777777777778,\"#fb9f3a\"],[0.8888888888888888,\"#fdca26\"],[1.0,\"#f0f921\"]],\"type\":\"surface\"}],\"table\":[{\"cells\":{\"fill\":{\"color\":\"#EBF0F8\"},\"line\":{\"color\":\"white\"}},\"header\":{\"fill\":{\"color\":\"#C8D4E3\"},\"line\":{\"color\":\"white\"}},\"type\":\"table\"}]},\"layout\":{\"annotationdefaults\":{\"arrowcolor\":\"#2a3f5f\",\"arrowhead\":0,\"arrowwidth\":1},\"autotypenumbers\":\"strict\",\"coloraxis\":{\"colorbar\":{\"outlinewidth\":0,\"ticks\":\"\"}},\"colorscale\":{\"diverging\":[[0,\"#8e0152\"],[0.1,\"#c51b7d\"],[0.2,\"#de77ae\"],[0.3,\"#f1b6da\"],[0.4,\"#fde0ef\"],[0.5,\"#f7f7f7\"],[0.6,\"#e6f5d0\"],[0.7,\"#b8e186\"],[0.8,\"#7fbc41\"],[0.9,\"#4d9221\"],[1,\"#276419\"]],\"sequential\":[[0.0,\"#0d0887\"],[0.1111111111111111,\"#46039f\"],[0.2222222222222222,\"#7201a8\"],[0.3333333333333333,\"#9c179e\"],[0.4444444444444444,\"#bd3786\"],[0.5555555555555556,\"#d8576b\"],[0.6666666666666666,\"#ed7953\"],[0.7777777777777778,\"#fb9f3a\"],[0.8888888888888888,\"#fdca26\"],[1.0,\"#f0f921\"]],\"sequentialminus\":[[0.0,\"#0d0887\"],[0.1111111111111111,\"#46039f\"],[0.2222222222222222,\"#7201a8\"],[0.3333333333333333,\"#9c179e\"],[0.4444444444444444,\"#bd3786\"],[0.5555555555555556,\"#d8576b\"],[0.6666666666666666,\"#ed7953\"],[0.7777777777777778,\"#fb9f3a\"],[0.8888888888888888,\"#fdca26\"],[1.0,\"#f0f921\"]]},\"colorway\":[\"#636efa\",\"#EF553B\",\"#00cc96\",\"#ab63fa\",\"#FFA15A\",\"#19d3f3\",\"#FF6692\",\"#B6E880\",\"#FF97FF\",\"#FECB52\"],\"font\":{\"color\":\"#2a3f5f\"},\"geo\":{\"bgcolor\":\"white\",\"lakecolor\":\"white\",\"landcolor\":\"#E5ECF6\",\"showlakes\":true,\"showland\":true,\"subunitcolor\":\"white\"},\"hoverlabel\":{\"align\":\"left\"},\"hovermode\":\"closest\",\"mapbox\":{\"style\":\"light\"},\"paper_bgcolor\":\"white\",\"plot_bgcolor\":\"#E5ECF6\",\"polar\":{\"angularaxis\":{\"gridcolor\":\"white\",\"linecolor\":\"white\",\"ticks\":\"\"},\"bgcolor\":\"#E5ECF6\",\"radialaxis\":{\"gridcolor\":\"white\",\"linecolor\":\"white\",\"ticks\":\"\"}},\"scene\":{\"xaxis\":{\"backgroundcolor\":\"#E5ECF6\",\"gridcolor\":\"white\",\"gridwidth\":2,\"linecolor\":\"white\",\"showbackground\":true,\"ticks\":\"\",\"zerolinecolor\":\"white\"},\"yaxis\":{\"backgroundcolor\":\"#E5ECF6\",\"gridcolor\":\"white\",\"gridwidth\":2,\"linecolor\":\"white\",\"showbackground\":true,\"ticks\":\"\",\"zerolinecolor\":\"white\"},\"zaxis\":{\"backgroundcolor\":\"#E5ECF6\",\"gridcolor\":\"white\",\"gridwidth\":2,\"linecolor\":\"white\",\"showbackground\":true,\"ticks\":\"\",\"zerolinecolor\":\"white\"}},\"shapedefaults\":{\"line\":{\"color\":\"#2a3f5f\"}},\"ternary\":{\"aaxis\":{\"gridcolor\":\"white\",\"linecolor\":\"white\",\"ticks\":\"\"},\"baxis\":{\"gridcolor\":\"white\",\"linecolor\":\"white\",\"ticks\":\"\"},\"bgcolor\":\"#E5ECF6\",\"caxis\":{\"gridcolor\":\"white\",\"linecolor\":\"white\",\"ticks\":\"\"}},\"title\":{\"x\":0.05},\"xaxis\":{\"automargin\":true,\"gridcolor\":\"white\",\"linecolor\":\"white\",\"ticks\":\"\",\"title\":{\"standoff\":15},\"zerolinecolor\":\"white\",\"zerolinewidth\":2},\"yaxis\":{\"automargin\":true,\"gridcolor\":\"white\",\"linecolor\":\"white\",\"ticks\":\"\",\"title\":{\"standoff\":15},\"zerolinecolor\":\"white\",\"zerolinewidth\":2}}},\"xaxis\":{\"anchor\":\"y\",\"domain\":[0.0,1.0],\"title\":{\"text\":\"Year\"},\"nticks\":3},\"yaxis\":{\"anchor\":\"x\",\"domain\":[0.0,1.0],\"title\":{\"text\":\"ERHNI\"}},\"legend\":{\"title\":{\"text\":\"Country\"},\"tracegroupgap\":0},\"margin\":{\"t\":60}},                        {\"responsive\": true}                    ).then(function(){\n",
       "                            \n",
       "var gd = document.getElementById('887f78d2-9f48-4315-b871-a52f3099693c');\n",
       "var x = new MutationObserver(function (mutations, observer) {{\n",
       "        var display = window.getComputedStyle(gd).display;\n",
       "        if (!display || display === 'none') {{\n",
       "            console.log([gd, 'removed!']);\n",
       "            Plotly.purge(gd);\n",
       "            observer.disconnect();\n",
       "        }}\n",
       "}});\n",
       "\n",
       "// Listen for the removal of the full notebook cells\n",
       "var notebookContainer = gd.closest('#notebook-container');\n",
       "if (notebookContainer) {{\n",
       "    x.observe(notebookContainer, {childList: true});\n",
       "}}\n",
       "\n",
       "// Listen for the clearing of the current output cell\n",
       "var outputEl = gd.closest('.output');\n",
       "if (outputEl) {{\n",
       "    x.observe(outputEl, {childList: true});\n",
       "}}\n",
       "\n",
       "                        })                };                });            </script>        </div>"
      ]
     },
     "metadata": {},
     "output_type": "display_data"
    }
   ],
   "source": [
    "import plotly.express as px\n",
    "\n",
    "reduced_y = merged_y[merged_y['Country'].isin(countries_lst)]\n",
    "reduced_y\n",
    "#df = px.data.gapminder().query(\"continent=='Oceania'\")\n",
    "fig = px.line(reduced_y, x=\"Year\", y=\"ERHNI\", color='Country', labels='Country', text='Country')\n",
    "fig.update_xaxes(nticks=3)\n",
    "fig.update_traces(textposition='bottom center')\n",
    "fig.show()"
   ]
  },
  {
   "cell_type": "code",
   "execution_count": 251,
   "id": "b93d731b",
   "metadata": {
    "ExecuteTime": {
     "end_time": "2022-07-25T16:13:58.973295Z",
     "start_time": "2022-07-25T16:13:58.918050Z"
    }
   },
   "outputs": [
    {
     "data": {
      "application/vnd.plotly.v1+json": {
       "config": {
        "plotlyServerURL": "https://plot.ly"
       },
       "data": [
        {
         "coloraxis": "coloraxis",
         "geo": "geo",
         "hovertemplate": "<b>%{hovertext}</b><br><br>Year=2016<br>Country Code=%{location}<br>ERHNI=%{z}<extra></extra>",
         "hovertext": [
          "Denmark",
          "Switzerland",
          "Iceland",
          "Norway",
          "Finland",
          "Canada",
          "Netherlands",
          "New Zealand",
          "Australia",
          "Sweden",
          "Israel",
          "Austria",
          "United States",
          "Costa Rica",
          "Germany",
          "Brazil",
          "Belgium",
          "Ireland",
          "Luxembourg",
          "Mexico",
          "Singapore",
          "United Kingdom",
          "Chile",
          "Panama",
          "Argentina",
          "Czech Republic",
          "United Arab Emirates",
          "Uruguay",
          "Malta",
          "Colombia",
          "France",
          "Thailand",
          "Saudi Arabia",
          "Qatar",
          "Spain",
          "Algeria",
          "Guatemala",
          "Suriname",
          "Kuwait",
          "Bahrain",
          "Trinidad and Tobago",
          "Venezuela",
          "Slovakia",
          "El Salvador",
          "Malaysia",
          "Nicaragua",
          "Italy",
          "Ecuador",
          "Belize",
          "Japan",
          "Kazakhstan",
          "Moldova",
          "Russia",
          "Poland",
          "South Korea",
          "Bolivia",
          "Lithuania",
          "Belarus",
          "North Cyprus",
          "Slovenia",
          "Peru",
          "Turkmenistan",
          "Mauritius",
          "Libya",
          "Latvia",
          "Cyprus",
          "Paraguay",
          "Romania",
          "Estonia",
          "Jamaica",
          "Croatia",
          "Somalia",
          "Turkey",
          "Indonesia",
          "Jordan",
          "Azerbaijan",
          "Philippines",
          "China",
          "Bhutan",
          "Kyrgyzstan",
          "Serbia",
          "Bosnia and Herzegovina",
          "Montenegro",
          "Dominican Republic",
          "Morocco",
          "Hungary",
          "Pakistan",
          "Lebanon",
          "Portugal",
          "Macedonia",
          "Vietnam",
          "Tunisia",
          "Greece",
          "Tajikistan",
          "Mongolia",
          "Laos",
          "Nigeria",
          "Honduras",
          "Iran",
          "Zambia",
          "Nepal",
          "Albania",
          "Bangladesh",
          "Sierra Leone",
          "Iraq",
          "Namibia",
          "Cameroon",
          "Ethiopia",
          "South Africa",
          "Sri Lanka",
          "India",
          "Myanmar",
          "Egypt",
          "Armenia",
          "Kenya",
          "Ukraine",
          "Ghana",
          "Congo (Kinshasa)",
          "Georgia",
          "Senegal",
          "Bulgaria",
          "Mauritania",
          "Zimbabwe",
          "Malawi",
          "Sudan",
          "Gabon",
          "Mali",
          "Haiti",
          "Botswana",
          "Comoros",
          "Cambodia",
          "Angola",
          "Niger",
          "South Sudan",
          "Chad",
          "Burkina Faso",
          "Uganda",
          "Madagascar",
          "Tanzania",
          "Liberia",
          "Guinea",
          "Rwanda",
          "Benin",
          "Afghanistan",
          "Togo",
          "Syria",
          "Burundi"
         ],
         "locations": [
          "DNK",
          "CHE",
          "ISL",
          "NOR",
          "FIN",
          "CAN",
          "NLD",
          "NZL",
          "AUS",
          "SWE",
          "ISR",
          "AUT",
          "USA",
          "CRI",
          "DEU",
          "BRA",
          "BEL",
          "IRL",
          "LUX",
          "MEX",
          "SGP",
          "GBR",
          "CHL",
          "PAN",
          "ARG",
          "CZE",
          "ARE",
          "URY",
          "MLT",
          "COL",
          "FRA",
          "THA",
          "SAU",
          "QAT",
          "ESP",
          "DZA",
          "GTM",
          "SUR",
          "KWT",
          "BHR",
          "TTO",
          "VEN",
          "SVK",
          "SLV",
          "MYS",
          "NIC",
          "ITA",
          "ECU",
          "BLZ",
          "JPN",
          "KAZ",
          "MDA",
          "RUS",
          "POL",
          "KOR",
          "BOL",
          "LTU",
          "BLR",
          "CYP",
          "SVN",
          "PER",
          "TKM",
          "MUS",
          "LBY",
          "LVA",
          "CYP",
          "PRY",
          "ROU",
          "EST",
          "JAM",
          "HRV",
          "SOM",
          "TUR",
          "IDN",
          "JOR",
          "AZE",
          "PHL",
          "CHN",
          "BTN",
          "KGZ",
          "SRB",
          "BIH",
          "MNE",
          "DOM",
          "MAR",
          "HUN",
          "PAK",
          "LBN",
          "PRT",
          "MKD",
          "VNM",
          "TUN",
          "GRC",
          "TJK",
          "MNG",
          "LAO",
          "NGA",
          "HND",
          "IRN",
          "ZMB",
          "NPL",
          "ALB",
          "BGD",
          "SLE",
          "IRQ",
          "NAM",
          "CMR",
          "ETH",
          "ZAF",
          "LKA",
          "IND",
          "MMR",
          "EGY",
          "ARM",
          "KEN",
          "UKR",
          "GHA",
          "COD",
          "GEO",
          "SEN",
          "BGR",
          "MRT",
          "ZWE",
          "MWI",
          "SDN",
          "GAB",
          "MLI",
          "HTI",
          "BWA",
          "COM",
          "KHM",
          "AGO",
          "NER",
          "SSD",
          "TCD",
          "BFA",
          "UGA",
          "MDG",
          "TZA",
          "LBR",
          "GIN",
          "RWA",
          "BEN",
          "AFG",
          "TGO",
          "SYR",
          "BDI"
         ],
         "name": "",
         "type": "choropleth",
         "z": [
          16.8083667,
          18.72084346,
          20.55944,
          20.13952255,
          19.50175934,
          17.54226543,
          14.2938786,
          19.04834327,
          19.07040293,
          18.5110244,
          15.35069366,
          12.23095113,
          13.82604117,
          11.92879921,
          11.72700031,
          5.94990971,
          11.5053288,
          14.86052344,
          10.48839909,
          5.723014923,
          -6.948007647,
          11.12674776,
          5.291215728,
          11.00675911,
          2.212977714,
          2.449390328,
          -12.6988351,
          1.87898594,
          12.10033344,
          2.797765017,
          7.951738323,
          0.967311564,
          0.725283882,
          -14.73735793,
          9.91049315,
          10.0315383,
          -2.741221083,
          8.637438658,
          4.841096195,
          -7.247503496,
          8.53808,
          -0.890506401,
          0.726497853,
          0.612016118,
          0.24049557,
          -0.052132535,
          3.671126414,
          0.626228125,
          3.414199832,
          5.988023996,
          -3.994033861,
          -0.479305983,
          -2.88421238,
          -8.338843554,
          -0.665816331,
          -26.16833215,
          -6.433983226,
          -10.46251978,
          2.556500865,
          -1.070962869,
          -5.94869243,
          -2.514258283,
          4.820788098,
          3.237051565,
          -7.363725811,
          0.744958365,
          -16.17753658,
          -4.945313552,
          2.438658445,
          2.235330124,
          -4.950275347,
          -0.115032693,
          -9.047770432,
          -6.958274773,
          -0.989424389,
          -5.630915952,
          -1.042425152,
          -26.37154006,
          -9.48402413,
          -4.670695057,
          -19.72555979,
          -14.64636506,
          -5.455288885,
          -0.227747511,
          0.139009071,
          -8.768918495,
          -19.06868114,
          -1.413602301,
          0.307438525,
          -10.55063177,
          -10.23113668,
          -1.118845031,
          -4.521856075,
          -4.580093468,
          -230.5739135,
          -19.02477704,
          -7.482560092,
          -10.62022991,
          -11.36315784,
          -24.94854451,
          -26.11579452,
          -9.16823994,
          -23.18991987,
          -5.142262767,
          -7.801155688,
          -23.78540541,
          -108.3797626,
          -13.02926786,
          -12.73997482,
          -7.912186188,
          -21.54395852,
          -23.31319644,
          -9.893139899,
          -16.0175039,
          -11.73715875,
          -15.32143617,
          -7.949725711,
          -15.3981694,
          -14.45123916,
          -5.605562766,
          -18.71478188,
          -5.1302192,
          -12.4236681,
          -10.09463727,
          -11.46075304,
          -13.52143333,
          -6.31660527,
          -6.930834356,
          -24.3311632,
          -6.719630082,
          -14.09102463,
          -23.64753724,
          -11.87650266,
          -44.13147539,
          -22.92852684,
          -10.38627764,
          -22.37850139,
          -11.44801402,
          -20.42190626,
          -12.58175411,
          -14.84897671,
          -18.65392712,
          -14.49100996,
          -17.31350353,
          -14.73139007,
          -18.8037079,
          -21.99797572
         ]
        }
       ],
       "frames": [
        {
         "data": [
          {
           "coloraxis": "coloraxis",
           "geo": "geo",
           "hovertemplate": "<b>%{hovertext}</b><br><br>Year=2016<br>Country Code=%{location}<br>ERHNI=%{z}<extra></extra>",
           "hovertext": [
            "Denmark",
            "Switzerland",
            "Iceland",
            "Norway",
            "Finland",
            "Canada",
            "Netherlands",
            "New Zealand",
            "Australia",
            "Sweden",
            "Israel",
            "Austria",
            "United States",
            "Costa Rica",
            "Germany",
            "Brazil",
            "Belgium",
            "Ireland",
            "Luxembourg",
            "Mexico",
            "Singapore",
            "United Kingdom",
            "Chile",
            "Panama",
            "Argentina",
            "Czech Republic",
            "United Arab Emirates",
            "Uruguay",
            "Malta",
            "Colombia",
            "France",
            "Thailand",
            "Saudi Arabia",
            "Qatar",
            "Spain",
            "Algeria",
            "Guatemala",
            "Suriname",
            "Kuwait",
            "Bahrain",
            "Trinidad and Tobago",
            "Venezuela",
            "Slovakia",
            "El Salvador",
            "Malaysia",
            "Nicaragua",
            "Italy",
            "Ecuador",
            "Belize",
            "Japan",
            "Kazakhstan",
            "Moldova",
            "Russia",
            "Poland",
            "South Korea",
            "Bolivia",
            "Lithuania",
            "Belarus",
            "North Cyprus",
            "Slovenia",
            "Peru",
            "Turkmenistan",
            "Mauritius",
            "Libya",
            "Latvia",
            "Cyprus",
            "Paraguay",
            "Romania",
            "Estonia",
            "Jamaica",
            "Croatia",
            "Somalia",
            "Turkey",
            "Indonesia",
            "Jordan",
            "Azerbaijan",
            "Philippines",
            "China",
            "Bhutan",
            "Kyrgyzstan",
            "Serbia",
            "Bosnia and Herzegovina",
            "Montenegro",
            "Dominican Republic",
            "Morocco",
            "Hungary",
            "Pakistan",
            "Lebanon",
            "Portugal",
            "Macedonia",
            "Vietnam",
            "Tunisia",
            "Greece",
            "Tajikistan",
            "Mongolia",
            "Laos",
            "Nigeria",
            "Honduras",
            "Iran",
            "Zambia",
            "Nepal",
            "Albania",
            "Bangladesh",
            "Sierra Leone",
            "Iraq",
            "Namibia",
            "Cameroon",
            "Ethiopia",
            "South Africa",
            "Sri Lanka",
            "India",
            "Myanmar",
            "Egypt",
            "Armenia",
            "Kenya",
            "Ukraine",
            "Ghana",
            "Congo (Kinshasa)",
            "Georgia",
            "Senegal",
            "Bulgaria",
            "Mauritania",
            "Zimbabwe",
            "Malawi",
            "Sudan",
            "Gabon",
            "Mali",
            "Haiti",
            "Botswana",
            "Comoros",
            "Cambodia",
            "Angola",
            "Niger",
            "South Sudan",
            "Chad",
            "Burkina Faso",
            "Uganda",
            "Madagascar",
            "Tanzania",
            "Liberia",
            "Guinea",
            "Rwanda",
            "Benin",
            "Afghanistan",
            "Togo",
            "Syria",
            "Burundi"
           ],
           "locations": [
            "DNK",
            "CHE",
            "ISL",
            "NOR",
            "FIN",
            "CAN",
            "NLD",
            "NZL",
            "AUS",
            "SWE",
            "ISR",
            "AUT",
            "USA",
            "CRI",
            "DEU",
            "BRA",
            "BEL",
            "IRL",
            "LUX",
            "MEX",
            "SGP",
            "GBR",
            "CHL",
            "PAN",
            "ARG",
            "CZE",
            "ARE",
            "URY",
            "MLT",
            "COL",
            "FRA",
            "THA",
            "SAU",
            "QAT",
            "ESP",
            "DZA",
            "GTM",
            "SUR",
            "KWT",
            "BHR",
            "TTO",
            "VEN",
            "SVK",
            "SLV",
            "MYS",
            "NIC",
            "ITA",
            "ECU",
            "BLZ",
            "JPN",
            "KAZ",
            "MDA",
            "RUS",
            "POL",
            "KOR",
            "BOL",
            "LTU",
            "BLR",
            "CYP",
            "SVN",
            "PER",
            "TKM",
            "MUS",
            "LBY",
            "LVA",
            "CYP",
            "PRY",
            "ROU",
            "EST",
            "JAM",
            "HRV",
            "SOM",
            "TUR",
            "IDN",
            "JOR",
            "AZE",
            "PHL",
            "CHN",
            "BTN",
            "KGZ",
            "SRB",
            "BIH",
            "MNE",
            "DOM",
            "MAR",
            "HUN",
            "PAK",
            "LBN",
            "PRT",
            "MKD",
            "VNM",
            "TUN",
            "GRC",
            "TJK",
            "MNG",
            "LAO",
            "NGA",
            "HND",
            "IRN",
            "ZMB",
            "NPL",
            "ALB",
            "BGD",
            "SLE",
            "IRQ",
            "NAM",
            "CMR",
            "ETH",
            "ZAF",
            "LKA",
            "IND",
            "MMR",
            "EGY",
            "ARM",
            "KEN",
            "UKR",
            "GHA",
            "COD",
            "GEO",
            "SEN",
            "BGR",
            "MRT",
            "ZWE",
            "MWI",
            "SDN",
            "GAB",
            "MLI",
            "HTI",
            "BWA",
            "COM",
            "KHM",
            "AGO",
            "NER",
            "SSD",
            "TCD",
            "BFA",
            "UGA",
            "MDG",
            "TZA",
            "LBR",
            "GIN",
            "RWA",
            "BEN",
            "AFG",
            "TGO",
            "SYR",
            "BDI"
           ],
           "name": "",
           "type": "choropleth",
           "z": [
            16.8083667,
            18.72084346,
            20.55944,
            20.13952255,
            19.50175934,
            17.54226543,
            14.2938786,
            19.04834327,
            19.07040293,
            18.5110244,
            15.35069366,
            12.23095113,
            13.82604117,
            11.92879921,
            11.72700031,
            5.94990971,
            11.5053288,
            14.86052344,
            10.48839909,
            5.723014923,
            -6.948007647,
            11.12674776,
            5.291215728,
            11.00675911,
            2.212977714,
            2.449390328,
            -12.6988351,
            1.87898594,
            12.10033344,
            2.797765017,
            7.951738323,
            0.967311564,
            0.725283882,
            -14.73735793,
            9.91049315,
            10.0315383,
            -2.741221083,
            8.637438658,
            4.841096195,
            -7.247503496,
            8.53808,
            -0.890506401,
            0.726497853,
            0.612016118,
            0.24049557,
            -0.052132535,
            3.671126414,
            0.626228125,
            3.414199832,
            5.988023996,
            -3.994033861,
            -0.479305983,
            -2.88421238,
            -8.338843554,
            -0.665816331,
            -26.16833215,
            -6.433983226,
            -10.46251978,
            2.556500865,
            -1.070962869,
            -5.94869243,
            -2.514258283,
            4.820788098,
            3.237051565,
            -7.363725811,
            0.744958365,
            -16.17753658,
            -4.945313552,
            2.438658445,
            2.235330124,
            -4.950275347,
            -0.115032693,
            -9.047770432,
            -6.958274773,
            -0.989424389,
            -5.630915952,
            -1.042425152,
            -26.37154006,
            -9.48402413,
            -4.670695057,
            -19.72555979,
            -14.64636506,
            -5.455288885,
            -0.227747511,
            0.139009071,
            -8.768918495,
            -19.06868114,
            -1.413602301,
            0.307438525,
            -10.55063177,
            -10.23113668,
            -1.118845031,
            -4.521856075,
            -4.580093468,
            -230.5739135,
            -19.02477704,
            -7.482560092,
            -10.62022991,
            -11.36315784,
            -24.94854451,
            -26.11579452,
            -9.16823994,
            -23.18991987,
            -5.142262767,
            -7.801155688,
            -23.78540541,
            -108.3797626,
            -13.02926786,
            -12.73997482,
            -7.912186188,
            -21.54395852,
            -23.31319644,
            -9.893139899,
            -16.0175039,
            -11.73715875,
            -15.32143617,
            -7.949725711,
            -15.3981694,
            -14.45123916,
            -5.605562766,
            -18.71478188,
            -5.1302192,
            -12.4236681,
            -10.09463727,
            -11.46075304,
            -13.52143333,
            -6.31660527,
            -6.930834356,
            -24.3311632,
            -6.719630082,
            -14.09102463,
            -23.64753724,
            -11.87650266,
            -44.13147539,
            -22.92852684,
            -10.38627764,
            -22.37850139,
            -11.44801402,
            -20.42190626,
            -12.58175411,
            -14.84897671,
            -18.65392712,
            -14.49100996,
            -17.31350353,
            -14.73139007,
            -18.8037079,
            -21.99797572
           ]
          }
         ],
         "name": "2016"
        },
        {
         "data": [
          {
           "coloraxis": "coloraxis",
           "geo": "geo",
           "hovertemplate": "<b>%{hovertext}</b><br><br>Year=2017<br>Country Code=%{location}<br>ERHNI=%{z}<extra></extra>",
           "hovertext": [
            "Norway",
            "Denmark",
            "Iceland",
            "Switzerland",
            "Finland",
            "Netherlands",
            "Canada",
            "New Zealand",
            "Sweden",
            "Australia",
            "Israel",
            "Costa Rica",
            "Austria",
            "United States",
            "Ireland",
            "Germany",
            "Belgium",
            "Luxembourg",
            "United Kingdom",
            "Chile",
            "United Arab Emirates",
            "Brazil",
            "Czech Republic",
            "Argentina",
            "Mexico",
            "Singapore",
            "Malta",
            "Uruguay",
            "Guatemala",
            "Panama",
            "France",
            "Thailand",
            "Spain",
            "Qatar",
            "Colombia",
            "Saudi Arabia",
            "Trinidad and Tobago",
            "Kuwait",
            "Slovakia",
            "Bahrain",
            "Malaysia",
            "Nicaragua",
            "Ecuador",
            "El Salvador",
            "Poland",
            "Italy",
            "Russia",
            "Belize",
            "Japan",
            "Lithuania",
            "Algeria",
            "Latvia",
            "South Korea",
            "Moldova",
            "Romania",
            "Bolivia",
            "Turkmenistan",
            "Kazakhstan",
            "North Cyprus",
            "Slovenia",
            "Peru",
            "Mauritius",
            "Cyprus",
            "Estonia",
            "Belarus",
            "Libya",
            "Turkey",
            "Paraguay",
            "Philippines",
            "Serbia",
            "Jordan",
            "Hungary",
            "Jamaica",
            "Croatia",
            "China",
            "Pakistan",
            "Indonesia",
            "Venezuela",
            "Montenegro",
            "Morocco",
            "Azerbaijan",
            "Dominican Republic",
            "Greece",
            "Lebanon",
            "Portugal",
            "Bosnia and Herzegovina",
            "Honduras",
            "Macedonia",
            "Somalia",
            "Vietnam",
            "Nigeria",
            "Tajikistan",
            "Bhutan",
            "Kyrgyzstan",
            "Nepal",
            "Mongolia",
            "South Africa",
            "Tunisia",
            "Egypt",
            "Bulgaria",
            "Sierra Leone",
            "Cameroon",
            "Iran",
            "Albania",
            "Bangladesh",
            "Namibia",
            "Kenya",
            "Mozambique",
            "Myanmar",
            "Senegal",
            "Zambia",
            "Iraq",
            "Gabon",
            "Ethiopia",
            "Sri Lanka",
            "Armenia",
            "India",
            "Mauritania",
            "Georgia",
            "Congo (Kinshasa)",
            "Mali",
            "Cambodia",
            "Sudan",
            "Ghana",
            "Ukraine",
            "Uganda",
            "Burkina Faso",
            "Niger",
            "Malawi",
            "Chad",
            "Zimbabwe",
            "Lesotho",
            "Angola",
            "Afghanistan",
            "Botswana",
            "Benin",
            "Madagascar",
            "Haiti",
            "South Sudan",
            "Liberia",
            "Guinea",
            "Togo",
            "Rwanda",
            "Syria",
            "Tanzania",
            "Burundi",
            "Central African Republic"
           ],
           "locations": [
            "NOR",
            "DNK",
            "ISL",
            "CHE",
            "FIN",
            "NLD",
            "CAN",
            "NZL",
            "SWE",
            "AUS",
            "ISR",
            "CRI",
            "AUT",
            "USA",
            "IRL",
            "DEU",
            "BEL",
            "LUX",
            "GBR",
            "CHL",
            "ARE",
            "BRA",
            "CZE",
            "ARG",
            "MEX",
            "SGP",
            "MLT",
            "URY",
            "GTM",
            "PAN",
            "FRA",
            "THA",
            "ESP",
            "QAT",
            "COL",
            "SAU",
            "TTO",
            "KWT",
            "SVK",
            "BHR",
            "MYS",
            "NIC",
            "ECU",
            "SLV",
            "POL",
            "ITA",
            "RUS",
            "BLZ",
            "JPN",
            "LTU",
            "DZA",
            "LVA",
            "KOR",
            "MDA",
            "ROU",
            "BOL",
            "TKM",
            "KAZ",
            "CYP",
            "SVN",
            "PER",
            "MUS",
            "CYP",
            "EST",
            "BLR",
            "LBY",
            "TUR",
            "PRY",
            "PHL",
            "SRB",
            "JOR",
            "HUN",
            "JAM",
            "HRV",
            "CHN",
            "PAK",
            "IDN",
            "VEN",
            "MNE",
            "MAR",
            "AZE",
            "DOM",
            "GRC",
            "LBN",
            "PRT",
            "BIH",
            "HND",
            "MKD",
            "SOM",
            "VNM",
            "NGA",
            "TJK",
            "BTN",
            "KGZ",
            "NPL",
            "MNG",
            "ZAF",
            "TUN",
            "EGY",
            "BGR",
            "SLE",
            "CMR",
            "IRN",
            "ALB",
            "BGD",
            "NAM",
            "KEN",
            "MOZ",
            "MMR",
            "SEN",
            "ZMB",
            "IRQ",
            "GAB",
            "ETH",
            "LKA",
            "ARM",
            "IND",
            "MRT",
            "GEO",
            "COD",
            "MLI",
            "KHM",
            "SDN",
            "GHA",
            "UKR",
            "UGA",
            "BFA",
            "NER",
            "MWI",
            "TCD",
            "ZWE",
            "LSO",
            "AGO",
            "AFG",
            "BWA",
            "BEN",
            "MDG",
            "HTI",
            "SSD",
            "LBR",
            "GIN",
            "TGO",
            "RWA",
            "SYR",
            "TZA",
            "BDI",
            "CAF"
           ],
           "name": "",
           "type": "choropleth",
           "z": [
            20.73902406,
            17.19610214,
            20.69830984,
            18.67567463,
            20.15486742,
            15.01156326,
            15.76381337,
            18.89578642,
            18.47449752,
            18.84299934,
            14.03634485,
            11.75221291,
            11.13436944,
            12.67813397,
            16.24226243,
            11.53313359,
            11.66526422,
            10.81357774,
            11.40785989,
            5.715298173,
            -11.0547004,
            3.709654766,
            3.092172755,
            2.225503778,
            4.025593287,
            -6.923733483,
            12.19114178,
            0.271873176,
            -1.56955819,
            9.140177464,
            8.112379161,
            0.935496007,
            10.24149105,
            -17.91289533,
            2.099507728,
            -0.32059663,
            8.555017621,
            1.46063476,
            0.58654293,
            -11.47556019,
            2.095666179,
            -0.012802204,
            1.338795403,
            -0.147929333,
            -7.634122724,
            2.541746425,
            -2.028862613,
            2.619014654,
            6.03360011,
            -6.296968345,
            5.890655115,
            -4.787101246,
            0.133953378,
            -2.799443706,
            -4.483426958,
            -25.41365107,
            -3.675887073,
            -8.336312446,
            2.623437865,
            -1.42206557,
            -6.393405099,
            4.686971881,
            1.098736019,
            3.704688864,
            -13.3149553,
            1.578723185,
            -9.194214367,
            -18.76524662,
            -0.343825506,
            -17.72200627,
            -0.770298285,
            -9.411488418,
            0.810910753,
            -6.911233704,
            -23.80603607,
            -17.35669037,
            -5.641267487,
            -6.300676101,
            -5.284834369,
            0.842878641,
            -6.89257503,
            0.144795279,
            -3.225053799,
            -0.873546253,
            0.688738718,
            -13.71573156,
            -8.900088059,
            -10.03377244,
            -1.626807172,
            -9.978606215,
            -6.291482824,
            -4.747945838,
            -10.7323637,
            -5.993722269,
            -22.67696453,
            -213.6882225,
            -11.60417488,
            -3.722586347,
            -7.821764739,
            -16.61053131,
            -4.231367014,
            -104.9119663,
            -14.25933941,
            -9.933062056,
            -22.04795284,
            -24.86001775,
            -8.53367339,
            -6.554073695,
            -20.789991,
            -3.579936632,
            -23.29077619,
            -9.304886097,
            -10.4291283,
            -13.33804573,
            -7.336983023,
            -15.37496657,
            -21.35312767,
            -4.700642284,
            -16.31189265,
            -13.69733846,
            -6.28759602,
            -12.6364078,
            -12.79460869,
            -8.924906361,
            -18.17609379,
            -17.39579695,
            -8.937443212,
            -11.46750429,
            -11.28043677,
            -22.71206607,
            -14.07748404,
            -20.90050774,
            -21.58702468,
            -14.00357913,
            -34.06205315,
            -13.23280474,
            -11.30172336,
            -9.75164589,
            -42.5842425,
            -12.74995306,
            -15.03628568,
            -13.4030698,
            -17.44587284,
            -16.75112659,
            -19.66620797,
            -20.74403971,
            -237.5193545
           ]
          }
         ],
         "name": "2017"
        },
        {
         "data": [
          {
           "coloraxis": "coloraxis",
           "geo": "geo",
           "hovertemplate": "<b>%{hovertext}</b><br><br>Year=2018<br>Country Code=%{location}<br>ERHNI=%{z}<extra></extra>",
           "hovertext": [
            "Finland",
            "Norway",
            "Denmark",
            "Iceland",
            "Switzerland",
            "Netherlands",
            "Canada",
            "New Zealand",
            "Sweden",
            "Australia",
            "United Kingdom",
            "Austria",
            "Costa Rica",
            "Ireland",
            "Germany",
            "Belgium",
            "Luxembourg",
            "United States",
            "Israel",
            "United Arab Emirates",
            "Czech Republic",
            "Malta",
            "France",
            "Mexico",
            "Chile",
            "Panama",
            "Brazil",
            "Argentina",
            "Guatemala",
            "Uruguay",
            "Qatar",
            "Saudi Arabia",
            "Singapore",
            "Malaysia",
            "Spain",
            "Colombia",
            "Slovakia",
            "El Salvador",
            "Nicaragua",
            "Poland",
            "Bahrain",
            "Kuwait",
            "Thailand",
            "Italy",
            "Ecuador",
            "Belize",
            "Lithuania",
            "Slovenia",
            "Romania",
            "Latvia",
            "Japan",
            "Mauritius",
            "Jamaica",
            "South Korea",
            "Russia",
            "Kazakhstan",
            "Cyprus",
            "Bolivia",
            "Estonia",
            "Paraguay",
            "Peru",
            "Moldova",
            "Turkmenistan",
            "Hungary",
            "Libya",
            "Philippines",
            "Honduras",
            "Belarus",
            "Turkey",
            "Pakistan",
            "Portugal",
            "Serbia",
            "Greece",
            "Lebanon",
            "Montenegro",
            "Croatia",
            "Dominican Republic",
            "Algeria",
            "Morocco",
            "China",
            "Azerbaijan",
            "Tajikistan",
            "Macedonia",
            "Jordan",
            "Nigeria",
            "Kyrgyzstan",
            "Bosnia and Herzegovina",
            "Mongolia",
            "Vietnam",
            "Indonesia",
            "Bhutan",
            "Somalia",
            "Cameroon",
            "Bulgaria",
            "Nepal",
            "Venezuela",
            "Gabon",
            "South Africa",
            "Iran",
            "Ghana",
            "Senegal",
            "Laos",
            "Tunisia",
            "Albania",
            "Sierra Leone",
            "Bangladesh",
            "Sri Lanka",
            "Iraq",
            "Mali",
            "Namibia",
            "Cambodia",
            "Burkina Faso",
            "Egypt",
            "Mozambique",
            "Kenya",
            "Zambia",
            "Mauritania",
            "Ethiopia",
            "Georgia",
            "Armenia",
            "Myanmar",
            "Chad",
            "Congo (Kinshasa)",
            "India",
            "Niger",
            "Uganda",
            "Benin",
            "Sudan",
            "Ukraine",
            "Togo",
            "Guinea",
            "Lesotho",
            "Angola",
            "Madagascar",
            "Zimbabwe",
            "Afghanistan",
            "Botswana",
            "Malawi",
            "Haiti",
            "Liberia",
            "Syria",
            "Rwanda",
            "Tanzania",
            "South Sudan",
            "Central African Republic",
            "Burundi"
           ],
           "locations": [
            "FIN",
            "NOR",
            "DNK",
            "ISL",
            "CHE",
            "NLD",
            "CAN",
            "NZL",
            "SWE",
            "AUS",
            "GBR",
            "AUT",
            "CRI",
            "IRL",
            "DEU",
            "BEL",
            "LUX",
            "USA",
            "ISR",
            "ARE",
            "CZE",
            "MLT",
            "FRA",
            "MEX",
            "CHL",
            "PAN",
            "BRA",
            "ARG",
            "GTM",
            "URY",
            "QAT",
            "SAU",
            "SGP",
            "MYS",
            "ESP",
            "COL",
            "SVK",
            "SLV",
            "NIC",
            "POL",
            "BHR",
            "KWT",
            "THA",
            "ITA",
            "ECU",
            "BLZ",
            "LTU",
            "SVN",
            "ROU",
            "LVA",
            "JPN",
            "MUS",
            "JAM",
            "KOR",
            "RUS",
            "KAZ",
            "CYP",
            "BOL",
            "EST",
            "PRY",
            "PER",
            "MDA",
            "TKM",
            "HUN",
            "LBY",
            "PHL",
            "HND",
            "BLR",
            "TUR",
            "PAK",
            "PRT",
            "SRB",
            "GRC",
            "LBN",
            "MNE",
            "HRV",
            "DOM",
            "DZA",
            "MAR",
            "CHN",
            "AZE",
            "TJK",
            "MKD",
            "JOR",
            "NGA",
            "KGZ",
            "BIH",
            "MNG",
            "VNM",
            "IDN",
            "BTN",
            "SOM",
            "CMR",
            "BGR",
            "NPL",
            "VEN",
            "GAB",
            "ZAF",
            "IRN",
            "GHA",
            "SEN",
            "LAO",
            "TUN",
            "ALB",
            "SLE",
            "BGD",
            "LKA",
            "IRQ",
            "MLI",
            "NAM",
            "KHM",
            "BFA",
            "EGY",
            "MOZ",
            "KEN",
            "ZMB",
            "MRT",
            "ETH",
            "GEO",
            "ARM",
            "MMR",
            "TCD",
            "COD",
            "IND",
            "NER",
            "UGA",
            "BEN",
            "SDN",
            "UKR",
            "TGO",
            "GIN",
            "LSO",
            "AGO",
            "MDG",
            "ZWE",
            "AFG",
            "BWA",
            "MWI",
            "HTI",
            "LBR",
            "SYR",
            "RWA",
            "TZA",
            "SSD",
            "CAF",
            "BDI"
           ],
           "name": "",
           "type": "choropleth",
           "z": [
            21.07012336,
            20.70298684,
            15.40191158,
            20.67381341,
            18.74776648,
            14.90070017,
            16.00922508,
            19.0239239,
            18.51763224,
            18.80052293,
            15.03127857,
            11.8459021,
            13.01226275,
            15.51035128,
            11.64180045,
            11.49478566,
            11.29528893,
            11.67301079,
            10.95859263,
            -10.48493014,
            3.723310629,
            13.1976355,
            8.531706451,
            4.255196503,
            5.277586309,
            9.571282301,
            2.474449039,
            1.107950856,
            -0.728231539,
            1.399893676,
            -14.03854483,
            0.735626326,
            -12.04594919,
            3.35004632,
            9.301790686,
            1.864452297,
            1.634585948,
            1.712170194,
            2.822994087,
            -6.07307877,
            -9.564250712,
            0.56387294,
            -1.483061238,
            4.288312724,
            1.206626768,
            4.127287929,
            -9.362945588,
            0.708863278,
            -2.156205161,
            -8.200480424,
            6.027491146,
            6.630496024,
            5.180451805,
            0.401603456,
            -1.881215419,
            -4.714915288,
            2.948751841,
            -23.21075072,
            2.407446847,
            -12.37551906,
            -5.767628428,
            -2.88534854,
            -3.1310871,
            -6.176940338,
            2.76398819,
            1.100074729,
            -5.552344373,
            -15.56309968,
            -8.16788791,
            -14.75336492,
            3.022876469,
            -15.40366047,
            -1.651928665,
            0.26222757,
            -4.3891967,
            -6.513239221,
            0.880181693,
            1.780501799,
            0.598501618,
            -20.40555298,
            -4.902246877,
            -2.25493774,
            -9.730228521,
            -2.033782861,
            -6.009506232,
            -4.726551231,
            -12.48757676,
            -172.3118072,
            -8.698296206,
            -8.468083634,
            -11.75141685,
            -3.035771015,
            -100.5154692,
            -14.22398223,
            -26.29884294,
            -8.174776043,
            -8.261705858,
            -12.10056337,
            -13.19825171,
            -5.27157324,
            -2.755690323,
            -16.40034271,
            -4.820539967,
            -9.545815216,
            -4.631478787,
            -28.19142409,
            -7.318349776,
            -10.04185739,
            -4.545117546,
            -22.44207352,
            -12.06915094,
            -6.608954655,
            -9.371401399,
            -9.086223327,
            -10.92361711,
            -24.29153029,
            -4.1669376,
            -13.55163311,
            -13.3235436,
            -14.51292681,
            -23.77301503,
            -22.32099421,
            -13.91666264,
            -22.79965433,
            -11.15824404,
            -17.39162656,
            -10.59664515,
            -11.63904285,
            -16.66254909,
            -10.26303518,
            -11.65344582,
            -19.3685126,
            -20.55195485,
            -10.35283103,
            -16.64396286,
            -14.11015137,
            -31.52482078,
            -15.24930997,
            -9.885092056,
            -12.85758604,
            -16.80048006,
            -17.71355676,
            -21.42331937,
            -42.80371956,
            -262.1571639,
            -21.0214369
           ]
          }
         ],
         "name": "2018"
        }
       ],
       "layout": {
        "coloraxis": {
         "colorbar": {
          "title": {
           "text": "ERHNI"
          }
         },
         "colorscale": [
          [
           0,
           "#0d0887"
          ],
          [
           0.1111111111111111,
           "#46039f"
          ],
          [
           0.2222222222222222,
           "#7201a8"
          ],
          [
           0.3333333333333333,
           "#9c179e"
          ],
          [
           0.4444444444444444,
           "#bd3786"
          ],
          [
           0.5555555555555556,
           "#d8576b"
          ],
          [
           0.6666666666666666,
           "#ed7953"
          ],
          [
           0.7777777777777778,
           "#fb9f3a"
          ],
          [
           0.8888888888888888,
           "#fdca26"
          ],
          [
           1,
           "#f0f921"
          ]
         ]
        },
        "geo": {
         "center": {},
         "domain": {
          "x": [
           0,
           1
          ],
          "y": [
           0,
           1
          ]
         }
        },
        "legend": {
         "tracegroupgap": 0
        },
        "margin": {
         "t": 60
        },
        "sliders": [
         {
          "active": 0,
          "currentvalue": {
           "prefix": "Year="
          },
          "len": 0.9,
          "pad": {
           "b": 10,
           "t": 60
          },
          "steps": [
           {
            "args": [
             [
              "2016"
             ],
             {
              "frame": {
               "duration": 0,
               "redraw": true
              },
              "fromcurrent": true,
              "mode": "immediate",
              "transition": {
               "duration": 0,
               "easing": "linear"
              }
             }
            ],
            "label": "2016",
            "method": "animate"
           },
           {
            "args": [
             [
              "2017"
             ],
             {
              "frame": {
               "duration": 0,
               "redraw": true
              },
              "fromcurrent": true,
              "mode": "immediate",
              "transition": {
               "duration": 0,
               "easing": "linear"
              }
             }
            ],
            "label": "2017",
            "method": "animate"
           },
           {
            "args": [
             [
              "2018"
             ],
             {
              "frame": {
               "duration": 0,
               "redraw": true
              },
              "fromcurrent": true,
              "mode": "immediate",
              "transition": {
               "duration": 0,
               "easing": "linear"
              }
             }
            ],
            "label": "2018",
            "method": "animate"
           }
          ],
          "x": 0.1,
          "xanchor": "left",
          "y": 0,
          "yanchor": "top"
         }
        ],
        "template": {
         "data": {
          "bar": [
           {
            "error_x": {
             "color": "#2a3f5f"
            },
            "error_y": {
             "color": "#2a3f5f"
            },
            "marker": {
             "line": {
              "color": "#E5ECF6",
              "width": 0.5
             },
             "pattern": {
              "fillmode": "overlay",
              "size": 10,
              "solidity": 0.2
             }
            },
            "type": "bar"
           }
          ],
          "barpolar": [
           {
            "marker": {
             "line": {
              "color": "#E5ECF6",
              "width": 0.5
             },
             "pattern": {
              "fillmode": "overlay",
              "size": 10,
              "solidity": 0.2
             }
            },
            "type": "barpolar"
           }
          ],
          "carpet": [
           {
            "aaxis": {
             "endlinecolor": "#2a3f5f",
             "gridcolor": "white",
             "linecolor": "white",
             "minorgridcolor": "white",
             "startlinecolor": "#2a3f5f"
            },
            "baxis": {
             "endlinecolor": "#2a3f5f",
             "gridcolor": "white",
             "linecolor": "white",
             "minorgridcolor": "white",
             "startlinecolor": "#2a3f5f"
            },
            "type": "carpet"
           }
          ],
          "choropleth": [
           {
            "colorbar": {
             "outlinewidth": 0,
             "ticks": ""
            },
            "type": "choropleth"
           }
          ],
          "contour": [
           {
            "colorbar": {
             "outlinewidth": 0,
             "ticks": ""
            },
            "colorscale": [
             [
              0,
              "#0d0887"
             ],
             [
              0.1111111111111111,
              "#46039f"
             ],
             [
              0.2222222222222222,
              "#7201a8"
             ],
             [
              0.3333333333333333,
              "#9c179e"
             ],
             [
              0.4444444444444444,
              "#bd3786"
             ],
             [
              0.5555555555555556,
              "#d8576b"
             ],
             [
              0.6666666666666666,
              "#ed7953"
             ],
             [
              0.7777777777777778,
              "#fb9f3a"
             ],
             [
              0.8888888888888888,
              "#fdca26"
             ],
             [
              1,
              "#f0f921"
             ]
            ],
            "type": "contour"
           }
          ],
          "contourcarpet": [
           {
            "colorbar": {
             "outlinewidth": 0,
             "ticks": ""
            },
            "type": "contourcarpet"
           }
          ],
          "heatmap": [
           {
            "colorbar": {
             "outlinewidth": 0,
             "ticks": ""
            },
            "colorscale": [
             [
              0,
              "#0d0887"
             ],
             [
              0.1111111111111111,
              "#46039f"
             ],
             [
              0.2222222222222222,
              "#7201a8"
             ],
             [
              0.3333333333333333,
              "#9c179e"
             ],
             [
              0.4444444444444444,
              "#bd3786"
             ],
             [
              0.5555555555555556,
              "#d8576b"
             ],
             [
              0.6666666666666666,
              "#ed7953"
             ],
             [
              0.7777777777777778,
              "#fb9f3a"
             ],
             [
              0.8888888888888888,
              "#fdca26"
             ],
             [
              1,
              "#f0f921"
             ]
            ],
            "type": "heatmap"
           }
          ],
          "heatmapgl": [
           {
            "colorbar": {
             "outlinewidth": 0,
             "ticks": ""
            },
            "colorscale": [
             [
              0,
              "#0d0887"
             ],
             [
              0.1111111111111111,
              "#46039f"
             ],
             [
              0.2222222222222222,
              "#7201a8"
             ],
             [
              0.3333333333333333,
              "#9c179e"
             ],
             [
              0.4444444444444444,
              "#bd3786"
             ],
             [
              0.5555555555555556,
              "#d8576b"
             ],
             [
              0.6666666666666666,
              "#ed7953"
             ],
             [
              0.7777777777777778,
              "#fb9f3a"
             ],
             [
              0.8888888888888888,
              "#fdca26"
             ],
             [
              1,
              "#f0f921"
             ]
            ],
            "type": "heatmapgl"
           }
          ],
          "histogram": [
           {
            "marker": {
             "pattern": {
              "fillmode": "overlay",
              "size": 10,
              "solidity": 0.2
             }
            },
            "type": "histogram"
           }
          ],
          "histogram2d": [
           {
            "colorbar": {
             "outlinewidth": 0,
             "ticks": ""
            },
            "colorscale": [
             [
              0,
              "#0d0887"
             ],
             [
              0.1111111111111111,
              "#46039f"
             ],
             [
              0.2222222222222222,
              "#7201a8"
             ],
             [
              0.3333333333333333,
              "#9c179e"
             ],
             [
              0.4444444444444444,
              "#bd3786"
             ],
             [
              0.5555555555555556,
              "#d8576b"
             ],
             [
              0.6666666666666666,
              "#ed7953"
             ],
             [
              0.7777777777777778,
              "#fb9f3a"
             ],
             [
              0.8888888888888888,
              "#fdca26"
             ],
             [
              1,
              "#f0f921"
             ]
            ],
            "type": "histogram2d"
           }
          ],
          "histogram2dcontour": [
           {
            "colorbar": {
             "outlinewidth": 0,
             "ticks": ""
            },
            "colorscale": [
             [
              0,
              "#0d0887"
             ],
             [
              0.1111111111111111,
              "#46039f"
             ],
             [
              0.2222222222222222,
              "#7201a8"
             ],
             [
              0.3333333333333333,
              "#9c179e"
             ],
             [
              0.4444444444444444,
              "#bd3786"
             ],
             [
              0.5555555555555556,
              "#d8576b"
             ],
             [
              0.6666666666666666,
              "#ed7953"
             ],
             [
              0.7777777777777778,
              "#fb9f3a"
             ],
             [
              0.8888888888888888,
              "#fdca26"
             ],
             [
              1,
              "#f0f921"
             ]
            ],
            "type": "histogram2dcontour"
           }
          ],
          "mesh3d": [
           {
            "colorbar": {
             "outlinewidth": 0,
             "ticks": ""
            },
            "type": "mesh3d"
           }
          ],
          "parcoords": [
           {
            "line": {
             "colorbar": {
              "outlinewidth": 0,
              "ticks": ""
             }
            },
            "type": "parcoords"
           }
          ],
          "pie": [
           {
            "automargin": true,
            "type": "pie"
           }
          ],
          "scatter": [
           {
            "marker": {
             "colorbar": {
              "outlinewidth": 0,
              "ticks": ""
             }
            },
            "type": "scatter"
           }
          ],
          "scatter3d": [
           {
            "line": {
             "colorbar": {
              "outlinewidth": 0,
              "ticks": ""
             }
            },
            "marker": {
             "colorbar": {
              "outlinewidth": 0,
              "ticks": ""
             }
            },
            "type": "scatter3d"
           }
          ],
          "scattercarpet": [
           {
            "marker": {
             "colorbar": {
              "outlinewidth": 0,
              "ticks": ""
             }
            },
            "type": "scattercarpet"
           }
          ],
          "scattergeo": [
           {
            "marker": {
             "colorbar": {
              "outlinewidth": 0,
              "ticks": ""
             }
            },
            "type": "scattergeo"
           }
          ],
          "scattergl": [
           {
            "marker": {
             "colorbar": {
              "outlinewidth": 0,
              "ticks": ""
             }
            },
            "type": "scattergl"
           }
          ],
          "scattermapbox": [
           {
            "marker": {
             "colorbar": {
              "outlinewidth": 0,
              "ticks": ""
             }
            },
            "type": "scattermapbox"
           }
          ],
          "scatterpolar": [
           {
            "marker": {
             "colorbar": {
              "outlinewidth": 0,
              "ticks": ""
             }
            },
            "type": "scatterpolar"
           }
          ],
          "scatterpolargl": [
           {
            "marker": {
             "colorbar": {
              "outlinewidth": 0,
              "ticks": ""
             }
            },
            "type": "scatterpolargl"
           }
          ],
          "scatterternary": [
           {
            "marker": {
             "colorbar": {
              "outlinewidth": 0,
              "ticks": ""
             }
            },
            "type": "scatterternary"
           }
          ],
          "surface": [
           {
            "colorbar": {
             "outlinewidth": 0,
             "ticks": ""
            },
            "colorscale": [
             [
              0,
              "#0d0887"
             ],
             [
              0.1111111111111111,
              "#46039f"
             ],
             [
              0.2222222222222222,
              "#7201a8"
             ],
             [
              0.3333333333333333,
              "#9c179e"
             ],
             [
              0.4444444444444444,
              "#bd3786"
             ],
             [
              0.5555555555555556,
              "#d8576b"
             ],
             [
              0.6666666666666666,
              "#ed7953"
             ],
             [
              0.7777777777777778,
              "#fb9f3a"
             ],
             [
              0.8888888888888888,
              "#fdca26"
             ],
             [
              1,
              "#f0f921"
             ]
            ],
            "type": "surface"
           }
          ],
          "table": [
           {
            "cells": {
             "fill": {
              "color": "#EBF0F8"
             },
             "line": {
              "color": "white"
             }
            },
            "header": {
             "fill": {
              "color": "#C8D4E3"
             },
             "line": {
              "color": "white"
             }
            },
            "type": "table"
           }
          ]
         },
         "layout": {
          "annotationdefaults": {
           "arrowcolor": "#2a3f5f",
           "arrowhead": 0,
           "arrowwidth": 1
          },
          "autotypenumbers": "strict",
          "coloraxis": {
           "colorbar": {
            "outlinewidth": 0,
            "ticks": ""
           }
          },
          "colorscale": {
           "diverging": [
            [
             0,
             "#8e0152"
            ],
            [
             0.1,
             "#c51b7d"
            ],
            [
             0.2,
             "#de77ae"
            ],
            [
             0.3,
             "#f1b6da"
            ],
            [
             0.4,
             "#fde0ef"
            ],
            [
             0.5,
             "#f7f7f7"
            ],
            [
             0.6,
             "#e6f5d0"
            ],
            [
             0.7,
             "#b8e186"
            ],
            [
             0.8,
             "#7fbc41"
            ],
            [
             0.9,
             "#4d9221"
            ],
            [
             1,
             "#276419"
            ]
           ],
           "sequential": [
            [
             0,
             "#0d0887"
            ],
            [
             0.1111111111111111,
             "#46039f"
            ],
            [
             0.2222222222222222,
             "#7201a8"
            ],
            [
             0.3333333333333333,
             "#9c179e"
            ],
            [
             0.4444444444444444,
             "#bd3786"
            ],
            [
             0.5555555555555556,
             "#d8576b"
            ],
            [
             0.6666666666666666,
             "#ed7953"
            ],
            [
             0.7777777777777778,
             "#fb9f3a"
            ],
            [
             0.8888888888888888,
             "#fdca26"
            ],
            [
             1,
             "#f0f921"
            ]
           ],
           "sequentialminus": [
            [
             0,
             "#0d0887"
            ],
            [
             0.1111111111111111,
             "#46039f"
            ],
            [
             0.2222222222222222,
             "#7201a8"
            ],
            [
             0.3333333333333333,
             "#9c179e"
            ],
            [
             0.4444444444444444,
             "#bd3786"
            ],
            [
             0.5555555555555556,
             "#d8576b"
            ],
            [
             0.6666666666666666,
             "#ed7953"
            ],
            [
             0.7777777777777778,
             "#fb9f3a"
            ],
            [
             0.8888888888888888,
             "#fdca26"
            ],
            [
             1,
             "#f0f921"
            ]
           ]
          },
          "colorway": [
           "#636efa",
           "#EF553B",
           "#00cc96",
           "#ab63fa",
           "#FFA15A",
           "#19d3f3",
           "#FF6692",
           "#B6E880",
           "#FF97FF",
           "#FECB52"
          ],
          "font": {
           "color": "#2a3f5f"
          },
          "geo": {
           "bgcolor": "white",
           "lakecolor": "white",
           "landcolor": "#E5ECF6",
           "showlakes": true,
           "showland": true,
           "subunitcolor": "white"
          },
          "hoverlabel": {
           "align": "left"
          },
          "hovermode": "closest",
          "mapbox": {
           "style": "light"
          },
          "paper_bgcolor": "white",
          "plot_bgcolor": "#E5ECF6",
          "polar": {
           "angularaxis": {
            "gridcolor": "white",
            "linecolor": "white",
            "ticks": ""
           },
           "bgcolor": "#E5ECF6",
           "radialaxis": {
            "gridcolor": "white",
            "linecolor": "white",
            "ticks": ""
           }
          },
          "scene": {
           "xaxis": {
            "backgroundcolor": "#E5ECF6",
            "gridcolor": "white",
            "gridwidth": 2,
            "linecolor": "white",
            "showbackground": true,
            "ticks": "",
            "zerolinecolor": "white"
           },
           "yaxis": {
            "backgroundcolor": "#E5ECF6",
            "gridcolor": "white",
            "gridwidth": 2,
            "linecolor": "white",
            "showbackground": true,
            "ticks": "",
            "zerolinecolor": "white"
           },
           "zaxis": {
            "backgroundcolor": "#E5ECF6",
            "gridcolor": "white",
            "gridwidth": 2,
            "linecolor": "white",
            "showbackground": true,
            "ticks": "",
            "zerolinecolor": "white"
           }
          },
          "shapedefaults": {
           "line": {
            "color": "#2a3f5f"
           }
          },
          "ternary": {
           "aaxis": {
            "gridcolor": "white",
            "linecolor": "white",
            "ticks": ""
           },
           "baxis": {
            "gridcolor": "white",
            "linecolor": "white",
            "ticks": ""
           },
           "bgcolor": "#E5ECF6",
           "caxis": {
            "gridcolor": "white",
            "linecolor": "white",
            "ticks": ""
           }
          },
          "title": {
           "x": 0.05
          },
          "xaxis": {
           "automargin": true,
           "gridcolor": "white",
           "linecolor": "white",
           "ticks": "",
           "title": {
            "standoff": 15
           },
           "zerolinecolor": "white",
           "zerolinewidth": 2
          },
          "yaxis": {
           "automargin": true,
           "gridcolor": "white",
           "linecolor": "white",
           "ticks": "",
           "title": {
            "standoff": 15
           },
           "zerolinecolor": "white",
           "zerolinewidth": 2
          }
         }
        },
        "updatemenus": [
         {
          "buttons": [
           {
            "args": [
             null,
             {
              "frame": {
               "duration": 500,
               "redraw": true
              },
              "fromcurrent": true,
              "mode": "immediate",
              "transition": {
               "duration": 500,
               "easing": "linear"
              }
             }
            ],
            "label": "&#9654;",
            "method": "animate"
           },
           {
            "args": [
             [
              null
             ],
             {
              "frame": {
               "duration": 0,
               "redraw": true
              },
              "fromcurrent": true,
              "mode": "immediate",
              "transition": {
               "duration": 0,
               "easing": "linear"
              }
             }
            ],
            "label": "&#9724;",
            "method": "animate"
           }
          ],
          "direction": "left",
          "pad": {
           "r": 10,
           "t": 70
          },
          "showactive": false,
          "type": "buttons",
          "x": 0.1,
          "xanchor": "right",
          "y": 0,
          "yanchor": "top"
         }
        ]
       }
      },
      "text/html": [
       "<div>                            <div id=\"e58e1899-7e10-4013-bbb4-adead1dac106\" class=\"plotly-graph-div\" style=\"height:525px; width:100%;\"></div>            <script type=\"text/javascript\">                require([\"plotly\"], function(Plotly) {                    window.PLOTLYENV=window.PLOTLYENV || {};                                    if (document.getElementById(\"e58e1899-7e10-4013-bbb4-adead1dac106\")) {                    Plotly.newPlot(                        \"e58e1899-7e10-4013-bbb4-adead1dac106\",                        [{\"coloraxis\":\"coloraxis\",\"geo\":\"geo\",\"hovertemplate\":\"<b>%{hovertext}</b><br><br>Year=2016<br>Country Code=%{location}<br>ERHNI=%{z}<extra></extra>\",\"hovertext\":[\"Denmark\",\"Switzerland\",\"Iceland\",\"Norway\",\"Finland\",\"Canada\",\"Netherlands\",\"New Zealand\",\"Australia\",\"Sweden\",\"Israel\",\"Austria\",\"United States\",\"Costa Rica\",\"Germany\",\"Brazil\",\"Belgium\",\"Ireland\",\"Luxembourg\",\"Mexico\",\"Singapore\",\"United Kingdom\",\"Chile\",\"Panama\",\"Argentina\",\"Czech Republic\",\"United Arab Emirates\",\"Uruguay\",\"Malta\",\"Colombia\",\"France\",\"Thailand\",\"Saudi Arabia\",\"Qatar\",\"Spain\",\"Algeria\",\"Guatemala\",\"Suriname\",\"Kuwait\",\"Bahrain\",\"Trinidad and Tobago\",\"Venezuela\",\"Slovakia\",\"El Salvador\",\"Malaysia\",\"Nicaragua\",\"Italy\",\"Ecuador\",\"Belize\",\"Japan\",\"Kazakhstan\",\"Moldova\",\"Russia\",\"Poland\",\"South Korea\",\"Bolivia\",\"Lithuania\",\"Belarus\",\"North Cyprus\",\"Slovenia\",\"Peru\",\"Turkmenistan\",\"Mauritius\",\"Libya\",\"Latvia\",\"Cyprus\",\"Paraguay\",\"Romania\",\"Estonia\",\"Jamaica\",\"Croatia\",\"Somalia\",\"Turkey\",\"Indonesia\",\"Jordan\",\"Azerbaijan\",\"Philippines\",\"China\",\"Bhutan\",\"Kyrgyzstan\",\"Serbia\",\"Bosnia and Herzegovina\",\"Montenegro\",\"Dominican Republic\",\"Morocco\",\"Hungary\",\"Pakistan\",\"Lebanon\",\"Portugal\",\"Macedonia\",\"Vietnam\",\"Tunisia\",\"Greece\",\"Tajikistan\",\"Mongolia\",\"Laos\",\"Nigeria\",\"Honduras\",\"Iran\",\"Zambia\",\"Nepal\",\"Albania\",\"Bangladesh\",\"Sierra Leone\",\"Iraq\",\"Namibia\",\"Cameroon\",\"Ethiopia\",\"South Africa\",\"Sri Lanka\",\"India\",\"Myanmar\",\"Egypt\",\"Armenia\",\"Kenya\",\"Ukraine\",\"Ghana\",\"Congo (Kinshasa)\",\"Georgia\",\"Senegal\",\"Bulgaria\",\"Mauritania\",\"Zimbabwe\",\"Malawi\",\"Sudan\",\"Gabon\",\"Mali\",\"Haiti\",\"Botswana\",\"Comoros\",\"Cambodia\",\"Angola\",\"Niger\",\"South Sudan\",\"Chad\",\"Burkina Faso\",\"Uganda\",\"Madagascar\",\"Tanzania\",\"Liberia\",\"Guinea\",\"Rwanda\",\"Benin\",\"Afghanistan\",\"Togo\",\"Syria\",\"Burundi\"],\"locations\":[\"DNK\",\"CHE\",\"ISL\",\"NOR\",\"FIN\",\"CAN\",\"NLD\",\"NZL\",\"AUS\",\"SWE\",\"ISR\",\"AUT\",\"USA\",\"CRI\",\"DEU\",\"BRA\",\"BEL\",\"IRL\",\"LUX\",\"MEX\",\"SGP\",\"GBR\",\"CHL\",\"PAN\",\"ARG\",\"CZE\",\"ARE\",\"URY\",\"MLT\",\"COL\",\"FRA\",\"THA\",\"SAU\",\"QAT\",\"ESP\",\"DZA\",\"GTM\",\"SUR\",\"KWT\",\"BHR\",\"TTO\",\"VEN\",\"SVK\",\"SLV\",\"MYS\",\"NIC\",\"ITA\",\"ECU\",\"BLZ\",\"JPN\",\"KAZ\",\"MDA\",\"RUS\",\"POL\",\"KOR\",\"BOL\",\"LTU\",\"BLR\",\"CYP\",\"SVN\",\"PER\",\"TKM\",\"MUS\",\"LBY\",\"LVA\",\"CYP\",\"PRY\",\"ROU\",\"EST\",\"JAM\",\"HRV\",\"SOM\",\"TUR\",\"IDN\",\"JOR\",\"AZE\",\"PHL\",\"CHN\",\"BTN\",\"KGZ\",\"SRB\",\"BIH\",\"MNE\",\"DOM\",\"MAR\",\"HUN\",\"PAK\",\"LBN\",\"PRT\",\"MKD\",\"VNM\",\"TUN\",\"GRC\",\"TJK\",\"MNG\",\"LAO\",\"NGA\",\"HND\",\"IRN\",\"ZMB\",\"NPL\",\"ALB\",\"BGD\",\"SLE\",\"IRQ\",\"NAM\",\"CMR\",\"ETH\",\"ZAF\",\"LKA\",\"IND\",\"MMR\",\"EGY\",\"ARM\",\"KEN\",\"UKR\",\"GHA\",\"COD\",\"GEO\",\"SEN\",\"BGR\",\"MRT\",\"ZWE\",\"MWI\",\"SDN\",\"GAB\",\"MLI\",\"HTI\",\"BWA\",\"COM\",\"KHM\",\"AGO\",\"NER\",\"SSD\",\"TCD\",\"BFA\",\"UGA\",\"MDG\",\"TZA\",\"LBR\",\"GIN\",\"RWA\",\"BEN\",\"AFG\",\"TGO\",\"SYR\",\"BDI\"],\"name\":\"\",\"z\":[16.8083667,18.72084346,20.55944,20.13952255,19.50175934,17.54226543,14.2938786,19.04834327,19.07040293,18.5110244,15.35069366,12.23095113,13.82604117,11.92879921,11.72700031,5.94990971,11.5053288,14.86052344,10.48839909,5.723014923,-6.948007647,11.12674776,5.291215728,11.00675911,2.212977714,2.449390328,-12.6988351,1.87898594,12.10033344,2.797765017,7.951738323,0.967311564,0.725283882,-14.73735793,9.91049315,10.0315383,-2.741221083,8.637438658,4.841096195,-7.247503496,8.53808,-0.890506401,0.726497853,0.612016118,0.24049557,-0.052132535,3.671126414,0.626228125,3.414199832,5.988023996,-3.994033861,-0.479305983,-2.88421238,-8.338843554,-0.665816331,-26.16833215,-6.433983226,-10.46251978,2.556500865,-1.070962869,-5.94869243,-2.514258283,4.820788098,3.237051565,-7.363725811,0.744958365,-16.17753658,-4.945313552,2.438658445,2.235330124,-4.950275347,-0.115032693,-9.047770432,-6.958274773,-0.989424389,-5.630915952,-1.042425152,-26.37154006,-9.48402413,-4.670695057,-19.72555979,-14.64636506,-5.455288885,-0.227747511,0.139009071,-8.768918495,-19.06868114,-1.413602301,0.307438525,-10.55063177,-10.23113668,-1.118845031,-4.521856075,-4.580093468,-230.5739135,-19.02477704,-7.482560092,-10.62022991,-11.36315784,-24.94854451,-26.11579452,-9.16823994,-23.18991987,-5.142262767,-7.801155688,-23.78540541,-108.3797626,-13.02926786,-12.73997482,-7.912186188,-21.54395852,-23.31319644,-9.893139899,-16.0175039,-11.73715875,-15.32143617,-7.949725711,-15.3981694,-14.45123916,-5.605562766,-18.71478188,-5.1302192,-12.4236681,-10.09463727,-11.46075304,-13.52143333,-6.31660527,-6.930834356,-24.3311632,-6.719630082,-14.09102463,-23.64753724,-11.87650266,-44.13147539,-22.92852684,-10.38627764,-22.37850139,-11.44801402,-20.42190626,-12.58175411,-14.84897671,-18.65392712,-14.49100996,-17.31350353,-14.73139007,-18.8037079,-21.99797572],\"type\":\"choropleth\"}],                        {\"template\":{\"data\":{\"bar\":[{\"error_x\":{\"color\":\"#2a3f5f\"},\"error_y\":{\"color\":\"#2a3f5f\"},\"marker\":{\"line\":{\"color\":\"#E5ECF6\",\"width\":0.5},\"pattern\":{\"fillmode\":\"overlay\",\"size\":10,\"solidity\":0.2}},\"type\":\"bar\"}],\"barpolar\":[{\"marker\":{\"line\":{\"color\":\"#E5ECF6\",\"width\":0.5},\"pattern\":{\"fillmode\":\"overlay\",\"size\":10,\"solidity\":0.2}},\"type\":\"barpolar\"}],\"carpet\":[{\"aaxis\":{\"endlinecolor\":\"#2a3f5f\",\"gridcolor\":\"white\",\"linecolor\":\"white\",\"minorgridcolor\":\"white\",\"startlinecolor\":\"#2a3f5f\"},\"baxis\":{\"endlinecolor\":\"#2a3f5f\",\"gridcolor\":\"white\",\"linecolor\":\"white\",\"minorgridcolor\":\"white\",\"startlinecolor\":\"#2a3f5f\"},\"type\":\"carpet\"}],\"choropleth\":[{\"colorbar\":{\"outlinewidth\":0,\"ticks\":\"\"},\"type\":\"choropleth\"}],\"contour\":[{\"colorbar\":{\"outlinewidth\":0,\"ticks\":\"\"},\"colorscale\":[[0.0,\"#0d0887\"],[0.1111111111111111,\"#46039f\"],[0.2222222222222222,\"#7201a8\"],[0.3333333333333333,\"#9c179e\"],[0.4444444444444444,\"#bd3786\"],[0.5555555555555556,\"#d8576b\"],[0.6666666666666666,\"#ed7953\"],[0.7777777777777778,\"#fb9f3a\"],[0.8888888888888888,\"#fdca26\"],[1.0,\"#f0f921\"]],\"type\":\"contour\"}],\"contourcarpet\":[{\"colorbar\":{\"outlinewidth\":0,\"ticks\":\"\"},\"type\":\"contourcarpet\"}],\"heatmap\":[{\"colorbar\":{\"outlinewidth\":0,\"ticks\":\"\"},\"colorscale\":[[0.0,\"#0d0887\"],[0.1111111111111111,\"#46039f\"],[0.2222222222222222,\"#7201a8\"],[0.3333333333333333,\"#9c179e\"],[0.4444444444444444,\"#bd3786\"],[0.5555555555555556,\"#d8576b\"],[0.6666666666666666,\"#ed7953\"],[0.7777777777777778,\"#fb9f3a\"],[0.8888888888888888,\"#fdca26\"],[1.0,\"#f0f921\"]],\"type\":\"heatmap\"}],\"heatmapgl\":[{\"colorbar\":{\"outlinewidth\":0,\"ticks\":\"\"},\"colorscale\":[[0.0,\"#0d0887\"],[0.1111111111111111,\"#46039f\"],[0.2222222222222222,\"#7201a8\"],[0.3333333333333333,\"#9c179e\"],[0.4444444444444444,\"#bd3786\"],[0.5555555555555556,\"#d8576b\"],[0.6666666666666666,\"#ed7953\"],[0.7777777777777778,\"#fb9f3a\"],[0.8888888888888888,\"#fdca26\"],[1.0,\"#f0f921\"]],\"type\":\"heatmapgl\"}],\"histogram\":[{\"marker\":{\"pattern\":{\"fillmode\":\"overlay\",\"size\":10,\"solidity\":0.2}},\"type\":\"histogram\"}],\"histogram2d\":[{\"colorbar\":{\"outlinewidth\":0,\"ticks\":\"\"},\"colorscale\":[[0.0,\"#0d0887\"],[0.1111111111111111,\"#46039f\"],[0.2222222222222222,\"#7201a8\"],[0.3333333333333333,\"#9c179e\"],[0.4444444444444444,\"#bd3786\"],[0.5555555555555556,\"#d8576b\"],[0.6666666666666666,\"#ed7953\"],[0.7777777777777778,\"#fb9f3a\"],[0.8888888888888888,\"#fdca26\"],[1.0,\"#f0f921\"]],\"type\":\"histogram2d\"}],\"histogram2dcontour\":[{\"colorbar\":{\"outlinewidth\":0,\"ticks\":\"\"},\"colorscale\":[[0.0,\"#0d0887\"],[0.1111111111111111,\"#46039f\"],[0.2222222222222222,\"#7201a8\"],[0.3333333333333333,\"#9c179e\"],[0.4444444444444444,\"#bd3786\"],[0.5555555555555556,\"#d8576b\"],[0.6666666666666666,\"#ed7953\"],[0.7777777777777778,\"#fb9f3a\"],[0.8888888888888888,\"#fdca26\"],[1.0,\"#f0f921\"]],\"type\":\"histogram2dcontour\"}],\"mesh3d\":[{\"colorbar\":{\"outlinewidth\":0,\"ticks\":\"\"},\"type\":\"mesh3d\"}],\"parcoords\":[{\"line\":{\"colorbar\":{\"outlinewidth\":0,\"ticks\":\"\"}},\"type\":\"parcoords\"}],\"pie\":[{\"automargin\":true,\"type\":\"pie\"}],\"scatter\":[{\"marker\":{\"colorbar\":{\"outlinewidth\":0,\"ticks\":\"\"}},\"type\":\"scatter\"}],\"scatter3d\":[{\"line\":{\"colorbar\":{\"outlinewidth\":0,\"ticks\":\"\"}},\"marker\":{\"colorbar\":{\"outlinewidth\":0,\"ticks\":\"\"}},\"type\":\"scatter3d\"}],\"scattercarpet\":[{\"marker\":{\"colorbar\":{\"outlinewidth\":0,\"ticks\":\"\"}},\"type\":\"scattercarpet\"}],\"scattergeo\":[{\"marker\":{\"colorbar\":{\"outlinewidth\":0,\"ticks\":\"\"}},\"type\":\"scattergeo\"}],\"scattergl\":[{\"marker\":{\"colorbar\":{\"outlinewidth\":0,\"ticks\":\"\"}},\"type\":\"scattergl\"}],\"scattermapbox\":[{\"marker\":{\"colorbar\":{\"outlinewidth\":0,\"ticks\":\"\"}},\"type\":\"scattermapbox\"}],\"scatterpolar\":[{\"marker\":{\"colorbar\":{\"outlinewidth\":0,\"ticks\":\"\"}},\"type\":\"scatterpolar\"}],\"scatterpolargl\":[{\"marker\":{\"colorbar\":{\"outlinewidth\":0,\"ticks\":\"\"}},\"type\":\"scatterpolargl\"}],\"scatterternary\":[{\"marker\":{\"colorbar\":{\"outlinewidth\":0,\"ticks\":\"\"}},\"type\":\"scatterternary\"}],\"surface\":[{\"colorbar\":{\"outlinewidth\":0,\"ticks\":\"\"},\"colorscale\":[[0.0,\"#0d0887\"],[0.1111111111111111,\"#46039f\"],[0.2222222222222222,\"#7201a8\"],[0.3333333333333333,\"#9c179e\"],[0.4444444444444444,\"#bd3786\"],[0.5555555555555556,\"#d8576b\"],[0.6666666666666666,\"#ed7953\"],[0.7777777777777778,\"#fb9f3a\"],[0.8888888888888888,\"#fdca26\"],[1.0,\"#f0f921\"]],\"type\":\"surface\"}],\"table\":[{\"cells\":{\"fill\":{\"color\":\"#EBF0F8\"},\"line\":{\"color\":\"white\"}},\"header\":{\"fill\":{\"color\":\"#C8D4E3\"},\"line\":{\"color\":\"white\"}},\"type\":\"table\"}]},\"layout\":{\"annotationdefaults\":{\"arrowcolor\":\"#2a3f5f\",\"arrowhead\":0,\"arrowwidth\":1},\"autotypenumbers\":\"strict\",\"coloraxis\":{\"colorbar\":{\"outlinewidth\":0,\"ticks\":\"\"}},\"colorscale\":{\"diverging\":[[0,\"#8e0152\"],[0.1,\"#c51b7d\"],[0.2,\"#de77ae\"],[0.3,\"#f1b6da\"],[0.4,\"#fde0ef\"],[0.5,\"#f7f7f7\"],[0.6,\"#e6f5d0\"],[0.7,\"#b8e186\"],[0.8,\"#7fbc41\"],[0.9,\"#4d9221\"],[1,\"#276419\"]],\"sequential\":[[0.0,\"#0d0887\"],[0.1111111111111111,\"#46039f\"],[0.2222222222222222,\"#7201a8\"],[0.3333333333333333,\"#9c179e\"],[0.4444444444444444,\"#bd3786\"],[0.5555555555555556,\"#d8576b\"],[0.6666666666666666,\"#ed7953\"],[0.7777777777777778,\"#fb9f3a\"],[0.8888888888888888,\"#fdca26\"],[1.0,\"#f0f921\"]],\"sequentialminus\":[[0.0,\"#0d0887\"],[0.1111111111111111,\"#46039f\"],[0.2222222222222222,\"#7201a8\"],[0.3333333333333333,\"#9c179e\"],[0.4444444444444444,\"#bd3786\"],[0.5555555555555556,\"#d8576b\"],[0.6666666666666666,\"#ed7953\"],[0.7777777777777778,\"#fb9f3a\"],[0.8888888888888888,\"#fdca26\"],[1.0,\"#f0f921\"]]},\"colorway\":[\"#636efa\",\"#EF553B\",\"#00cc96\",\"#ab63fa\",\"#FFA15A\",\"#19d3f3\",\"#FF6692\",\"#B6E880\",\"#FF97FF\",\"#FECB52\"],\"font\":{\"color\":\"#2a3f5f\"},\"geo\":{\"bgcolor\":\"white\",\"lakecolor\":\"white\",\"landcolor\":\"#E5ECF6\",\"showlakes\":true,\"showland\":true,\"subunitcolor\":\"white\"},\"hoverlabel\":{\"align\":\"left\"},\"hovermode\":\"closest\",\"mapbox\":{\"style\":\"light\"},\"paper_bgcolor\":\"white\",\"plot_bgcolor\":\"#E5ECF6\",\"polar\":{\"angularaxis\":{\"gridcolor\":\"white\",\"linecolor\":\"white\",\"ticks\":\"\"},\"bgcolor\":\"#E5ECF6\",\"radialaxis\":{\"gridcolor\":\"white\",\"linecolor\":\"white\",\"ticks\":\"\"}},\"scene\":{\"xaxis\":{\"backgroundcolor\":\"#E5ECF6\",\"gridcolor\":\"white\",\"gridwidth\":2,\"linecolor\":\"white\",\"showbackground\":true,\"ticks\":\"\",\"zerolinecolor\":\"white\"},\"yaxis\":{\"backgroundcolor\":\"#E5ECF6\",\"gridcolor\":\"white\",\"gridwidth\":2,\"linecolor\":\"white\",\"showbackground\":true,\"ticks\":\"\",\"zerolinecolor\":\"white\"},\"zaxis\":{\"backgroundcolor\":\"#E5ECF6\",\"gridcolor\":\"white\",\"gridwidth\":2,\"linecolor\":\"white\",\"showbackground\":true,\"ticks\":\"\",\"zerolinecolor\":\"white\"}},\"shapedefaults\":{\"line\":{\"color\":\"#2a3f5f\"}},\"ternary\":{\"aaxis\":{\"gridcolor\":\"white\",\"linecolor\":\"white\",\"ticks\":\"\"},\"baxis\":{\"gridcolor\":\"white\",\"linecolor\":\"white\",\"ticks\":\"\"},\"bgcolor\":\"#E5ECF6\",\"caxis\":{\"gridcolor\":\"white\",\"linecolor\":\"white\",\"ticks\":\"\"}},\"title\":{\"x\":0.05},\"xaxis\":{\"automargin\":true,\"gridcolor\":\"white\",\"linecolor\":\"white\",\"ticks\":\"\",\"title\":{\"standoff\":15},\"zerolinecolor\":\"white\",\"zerolinewidth\":2},\"yaxis\":{\"automargin\":true,\"gridcolor\":\"white\",\"linecolor\":\"white\",\"ticks\":\"\",\"title\":{\"standoff\":15},\"zerolinecolor\":\"white\",\"zerolinewidth\":2}}},\"geo\":{\"domain\":{\"x\":[0.0,1.0],\"y\":[0.0,1.0]},\"center\":{}},\"coloraxis\":{\"colorbar\":{\"title\":{\"text\":\"ERHNI\"}},\"colorscale\":[[0.0,\"#0d0887\"],[0.1111111111111111,\"#46039f\"],[0.2222222222222222,\"#7201a8\"],[0.3333333333333333,\"#9c179e\"],[0.4444444444444444,\"#bd3786\"],[0.5555555555555556,\"#d8576b\"],[0.6666666666666666,\"#ed7953\"],[0.7777777777777778,\"#fb9f3a\"],[0.8888888888888888,\"#fdca26\"],[1.0,\"#f0f921\"]]},\"legend\":{\"tracegroupgap\":0},\"margin\":{\"t\":60},\"updatemenus\":[{\"buttons\":[{\"args\":[null,{\"frame\":{\"duration\":500,\"redraw\":true},\"mode\":\"immediate\",\"fromcurrent\":true,\"transition\":{\"duration\":500,\"easing\":\"linear\"}}],\"label\":\"&#9654;\",\"method\":\"animate\"},{\"args\":[[null],{\"frame\":{\"duration\":0,\"redraw\":true},\"mode\":\"immediate\",\"fromcurrent\":true,\"transition\":{\"duration\":0,\"easing\":\"linear\"}}],\"label\":\"&#9724;\",\"method\":\"animate\"}],\"direction\":\"left\",\"pad\":{\"r\":10,\"t\":70},\"showactive\":false,\"type\":\"buttons\",\"x\":0.1,\"xanchor\":\"right\",\"y\":0,\"yanchor\":\"top\"}],\"sliders\":[{\"active\":0,\"currentvalue\":{\"prefix\":\"Year=\"},\"len\":0.9,\"pad\":{\"b\":10,\"t\":60},\"steps\":[{\"args\":[[\"2016\"],{\"frame\":{\"duration\":0,\"redraw\":true},\"mode\":\"immediate\",\"fromcurrent\":true,\"transition\":{\"duration\":0,\"easing\":\"linear\"}}],\"label\":\"2016\",\"method\":\"animate\"},{\"args\":[[\"2017\"],{\"frame\":{\"duration\":0,\"redraw\":true},\"mode\":\"immediate\",\"fromcurrent\":true,\"transition\":{\"duration\":0,\"easing\":\"linear\"}}],\"label\":\"2017\",\"method\":\"animate\"},{\"args\":[[\"2018\"],{\"frame\":{\"duration\":0,\"redraw\":true},\"mode\":\"immediate\",\"fromcurrent\":true,\"transition\":{\"duration\":0,\"easing\":\"linear\"}}],\"label\":\"2018\",\"method\":\"animate\"}],\"x\":0.1,\"xanchor\":\"left\",\"y\":0,\"yanchor\":\"top\"}]},                        {\"responsive\": true}                    ).then(function(){\n",
       "                            Plotly.addFrames('e58e1899-7e10-4013-bbb4-adead1dac106', [{\"data\":[{\"coloraxis\":\"coloraxis\",\"geo\":\"geo\",\"hovertemplate\":\"<b>%{hovertext}</b><br><br>Year=2016<br>Country Code=%{location}<br>ERHNI=%{z}<extra></extra>\",\"hovertext\":[\"Denmark\",\"Switzerland\",\"Iceland\",\"Norway\",\"Finland\",\"Canada\",\"Netherlands\",\"New Zealand\",\"Australia\",\"Sweden\",\"Israel\",\"Austria\",\"United States\",\"Costa Rica\",\"Germany\",\"Brazil\",\"Belgium\",\"Ireland\",\"Luxembourg\",\"Mexico\",\"Singapore\",\"United Kingdom\",\"Chile\",\"Panama\",\"Argentina\",\"Czech Republic\",\"United Arab Emirates\",\"Uruguay\",\"Malta\",\"Colombia\",\"France\",\"Thailand\",\"Saudi Arabia\",\"Qatar\",\"Spain\",\"Algeria\",\"Guatemala\",\"Suriname\",\"Kuwait\",\"Bahrain\",\"Trinidad and Tobago\",\"Venezuela\",\"Slovakia\",\"El Salvador\",\"Malaysia\",\"Nicaragua\",\"Italy\",\"Ecuador\",\"Belize\",\"Japan\",\"Kazakhstan\",\"Moldova\",\"Russia\",\"Poland\",\"South Korea\",\"Bolivia\",\"Lithuania\",\"Belarus\",\"North Cyprus\",\"Slovenia\",\"Peru\",\"Turkmenistan\",\"Mauritius\",\"Libya\",\"Latvia\",\"Cyprus\",\"Paraguay\",\"Romania\",\"Estonia\",\"Jamaica\",\"Croatia\",\"Somalia\",\"Turkey\",\"Indonesia\",\"Jordan\",\"Azerbaijan\",\"Philippines\",\"China\",\"Bhutan\",\"Kyrgyzstan\",\"Serbia\",\"Bosnia and Herzegovina\",\"Montenegro\",\"Dominican Republic\",\"Morocco\",\"Hungary\",\"Pakistan\",\"Lebanon\",\"Portugal\",\"Macedonia\",\"Vietnam\",\"Tunisia\",\"Greece\",\"Tajikistan\",\"Mongolia\",\"Laos\",\"Nigeria\",\"Honduras\",\"Iran\",\"Zambia\",\"Nepal\",\"Albania\",\"Bangladesh\",\"Sierra Leone\",\"Iraq\",\"Namibia\",\"Cameroon\",\"Ethiopia\",\"South Africa\",\"Sri Lanka\",\"India\",\"Myanmar\",\"Egypt\",\"Armenia\",\"Kenya\",\"Ukraine\",\"Ghana\",\"Congo (Kinshasa)\",\"Georgia\",\"Senegal\",\"Bulgaria\",\"Mauritania\",\"Zimbabwe\",\"Malawi\",\"Sudan\",\"Gabon\",\"Mali\",\"Haiti\",\"Botswana\",\"Comoros\",\"Cambodia\",\"Angola\",\"Niger\",\"South Sudan\",\"Chad\",\"Burkina Faso\",\"Uganda\",\"Madagascar\",\"Tanzania\",\"Liberia\",\"Guinea\",\"Rwanda\",\"Benin\",\"Afghanistan\",\"Togo\",\"Syria\",\"Burundi\"],\"locations\":[\"DNK\",\"CHE\",\"ISL\",\"NOR\",\"FIN\",\"CAN\",\"NLD\",\"NZL\",\"AUS\",\"SWE\",\"ISR\",\"AUT\",\"USA\",\"CRI\",\"DEU\",\"BRA\",\"BEL\",\"IRL\",\"LUX\",\"MEX\",\"SGP\",\"GBR\",\"CHL\",\"PAN\",\"ARG\",\"CZE\",\"ARE\",\"URY\",\"MLT\",\"COL\",\"FRA\",\"THA\",\"SAU\",\"QAT\",\"ESP\",\"DZA\",\"GTM\",\"SUR\",\"KWT\",\"BHR\",\"TTO\",\"VEN\",\"SVK\",\"SLV\",\"MYS\",\"NIC\",\"ITA\",\"ECU\",\"BLZ\",\"JPN\",\"KAZ\",\"MDA\",\"RUS\",\"POL\",\"KOR\",\"BOL\",\"LTU\",\"BLR\",\"CYP\",\"SVN\",\"PER\",\"TKM\",\"MUS\",\"LBY\",\"LVA\",\"CYP\",\"PRY\",\"ROU\",\"EST\",\"JAM\",\"HRV\",\"SOM\",\"TUR\",\"IDN\",\"JOR\",\"AZE\",\"PHL\",\"CHN\",\"BTN\",\"KGZ\",\"SRB\",\"BIH\",\"MNE\",\"DOM\",\"MAR\",\"HUN\",\"PAK\",\"LBN\",\"PRT\",\"MKD\",\"VNM\",\"TUN\",\"GRC\",\"TJK\",\"MNG\",\"LAO\",\"NGA\",\"HND\",\"IRN\",\"ZMB\",\"NPL\",\"ALB\",\"BGD\",\"SLE\",\"IRQ\",\"NAM\",\"CMR\",\"ETH\",\"ZAF\",\"LKA\",\"IND\",\"MMR\",\"EGY\",\"ARM\",\"KEN\",\"UKR\",\"GHA\",\"COD\",\"GEO\",\"SEN\",\"BGR\",\"MRT\",\"ZWE\",\"MWI\",\"SDN\",\"GAB\",\"MLI\",\"HTI\",\"BWA\",\"COM\",\"KHM\",\"AGO\",\"NER\",\"SSD\",\"TCD\",\"BFA\",\"UGA\",\"MDG\",\"TZA\",\"LBR\",\"GIN\",\"RWA\",\"BEN\",\"AFG\",\"TGO\",\"SYR\",\"BDI\"],\"name\":\"\",\"z\":[16.8083667,18.72084346,20.55944,20.13952255,19.50175934,17.54226543,14.2938786,19.04834327,19.07040293,18.5110244,15.35069366,12.23095113,13.82604117,11.92879921,11.72700031,5.94990971,11.5053288,14.86052344,10.48839909,5.723014923,-6.948007647,11.12674776,5.291215728,11.00675911,2.212977714,2.449390328,-12.6988351,1.87898594,12.10033344,2.797765017,7.951738323,0.967311564,0.725283882,-14.73735793,9.91049315,10.0315383,-2.741221083,8.637438658,4.841096195,-7.247503496,8.53808,-0.890506401,0.726497853,0.612016118,0.24049557,-0.052132535,3.671126414,0.626228125,3.414199832,5.988023996,-3.994033861,-0.479305983,-2.88421238,-8.338843554,-0.665816331,-26.16833215,-6.433983226,-10.46251978,2.556500865,-1.070962869,-5.94869243,-2.514258283,4.820788098,3.237051565,-7.363725811,0.744958365,-16.17753658,-4.945313552,2.438658445,2.235330124,-4.950275347,-0.115032693,-9.047770432,-6.958274773,-0.989424389,-5.630915952,-1.042425152,-26.37154006,-9.48402413,-4.670695057,-19.72555979,-14.64636506,-5.455288885,-0.227747511,0.139009071,-8.768918495,-19.06868114,-1.413602301,0.307438525,-10.55063177,-10.23113668,-1.118845031,-4.521856075,-4.580093468,-230.5739135,-19.02477704,-7.482560092,-10.62022991,-11.36315784,-24.94854451,-26.11579452,-9.16823994,-23.18991987,-5.142262767,-7.801155688,-23.78540541,-108.3797626,-13.02926786,-12.73997482,-7.912186188,-21.54395852,-23.31319644,-9.893139899,-16.0175039,-11.73715875,-15.32143617,-7.949725711,-15.3981694,-14.45123916,-5.605562766,-18.71478188,-5.1302192,-12.4236681,-10.09463727,-11.46075304,-13.52143333,-6.31660527,-6.930834356,-24.3311632,-6.719630082,-14.09102463,-23.64753724,-11.87650266,-44.13147539,-22.92852684,-10.38627764,-22.37850139,-11.44801402,-20.42190626,-12.58175411,-14.84897671,-18.65392712,-14.49100996,-17.31350353,-14.73139007,-18.8037079,-21.99797572],\"type\":\"choropleth\"}],\"name\":\"2016\"},{\"data\":[{\"coloraxis\":\"coloraxis\",\"geo\":\"geo\",\"hovertemplate\":\"<b>%{hovertext}</b><br><br>Year=2017<br>Country Code=%{location}<br>ERHNI=%{z}<extra></extra>\",\"hovertext\":[\"Norway\",\"Denmark\",\"Iceland\",\"Switzerland\",\"Finland\",\"Netherlands\",\"Canada\",\"New Zealand\",\"Sweden\",\"Australia\",\"Israel\",\"Costa Rica\",\"Austria\",\"United States\",\"Ireland\",\"Germany\",\"Belgium\",\"Luxembourg\",\"United Kingdom\",\"Chile\",\"United Arab Emirates\",\"Brazil\",\"Czech Republic\",\"Argentina\",\"Mexico\",\"Singapore\",\"Malta\",\"Uruguay\",\"Guatemala\",\"Panama\",\"France\",\"Thailand\",\"Spain\",\"Qatar\",\"Colombia\",\"Saudi Arabia\",\"Trinidad and Tobago\",\"Kuwait\",\"Slovakia\",\"Bahrain\",\"Malaysia\",\"Nicaragua\",\"Ecuador\",\"El Salvador\",\"Poland\",\"Italy\",\"Russia\",\"Belize\",\"Japan\",\"Lithuania\",\"Algeria\",\"Latvia\",\"South Korea\",\"Moldova\",\"Romania\",\"Bolivia\",\"Turkmenistan\",\"Kazakhstan\",\"North Cyprus\",\"Slovenia\",\"Peru\",\"Mauritius\",\"Cyprus\",\"Estonia\",\"Belarus\",\"Libya\",\"Turkey\",\"Paraguay\",\"Philippines\",\"Serbia\",\"Jordan\",\"Hungary\",\"Jamaica\",\"Croatia\",\"China\",\"Pakistan\",\"Indonesia\",\"Venezuela\",\"Montenegro\",\"Morocco\",\"Azerbaijan\",\"Dominican Republic\",\"Greece\",\"Lebanon\",\"Portugal\",\"Bosnia and Herzegovina\",\"Honduras\",\"Macedonia\",\"Somalia\",\"Vietnam\",\"Nigeria\",\"Tajikistan\",\"Bhutan\",\"Kyrgyzstan\",\"Nepal\",\"Mongolia\",\"South Africa\",\"Tunisia\",\"Egypt\",\"Bulgaria\",\"Sierra Leone\",\"Cameroon\",\"Iran\",\"Albania\",\"Bangladesh\",\"Namibia\",\"Kenya\",\"Mozambique\",\"Myanmar\",\"Senegal\",\"Zambia\",\"Iraq\",\"Gabon\",\"Ethiopia\",\"Sri Lanka\",\"Armenia\",\"India\",\"Mauritania\",\"Georgia\",\"Congo (Kinshasa)\",\"Mali\",\"Cambodia\",\"Sudan\",\"Ghana\",\"Ukraine\",\"Uganda\",\"Burkina Faso\",\"Niger\",\"Malawi\",\"Chad\",\"Zimbabwe\",\"Lesotho\",\"Angola\",\"Afghanistan\",\"Botswana\",\"Benin\",\"Madagascar\",\"Haiti\",\"South Sudan\",\"Liberia\",\"Guinea\",\"Togo\",\"Rwanda\",\"Syria\",\"Tanzania\",\"Burundi\",\"Central African Republic\"],\"locations\":[\"NOR\",\"DNK\",\"ISL\",\"CHE\",\"FIN\",\"NLD\",\"CAN\",\"NZL\",\"SWE\",\"AUS\",\"ISR\",\"CRI\",\"AUT\",\"USA\",\"IRL\",\"DEU\",\"BEL\",\"LUX\",\"GBR\",\"CHL\",\"ARE\",\"BRA\",\"CZE\",\"ARG\",\"MEX\",\"SGP\",\"MLT\",\"URY\",\"GTM\",\"PAN\",\"FRA\",\"THA\",\"ESP\",\"QAT\",\"COL\",\"SAU\",\"TTO\",\"KWT\",\"SVK\",\"BHR\",\"MYS\",\"NIC\",\"ECU\",\"SLV\",\"POL\",\"ITA\",\"RUS\",\"BLZ\",\"JPN\",\"LTU\",\"DZA\",\"LVA\",\"KOR\",\"MDA\",\"ROU\",\"BOL\",\"TKM\",\"KAZ\",\"CYP\",\"SVN\",\"PER\",\"MUS\",\"CYP\",\"EST\",\"BLR\",\"LBY\",\"TUR\",\"PRY\",\"PHL\",\"SRB\",\"JOR\",\"HUN\",\"JAM\",\"HRV\",\"CHN\",\"PAK\",\"IDN\",\"VEN\",\"MNE\",\"MAR\",\"AZE\",\"DOM\",\"GRC\",\"LBN\",\"PRT\",\"BIH\",\"HND\",\"MKD\",\"SOM\",\"VNM\",\"NGA\",\"TJK\",\"BTN\",\"KGZ\",\"NPL\",\"MNG\",\"ZAF\",\"TUN\",\"EGY\",\"BGR\",\"SLE\",\"CMR\",\"IRN\",\"ALB\",\"BGD\",\"NAM\",\"KEN\",\"MOZ\",\"MMR\",\"SEN\",\"ZMB\",\"IRQ\",\"GAB\",\"ETH\",\"LKA\",\"ARM\",\"IND\",\"MRT\",\"GEO\",\"COD\",\"MLI\",\"KHM\",\"SDN\",\"GHA\",\"UKR\",\"UGA\",\"BFA\",\"NER\",\"MWI\",\"TCD\",\"ZWE\",\"LSO\",\"AGO\",\"AFG\",\"BWA\",\"BEN\",\"MDG\",\"HTI\",\"SSD\",\"LBR\",\"GIN\",\"TGO\",\"RWA\",\"SYR\",\"TZA\",\"BDI\",\"CAF\"],\"name\":\"\",\"z\":[20.73902406,17.19610214,20.69830984,18.67567463,20.15486742,15.01156326,15.76381337,18.89578642,18.47449752,18.84299934,14.03634485,11.75221291,11.13436944,12.67813397,16.24226243,11.53313359,11.66526422,10.81357774,11.40785989,5.715298173,-11.0547004,3.709654766,3.092172755,2.225503778,4.025593287,-6.923733483,12.19114178,0.271873176,-1.56955819,9.140177464,8.112379161,0.935496007,10.24149105,-17.91289533,2.099507728,-0.32059663,8.555017621,1.46063476,0.58654293,-11.47556019,2.095666179,-0.012802204,1.338795403,-0.147929333,-7.634122724,2.541746425,-2.028862613,2.619014654,6.03360011,-6.296968345,5.890655115,-4.787101246,0.133953378,-2.799443706,-4.483426958,-25.41365107,-3.675887073,-8.336312446,2.623437865,-1.42206557,-6.393405099,4.686971881,1.098736019,3.704688864,-13.3149553,1.578723185,-9.194214367,-18.76524662,-0.343825506,-17.72200627,-0.770298285,-9.411488418,0.810910753,-6.911233704,-23.80603607,-17.35669037,-5.641267487,-6.300676101,-5.284834369,0.842878641,-6.89257503,0.144795279,-3.225053799,-0.873546253,0.688738718,-13.71573156,-8.900088059,-10.03377244,-1.626807172,-9.978606215,-6.291482824,-4.747945838,-10.7323637,-5.993722269,-22.67696453,-213.6882225,-11.60417488,-3.722586347,-7.821764739,-16.61053131,-4.231367014,-104.9119663,-14.25933941,-9.933062056,-22.04795284,-24.86001775,-8.53367339,-6.554073695,-20.789991,-3.579936632,-23.29077619,-9.304886097,-10.4291283,-13.33804573,-7.336983023,-15.37496657,-21.35312767,-4.700642284,-16.31189265,-13.69733846,-6.28759602,-12.6364078,-12.79460869,-8.924906361,-18.17609379,-17.39579695,-8.937443212,-11.46750429,-11.28043677,-22.71206607,-14.07748404,-20.90050774,-21.58702468,-14.00357913,-34.06205315,-13.23280474,-11.30172336,-9.75164589,-42.5842425,-12.74995306,-15.03628568,-13.4030698,-17.44587284,-16.75112659,-19.66620797,-20.74403971,-237.5193545],\"type\":\"choropleth\"}],\"name\":\"2017\"},{\"data\":[{\"coloraxis\":\"coloraxis\",\"geo\":\"geo\",\"hovertemplate\":\"<b>%{hovertext}</b><br><br>Year=2018<br>Country Code=%{location}<br>ERHNI=%{z}<extra></extra>\",\"hovertext\":[\"Finland\",\"Norway\",\"Denmark\",\"Iceland\",\"Switzerland\",\"Netherlands\",\"Canada\",\"New Zealand\",\"Sweden\",\"Australia\",\"United Kingdom\",\"Austria\",\"Costa Rica\",\"Ireland\",\"Germany\",\"Belgium\",\"Luxembourg\",\"United States\",\"Israel\",\"United Arab Emirates\",\"Czech Republic\",\"Malta\",\"France\",\"Mexico\",\"Chile\",\"Panama\",\"Brazil\",\"Argentina\",\"Guatemala\",\"Uruguay\",\"Qatar\",\"Saudi Arabia\",\"Singapore\",\"Malaysia\",\"Spain\",\"Colombia\",\"Slovakia\",\"El Salvador\",\"Nicaragua\",\"Poland\",\"Bahrain\",\"Kuwait\",\"Thailand\",\"Italy\",\"Ecuador\",\"Belize\",\"Lithuania\",\"Slovenia\",\"Romania\",\"Latvia\",\"Japan\",\"Mauritius\",\"Jamaica\",\"South Korea\",\"Russia\",\"Kazakhstan\",\"Cyprus\",\"Bolivia\",\"Estonia\",\"Paraguay\",\"Peru\",\"Moldova\",\"Turkmenistan\",\"Hungary\",\"Libya\",\"Philippines\",\"Honduras\",\"Belarus\",\"Turkey\",\"Pakistan\",\"Portugal\",\"Serbia\",\"Greece\",\"Lebanon\",\"Montenegro\",\"Croatia\",\"Dominican Republic\",\"Algeria\",\"Morocco\",\"China\",\"Azerbaijan\",\"Tajikistan\",\"Macedonia\",\"Jordan\",\"Nigeria\",\"Kyrgyzstan\",\"Bosnia and Herzegovina\",\"Mongolia\",\"Vietnam\",\"Indonesia\",\"Bhutan\",\"Somalia\",\"Cameroon\",\"Bulgaria\",\"Nepal\",\"Venezuela\",\"Gabon\",\"South Africa\",\"Iran\",\"Ghana\",\"Senegal\",\"Laos\",\"Tunisia\",\"Albania\",\"Sierra Leone\",\"Bangladesh\",\"Sri Lanka\",\"Iraq\",\"Mali\",\"Namibia\",\"Cambodia\",\"Burkina Faso\",\"Egypt\",\"Mozambique\",\"Kenya\",\"Zambia\",\"Mauritania\",\"Ethiopia\",\"Georgia\",\"Armenia\",\"Myanmar\",\"Chad\",\"Congo (Kinshasa)\",\"India\",\"Niger\",\"Uganda\",\"Benin\",\"Sudan\",\"Ukraine\",\"Togo\",\"Guinea\",\"Lesotho\",\"Angola\",\"Madagascar\",\"Zimbabwe\",\"Afghanistan\",\"Botswana\",\"Malawi\",\"Haiti\",\"Liberia\",\"Syria\",\"Rwanda\",\"Tanzania\",\"South Sudan\",\"Central African Republic\",\"Burundi\"],\"locations\":[\"FIN\",\"NOR\",\"DNK\",\"ISL\",\"CHE\",\"NLD\",\"CAN\",\"NZL\",\"SWE\",\"AUS\",\"GBR\",\"AUT\",\"CRI\",\"IRL\",\"DEU\",\"BEL\",\"LUX\",\"USA\",\"ISR\",\"ARE\",\"CZE\",\"MLT\",\"FRA\",\"MEX\",\"CHL\",\"PAN\",\"BRA\",\"ARG\",\"GTM\",\"URY\",\"QAT\",\"SAU\",\"SGP\",\"MYS\",\"ESP\",\"COL\",\"SVK\",\"SLV\",\"NIC\",\"POL\",\"BHR\",\"KWT\",\"THA\",\"ITA\",\"ECU\",\"BLZ\",\"LTU\",\"SVN\",\"ROU\",\"LVA\",\"JPN\",\"MUS\",\"JAM\",\"KOR\",\"RUS\",\"KAZ\",\"CYP\",\"BOL\",\"EST\",\"PRY\",\"PER\",\"MDA\",\"TKM\",\"HUN\",\"LBY\",\"PHL\",\"HND\",\"BLR\",\"TUR\",\"PAK\",\"PRT\",\"SRB\",\"GRC\",\"LBN\",\"MNE\",\"HRV\",\"DOM\",\"DZA\",\"MAR\",\"CHN\",\"AZE\",\"TJK\",\"MKD\",\"JOR\",\"NGA\",\"KGZ\",\"BIH\",\"MNG\",\"VNM\",\"IDN\",\"BTN\",\"SOM\",\"CMR\",\"BGR\",\"NPL\",\"VEN\",\"GAB\",\"ZAF\",\"IRN\",\"GHA\",\"SEN\",\"LAO\",\"TUN\",\"ALB\",\"SLE\",\"BGD\",\"LKA\",\"IRQ\",\"MLI\",\"NAM\",\"KHM\",\"BFA\",\"EGY\",\"MOZ\",\"KEN\",\"ZMB\",\"MRT\",\"ETH\",\"GEO\",\"ARM\",\"MMR\",\"TCD\",\"COD\",\"IND\",\"NER\",\"UGA\",\"BEN\",\"SDN\",\"UKR\",\"TGO\",\"GIN\",\"LSO\",\"AGO\",\"MDG\",\"ZWE\",\"AFG\",\"BWA\",\"MWI\",\"HTI\",\"LBR\",\"SYR\",\"RWA\",\"TZA\",\"SSD\",\"CAF\",\"BDI\"],\"name\":\"\",\"z\":[21.07012336,20.70298684,15.40191158,20.67381341,18.74776648,14.90070017,16.00922508,19.0239239,18.51763224,18.80052293,15.03127857,11.8459021,13.01226275,15.51035128,11.64180045,11.49478566,11.29528893,11.67301079,10.95859263,-10.48493014,3.723310629,13.1976355,8.531706451,4.255196503,5.277586309,9.571282301,2.474449039,1.107950856,-0.728231539,1.399893676,-14.03854483,0.735626326,-12.04594919,3.35004632,9.301790686,1.864452297,1.634585948,1.712170194,2.822994087,-6.07307877,-9.564250712,0.56387294,-1.483061238,4.288312724,1.206626768,4.127287929,-9.362945588,0.708863278,-2.156205161,-8.200480424,6.027491146,6.630496024,5.180451805,0.401603456,-1.881215419,-4.714915288,2.948751841,-23.21075072,2.407446847,-12.37551906,-5.767628428,-2.88534854,-3.1310871,-6.176940338,2.76398819,1.100074729,-5.552344373,-15.56309968,-8.16788791,-14.75336492,3.022876469,-15.40366047,-1.651928665,0.26222757,-4.3891967,-6.513239221,0.880181693,1.780501799,0.598501618,-20.40555298,-4.902246877,-2.25493774,-9.730228521,-2.033782861,-6.009506232,-4.726551231,-12.48757676,-172.3118072,-8.698296206,-8.468083634,-11.75141685,-3.035771015,-100.5154692,-14.22398223,-26.29884294,-8.174776043,-8.261705858,-12.10056337,-13.19825171,-5.27157324,-2.755690323,-16.40034271,-4.820539967,-9.545815216,-4.631478787,-28.19142409,-7.318349776,-10.04185739,-4.545117546,-22.44207352,-12.06915094,-6.608954655,-9.371401399,-9.086223327,-10.92361711,-24.29153029,-4.1669376,-13.55163311,-13.3235436,-14.51292681,-23.77301503,-22.32099421,-13.91666264,-22.79965433,-11.15824404,-17.39162656,-10.59664515,-11.63904285,-16.66254909,-10.26303518,-11.65344582,-19.3685126,-20.55195485,-10.35283103,-16.64396286,-14.11015137,-31.52482078,-15.24930997,-9.885092056,-12.85758604,-16.80048006,-17.71355676,-21.42331937,-42.80371956,-262.1571639,-21.0214369],\"type\":\"choropleth\"}],\"name\":\"2018\"}]);\n",
       "                        }).then(function(){\n",
       "                            \n",
       "var gd = document.getElementById('e58e1899-7e10-4013-bbb4-adead1dac106');\n",
       "var x = new MutationObserver(function (mutations, observer) {{\n",
       "        var display = window.getComputedStyle(gd).display;\n",
       "        if (!display || display === 'none') {{\n",
       "            console.log([gd, 'removed!']);\n",
       "            Plotly.purge(gd);\n",
       "            observer.disconnect();\n",
       "        }}\n",
       "}});\n",
       "\n",
       "// Listen for the removal of the full notebook cells\n",
       "var notebookContainer = gd.closest('#notebook-container');\n",
       "if (notebookContainer) {{\n",
       "    x.observe(notebookContainer, {childList: true});\n",
       "}}\n",
       "\n",
       "// Listen for the clearing of the current output cell\n",
       "var outputEl = gd.closest('.output');\n",
       "if (outputEl) {{\n",
       "    x.observe(outputEl, {childList: true});\n",
       "}}\n",
       "\n",
       "                        })                };                });            </script>        </div>"
      ]
     },
     "metadata": {},
     "output_type": "display_data"
    }
   ],
   "source": [
    "#y = merged_y['ERHNI']\n",
    "#X = merged_y[['Economy (GDP per Capita)', 'Family', 'Freedom', 'Generosity']]\n",
    "\n",
    "fig = px.choropleth(merged_y, locations=\"Country Code\", color=\"ERHNI\", hover_name=\"Country\", animation_frame=\"Year\")\n",
    "fig.show()"
   ]
  },
  {
   "cell_type": "code",
   "execution_count": null,
   "id": "ba727039",
   "metadata": {},
   "outputs": [],
   "source": []
  }
 ],
 "metadata": {
  "kernelspec": {
   "display_name": "Python 3 (ipykernel)",
   "language": "python",
   "name": "python3"
  },
  "language_info": {
   "codemirror_mode": {
    "name": "ipython",
    "version": 3
   },
   "file_extension": ".py",
   "mimetype": "text/x-python",
   "name": "python",
   "nbconvert_exporter": "python",
   "pygments_lexer": "ipython3",
   "version": "3.8.12"
  },
  "toc": {
   "base_numbering": 1,
   "nav_menu": {},
   "number_sections": true,
   "sideBar": true,
   "skip_h1_title": false,
   "title_cell": "Table of Contents",
   "title_sidebar": "Contents",
   "toc_cell": false,
   "toc_position": {},
   "toc_section_display": true,
   "toc_window_display": false
  }
 },
 "nbformat": 4,
 "nbformat_minor": 5
}
